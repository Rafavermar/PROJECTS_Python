{
 "cells": [
  {
   "cell_type": "markdown",
   "id": "bdbe240e",
   "metadata": {},
   "source": [
    "#  <font color='red'>API | TWITTER</font>\n"
   ]
  },
  {
   "cell_type": "code",
   "execution_count": null,
   "id": "0c842691",
   "metadata": {},
   "outputs": [],
   "source": [
    "!pip install tweepy"
   ]
  },
  {
   "cell_type": "code",
   "execution_count": 24,
   "id": "a66baae7",
   "metadata": {},
   "outputs": [],
   "source": [
    "import pandas as pd\n",
    "import configparser\n",
    "import tweepy"
   ]
  },
  {
   "cell_type": "code",
   "execution_count": 25,
   "id": "cf6bdb7c",
   "metadata": {},
   "outputs": [],
   "source": [
    "from configparser import ConfigParser\n",
    "import glob"
   ]
  },
  {
   "cell_type": "markdown",
   "id": "a7226dec",
   "metadata": {},
   "source": [
    "## <font color='grey'>Leyendo credenciales</font> "
   ]
  },
  {
   "cell_type": "code",
   "execution_count": 3,
   "id": "3b4c71ec",
   "metadata": {},
   "outputs": [],
   "source": [
    "# ESTE PASO HA REQUERIDO COPIAR LAS CREDENCIALES EN UN ARCHIVO .TXT Y CONVERTIRLO A .INI\n",
    "\n",
    "\n",
    "config = configparser.ConfigParser()\n",
    "config.read('Twitter.ini')\n",
    "\n",
    "api_key = config['TWITTER']['API_KEY']\n",
    "api_key_secret = config['TWITTER']['API_KEY_SECRET']\n",
    "\n",
    "access_token = config['TWITTER']['ACCESS_TOKEN']\n",
    "access_token_secret = config['TWITTER']['ACCESS_TOKEN_SECRET']\n"
   ]
  },
  {
   "cell_type": "markdown",
   "id": "4c075b04",
   "metadata": {},
   "source": [
    "## <font color='grey'>Autenticación</font>"
   ]
  },
  {
   "cell_type": "code",
   "execution_count": 4,
   "id": "68308c29",
   "metadata": {},
   "outputs": [],
   "source": [
    "# AUTENTICACIÓN\n",
    "auth = tweepy.OAuthHandler(api_key, api_key_secret)\n",
    "auth.set_access_token(access_token, access_token_secret)\n",
    "\n",
    "# HACER UNA INSTANCIA API E INTRODUCIENDO AUTH (CREDENCIALES DE AUTENTICACIÓN) \n",
    "\n",
    "api = tweepy.API(auth)"
   ]
  },
  {
   "cell_type": "markdown",
   "id": "0c86ccaa",
   "metadata": {},
   "source": [
    "##  <font color='grey'>Obteniendo las entradas públicas de mi feed</font>"
   ]
  },
  {
   "cell_type": "code",
   "execution_count": 20,
   "id": "8058494e",
   "metadata": {},
   "outputs": [
    {
     "name": "stdout",
     "output_type": "stream",
     "text": [
      "[Status(_api=<tweepy.api.API object at 0x000001B345F17E50>, _json={'created_at': 'Sun Dec 04 11:08:13 +0000 2022', 'id': 1599359914865999873, 'id_str': '1599359914865999873', 'text': 'T-Ais, el nuevo tótem inteligente diseñado por Ineco para mejorar la autonomía del viajero con discapacidad https://t.co/h1qYmbgqHJ', 'truncated': False, 'entities': {'hashtags': [], 'symbols': [], 'user_mentions': [], 'urls': [{'url': 'https://t.co/h1qYmbgqHJ', 'expanded_url': 'http://ddsevilla.info/j1gfr1', 'display_url': 'ddsevilla.info/j1gfr1', 'indices': [108, 131]}]}, 'source': '<a href=\"http://besocy.com\" rel=\"nofollow\">Besocy_Oficial</a>', 'in_reply_to_status_id': None, 'in_reply_to_status_id_str': None, 'in_reply_to_user_id': None, 'in_reply_to_user_id_str': None, 'in_reply_to_screen_name': None, 'user': {'id': 34238668, 'id_str': '34238668', 'name': 'Diario de Sevilla', 'screen_name': 'diariosevilla', 'location': 'Sevilla, Spain', 'description': 'Diario de información general, Sevilla. Newspaper, Seville.\\nhttps://t.co/4s80gin7uW\\nhttps://t.co/s0APOgnk3D…\\nTelegram: https://t.co/I5lOXIBBU7', 'url': 'https://t.co/yIsvVwP9WS', 'entities': {'url': {'urls': [{'url': 'https://t.co/yIsvVwP9WS', 'expanded_url': 'https://www.diariodesevilla.es', 'display_url': 'diariodesevilla.es', 'indices': [0, 23]}]}, 'description': {'urls': [{'url': 'https://t.co/4s80gin7uW', 'expanded_url': 'http://facebook.com/diariodesevilla', 'display_url': 'facebook.com/diariodesevilla', 'indices': [60, 83]}, {'url': 'https://t.co/s0APOgnk3D', 'expanded_url': 'http://instagram.com/diariodesevill', 'display_url': 'instagram.com/diariodesevill', 'indices': [84, 107]}, {'url': 'https://t.co/I5lOXIBBU7', 'expanded_url': 'https://t.me/diariodesevilla_es', 'display_url': 't.me/diariodesevill…', 'indices': [119, 142]}]}}, 'protected': False, 'followers_count': 223601, 'friends_count': 732, 'listed_count': 1928, 'created_at': 'Wed Apr 22 10:41:49 +0000 2009', 'favourites_count': 5825, 'utc_offset': None, 'time_zone': None, 'geo_enabled': True, 'verified': True, 'statuses_count': 272381, 'lang': None, 'contributors_enabled': False, 'is_translator': False, 'is_translation_enabled': False, 'profile_background_color': '022330', 'profile_background_image_url': 'http://abs.twimg.com/images/themes/theme15/bg.png', 'profile_background_image_url_https': 'https://abs.twimg.com/images/themes/theme15/bg.png', 'profile_background_tile': False, 'profile_image_url': 'http://pbs.twimg.com/profile_images/1173594897846345728/vX0BV_S6_normal.jpg', 'profile_image_url_https': 'https://pbs.twimg.com/profile_images/1173594897846345728/vX0BV_S6_normal.jpg', 'profile_banner_url': 'https://pbs.twimg.com/profile_banners/34238668/1594124731', 'profile_link_color': 'DD1B12', 'profile_sidebar_border_color': 'FFFFFF', 'profile_sidebar_fill_color': 'C0DFEC', 'profile_text_color': '333333', 'profile_use_background_image': True, 'has_extended_profile': True, 'default_profile': False, 'default_profile_image': False, 'following': True, 'follow_request_sent': False, 'notifications': False, 'translator_type': 'none', 'withheld_in_countries': []}, 'geo': None, 'coordinates': None, 'place': None, 'contributors': None, 'is_quote_status': False, 'retweet_count': 0, 'favorite_count': 0, 'favorited': False, 'retweeted': False, 'possibly_sensitive': False, 'possibly_sensitive_appealable': False, 'lang': 'es'}, created_at=datetime.datetime(2022, 12, 4, 11, 8, 13, tzinfo=datetime.timezone.utc), id=1599359914865999873, id_str='1599359914865999873', text='T-Ais, el nuevo tótem inteligente diseñado por Ineco para mejorar la autonomía del viajero con discapacidad https://t.co/h1qYmbgqHJ', truncated=False, entities={'hashtags': [], 'symbols': [], 'user_mentions': [], 'urls': [{'url': 'https://t.co/h1qYmbgqHJ', 'expanded_url': 'http://ddsevilla.info/j1gfr1', 'display_url': 'ddsevilla.info/j1gfr1', 'indices': [108, 131]}]}, source='Besocy_Oficial', source_url='http://besocy.com', in_reply_to_status_id=None, in_reply_to_status_id_str=None, in_reply_to_user_id=None, in_reply_to_user_id_str=None, in_reply_to_screen_name=None, author=User(_api=<tweepy.api.API object at 0x000001B345F17E50>, _json={'id': 34238668, 'id_str': '34238668', 'name': 'Diario de Sevilla', 'screen_name': 'diariosevilla', 'location': 'Sevilla, Spain', 'description': 'Diario de información general, Sevilla. Newspaper, Seville.\\nhttps://t.co/4s80gin7uW\\nhttps://t.co/s0APOgnk3D…\\nTelegram: https://t.co/I5lOXIBBU7', 'url': 'https://t.co/yIsvVwP9WS', 'entities': {'url': {'urls': [{'url': 'https://t.co/yIsvVwP9WS', 'expanded_url': 'https://www.diariodesevilla.es', 'display_url': 'diariodesevilla.es', 'indices': [0, 23]}]}, 'description': {'urls': [{'url': 'https://t.co/4s80gin7uW', 'expanded_url': 'http://facebook.com/diariodesevilla', 'display_url': 'facebook.com/diariodesevilla', 'indices': [60, 83]}, {'url': 'https://t.co/s0APOgnk3D', 'expanded_url': 'http://instagram.com/diariodesevill', 'display_url': 'instagram.com/diariodesevill', 'indices': [84, 107]}, {'url': 'https://t.co/I5lOXIBBU7', 'expanded_url': 'https://t.me/diariodesevilla_es', 'display_url': 't.me/diariodesevill…', 'indices': [119, 142]}]}}, 'protected': False, 'followers_count': 223601, 'friends_count': 732, 'listed_count': 1928, 'created_at': 'Wed Apr 22 10:41:49 +0000 2009', 'favourites_count': 5825, 'utc_offset': None, 'time_zone': None, 'geo_enabled': True, 'verified': True, 'statuses_count': 272381, 'lang': None, 'contributors_enabled': False, 'is_translator': False, 'is_translation_enabled': False, 'profile_background_color': '022330', 'profile_background_image_url': 'http://abs.twimg.com/images/themes/theme15/bg.png', 'profile_background_image_url_https': 'https://abs.twimg.com/images/themes/theme15/bg.png', 'profile_background_tile': False, 'profile_image_url': 'http://pbs.twimg.com/profile_images/1173594897846345728/vX0BV_S6_normal.jpg', 'profile_image_url_https': 'https://pbs.twimg.com/profile_images/1173594897846345728/vX0BV_S6_normal.jpg', 'profile_banner_url': 'https://pbs.twimg.com/profile_banners/34238668/1594124731', 'profile_link_color': 'DD1B12', 'profile_sidebar_border_color': 'FFFFFF', 'profile_sidebar_fill_color': 'C0DFEC', 'profile_text_color': '333333', 'profile_use_background_image': True, 'has_extended_profile': True, 'default_profile': False, 'default_profile_image': False, 'following': True, 'follow_request_sent': False, 'notifications': False, 'translator_type': 'none', 'withheld_in_countries': []}, id=34238668, id_str='34238668', name='Diario de Sevilla', screen_name='diariosevilla', location='Sevilla, Spain', description='Diario de información general, Sevilla. Newspaper, Seville.\\nhttps://t.co/4s80gin7uW\\nhttps://t.co/s0APOgnk3D…\\nTelegram: https://t.co/I5lOXIBBU7', url='https://t.co/yIsvVwP9WS', entities={'url': {'urls': [{'url': 'https://t.co/yIsvVwP9WS', 'expanded_url': 'https://www.diariodesevilla.es', 'display_url': 'diariodesevilla.es', 'indices': [0, 23]}]}, 'description': {'urls': [{'url': 'https://t.co/4s80gin7uW', 'expanded_url': 'http://facebook.com/diariodesevilla', 'display_url': 'facebook.com/diariodesevilla', 'indices': [60, 83]}, {'url': 'https://t.co/s0APOgnk3D', 'expanded_url': 'http://instagram.com/diariodesevill', 'display_url': 'instagram.com/diariodesevill', 'indices': [84, 107]}, {'url': 'https://t.co/I5lOXIBBU7', 'expanded_url': 'https://t.me/diariodesevilla_es', 'display_url': 't.me/diariodesevill…', 'indices': [119, 142]}]}}, protected=False, followers_count=223601, friends_count=732, listed_count=1928, created_at=datetime.datetime(2009, 4, 22, 10, 41, 49, tzinfo=datetime.timezone.utc), favourites_count=5825, utc_offset=None, time_zone=None, geo_enabled=True, verified=True, statuses_count=272381, lang=None, contributors_enabled=False, is_translator=False, is_translation_enabled=False, profile_background_color='022330', profile_background_image_url='http://abs.twimg.com/images/themes/theme15/bg.png', profile_background_image_url_https='https://abs.twimg.com/images/themes/theme15/bg.png', profile_background_tile=False, profile_image_url='http://pbs.twimg.com/profile_images/1173594897846345728/vX0BV_S6_normal.jpg', profile_image_url_https='https://pbs.twimg.com/profile_images/1173594897846345728/vX0BV_S6_normal.jpg', profile_banner_url='https://pbs.twimg.com/profile_banners/34238668/1594124731', profile_link_color='DD1B12', profile_sidebar_border_color='FFFFFF', profile_sidebar_fill_color='C0DFEC', profile_text_color='333333', profile_use_background_image=True, has_extended_profile=True, default_profile=False, default_profile_image=False, following=True, follow_request_sent=False, notifications=False, translator_type='none', withheld_in_countries=[]), user=User(_api=<tweepy.api.API object at 0x000001B345F17E50>, _json={'id': 34238668, 'id_str': '34238668', 'name': 'Diario de Sevilla', 'screen_name': 'diariosevilla', 'location': 'Sevilla, Spain', 'description': 'Diario de información general, Sevilla. Newspaper, Seville.\\nhttps://t.co/4s80gin7uW\\nhttps://t.co/s0APOgnk3D…\\nTelegram: https://t.co/I5lOXIBBU7', 'url': 'https://t.co/yIsvVwP9WS', 'entities': {'url': {'urls': [{'url': 'https://t.co/yIsvVwP9WS', 'expanded_url': 'https://www.diariodesevilla.es', 'display_url': 'diariodesevilla.es', 'indices': [0, 23]}]}, 'description': {'urls': [{'url': 'https://t.co/4s80gin7uW', 'expanded_url': 'http://facebook.com/diariodesevilla', 'display_url': 'facebook.com/diariodesevilla', 'indices': [60, 83]}, {'url': 'https://t.co/s0APOgnk3D', 'expanded_url': 'http://instagram.com/diariodesevill', 'display_url': 'instagram.com/diariodesevill', 'indices': [84, 107]}, {'url': 'https://t.co/I5lOXIBBU7', 'expanded_url': 'https://t.me/diariodesevilla_es', 'display_url': 't.me/diariodesevill…', 'indices': [119, 142]}]}}, 'protected': False, 'followers_count': 223601, 'friends_count': 732, 'listed_count': 1928, 'created_at': 'Wed Apr 22 10:41:49 +0000 2009', 'favourites_count': 5825, 'utc_offset': None, 'time_zone': None, 'geo_enabled': True, 'verified': True, 'statuses_count': 272381, 'lang': None, 'contributors_enabled': False, 'is_translator': False, 'is_translation_enabled': False, 'profile_background_color': '022330', 'profile_background_image_url': 'http://abs.twimg.com/images/themes/theme15/bg.png', 'profile_background_image_url_https': 'https://abs.twimg.com/images/themes/theme15/bg.png', 'profile_background_tile': False, 'profile_image_url': 'http://pbs.twimg.com/profile_images/1173594897846345728/vX0BV_S6_normal.jpg', 'profile_image_url_https': 'https://pbs.twimg.com/profile_images/1173594897846345728/vX0BV_S6_normal.jpg', 'profile_banner_url': 'https://pbs.twimg.com/profile_banners/34238668/1594124731', 'profile_link_color': 'DD1B12', 'profile_sidebar_border_color': 'FFFFFF', 'profile_sidebar_fill_color': 'C0DFEC', 'profile_text_color': '333333', 'profile_use_background_image': True, 'has_extended_profile': True, 'default_profile': False, 'default_profile_image': False, 'following': True, 'follow_request_sent': False, 'notifications': False, 'translator_type': 'none', 'withheld_in_countries': []}, id=34238668, id_str='34238668', name='Diario de Sevilla', screen_name='diariosevilla', location='Sevilla, Spain', description='Diario de información general, Sevilla. Newspaper, Seville.\\nhttps://t.co/4s80gin7uW\\nhttps://t.co/s0APOgnk3D…\\nTelegram: https://t.co/I5lOXIBBU7', url='https://t.co/yIsvVwP9WS', entities={'url': {'urls': [{'url': 'https://t.co/yIsvVwP9WS', 'expanded_url': 'https://www.diariodesevilla.es', 'display_url': 'diariodesevilla.es', 'indices': [0, 23]}]}, 'description': {'urls': [{'url': 'https://t.co/4s80gin7uW', 'expanded_url': 'http://facebook.com/diariodesevilla', 'display_url': 'facebook.com/diariodesevilla', 'indices': [60, 83]}, {'url': 'https://t.co/s0APOgnk3D', 'expanded_url': 'http://instagram.com/diariodesevill', 'display_url': 'instagram.com/diariodesevill', 'indices': [84, 107]}, {'url': 'https://t.co/I5lOXIBBU7', 'expanded_url': 'https://t.me/diariodesevilla_es', 'display_url': 't.me/diariodesevill…', 'indices': [119, 142]}]}}, protected=False, followers_count=223601, friends_count=732, listed_count=1928, created_at=datetime.datetime(2009, 4, 22, 10, 41, 49, tzinfo=datetime.timezone.utc), favourites_count=5825, utc_offset=None, time_zone=None, geo_enabled=True, verified=True, statuses_count=272381, lang=None, contributors_enabled=False, is_translator=False, is_translation_enabled=False, profile_background_color='022330', profile_background_image_url='http://abs.twimg.com/images/themes/theme15/bg.png', profile_background_image_url_https='https://abs.twimg.com/images/themes/theme15/bg.png', profile_background_tile=False, profile_image_url='http://pbs.twimg.com/profile_images/1173594897846345728/vX0BV_S6_normal.jpg', profile_image_url_https='https://pbs.twimg.com/profile_images/1173594897846345728/vX0BV_S6_normal.jpg', profile_banner_url='https://pbs.twimg.com/profile_banners/34238668/1594124731', profile_link_color='DD1B12', profile_sidebar_border_color='FFFFFF', profile_sidebar_fill_color='C0DFEC', profile_text_color='333333', profile_use_background_image=True, has_extended_profile=True, default_profile=False, default_profile_image=False, following=True, follow_request_sent=False, notifications=False, translator_type='none', withheld_in_countries=[]), geo=None, coordinates=None, place=None, contributors=None, is_quote_status=False, retweet_count=0, favorite_count=0, favorited=False, retweeted=False, possibly_sensitive=False, possibly_sensitive_appealable=False, lang='es'), Status(_api=<tweepy.api.API object at 0x000001B345F17E50>, _json={'created_at': 'Sun Dec 04 11:07:47 +0000 2022', 'id': 1599359809047887872, 'id_str': '1599359809047887872', 'text': 'Instead of using raised textures to increase surface roughness like with previous World Cup balls, the Al Rihla is… https://t.co/B3MkjinMDC', 'truncated': True, 'entities': {'hashtags': [], 'symbols': [], 'user_mentions': [], 'urls': [{'url': 'https://t.co/B3MkjinMDC', 'expanded_url': 'https://twitter.com/i/web/status/1599359809047887872', 'display_url': 'twitter.com/i/web/status/1…', 'indices': [116, 139]}]}, 'source': '<a href=\"https://www.echobox.com\" rel=\"nofollow\">Echobox</a>', 'in_reply_to_status_id': None, 'in_reply_to_status_id_str': None, 'in_reply_to_user_id': None, 'in_reply_to_user_id_str': None, 'in_reply_to_screen_name': None, 'user': {'id': 14647570, 'id_str': '14647570', 'name': 'Scientific American', 'screen_name': 'sciam', 'location': 'New York City', 'description': 'Awesome discoveries. Expert insights. Science that shapes the world.', 'url': 'https://t.co/cd46CF57nf', 'entities': {'url': {'urls': [{'url': 'https://t.co/cd46CF57nf', 'expanded_url': 'http://www.scientificamerican.com', 'display_url': 'scientificamerican.com', 'indices': [0, 23]}]}, 'description': {'urls': []}}, 'protected': False, 'followers_count': 4158444, 'friends_count': 806, 'listed_count': 29198, 'created_at': 'Sun May 04 12:39:32 +0000 2008', 'favourites_count': 6373, 'utc_offset': None, 'time_zone': None, 'geo_enabled': True, 'verified': True, 'statuses_count': 70457, 'lang': None, 'contributors_enabled': False, 'is_translator': False, 'is_translation_enabled': False, 'profile_background_color': 'F8F8F8', 'profile_background_image_url': 'http://abs.twimg.com/images/themes/theme1/bg.png', 'profile_background_image_url_https': 'https://abs.twimg.com/images/themes/theme1/bg.png', 'profile_background_tile': False, 'profile_image_url': 'http://pbs.twimg.com/profile_images/1197574569680392192/ZTfk5gZ3_normal.png', 'profile_image_url_https': 'https://pbs.twimg.com/profile_images/1197574569680392192/ZTfk5gZ3_normal.png', 'profile_banner_url': 'https://pbs.twimg.com/profile_banners/14647570/1668714004', 'profile_link_color': '1B95E0', 'profile_sidebar_border_color': 'D1423D', 'profile_sidebar_fill_color': 'ECECEC', 'profile_text_color': '333333', 'profile_use_background_image': True, 'has_extended_profile': False, 'default_profile': False, 'default_profile_image': False, 'following': True, 'follow_request_sent': False, 'notifications': False, 'translator_type': 'none', 'withheld_in_countries': []}, 'geo': None, 'coordinates': None, 'place': None, 'contributors': None, 'is_quote_status': False, 'retweet_count': 1, 'favorite_count': 1, 'favorited': False, 'retweeted': False, 'possibly_sensitive': False, 'possibly_sensitive_appealable': False, 'lang': 'en'}, created_at=datetime.datetime(2022, 12, 4, 11, 7, 47, tzinfo=datetime.timezone.utc), id=1599359809047887872, id_str='1599359809047887872', text='Instead of using raised textures to increase surface roughness like with previous World Cup balls, the Al Rihla is… https://t.co/B3MkjinMDC', truncated=True, entities={'hashtags': [], 'symbols': [], 'user_mentions': [], 'urls': [{'url': 'https://t.co/B3MkjinMDC', 'expanded_url': 'https://twitter.com/i/web/status/1599359809047887872', 'display_url': 'twitter.com/i/web/status/1…', 'indices': [116, 139]}]}, source='Echobox', source_url='https://www.echobox.com', in_reply_to_status_id=None, in_reply_to_status_id_str=None, in_reply_to_user_id=None, in_reply_to_user_id_str=None, in_reply_to_screen_name=None, author=User(_api=<tweepy.api.API object at 0x000001B345F17E50>, _json={'id': 14647570, 'id_str': '14647570', 'name': 'Scientific American', 'screen_name': 'sciam', 'location': 'New York City', 'description': 'Awesome discoveries. Expert insights. Science that shapes the world.', 'url': 'https://t.co/cd46CF57nf', 'entities': {'url': {'urls': [{'url': 'https://t.co/cd46CF57nf', 'expanded_url': 'http://www.scientificamerican.com', 'display_url': 'scientificamerican.com', 'indices': [0, 23]}]}, 'description': {'urls': []}}, 'protected': False, 'followers_count': 4158444, 'friends_count': 806, 'listed_count': 29198, 'created_at': 'Sun May 04 12:39:32 +0000 2008', 'favourites_count': 6373, 'utc_offset': None, 'time_zone': None, 'geo_enabled': True, 'verified': True, 'statuses_count': 70457, 'lang': None, 'contributors_enabled': False, 'is_translator': False, 'is_translation_enabled': False, 'profile_background_color': 'F8F8F8', 'profile_background_image_url': 'http://abs.twimg.com/images/themes/theme1/bg.png', 'profile_background_image_url_https': 'https://abs.twimg.com/images/themes/theme1/bg.png', 'profile_background_tile': False, 'profile_image_url': 'http://pbs.twimg.com/profile_images/1197574569680392192/ZTfk5gZ3_normal.png', 'profile_image_url_https': 'https://pbs.twimg.com/profile_images/1197574569680392192/ZTfk5gZ3_normal.png', 'profile_banner_url': 'https://pbs.twimg.com/profile_banners/14647570/1668714004', 'profile_link_color': '1B95E0', 'profile_sidebar_border_color': 'D1423D', 'profile_sidebar_fill_color': 'ECECEC', 'profile_text_color': '333333', 'profile_use_background_image': True, 'has_extended_profile': False, 'default_profile': False, 'default_profile_image': False, 'following': True, 'follow_request_sent': False, 'notifications': False, 'translator_type': 'none', 'withheld_in_countries': []}, id=14647570, id_str='14647570', name='Scientific American', screen_name='sciam', location='New York City', description='Awesome discoveries. Expert insights. Science that shapes the world.', url='https://t.co/cd46CF57nf', entities={'url': {'urls': [{'url': 'https://t.co/cd46CF57nf', 'expanded_url': 'http://www.scientificamerican.com', 'display_url': 'scientificamerican.com', 'indices': [0, 23]}]}, 'description': {'urls': []}}, protected=False, followers_count=4158444, friends_count=806, listed_count=29198, created_at=datetime.datetime(2008, 5, 4, 12, 39, 32, tzinfo=datetime.timezone.utc), favourites_count=6373, utc_offset=None, time_zone=None, geo_enabled=True, verified=True, statuses_count=70457, lang=None, contributors_enabled=False, is_translator=False, is_translation_enabled=False, profile_background_color='F8F8F8', profile_background_image_url='http://abs.twimg.com/images/themes/theme1/bg.png', profile_background_image_url_https='https://abs.twimg.com/images/themes/theme1/bg.png', profile_background_tile=False, profile_image_url='http://pbs.twimg.com/profile_images/1197574569680392192/ZTfk5gZ3_normal.png', profile_image_url_https='https://pbs.twimg.com/profile_images/1197574569680392192/ZTfk5gZ3_normal.png', profile_banner_url='https://pbs.twimg.com/profile_banners/14647570/1668714004', profile_link_color='1B95E0', profile_sidebar_border_color='D1423D', profile_sidebar_fill_color='ECECEC', profile_text_color='333333', profile_use_background_image=True, has_extended_profile=False, default_profile=False, default_profile_image=False, following=True, follow_request_sent=False, notifications=False, translator_type='none', withheld_in_countries=[]), user=User(_api=<tweepy.api.API object at 0x000001B345F17E50>, _json={'id': 14647570, 'id_str': '14647570', 'name': 'Scientific American', 'screen_name': 'sciam', 'location': 'New York City', 'description': 'Awesome discoveries. Expert insights. Science that shapes the world.', 'url': 'https://t.co/cd46CF57nf', 'entities': {'url': {'urls': [{'url': 'https://t.co/cd46CF57nf', 'expanded_url': 'http://www.scientificamerican.com', 'display_url': 'scientificamerican.com', 'indices': [0, 23]}]}, 'description': {'urls': []}}, 'protected': False, 'followers_count': 4158444, 'friends_count': 806, 'listed_count': 29198, 'created_at': 'Sun May 04 12:39:32 +0000 2008', 'favourites_count': 6373, 'utc_offset': None, 'time_zone': None, 'geo_enabled': True, 'verified': True, 'statuses_count': 70457, 'lang': None, 'contributors_enabled': False, 'is_translator': False, 'is_translation_enabled': False, 'profile_background_color': 'F8F8F8', 'profile_background_image_url': 'http://abs.twimg.com/images/themes/theme1/bg.png', 'profile_background_image_url_https': 'https://abs.twimg.com/images/themes/theme1/bg.png', 'profile_background_tile': False, 'profile_image_url': 'http://pbs.twimg.com/profile_images/1197574569680392192/ZTfk5gZ3_normal.png', 'profile_image_url_https': 'https://pbs.twimg.com/profile_images/1197574569680392192/ZTfk5gZ3_normal.png', 'profile_banner_url': 'https://pbs.twimg.com/profile_banners/14647570/1668714004', 'profile_link_color': '1B95E0', 'profile_sidebar_border_color': 'D1423D', 'profile_sidebar_fill_color': 'ECECEC', 'profile_text_color': '333333', 'profile_use_background_image': True, 'has_extended_profile': False, 'default_profile': False, 'default_profile_image': False, 'following': True, 'follow_request_sent': False, 'notifications': False, 'translator_type': 'none', 'withheld_in_countries': []}, id=14647570, id_str='14647570', name='Scientific American', screen_name='sciam', location='New York City', description='Awesome discoveries. Expert insights. Science that shapes the world.', url='https://t.co/cd46CF57nf', entities={'url': {'urls': [{'url': 'https://t.co/cd46CF57nf', 'expanded_url': 'http://www.scientificamerican.com', 'display_url': 'scientificamerican.com', 'indices': [0, 23]}]}, 'description': {'urls': []}}, protected=False, followers_count=4158444, friends_count=806, listed_count=29198, created_at=datetime.datetime(2008, 5, 4, 12, 39, 32, tzinfo=datetime.timezone.utc), favourites_count=6373, utc_offset=None, time_zone=None, geo_enabled=True, verified=True, statuses_count=70457, lang=None, contributors_enabled=False, is_translator=False, is_translation_enabled=False, profile_background_color='F8F8F8', profile_background_image_url='http://abs.twimg.com/images/themes/theme1/bg.png', profile_background_image_url_https='https://abs.twimg.com/images/themes/theme1/bg.png', profile_background_tile=False, profile_image_url='http://pbs.twimg.com/profile_images/1197574569680392192/ZTfk5gZ3_normal.png', profile_image_url_https='https://pbs.twimg.com/profile_images/1197574569680392192/ZTfk5gZ3_normal.png', profile_banner_url='https://pbs.twimg.com/profile_banners/14647570/1668714004', profile_link_color='1B95E0', profile_sidebar_border_color='D1423D', profile_sidebar_fill_color='ECECEC', profile_text_color='333333', profile_use_background_image=True, has_extended_profile=False, default_profile=False, default_profile_image=False, following=True, follow_request_sent=False, notifications=False, translator_type='none', withheld_in_countries=[]), geo=None, coordinates=None, place=None, contributors=None, is_quote_status=False, retweet_count=1, favorite_count=1, favorited=False, retweeted=False, possibly_sensitive=False, possibly_sensitive_appealable=False, lang='en'), Status(_api=<tweepy.api.API object at 0x000001B345F17E50>, _json={'created_at': 'Sun Dec 04 11:06:46 +0000 2022', 'id': 1599359551433854976, 'id_str': '1599359551433854976', 'text': '@Juan_Castro_10 📌 \"No sabemos cuántos siglos tengan que pasar para ver otro como él\" - Higuita… https://t.co/PRvc6LnChg', 'truncated': True, 'entities': {'hashtags': [], 'symbols': [], 'user_mentions': [{'screen_name': 'Juan_Castro_10', 'name': 'Juan Castro', 'id': 132985367, 'id_str': '132985367', 'indices': [0, 15]}], 'urls': [{'url': 'https://t.co/PRvc6LnChg', 'expanded_url': 'https://twitter.com/i/web/status/1599359551433854976', 'display_url': 'twitter.com/i/web/status/1…', 'indices': [96, 119]}]}, 'source': '<a href=\"https://about.twitter.com/products/tweetdeck\" rel=\"nofollow\">TweetDeck</a>', 'in_reply_to_status_id': 1599359088537878528, 'in_reply_to_status_id_str': '1599359088537878528', 'in_reply_to_user_id': 15095537, 'in_reply_to_user_id_str': '15095537', 'in_reply_to_screen_name': 'marca', 'user': {'id': 15095537, 'id_str': '15095537', 'name': 'MARCA', 'screen_name': 'marca', 'location': 'España', 'description': '📲 Conecta 𝐌𝐀𝐑𝐂𝐀: https://t.co/QM1TliOtvy, https://t.co/a3Q57ySd3w, https://t.co/sZKx5QUsVz, https://t.co/JTs3PurFq6', 'url': 'https://t.co/59bR92zbZt', 'entities': {'url': {'urls': [{'url': 'https://t.co/59bR92zbZt', 'expanded_url': 'http://www.marca.com', 'display_url': 'marca.com', 'indices': [0, 23]}]}, 'description': {'urls': [{'url': 'https://t.co/QM1TliOtvy', 'expanded_url': 'http://instagram.com/marca/', 'display_url': 'instagram.com/marca/', 'indices': [17, 40]}, {'url': 'https://t.co/a3Q57ySd3w', 'expanded_url': 'http://facebook.com/MARCA', 'display_url': 'facebook.com/MARCA', 'indices': [42, 65]}, {'url': 'https://t.co/sZKx5QUsVz', 'expanded_url': 'http://youtube.com/c/DiarioMARCA', 'display_url': 'youtube.com/c/DiarioMARCA', 'indices': [67, 90]}, {'url': 'https://t.co/JTs3PurFq6', 'expanded_url': 'http://tiktok.com/@marca.com', 'display_url': 'tiktok.com/@marca.com', 'indices': [92, 115]}]}}, 'protected': False, 'followers_count': 6364375, 'friends_count': 1640, 'listed_count': 21846, 'created_at': 'Thu Jun 12 11:05:13 +0000 2008', 'favourites_count': 2218, 'utc_offset': None, 'time_zone': None, 'geo_enabled': True, 'verified': True, 'statuses_count': 519589, 'lang': None, 'contributors_enabled': False, 'is_translator': False, 'is_translation_enabled': False, 'profile_background_color': '1A1B1F', 'profile_background_image_url': 'http://abs.twimg.com/images/themes/theme9/bg.gif', 'profile_background_image_url_https': 'https://abs.twimg.com/images/themes/theme9/bg.gif', 'profile_background_tile': False, 'profile_image_url': 'http://pbs.twimg.com/profile_images/1594272201901056001/dJP1fReE_normal.jpg', 'profile_image_url_https': 'https://pbs.twimg.com/profile_images/1594272201901056001/dJP1fReE_normal.jpg', 'profile_banner_url': 'https://pbs.twimg.com/profile_banners/15095537/1670017538', 'profile_link_color': '1B95E0', 'profile_sidebar_border_color': 'FFFFFF', 'profile_sidebar_fill_color': '252429', 'profile_text_color': '666666', 'profile_use_background_image': True, 'has_extended_profile': True, 'default_profile': False, 'default_profile_image': False, 'following': True, 'follow_request_sent': False, 'notifications': False, 'translator_type': 'regular', 'withheld_in_countries': []}, 'geo': None, 'coordinates': None, 'place': None, 'contributors': None, 'is_quote_status': False, 'retweet_count': 1, 'favorite_count': 5, 'favorited': False, 'retweeted': False, 'possibly_sensitive': False, 'possibly_sensitive_appealable': False, 'lang': 'es'}, created_at=datetime.datetime(2022, 12, 4, 11, 6, 46, tzinfo=datetime.timezone.utc), id=1599359551433854976, id_str='1599359551433854976', text='@Juan_Castro_10 📌 \"No sabemos cuántos siglos tengan que pasar para ver otro como él\" - Higuita… https://t.co/PRvc6LnChg', truncated=True, entities={'hashtags': [], 'symbols': [], 'user_mentions': [{'screen_name': 'Juan_Castro_10', 'name': 'Juan Castro', 'id': 132985367, 'id_str': '132985367', 'indices': [0, 15]}], 'urls': [{'url': 'https://t.co/PRvc6LnChg', 'expanded_url': 'https://twitter.com/i/web/status/1599359551433854976', 'display_url': 'twitter.com/i/web/status/1…', 'indices': [96, 119]}]}, source='TweetDeck', source_url='https://about.twitter.com/products/tweetdeck', in_reply_to_status_id=1599359088537878528, in_reply_to_status_id_str='1599359088537878528', in_reply_to_user_id=15095537, in_reply_to_user_id_str='15095537', in_reply_to_screen_name='marca', author=User(_api=<tweepy.api.API object at 0x000001B345F17E50>, _json={'id': 15095537, 'id_str': '15095537', 'name': 'MARCA', 'screen_name': 'marca', 'location': 'España', 'description': '📲 Conecta 𝐌𝐀𝐑𝐂𝐀: https://t.co/QM1TliOtvy, https://t.co/a3Q57ySd3w, https://t.co/sZKx5QUsVz, https://t.co/JTs3PurFq6', 'url': 'https://t.co/59bR92zbZt', 'entities': {'url': {'urls': [{'url': 'https://t.co/59bR92zbZt', 'expanded_url': 'http://www.marca.com', 'display_url': 'marca.com', 'indices': [0, 23]}]}, 'description': {'urls': [{'url': 'https://t.co/QM1TliOtvy', 'expanded_url': 'http://instagram.com/marca/', 'display_url': 'instagram.com/marca/', 'indices': [17, 40]}, {'url': 'https://t.co/a3Q57ySd3w', 'expanded_url': 'http://facebook.com/MARCA', 'display_url': 'facebook.com/MARCA', 'indices': [42, 65]}, {'url': 'https://t.co/sZKx5QUsVz', 'expanded_url': 'http://youtube.com/c/DiarioMARCA', 'display_url': 'youtube.com/c/DiarioMARCA', 'indices': [67, 90]}, {'url': 'https://t.co/JTs3PurFq6', 'expanded_url': 'http://tiktok.com/@marca.com', 'display_url': 'tiktok.com/@marca.com', 'indices': [92, 115]}]}}, 'protected': False, 'followers_count': 6364375, 'friends_count': 1640, 'listed_count': 21846, 'created_at': 'Thu Jun 12 11:05:13 +0000 2008', 'favourites_count': 2218, 'utc_offset': None, 'time_zone': None, 'geo_enabled': True, 'verified': True, 'statuses_count': 519589, 'lang': None, 'contributors_enabled': False, 'is_translator': False, 'is_translation_enabled': False, 'profile_background_color': '1A1B1F', 'profile_background_image_url': 'http://abs.twimg.com/images/themes/theme9/bg.gif', 'profile_background_image_url_https': 'https://abs.twimg.com/images/themes/theme9/bg.gif', 'profile_background_tile': False, 'profile_image_url': 'http://pbs.twimg.com/profile_images/1594272201901056001/dJP1fReE_normal.jpg', 'profile_image_url_https': 'https://pbs.twimg.com/profile_images/1594272201901056001/dJP1fReE_normal.jpg', 'profile_banner_url': 'https://pbs.twimg.com/profile_banners/15095537/1670017538', 'profile_link_color': '1B95E0', 'profile_sidebar_border_color': 'FFFFFF', 'profile_sidebar_fill_color': '252429', 'profile_text_color': '666666', 'profile_use_background_image': True, 'has_extended_profile': True, 'default_profile': False, 'default_profile_image': False, 'following': True, 'follow_request_sent': False, 'notifications': False, 'translator_type': 'regular', 'withheld_in_countries': []}, id=15095537, id_str='15095537', name='MARCA', screen_name='marca', location='España', description='📲 Conecta 𝐌𝐀𝐑𝐂𝐀: https://t.co/QM1TliOtvy, https://t.co/a3Q57ySd3w, https://t.co/sZKx5QUsVz, https://t.co/JTs3PurFq6', url='https://t.co/59bR92zbZt', entities={'url': {'urls': [{'url': 'https://t.co/59bR92zbZt', 'expanded_url': 'http://www.marca.com', 'display_url': 'marca.com', 'indices': [0, 23]}]}, 'description': {'urls': [{'url': 'https://t.co/QM1TliOtvy', 'expanded_url': 'http://instagram.com/marca/', 'display_url': 'instagram.com/marca/', 'indices': [17, 40]}, {'url': 'https://t.co/a3Q57ySd3w', 'expanded_url': 'http://facebook.com/MARCA', 'display_url': 'facebook.com/MARCA', 'indices': [42, 65]}, {'url': 'https://t.co/sZKx5QUsVz', 'expanded_url': 'http://youtube.com/c/DiarioMARCA', 'display_url': 'youtube.com/c/DiarioMARCA', 'indices': [67, 90]}, {'url': 'https://t.co/JTs3PurFq6', 'expanded_url': 'http://tiktok.com/@marca.com', 'display_url': 'tiktok.com/@marca.com', 'indices': [92, 115]}]}}, protected=False, followers_count=6364375, friends_count=1640, listed_count=21846, created_at=datetime.datetime(2008, 6, 12, 11, 5, 13, tzinfo=datetime.timezone.utc), favourites_count=2218, utc_offset=None, time_zone=None, geo_enabled=True, verified=True, statuses_count=519589, lang=None, contributors_enabled=False, is_translator=False, is_translation_enabled=False, profile_background_color='1A1B1F', profile_background_image_url='http://abs.twimg.com/images/themes/theme9/bg.gif', profile_background_image_url_https='https://abs.twimg.com/images/themes/theme9/bg.gif', profile_background_tile=False, profile_image_url='http://pbs.twimg.com/profile_images/1594272201901056001/dJP1fReE_normal.jpg', profile_image_url_https='https://pbs.twimg.com/profile_images/1594272201901056001/dJP1fReE_normal.jpg', profile_banner_url='https://pbs.twimg.com/profile_banners/15095537/1670017538', profile_link_color='1B95E0', profile_sidebar_border_color='FFFFFF', profile_sidebar_fill_color='252429', profile_text_color='666666', profile_use_background_image=True, has_extended_profile=True, default_profile=False, default_profile_image=False, following=True, follow_request_sent=False, notifications=False, translator_type='regular', withheld_in_countries=[]), user=User(_api=<tweepy.api.API object at 0x000001B345F17E50>, _json={'id': 15095537, 'id_str': '15095537', 'name': 'MARCA', 'screen_name': 'marca', 'location': 'España', 'description': '📲 Conecta 𝐌𝐀𝐑𝐂𝐀: https://t.co/QM1TliOtvy, https://t.co/a3Q57ySd3w, https://t.co/sZKx5QUsVz, https://t.co/JTs3PurFq6', 'url': 'https://t.co/59bR92zbZt', 'entities': {'url': {'urls': [{'url': 'https://t.co/59bR92zbZt', 'expanded_url': 'http://www.marca.com', 'display_url': 'marca.com', 'indices': [0, 23]}]}, 'description': {'urls': [{'url': 'https://t.co/QM1TliOtvy', 'expanded_url': 'http://instagram.com/marca/', 'display_url': 'instagram.com/marca/', 'indices': [17, 40]}, {'url': 'https://t.co/a3Q57ySd3w', 'expanded_url': 'http://facebook.com/MARCA', 'display_url': 'facebook.com/MARCA', 'indices': [42, 65]}, {'url': 'https://t.co/sZKx5QUsVz', 'expanded_url': 'http://youtube.com/c/DiarioMARCA', 'display_url': 'youtube.com/c/DiarioMARCA', 'indices': [67, 90]}, {'url': 'https://t.co/JTs3PurFq6', 'expanded_url': 'http://tiktok.com/@marca.com', 'display_url': 'tiktok.com/@marca.com', 'indices': [92, 115]}]}}, 'protected': False, 'followers_count': 6364375, 'friends_count': 1640, 'listed_count': 21846, 'created_at': 'Thu Jun 12 11:05:13 +0000 2008', 'favourites_count': 2218, 'utc_offset': None, 'time_zone': None, 'geo_enabled': True, 'verified': True, 'statuses_count': 519589, 'lang': None, 'contributors_enabled': False, 'is_translator': False, 'is_translation_enabled': False, 'profile_background_color': '1A1B1F', 'profile_background_image_url': 'http://abs.twimg.com/images/themes/theme9/bg.gif', 'profile_background_image_url_https': 'https://abs.twimg.com/images/themes/theme9/bg.gif', 'profile_background_tile': False, 'profile_image_url': 'http://pbs.twimg.com/profile_images/1594272201901056001/dJP1fReE_normal.jpg', 'profile_image_url_https': 'https://pbs.twimg.com/profile_images/1594272201901056001/dJP1fReE_normal.jpg', 'profile_banner_url': 'https://pbs.twimg.com/profile_banners/15095537/1670017538', 'profile_link_color': '1B95E0', 'profile_sidebar_border_color': 'FFFFFF', 'profile_sidebar_fill_color': '252429', 'profile_text_color': '666666', 'profile_use_background_image': True, 'has_extended_profile': True, 'default_profile': False, 'default_profile_image': False, 'following': True, 'follow_request_sent': False, 'notifications': False, 'translator_type': 'regular', 'withheld_in_countries': []}, id=15095537, id_str='15095537', name='MARCA', screen_name='marca', location='España', description='📲 Conecta 𝐌𝐀𝐑𝐂𝐀: https://t.co/QM1TliOtvy, https://t.co/a3Q57ySd3w, https://t.co/sZKx5QUsVz, https://t.co/JTs3PurFq6', url='https://t.co/59bR92zbZt', entities={'url': {'urls': [{'url': 'https://t.co/59bR92zbZt', 'expanded_url': 'http://www.marca.com', 'display_url': 'marca.com', 'indices': [0, 23]}]}, 'description': {'urls': [{'url': 'https://t.co/QM1TliOtvy', 'expanded_url': 'http://instagram.com/marca/', 'display_url': 'instagram.com/marca/', 'indices': [17, 40]}, {'url': 'https://t.co/a3Q57ySd3w', 'expanded_url': 'http://facebook.com/MARCA', 'display_url': 'facebook.com/MARCA', 'indices': [42, 65]}, {'url': 'https://t.co/sZKx5QUsVz', 'expanded_url': 'http://youtube.com/c/DiarioMARCA', 'display_url': 'youtube.com/c/DiarioMARCA', 'indices': [67, 90]}, {'url': 'https://t.co/JTs3PurFq6', 'expanded_url': 'http://tiktok.com/@marca.com', 'display_url': 'tiktok.com/@marca.com', 'indices': [92, 115]}]}}, protected=False, followers_count=6364375, friends_count=1640, listed_count=21846, created_at=datetime.datetime(2008, 6, 12, 11, 5, 13, tzinfo=datetime.timezone.utc), favourites_count=2218, utc_offset=None, time_zone=None, geo_enabled=True, verified=True, statuses_count=519589, lang=None, contributors_enabled=False, is_translator=False, is_translation_enabled=False, profile_background_color='1A1B1F', profile_background_image_url='http://abs.twimg.com/images/themes/theme9/bg.gif', profile_background_image_url_https='https://abs.twimg.com/images/themes/theme9/bg.gif', profile_background_tile=False, profile_image_url='http://pbs.twimg.com/profile_images/1594272201901056001/dJP1fReE_normal.jpg', profile_image_url_https='https://pbs.twimg.com/profile_images/1594272201901056001/dJP1fReE_normal.jpg', profile_banner_url='https://pbs.twimg.com/profile_banners/15095537/1670017538', profile_link_color='1B95E0', profile_sidebar_border_color='FFFFFF', profile_sidebar_fill_color='252429', profile_text_color='666666', profile_use_background_image=True, has_extended_profile=True, default_profile=False, default_profile_image=False, following=True, follow_request_sent=False, notifications=False, translator_type='regular', withheld_in_countries=[]), geo=None, coordinates=None, place=None, contributors=None, is_quote_status=False, retweet_count=1, favorite_count=5, favorited=False, retweeted=False, possibly_sensitive=False, possibly_sensitive_appealable=False, lang='es'), Status(_api=<tweepy.api.API object at 0x000001B345F17E50>, _json={'created_at': 'Sun Dec 04 11:06:36 +0000 2022', 'id': 1599359509029330946, 'id_str': '1599359509029330946', 'text': 'El mercado de tarjetas gráficas vive su peor momento desde 2008. Malas noticias para las Radeon RX 7000 de AMD… https://t.co/Ri2RO4dIWe', 'truncated': True, 'entities': {'hashtags': [], 'symbols': [], 'user_mentions': [], 'urls': [{'url': 'https://t.co/Ri2RO4dIWe', 'expanded_url': 'https://twitter.com/i/web/status/1599359509029330946', 'display_url': 'twitter.com/i/web/status/1…', 'indices': [112, 135]}]}, 'source': '<a href=\"http://www.weblogssl.com\" rel=\"nofollow\">TweetPublishedPost</a>', 'in_reply_to_status_id': None, 'in_reply_to_status_id_str': None, 'in_reply_to_user_id': None, 'in_reply_to_user_id_str': None, 'in_reply_to_screen_name': None, 'user': {'id': 18200400, 'id_str': '18200400', 'name': 'xataka', 'screen_name': 'xataka', 'location': 'España y Latinoamérica', 'description': 'Xataka es la publicación líder de tecnología en español. Apasionados por la tecnología. También en Tiktok 👉 https://t.co/1EPDdqt41t', 'url': 'https://t.co/iR5FVznLF8', 'entities': {'url': {'urls': [{'url': 'https://t.co/iR5FVznLF8', 'expanded_url': 'http://www.xataka.com', 'display_url': 'xataka.com', 'indices': [0, 23]}]}, 'description': {'urls': [{'url': 'https://t.co/1EPDdqt41t', 'expanded_url': 'http://bit.ly/3jW5ZGa', 'display_url': 'bit.ly/3jW5ZGa', 'indices': [108, 131]}]}}, 'protected': False, 'followers_count': 1468175, 'friends_count': 56, 'listed_count': 11081, 'created_at': 'Wed Dec 17 21:28:48 +0000 2008', 'favourites_count': 327, 'utc_offset': None, 'time_zone': None, 'geo_enabled': True, 'verified': True, 'statuses_count': 182231, 'lang': None, 'contributors_enabled': False, 'is_translator': False, 'is_translation_enabled': False, 'profile_background_color': '9AC348', 'profile_background_image_url': 'http://abs.twimg.com/images/themes/theme1/bg.png', 'profile_background_image_url_https': 'https://abs.twimg.com/images/themes/theme1/bg.png', 'profile_background_tile': True, 'profile_image_url': 'http://pbs.twimg.com/profile_images/1593566741581398016/EifW_9Gq_normal.png', 'profile_image_url_https': 'https://pbs.twimg.com/profile_images/1593566741581398016/EifW_9Gq_normal.png', 'profile_banner_url': 'https://pbs.twimg.com/profile_banners/18200400/1668770894', 'profile_link_color': '3B6915', 'profile_sidebar_border_color': 'FFFFFF', 'profile_sidebar_fill_color': 'EDFAB5', 'profile_text_color': '333333', 'profile_use_background_image': True, 'has_extended_profile': False, 'default_profile': False, 'default_profile_image': False, 'following': True, 'follow_request_sent': False, 'notifications': False, 'translator_type': 'none', 'withheld_in_countries': []}, 'geo': None, 'coordinates': None, 'place': None, 'contributors': None, 'is_quote_status': False, 'retweet_count': 0, 'favorite_count': 1, 'favorited': False, 'retweeted': False, 'possibly_sensitive': False, 'possibly_sensitive_appealable': False, 'lang': 'es'}, created_at=datetime.datetime(2022, 12, 4, 11, 6, 36, tzinfo=datetime.timezone.utc), id=1599359509029330946, id_str='1599359509029330946', text='El mercado de tarjetas gráficas vive su peor momento desde 2008. Malas noticias para las Radeon RX 7000 de AMD… https://t.co/Ri2RO4dIWe', truncated=True, entities={'hashtags': [], 'symbols': [], 'user_mentions': [], 'urls': [{'url': 'https://t.co/Ri2RO4dIWe', 'expanded_url': 'https://twitter.com/i/web/status/1599359509029330946', 'display_url': 'twitter.com/i/web/status/1…', 'indices': [112, 135]}]}, source='TweetPublishedPost', source_url='http://www.weblogssl.com', in_reply_to_status_id=None, in_reply_to_status_id_str=None, in_reply_to_user_id=None, in_reply_to_user_id_str=None, in_reply_to_screen_name=None, author=User(_api=<tweepy.api.API object at 0x000001B345F17E50>, _json={'id': 18200400, 'id_str': '18200400', 'name': 'xataka', 'screen_name': 'xataka', 'location': 'España y Latinoamérica', 'description': 'Xataka es la publicación líder de tecnología en español. Apasionados por la tecnología. También en Tiktok 👉 https://t.co/1EPDdqt41t', 'url': 'https://t.co/iR5FVznLF8', 'entities': {'url': {'urls': [{'url': 'https://t.co/iR5FVznLF8', 'expanded_url': 'http://www.xataka.com', 'display_url': 'xataka.com', 'indices': [0, 23]}]}, 'description': {'urls': [{'url': 'https://t.co/1EPDdqt41t', 'expanded_url': 'http://bit.ly/3jW5ZGa', 'display_url': 'bit.ly/3jW5ZGa', 'indices': [108, 131]}]}}, 'protected': False, 'followers_count': 1468175, 'friends_count': 56, 'listed_count': 11081, 'created_at': 'Wed Dec 17 21:28:48 +0000 2008', 'favourites_count': 327, 'utc_offset': None, 'time_zone': None, 'geo_enabled': True, 'verified': True, 'statuses_count': 182231, 'lang': None, 'contributors_enabled': False, 'is_translator': False, 'is_translation_enabled': False, 'profile_background_color': '9AC348', 'profile_background_image_url': 'http://abs.twimg.com/images/themes/theme1/bg.png', 'profile_background_image_url_https': 'https://abs.twimg.com/images/themes/theme1/bg.png', 'profile_background_tile': True, 'profile_image_url': 'http://pbs.twimg.com/profile_images/1593566741581398016/EifW_9Gq_normal.png', 'profile_image_url_https': 'https://pbs.twimg.com/profile_images/1593566741581398016/EifW_9Gq_normal.png', 'profile_banner_url': 'https://pbs.twimg.com/profile_banners/18200400/1668770894', 'profile_link_color': '3B6915', 'profile_sidebar_border_color': 'FFFFFF', 'profile_sidebar_fill_color': 'EDFAB5', 'profile_text_color': '333333', 'profile_use_background_image': True, 'has_extended_profile': False, 'default_profile': False, 'default_profile_image': False, 'following': True, 'follow_request_sent': False, 'notifications': False, 'translator_type': 'none', 'withheld_in_countries': []}, id=18200400, id_str='18200400', name='xataka', screen_name='xataka', location='España y Latinoamérica', description='Xataka es la publicación líder de tecnología en español. Apasionados por la tecnología. También en Tiktok 👉 https://t.co/1EPDdqt41t', url='https://t.co/iR5FVznLF8', entities={'url': {'urls': [{'url': 'https://t.co/iR5FVznLF8', 'expanded_url': 'http://www.xataka.com', 'display_url': 'xataka.com', 'indices': [0, 23]}]}, 'description': {'urls': [{'url': 'https://t.co/1EPDdqt41t', 'expanded_url': 'http://bit.ly/3jW5ZGa', 'display_url': 'bit.ly/3jW5ZGa', 'indices': [108, 131]}]}}, protected=False, followers_count=1468175, friends_count=56, listed_count=11081, created_at=datetime.datetime(2008, 12, 17, 21, 28, 48, tzinfo=datetime.timezone.utc), favourites_count=327, utc_offset=None, time_zone=None, geo_enabled=True, verified=True, statuses_count=182231, lang=None, contributors_enabled=False, is_translator=False, is_translation_enabled=False, profile_background_color='9AC348', profile_background_image_url='http://abs.twimg.com/images/themes/theme1/bg.png', profile_background_image_url_https='https://abs.twimg.com/images/themes/theme1/bg.png', profile_background_tile=True, profile_image_url='http://pbs.twimg.com/profile_images/1593566741581398016/EifW_9Gq_normal.png', profile_image_url_https='https://pbs.twimg.com/profile_images/1593566741581398016/EifW_9Gq_normal.png', profile_banner_url='https://pbs.twimg.com/profile_banners/18200400/1668770894', profile_link_color='3B6915', profile_sidebar_border_color='FFFFFF', profile_sidebar_fill_color='EDFAB5', profile_text_color='333333', profile_use_background_image=True, has_extended_profile=False, default_profile=False, default_profile_image=False, following=True, follow_request_sent=False, notifications=False, translator_type='none', withheld_in_countries=[]), user=User(_api=<tweepy.api.API object at 0x000001B345F17E50>, _json={'id': 18200400, 'id_str': '18200400', 'name': 'xataka', 'screen_name': 'xataka', 'location': 'España y Latinoamérica', 'description': 'Xataka es la publicación líder de tecnología en español. Apasionados por la tecnología. También en Tiktok 👉 https://t.co/1EPDdqt41t', 'url': 'https://t.co/iR5FVznLF8', 'entities': {'url': {'urls': [{'url': 'https://t.co/iR5FVznLF8', 'expanded_url': 'http://www.xataka.com', 'display_url': 'xataka.com', 'indices': [0, 23]}]}, 'description': {'urls': [{'url': 'https://t.co/1EPDdqt41t', 'expanded_url': 'http://bit.ly/3jW5ZGa', 'display_url': 'bit.ly/3jW5ZGa', 'indices': [108, 131]}]}}, 'protected': False, 'followers_count': 1468175, 'friends_count': 56, 'listed_count': 11081, 'created_at': 'Wed Dec 17 21:28:48 +0000 2008', 'favourites_count': 327, 'utc_offset': None, 'time_zone': None, 'geo_enabled': True, 'verified': True, 'statuses_count': 182231, 'lang': None, 'contributors_enabled': False, 'is_translator': False, 'is_translation_enabled': False, 'profile_background_color': '9AC348', 'profile_background_image_url': 'http://abs.twimg.com/images/themes/theme1/bg.png', 'profile_background_image_url_https': 'https://abs.twimg.com/images/themes/theme1/bg.png', 'profile_background_tile': True, 'profile_image_url': 'http://pbs.twimg.com/profile_images/1593566741581398016/EifW_9Gq_normal.png', 'profile_image_url_https': 'https://pbs.twimg.com/profile_images/1593566741581398016/EifW_9Gq_normal.png', 'profile_banner_url': 'https://pbs.twimg.com/profile_banners/18200400/1668770894', 'profile_link_color': '3B6915', 'profile_sidebar_border_color': 'FFFFFF', 'profile_sidebar_fill_color': 'EDFAB5', 'profile_text_color': '333333', 'profile_use_background_image': True, 'has_extended_profile': False, 'default_profile': False, 'default_profile_image': False, 'following': True, 'follow_request_sent': False, 'notifications': False, 'translator_type': 'none', 'withheld_in_countries': []}, id=18200400, id_str='18200400', name='xataka', screen_name='xataka', location='España y Latinoamérica', description='Xataka es la publicación líder de tecnología en español. Apasionados por la tecnología. También en Tiktok 👉 https://t.co/1EPDdqt41t', url='https://t.co/iR5FVznLF8', entities={'url': {'urls': [{'url': 'https://t.co/iR5FVznLF8', 'expanded_url': 'http://www.xataka.com', 'display_url': 'xataka.com', 'indices': [0, 23]}]}, 'description': {'urls': [{'url': 'https://t.co/1EPDdqt41t', 'expanded_url': 'http://bit.ly/3jW5ZGa', 'display_url': 'bit.ly/3jW5ZGa', 'indices': [108, 131]}]}}, protected=False, followers_count=1468175, friends_count=56, listed_count=11081, created_at=datetime.datetime(2008, 12, 17, 21, 28, 48, tzinfo=datetime.timezone.utc), favourites_count=327, utc_offset=None, time_zone=None, geo_enabled=True, verified=True, statuses_count=182231, lang=None, contributors_enabled=False, is_translator=False, is_translation_enabled=False, profile_background_color='9AC348', profile_background_image_url='http://abs.twimg.com/images/themes/theme1/bg.png', profile_background_image_url_https='https://abs.twimg.com/images/themes/theme1/bg.png', profile_background_tile=True, profile_image_url='http://pbs.twimg.com/profile_images/1593566741581398016/EifW_9Gq_normal.png', profile_image_url_https='https://pbs.twimg.com/profile_images/1593566741581398016/EifW_9Gq_normal.png', profile_banner_url='https://pbs.twimg.com/profile_banners/18200400/1668770894', profile_link_color='3B6915', profile_sidebar_border_color='FFFFFF', profile_sidebar_fill_color='EDFAB5', profile_text_color='333333', profile_use_background_image=True, has_extended_profile=False, default_profile=False, default_profile_image=False, following=True, follow_request_sent=False, notifications=False, translator_type='none', withheld_in_countries=[]), geo=None, coordinates=None, place=None, contributors=None, is_quote_status=False, retweet_count=0, favorite_count=1, favorited=False, retweeted=False, possibly_sensitive=False, possibly_sensitive_appealable=False, lang='es'), Status(_api=<tweepy.api.API object at 0x000001B345F17E50>, _json={'created_at': 'Sun Dec 04 11:05:49 +0000 2022', 'id': 1599359311733719040, 'id_str': '1599359311733719040', 'text': 'RT @DominiqueHyde: Close to 880,000 people in Mauritania are acutely food insecure. \\n\\nThanks to the national social protection programme, @…', 'truncated': False, 'entities': {'hashtags': [], 'symbols': [], 'user_mentions': [{'screen_name': 'DominiqueHyde', 'name': 'Dominique Isabelle Hyde', 'id': 397121519, 'id_str': '397121519', 'indices': [3, 17]}], 'urls': []}, 'source': '<a href=\"http://twitter.com/download/iphone\" rel=\"nofollow\">Twitter for iPhone</a>', 'in_reply_to_status_id': None, 'in_reply_to_status_id_str': None, 'in_reply_to_user_id': None, 'in_reply_to_user_id_str': None, 'in_reply_to_screen_name': None, 'user': {'id': 27830610, 'id_str': '27830610', 'name': 'World Food Programme', 'screen_name': 'WFP', 'location': 'Worldwide', 'description': \"Laureate of the 2020 Nobel Peace Prize. 🇺🇳🌾🍛 The United Nations World Food Programme is the world's largest humanitarian agency working towards #ZeroHunger.\", 'url': 'https://t.co/cv38S3roXM', 'entities': {'url': {'urls': [{'url': 'https://t.co/cv38S3roXM', 'expanded_url': 'http://wfp.org', 'display_url': 'wfp.org', 'indices': [0, 23]}]}, 'description': {'urls': []}}, 'protected': False, 'followers_count': 2034109, 'friends_count': 1625, 'listed_count': 12059, 'created_at': 'Tue Mar 31 07:02:18 +0000 2009', 'favourites_count': 19351, 'utc_offset': None, 'time_zone': None, 'geo_enabled': True, 'verified': True, 'statuses_count': 36757, 'lang': None, 'contributors_enabled': False, 'is_translator': False, 'is_translation_enabled': False, 'profile_background_color': '000000', 'profile_background_image_url': 'http://abs.twimg.com/images/themes/theme1/bg.png', 'profile_background_image_url_https': 'https://abs.twimg.com/images/themes/theme1/bg.png', 'profile_background_tile': False, 'profile_image_url': 'http://pbs.twimg.com/profile_images/1258375991740768256/W-5DIrQT_normal.jpg', 'profile_image_url_https': 'https://pbs.twimg.com/profile_images/1258375991740768256/W-5DIrQT_normal.jpg', 'profile_banner_url': 'https://pbs.twimg.com/profile_banners/27830610/1645992371', 'profile_link_color': '44AAFF', 'profile_sidebar_border_color': 'FFFFFF', 'profile_sidebar_fill_color': 'FFFFFF', 'profile_text_color': '302C2C', 'profile_use_background_image': True, 'has_extended_profile': True, 'default_profile': False, 'default_profile_image': False, 'following': True, 'follow_request_sent': False, 'notifications': False, 'translator_type': 'none', 'withheld_in_countries': []}, 'geo': None, 'coordinates': None, 'place': None, 'contributors': None, 'retweeted_status': {'created_at': 'Sat Dec 03 11:05:04 +0000 2022', 'id': 1598996736852492288, 'id_str': '1598996736852492288', 'text': 'Close to 880,000 people in Mauritania are acutely food insecure. \\n\\nThanks to the national social protection program… https://t.co/1DbNmpvkuS', 'truncated': True, 'entities': {'hashtags': [], 'symbols': [], 'user_mentions': [], 'urls': [{'url': 'https://t.co/1DbNmpvkuS', 'expanded_url': 'https://twitter.com/i/web/status/1598996736852492288', 'display_url': 'twitter.com/i/web/status/1…', 'indices': [117, 140]}]}, 'source': '<a href=\"http://twitter.com/download/iphone\" rel=\"nofollow\">Twitter for iPhone</a>', 'in_reply_to_status_id': None, 'in_reply_to_status_id_str': None, 'in_reply_to_user_id': None, 'in_reply_to_user_id_str': None, 'in_reply_to_screen_name': None, 'user': {'id': 397121519, 'id_str': '397121519', 'name': 'Dominique Isabelle Hyde', 'screen_name': 'DominiqueHyde', 'location': 'Genève, Suisse', 'description': 'Director of External Relations, #UNHCR, the UN Refugee Agency, @refugees. Mother, dedicated humanitarian.', 'url': 'https://t.co/nB8e67nyQK', 'entities': {'url': {'urls': [{'url': 'https://t.co/nB8e67nyQK', 'expanded_url': 'http://www.unhcr.org', 'display_url': 'unhcr.org', 'indices': [0, 23]}]}, 'description': {'urls': []}}, 'protected': False, 'followers_count': 16873, 'friends_count': 1579, 'listed_count': 132, 'created_at': 'Mon Oct 24 08:21:10 +0000 2011', 'favourites_count': 9858, 'utc_offset': None, 'time_zone': None, 'geo_enabled': True, 'verified': True, 'statuses_count': 6792, 'lang': None, 'contributors_enabled': False, 'is_translator': False, 'is_translation_enabled': False, 'profile_background_color': 'C0DEED', 'profile_background_image_url': 'http://abs.twimg.com/images/themes/theme1/bg.png', 'profile_background_image_url_https': 'https://abs.twimg.com/images/themes/theme1/bg.png', 'profile_background_tile': False, 'profile_image_url': 'http://pbs.twimg.com/profile_images/1420297127712919554/0e5n4ooK_normal.jpg', 'profile_image_url_https': 'https://pbs.twimg.com/profile_images/1420297127712919554/0e5n4ooK_normal.jpg', 'profile_banner_url': 'https://pbs.twimg.com/profile_banners/397121519/1552872698', 'profile_link_color': '1DA1F2', 'profile_sidebar_border_color': 'C0DEED', 'profile_sidebar_fill_color': 'DDEEF6', 'profile_text_color': '333333', 'profile_use_background_image': True, 'has_extended_profile': False, 'default_profile': True, 'default_profile_image': False, 'following': False, 'follow_request_sent': False, 'notifications': False, 'translator_type': 'none', 'withheld_in_countries': []}, 'geo': None, 'coordinates': None, 'place': None, 'contributors': None, 'is_quote_status': False, 'retweet_count': 8, 'favorite_count': 51, 'favorited': False, 'retweeted': False, 'possibly_sensitive': False, 'possibly_sensitive_appealable': False, 'lang': 'en'}, 'is_quote_status': False, 'retweet_count': 8, 'favorite_count': 0, 'favorited': False, 'retweeted': False, 'lang': 'en'}, created_at=datetime.datetime(2022, 12, 4, 11, 5, 49, tzinfo=datetime.timezone.utc), id=1599359311733719040, id_str='1599359311733719040', text='RT @DominiqueHyde: Close to 880,000 people in Mauritania are acutely food insecure. \\n\\nThanks to the national social protection programme, @…', truncated=False, entities={'hashtags': [], 'symbols': [], 'user_mentions': [{'screen_name': 'DominiqueHyde', 'name': 'Dominique Isabelle Hyde', 'id': 397121519, 'id_str': '397121519', 'indices': [3, 17]}], 'urls': []}, source='Twitter for iPhone', source_url='http://twitter.com/download/iphone', in_reply_to_status_id=None, in_reply_to_status_id_str=None, in_reply_to_user_id=None, in_reply_to_user_id_str=None, in_reply_to_screen_name=None, author=User(_api=<tweepy.api.API object at 0x000001B345F17E50>, _json={'id': 27830610, 'id_str': '27830610', 'name': 'World Food Programme', 'screen_name': 'WFP', 'location': 'Worldwide', 'description': \"Laureate of the 2020 Nobel Peace Prize. 🇺🇳🌾🍛 The United Nations World Food Programme is the world's largest humanitarian agency working towards #ZeroHunger.\", 'url': 'https://t.co/cv38S3roXM', 'entities': {'url': {'urls': [{'url': 'https://t.co/cv38S3roXM', 'expanded_url': 'http://wfp.org', 'display_url': 'wfp.org', 'indices': [0, 23]}]}, 'description': {'urls': []}}, 'protected': False, 'followers_count': 2034109, 'friends_count': 1625, 'listed_count': 12059, 'created_at': 'Tue Mar 31 07:02:18 +0000 2009', 'favourites_count': 19351, 'utc_offset': None, 'time_zone': None, 'geo_enabled': True, 'verified': True, 'statuses_count': 36757, 'lang': None, 'contributors_enabled': False, 'is_translator': False, 'is_translation_enabled': False, 'profile_background_color': '000000', 'profile_background_image_url': 'http://abs.twimg.com/images/themes/theme1/bg.png', 'profile_background_image_url_https': 'https://abs.twimg.com/images/themes/theme1/bg.png', 'profile_background_tile': False, 'profile_image_url': 'http://pbs.twimg.com/profile_images/1258375991740768256/W-5DIrQT_normal.jpg', 'profile_image_url_https': 'https://pbs.twimg.com/profile_images/1258375991740768256/W-5DIrQT_normal.jpg', 'profile_banner_url': 'https://pbs.twimg.com/profile_banners/27830610/1645992371', 'profile_link_color': '44AAFF', 'profile_sidebar_border_color': 'FFFFFF', 'profile_sidebar_fill_color': 'FFFFFF', 'profile_text_color': '302C2C', 'profile_use_background_image': True, 'has_extended_profile': True, 'default_profile': False, 'default_profile_image': False, 'following': True, 'follow_request_sent': False, 'notifications': False, 'translator_type': 'none', 'withheld_in_countries': []}, id=27830610, id_str='27830610', name='World Food Programme', screen_name='WFP', location='Worldwide', description=\"Laureate of the 2020 Nobel Peace Prize. 🇺🇳🌾🍛 The United Nations World Food Programme is the world's largest humanitarian agency working towards #ZeroHunger.\", url='https://t.co/cv38S3roXM', entities={'url': {'urls': [{'url': 'https://t.co/cv38S3roXM', 'expanded_url': 'http://wfp.org', 'display_url': 'wfp.org', 'indices': [0, 23]}]}, 'description': {'urls': []}}, protected=False, followers_count=2034109, friends_count=1625, listed_count=12059, created_at=datetime.datetime(2009, 3, 31, 7, 2, 18, tzinfo=datetime.timezone.utc), favourites_count=19351, utc_offset=None, time_zone=None, geo_enabled=True, verified=True, statuses_count=36757, lang=None, contributors_enabled=False, is_translator=False, is_translation_enabled=False, profile_background_color='000000', profile_background_image_url='http://abs.twimg.com/images/themes/theme1/bg.png', profile_background_image_url_https='https://abs.twimg.com/images/themes/theme1/bg.png', profile_background_tile=False, profile_image_url='http://pbs.twimg.com/profile_images/1258375991740768256/W-5DIrQT_normal.jpg', profile_image_url_https='https://pbs.twimg.com/profile_images/1258375991740768256/W-5DIrQT_normal.jpg', profile_banner_url='https://pbs.twimg.com/profile_banners/27830610/1645992371', profile_link_color='44AAFF', profile_sidebar_border_color='FFFFFF', profile_sidebar_fill_color='FFFFFF', profile_text_color='302C2C', profile_use_background_image=True, has_extended_profile=True, default_profile=False, default_profile_image=False, following=True, follow_request_sent=False, notifications=False, translator_type='none', withheld_in_countries=[]), user=User(_api=<tweepy.api.API object at 0x000001B345F17E50>, _json={'id': 27830610, 'id_str': '27830610', 'name': 'World Food Programme', 'screen_name': 'WFP', 'location': 'Worldwide', 'description': \"Laureate of the 2020 Nobel Peace Prize. 🇺🇳🌾🍛 The United Nations World Food Programme is the world's largest humanitarian agency working towards #ZeroHunger.\", 'url': 'https://t.co/cv38S3roXM', 'entities': {'url': {'urls': [{'url': 'https://t.co/cv38S3roXM', 'expanded_url': 'http://wfp.org', 'display_url': 'wfp.org', 'indices': [0, 23]}]}, 'description': {'urls': []}}, 'protected': False, 'followers_count': 2034109, 'friends_count': 1625, 'listed_count': 12059, 'created_at': 'Tue Mar 31 07:02:18 +0000 2009', 'favourites_count': 19351, 'utc_offset': None, 'time_zone': None, 'geo_enabled': True, 'verified': True, 'statuses_count': 36757, 'lang': None, 'contributors_enabled': False, 'is_translator': False, 'is_translation_enabled': False, 'profile_background_color': '000000', 'profile_background_image_url': 'http://abs.twimg.com/images/themes/theme1/bg.png', 'profile_background_image_url_https': 'https://abs.twimg.com/images/themes/theme1/bg.png', 'profile_background_tile': False, 'profile_image_url': 'http://pbs.twimg.com/profile_images/1258375991740768256/W-5DIrQT_normal.jpg', 'profile_image_url_https': 'https://pbs.twimg.com/profile_images/1258375991740768256/W-5DIrQT_normal.jpg', 'profile_banner_url': 'https://pbs.twimg.com/profile_banners/27830610/1645992371', 'profile_link_color': '44AAFF', 'profile_sidebar_border_color': 'FFFFFF', 'profile_sidebar_fill_color': 'FFFFFF', 'profile_text_color': '302C2C', 'profile_use_background_image': True, 'has_extended_profile': True, 'default_profile': False, 'default_profile_image': False, 'following': True, 'follow_request_sent': False, 'notifications': False, 'translator_type': 'none', 'withheld_in_countries': []}, id=27830610, id_str='27830610', name='World Food Programme', screen_name='WFP', location='Worldwide', description=\"Laureate of the 2020 Nobel Peace Prize. 🇺🇳🌾🍛 The United Nations World Food Programme is the world's largest humanitarian agency working towards #ZeroHunger.\", url='https://t.co/cv38S3roXM', entities={'url': {'urls': [{'url': 'https://t.co/cv38S3roXM', 'expanded_url': 'http://wfp.org', 'display_url': 'wfp.org', 'indices': [0, 23]}]}, 'description': {'urls': []}}, protected=False, followers_count=2034109, friends_count=1625, listed_count=12059, created_at=datetime.datetime(2009, 3, 31, 7, 2, 18, tzinfo=datetime.timezone.utc), favourites_count=19351, utc_offset=None, time_zone=None, geo_enabled=True, verified=True, statuses_count=36757, lang=None, contributors_enabled=False, is_translator=False, is_translation_enabled=False, profile_background_color='000000', profile_background_image_url='http://abs.twimg.com/images/themes/theme1/bg.png', profile_background_image_url_https='https://abs.twimg.com/images/themes/theme1/bg.png', profile_background_tile=False, profile_image_url='http://pbs.twimg.com/profile_images/1258375991740768256/W-5DIrQT_normal.jpg', profile_image_url_https='https://pbs.twimg.com/profile_images/1258375991740768256/W-5DIrQT_normal.jpg', profile_banner_url='https://pbs.twimg.com/profile_banners/27830610/1645992371', profile_link_color='44AAFF', profile_sidebar_border_color='FFFFFF', profile_sidebar_fill_color='FFFFFF', profile_text_color='302C2C', profile_use_background_image=True, has_extended_profile=True, default_profile=False, default_profile_image=False, following=True, follow_request_sent=False, notifications=False, translator_type='none', withheld_in_countries=[]), geo=None, coordinates=None, place=None, contributors=None, retweeted_status=Status(_api=<tweepy.api.API object at 0x000001B345F17E50>, _json={'created_at': 'Sat Dec 03 11:05:04 +0000 2022', 'id': 1598996736852492288, 'id_str': '1598996736852492288', 'text': 'Close to 880,000 people in Mauritania are acutely food insecure. \\n\\nThanks to the national social protection program… https://t.co/1DbNmpvkuS', 'truncated': True, 'entities': {'hashtags': [], 'symbols': [], 'user_mentions': [], 'urls': [{'url': 'https://t.co/1DbNmpvkuS', 'expanded_url': 'https://twitter.com/i/web/status/1598996736852492288', 'display_url': 'twitter.com/i/web/status/1…', 'indices': [117, 140]}]}, 'source': '<a href=\"http://twitter.com/download/iphone\" rel=\"nofollow\">Twitter for iPhone</a>', 'in_reply_to_status_id': None, 'in_reply_to_status_id_str': None, 'in_reply_to_user_id': None, 'in_reply_to_user_id_str': None, 'in_reply_to_screen_name': None, 'user': {'id': 397121519, 'id_str': '397121519', 'name': 'Dominique Isabelle Hyde', 'screen_name': 'DominiqueHyde', 'location': 'Genève, Suisse', 'description': 'Director of External Relations, #UNHCR, the UN Refugee Agency, @refugees. Mother, dedicated humanitarian.', 'url': 'https://t.co/nB8e67nyQK', 'entities': {'url': {'urls': [{'url': 'https://t.co/nB8e67nyQK', 'expanded_url': 'http://www.unhcr.org', 'display_url': 'unhcr.org', 'indices': [0, 23]}]}, 'description': {'urls': []}}, 'protected': False, 'followers_count': 16873, 'friends_count': 1579, 'listed_count': 132, 'created_at': 'Mon Oct 24 08:21:10 +0000 2011', 'favourites_count': 9858, 'utc_offset': None, 'time_zone': None, 'geo_enabled': True, 'verified': True, 'statuses_count': 6792, 'lang': None, 'contributors_enabled': False, 'is_translator': False, 'is_translation_enabled': False, 'profile_background_color': 'C0DEED', 'profile_background_image_url': 'http://abs.twimg.com/images/themes/theme1/bg.png', 'profile_background_image_url_https': 'https://abs.twimg.com/images/themes/theme1/bg.png', 'profile_background_tile': False, 'profile_image_url': 'http://pbs.twimg.com/profile_images/1420297127712919554/0e5n4ooK_normal.jpg', 'profile_image_url_https': 'https://pbs.twimg.com/profile_images/1420297127712919554/0e5n4ooK_normal.jpg', 'profile_banner_url': 'https://pbs.twimg.com/profile_banners/397121519/1552872698', 'profile_link_color': '1DA1F2', 'profile_sidebar_border_color': 'C0DEED', 'profile_sidebar_fill_color': 'DDEEF6', 'profile_text_color': '333333', 'profile_use_background_image': True, 'has_extended_profile': False, 'default_profile': True, 'default_profile_image': False, 'following': False, 'follow_request_sent': False, 'notifications': False, 'translator_type': 'none', 'withheld_in_countries': []}, 'geo': None, 'coordinates': None, 'place': None, 'contributors': None, 'is_quote_status': False, 'retweet_count': 8, 'favorite_count': 51, 'favorited': False, 'retweeted': False, 'possibly_sensitive': False, 'possibly_sensitive_appealable': False, 'lang': 'en'}, created_at=datetime.datetime(2022, 12, 3, 11, 5, 4, tzinfo=datetime.timezone.utc), id=1598996736852492288, id_str='1598996736852492288', text='Close to 880,000 people in Mauritania are acutely food insecure. \\n\\nThanks to the national social protection program… https://t.co/1DbNmpvkuS', truncated=True, entities={'hashtags': [], 'symbols': [], 'user_mentions': [], 'urls': [{'url': 'https://t.co/1DbNmpvkuS', 'expanded_url': 'https://twitter.com/i/web/status/1598996736852492288', 'display_url': 'twitter.com/i/web/status/1…', 'indices': [117, 140]}]}, source='Twitter for iPhone', source_url='http://twitter.com/download/iphone', in_reply_to_status_id=None, in_reply_to_status_id_str=None, in_reply_to_user_id=None, in_reply_to_user_id_str=None, in_reply_to_screen_name=None, author=User(_api=<tweepy.api.API object at 0x000001B345F17E50>, _json={'id': 397121519, 'id_str': '397121519', 'name': 'Dominique Isabelle Hyde', 'screen_name': 'DominiqueHyde', 'location': 'Genève, Suisse', 'description': 'Director of External Relations, #UNHCR, the UN Refugee Agency, @refugees. Mother, dedicated humanitarian.', 'url': 'https://t.co/nB8e67nyQK', 'entities': {'url': {'urls': [{'url': 'https://t.co/nB8e67nyQK', 'expanded_url': 'http://www.unhcr.org', 'display_url': 'unhcr.org', 'indices': [0, 23]}]}, 'description': {'urls': []}}, 'protected': False, 'followers_count': 16873, 'friends_count': 1579, 'listed_count': 132, 'created_at': 'Mon Oct 24 08:21:10 +0000 2011', 'favourites_count': 9858, 'utc_offset': None, 'time_zone': None, 'geo_enabled': True, 'verified': True, 'statuses_count': 6792, 'lang': None, 'contributors_enabled': False, 'is_translator': False, 'is_translation_enabled': False, 'profile_background_color': 'C0DEED', 'profile_background_image_url': 'http://abs.twimg.com/images/themes/theme1/bg.png', 'profile_background_image_url_https': 'https://abs.twimg.com/images/themes/theme1/bg.png', 'profile_background_tile': False, 'profile_image_url': 'http://pbs.twimg.com/profile_images/1420297127712919554/0e5n4ooK_normal.jpg', 'profile_image_url_https': 'https://pbs.twimg.com/profile_images/1420297127712919554/0e5n4ooK_normal.jpg', 'profile_banner_url': 'https://pbs.twimg.com/profile_banners/397121519/1552872698', 'profile_link_color': '1DA1F2', 'profile_sidebar_border_color': 'C0DEED', 'profile_sidebar_fill_color': 'DDEEF6', 'profile_text_color': '333333', 'profile_use_background_image': True, 'has_extended_profile': False, 'default_profile': True, 'default_profile_image': False, 'following': False, 'follow_request_sent': False, 'notifications': False, 'translator_type': 'none', 'withheld_in_countries': []}, id=397121519, id_str='397121519', name='Dominique Isabelle Hyde', screen_name='DominiqueHyde', location='Genève, Suisse', description='Director of External Relations, #UNHCR, the UN Refugee Agency, @refugees. Mother, dedicated humanitarian.', url='https://t.co/nB8e67nyQK', entities={'url': {'urls': [{'url': 'https://t.co/nB8e67nyQK', 'expanded_url': 'http://www.unhcr.org', 'display_url': 'unhcr.org', 'indices': [0, 23]}]}, 'description': {'urls': []}}, protected=False, followers_count=16873, friends_count=1579, listed_count=132, created_at=datetime.datetime(2011, 10, 24, 8, 21, 10, tzinfo=datetime.timezone.utc), favourites_count=9858, utc_offset=None, time_zone=None, geo_enabled=True, verified=True, statuses_count=6792, lang=None, contributors_enabled=False, is_translator=False, is_translation_enabled=False, profile_background_color='C0DEED', profile_background_image_url='http://abs.twimg.com/images/themes/theme1/bg.png', profile_background_image_url_https='https://abs.twimg.com/images/themes/theme1/bg.png', profile_background_tile=False, profile_image_url='http://pbs.twimg.com/profile_images/1420297127712919554/0e5n4ooK_normal.jpg', profile_image_url_https='https://pbs.twimg.com/profile_images/1420297127712919554/0e5n4ooK_normal.jpg', profile_banner_url='https://pbs.twimg.com/profile_banners/397121519/1552872698', profile_link_color='1DA1F2', profile_sidebar_border_color='C0DEED', profile_sidebar_fill_color='DDEEF6', profile_text_color='333333', profile_use_background_image=True, has_extended_profile=False, default_profile=True, default_profile_image=False, following=False, follow_request_sent=False, notifications=False, translator_type='none', withheld_in_countries=[]), user=User(_api=<tweepy.api.API object at 0x000001B345F17E50>, _json={'id': 397121519, 'id_str': '397121519', 'name': 'Dominique Isabelle Hyde', 'screen_name': 'DominiqueHyde', 'location': 'Genève, Suisse', 'description': 'Director of External Relations, #UNHCR, the UN Refugee Agency, @refugees. Mother, dedicated humanitarian.', 'url': 'https://t.co/nB8e67nyQK', 'entities': {'url': {'urls': [{'url': 'https://t.co/nB8e67nyQK', 'expanded_url': 'http://www.unhcr.org', 'display_url': 'unhcr.org', 'indices': [0, 23]}]}, 'description': {'urls': []}}, 'protected': False, 'followers_count': 16873, 'friends_count': 1579, 'listed_count': 132, 'created_at': 'Mon Oct 24 08:21:10 +0000 2011', 'favourites_count': 9858, 'utc_offset': None, 'time_zone': None, 'geo_enabled': True, 'verified': True, 'statuses_count': 6792, 'lang': None, 'contributors_enabled': False, 'is_translator': False, 'is_translation_enabled': False, 'profile_background_color': 'C0DEED', 'profile_background_image_url': 'http://abs.twimg.com/images/themes/theme1/bg.png', 'profile_background_image_url_https': 'https://abs.twimg.com/images/themes/theme1/bg.png', 'profile_background_tile': False, 'profile_image_url': 'http://pbs.twimg.com/profile_images/1420297127712919554/0e5n4ooK_normal.jpg', 'profile_image_url_https': 'https://pbs.twimg.com/profile_images/1420297127712919554/0e5n4ooK_normal.jpg', 'profile_banner_url': 'https://pbs.twimg.com/profile_banners/397121519/1552872698', 'profile_link_color': '1DA1F2', 'profile_sidebar_border_color': 'C0DEED', 'profile_sidebar_fill_color': 'DDEEF6', 'profile_text_color': '333333', 'profile_use_background_image': True, 'has_extended_profile': False, 'default_profile': True, 'default_profile_image': False, 'following': False, 'follow_request_sent': False, 'notifications': False, 'translator_type': 'none', 'withheld_in_countries': []}, id=397121519, id_str='397121519', name='Dominique Isabelle Hyde', screen_name='DominiqueHyde', location='Genève, Suisse', description='Director of External Relations, #UNHCR, the UN Refugee Agency, @refugees. Mother, dedicated humanitarian.', url='https://t.co/nB8e67nyQK', entities={'url': {'urls': [{'url': 'https://t.co/nB8e67nyQK', 'expanded_url': 'http://www.unhcr.org', 'display_url': 'unhcr.org', 'indices': [0, 23]}]}, 'description': {'urls': []}}, protected=False, followers_count=16873, friends_count=1579, listed_count=132, created_at=datetime.datetime(2011, 10, 24, 8, 21, 10, tzinfo=datetime.timezone.utc), favourites_count=9858, utc_offset=None, time_zone=None, geo_enabled=True, verified=True, statuses_count=6792, lang=None, contributors_enabled=False, is_translator=False, is_translation_enabled=False, profile_background_color='C0DEED', profile_background_image_url='http://abs.twimg.com/images/themes/theme1/bg.png', profile_background_image_url_https='https://abs.twimg.com/images/themes/theme1/bg.png', profile_background_tile=False, profile_image_url='http://pbs.twimg.com/profile_images/1420297127712919554/0e5n4ooK_normal.jpg', profile_image_url_https='https://pbs.twimg.com/profile_images/1420297127712919554/0e5n4ooK_normal.jpg', profile_banner_url='https://pbs.twimg.com/profile_banners/397121519/1552872698', profile_link_color='1DA1F2', profile_sidebar_border_color='C0DEED', profile_sidebar_fill_color='DDEEF6', profile_text_color='333333', profile_use_background_image=True, has_extended_profile=False, default_profile=True, default_profile_image=False, following=False, follow_request_sent=False, notifications=False, translator_type='none', withheld_in_countries=[]), geo=None, coordinates=None, place=None, contributors=None, is_quote_status=False, retweet_count=8, favorite_count=51, favorited=False, retweeted=False, possibly_sensitive=False, possibly_sensitive_appealable=False, lang='en'), is_quote_status=False, retweet_count=8, favorite_count=0, favorited=False, retweeted=False, lang='en'), Status(_api=<tweepy.api.API object at 0x000001B345F17E50>, _json={'created_at': 'Sun Dec 04 11:05:27 +0000 2022', 'id': 1599359221421711361, 'id_str': '1599359221421711361', 'text': 'La embarcación fue localizada por el ferry que une Málaga con Melilla y luego interceptada por la Guardia Civil… https://t.co/j7Vc2BEBKi', 'truncated': True, 'entities': {'hashtags': [], 'symbols': [], 'user_mentions': [], 'urls': [{'url': 'https://t.co/j7Vc2BEBKi', 'expanded_url': 'https://twitter.com/i/web/status/1599359221421711361', 'display_url': 'twitter.com/i/web/status/1…', 'indices': [113, 136]}]}, 'source': '<a href=\"https://about.twitter.com/products/tweetdeck\" rel=\"nofollow\">TweetDeck</a>', 'in_reply_to_status_id': None, 'in_reply_to_status_id_str': None, 'in_reply_to_user_id': None, 'in_reply_to_user_id_str': None, 'in_reply_to_screen_name': None, 'user': {'id': 39321874, 'id_str': '39321874', 'name': 'RTVE Noticias', 'screen_name': 'rtvenoticias', 'location': '', 'description': 'La actualidad al minuto en @rtve \\n▪https://t.co/kwp0u6LCE6\\n▪IG: https://t.co/YDdelHs6FP\\n▪Facebook: https://t.co/5WHlrF8FNB\\n▪Youtube: https://t.co/srvqHQp4fJ', 'url': 'https://t.co/RPKbiPhgmz', 'entities': {'url': {'urls': [{'url': 'https://t.co/RPKbiPhgmz', 'expanded_url': 'http://www.rtve.es/noticias', 'display_url': 'rtve.es/noticias', 'indices': [0, 23]}]}, 'description': {'urls': [{'url': 'https://t.co/kwp0u6LCE6', 'expanded_url': 'http://rtve.es/noticias', 'display_url': 'rtve.es/noticias', 'indices': [35, 58]}, {'url': 'https://t.co/YDdelHs6FP', 'expanded_url': 'http://instagram.com/rtvenoticias', 'display_url': 'instagram.com/rtvenoticias', 'indices': [64, 87]}, {'url': 'https://t.co/5WHlrF8FNB', 'expanded_url': 'http://facebook.com/rtvenoticias/', 'display_url': 'facebook.com/rtvenoticias/', 'indices': [99, 122]}, {'url': 'https://t.co/srvqHQp4fJ', 'expanded_url': 'http://youtube.com/rtvenoticias', 'display_url': 'youtube.com/rtvenoticias', 'indices': [133, 156]}]}}, 'protected': False, 'followers_count': 1513739, 'friends_count': 969, 'listed_count': 9175, 'created_at': 'Mon May 11 19:34:19 +0000 2009', 'favourites_count': 3887, 'utc_offset': None, 'time_zone': None, 'geo_enabled': True, 'verified': True, 'statuses_count': 421422, 'lang': None, 'contributors_enabled': False, 'is_translator': False, 'is_translation_enabled': False, 'profile_background_color': '9AE4E8', 'profile_background_image_url': 'http://abs.twimg.com/images/themes/theme1/bg.png', 'profile_background_image_url_https': 'https://abs.twimg.com/images/themes/theme1/bg.png', 'profile_background_tile': False, 'profile_image_url': 'http://pbs.twimg.com/profile_images/1318466550190559232/WvKM8ENd_normal.jpg', 'profile_image_url_https': 'https://pbs.twimg.com/profile_images/1318466550190559232/WvKM8ENd_normal.jpg', 'profile_banner_url': 'https://pbs.twimg.com/profile_banners/39321874/1603181897', 'profile_link_color': '0084B4', 'profile_sidebar_border_color': 'FFFFFF', 'profile_sidebar_fill_color': 'C1194D', 'profile_text_color': '333333', 'profile_use_background_image': True, 'has_extended_profile': False, 'default_profile': False, 'default_profile_image': False, 'following': True, 'follow_request_sent': False, 'notifications': False, 'translator_type': 'none', 'withheld_in_countries': []}, 'geo': None, 'coordinates': None, 'place': None, 'contributors': None, 'is_quote_status': True, 'quoted_status_id': 1599359124369821696, 'quoted_status_id_str': '1599359124369821696', 'quoted_status': {'created_at': 'Sun Dec 04 11:05:04 +0000 2022', 'id': 1599359124369821696, 'id_str': '1599359124369821696', 'text': 'Salvamento Marítimo rescata a 46 migrantes a bordo de una patera en la costa de Motril\\n\\nhttps://t.co/vGFQmKW8Qz', 'truncated': False, 'entities': {'hashtags': [], 'symbols': [], 'user_mentions': [], 'urls': [{'url': 'https://t.co/vGFQmKW8Qz', 'expanded_url': 'https://www.rtve.es/noticias/20221204/rescatados-migrantes-patera-costa-motril/2410863.shtml?utm_medium=Social&utm_source=Twitter#Echobox=1670151903', 'display_url': 'rtve.es/noticias/20221…', 'indices': [88, 111]}]}, 'source': '<a href=\"https://www.echobox.com\" rel=\"nofollow\">Echobox</a>', 'in_reply_to_status_id': None, 'in_reply_to_status_id_str': None, 'in_reply_to_user_id': None, 'in_reply_to_user_id_str': None, 'in_reply_to_screen_name': None, 'user': {'id': 26729931, 'id_str': '26729931', 'name': 'RTVE', 'screen_name': 'rtve', 'location': 'España', 'description': 'Canal oficial en Twitter de RTVE, Radio Televisión Española. También en https://t.co/X8CngnFTxN En https://t.co/a58wCEj5E8 Y en https://t.co/4XJ9iGB2Kp', 'url': 'https://t.co/v1kCWOgBqm', 'entities': {'url': {'urls': [{'url': 'https://t.co/v1kCWOgBqm', 'expanded_url': 'http://www.rtve.es', 'display_url': 'rtve.es', 'indices': [0, 23]}]}, 'description': {'urls': [{'url': 'https://t.co/X8CngnFTxN', 'expanded_url': 'http://facebook.com/rtve', 'display_url': 'facebook.com/rtve', 'indices': [72, 95]}, {'url': 'https://t.co/a58wCEj5E8', 'expanded_url': 'http://youtube.com/rtve', 'display_url': 'youtube.com/rtve', 'indices': [99, 122]}, {'url': 'https://t.co/4XJ9iGB2Kp', 'expanded_url': 'http://instagram.com/rtve', 'display_url': 'instagram.com/rtve', 'indices': [128, 151]}]}}, 'protected': False, 'followers_count': 1268488, 'friends_count': 457, 'listed_count': 13140, 'created_at': 'Thu Mar 26 11:41:06 +0000 2009', 'favourites_count': 1895, 'utc_offset': None, 'time_zone': None, 'geo_enabled': True, 'verified': True, 'statuses_count': 385757, 'lang': None, 'contributors_enabled': False, 'is_translator': False, 'is_translation_enabled': False, 'profile_background_color': 'EF841A', 'profile_background_image_url': 'http://abs.twimg.com/images/themes/theme1/bg.png', 'profile_background_image_url_https': 'https://abs.twimg.com/images/themes/theme1/bg.png', 'profile_background_tile': False, 'profile_image_url': 'http://pbs.twimg.com/profile_images/1269026518128365571/7PeLkMvv_normal.jpg', 'profile_image_url_https': 'https://pbs.twimg.com/profile_images/1269026518128365571/7PeLkMvv_normal.jpg', 'profile_banner_url': 'https://pbs.twimg.com/profile_banners/26729931/1613564914', 'profile_link_color': 'FF691F', 'profile_sidebar_border_color': 'FFFFFF', 'profile_sidebar_fill_color': 'E8511F', 'profile_text_color': '333333', 'profile_use_background_image': False, 'has_extended_profile': False, 'default_profile': False, 'default_profile_image': False, 'following': False, 'follow_request_sent': False, 'notifications': False, 'translator_type': 'none', 'withheld_in_countries': []}, 'geo': None, 'coordinates': None, 'place': None, 'contributors': None, 'is_quote_status': False, 'retweet_count': 1, 'favorite_count': 3, 'favorited': False, 'retweeted': False, 'possibly_sensitive': False, 'possibly_sensitive_appealable': False, 'lang': 'es'}, 'retweet_count': 0, 'favorite_count': 0, 'favorited': False, 'retweeted': False, 'possibly_sensitive': False, 'possibly_sensitive_appealable': False, 'lang': 'es'}, created_at=datetime.datetime(2022, 12, 4, 11, 5, 27, tzinfo=datetime.timezone.utc), id=1599359221421711361, id_str='1599359221421711361', text='La embarcación fue localizada por el ferry que une Málaga con Melilla y luego interceptada por la Guardia Civil… https://t.co/j7Vc2BEBKi', truncated=True, entities={'hashtags': [], 'symbols': [], 'user_mentions': [], 'urls': [{'url': 'https://t.co/j7Vc2BEBKi', 'expanded_url': 'https://twitter.com/i/web/status/1599359221421711361', 'display_url': 'twitter.com/i/web/status/1…', 'indices': [113, 136]}]}, source='TweetDeck', source_url='https://about.twitter.com/products/tweetdeck', in_reply_to_status_id=None, in_reply_to_status_id_str=None, in_reply_to_user_id=None, in_reply_to_user_id_str=None, in_reply_to_screen_name=None, author=User(_api=<tweepy.api.API object at 0x000001B345F17E50>, _json={'id': 39321874, 'id_str': '39321874', 'name': 'RTVE Noticias', 'screen_name': 'rtvenoticias', 'location': '', 'description': 'La actualidad al minuto en @rtve \\n▪https://t.co/kwp0u6LCE6\\n▪IG: https://t.co/YDdelHs6FP\\n▪Facebook: https://t.co/5WHlrF8FNB\\n▪Youtube: https://t.co/srvqHQp4fJ', 'url': 'https://t.co/RPKbiPhgmz', 'entities': {'url': {'urls': [{'url': 'https://t.co/RPKbiPhgmz', 'expanded_url': 'http://www.rtve.es/noticias', 'display_url': 'rtve.es/noticias', 'indices': [0, 23]}]}, 'description': {'urls': [{'url': 'https://t.co/kwp0u6LCE6', 'expanded_url': 'http://rtve.es/noticias', 'display_url': 'rtve.es/noticias', 'indices': [35, 58]}, {'url': 'https://t.co/YDdelHs6FP', 'expanded_url': 'http://instagram.com/rtvenoticias', 'display_url': 'instagram.com/rtvenoticias', 'indices': [64, 87]}, {'url': 'https://t.co/5WHlrF8FNB', 'expanded_url': 'http://facebook.com/rtvenoticias/', 'display_url': 'facebook.com/rtvenoticias/', 'indices': [99, 122]}, {'url': 'https://t.co/srvqHQp4fJ', 'expanded_url': 'http://youtube.com/rtvenoticias', 'display_url': 'youtube.com/rtvenoticias', 'indices': [133, 156]}]}}, 'protected': False, 'followers_count': 1513739, 'friends_count': 969, 'listed_count': 9175, 'created_at': 'Mon May 11 19:34:19 +0000 2009', 'favourites_count': 3887, 'utc_offset': None, 'time_zone': None, 'geo_enabled': True, 'verified': True, 'statuses_count': 421422, 'lang': None, 'contributors_enabled': False, 'is_translator': False, 'is_translation_enabled': False, 'profile_background_color': '9AE4E8', 'profile_background_image_url': 'http://abs.twimg.com/images/themes/theme1/bg.png', 'profile_background_image_url_https': 'https://abs.twimg.com/images/themes/theme1/bg.png', 'profile_background_tile': False, 'profile_image_url': 'http://pbs.twimg.com/profile_images/1318466550190559232/WvKM8ENd_normal.jpg', 'profile_image_url_https': 'https://pbs.twimg.com/profile_images/1318466550190559232/WvKM8ENd_normal.jpg', 'profile_banner_url': 'https://pbs.twimg.com/profile_banners/39321874/1603181897', 'profile_link_color': '0084B4', 'profile_sidebar_border_color': 'FFFFFF', 'profile_sidebar_fill_color': 'C1194D', 'profile_text_color': '333333', 'profile_use_background_image': True, 'has_extended_profile': False, 'default_profile': False, 'default_profile_image': False, 'following': True, 'follow_request_sent': False, 'notifications': False, 'translator_type': 'none', 'withheld_in_countries': []}, id=39321874, id_str='39321874', name='RTVE Noticias', screen_name='rtvenoticias', location='', description='La actualidad al minuto en @rtve \\n▪https://t.co/kwp0u6LCE6\\n▪IG: https://t.co/YDdelHs6FP\\n▪Facebook: https://t.co/5WHlrF8FNB\\n▪Youtube: https://t.co/srvqHQp4fJ', url='https://t.co/RPKbiPhgmz', entities={'url': {'urls': [{'url': 'https://t.co/RPKbiPhgmz', 'expanded_url': 'http://www.rtve.es/noticias', 'display_url': 'rtve.es/noticias', 'indices': [0, 23]}]}, 'description': {'urls': [{'url': 'https://t.co/kwp0u6LCE6', 'expanded_url': 'http://rtve.es/noticias', 'display_url': 'rtve.es/noticias', 'indices': [35, 58]}, {'url': 'https://t.co/YDdelHs6FP', 'expanded_url': 'http://instagram.com/rtvenoticias', 'display_url': 'instagram.com/rtvenoticias', 'indices': [64, 87]}, {'url': 'https://t.co/5WHlrF8FNB', 'expanded_url': 'http://facebook.com/rtvenoticias/', 'display_url': 'facebook.com/rtvenoticias/', 'indices': [99, 122]}, {'url': 'https://t.co/srvqHQp4fJ', 'expanded_url': 'http://youtube.com/rtvenoticias', 'display_url': 'youtube.com/rtvenoticias', 'indices': [133, 156]}]}}, protected=False, followers_count=1513739, friends_count=969, listed_count=9175, created_at=datetime.datetime(2009, 5, 11, 19, 34, 19, tzinfo=datetime.timezone.utc), favourites_count=3887, utc_offset=None, time_zone=None, geo_enabled=True, verified=True, statuses_count=421422, lang=None, contributors_enabled=False, is_translator=False, is_translation_enabled=False, profile_background_color='9AE4E8', profile_background_image_url='http://abs.twimg.com/images/themes/theme1/bg.png', profile_background_image_url_https='https://abs.twimg.com/images/themes/theme1/bg.png', profile_background_tile=False, profile_image_url='http://pbs.twimg.com/profile_images/1318466550190559232/WvKM8ENd_normal.jpg', profile_image_url_https='https://pbs.twimg.com/profile_images/1318466550190559232/WvKM8ENd_normal.jpg', profile_banner_url='https://pbs.twimg.com/profile_banners/39321874/1603181897', profile_link_color='0084B4', profile_sidebar_border_color='FFFFFF', profile_sidebar_fill_color='C1194D', profile_text_color='333333', profile_use_background_image=True, has_extended_profile=False, default_profile=False, default_profile_image=False, following=True, follow_request_sent=False, notifications=False, translator_type='none', withheld_in_countries=[]), user=User(_api=<tweepy.api.API object at 0x000001B345F17E50>, _json={'id': 39321874, 'id_str': '39321874', 'name': 'RTVE Noticias', 'screen_name': 'rtvenoticias', 'location': '', 'description': 'La actualidad al minuto en @rtve \\n▪https://t.co/kwp0u6LCE6\\n▪IG: https://t.co/YDdelHs6FP\\n▪Facebook: https://t.co/5WHlrF8FNB\\n▪Youtube: https://t.co/srvqHQp4fJ', 'url': 'https://t.co/RPKbiPhgmz', 'entities': {'url': {'urls': [{'url': 'https://t.co/RPKbiPhgmz', 'expanded_url': 'http://www.rtve.es/noticias', 'display_url': 'rtve.es/noticias', 'indices': [0, 23]}]}, 'description': {'urls': [{'url': 'https://t.co/kwp0u6LCE6', 'expanded_url': 'http://rtve.es/noticias', 'display_url': 'rtve.es/noticias', 'indices': [35, 58]}, {'url': 'https://t.co/YDdelHs6FP', 'expanded_url': 'http://instagram.com/rtvenoticias', 'display_url': 'instagram.com/rtvenoticias', 'indices': [64, 87]}, {'url': 'https://t.co/5WHlrF8FNB', 'expanded_url': 'http://facebook.com/rtvenoticias/', 'display_url': 'facebook.com/rtvenoticias/', 'indices': [99, 122]}, {'url': 'https://t.co/srvqHQp4fJ', 'expanded_url': 'http://youtube.com/rtvenoticias', 'display_url': 'youtube.com/rtvenoticias', 'indices': [133, 156]}]}}, 'protected': False, 'followers_count': 1513739, 'friends_count': 969, 'listed_count': 9175, 'created_at': 'Mon May 11 19:34:19 +0000 2009', 'favourites_count': 3887, 'utc_offset': None, 'time_zone': None, 'geo_enabled': True, 'verified': True, 'statuses_count': 421422, 'lang': None, 'contributors_enabled': False, 'is_translator': False, 'is_translation_enabled': False, 'profile_background_color': '9AE4E8', 'profile_background_image_url': 'http://abs.twimg.com/images/themes/theme1/bg.png', 'profile_background_image_url_https': 'https://abs.twimg.com/images/themes/theme1/bg.png', 'profile_background_tile': False, 'profile_image_url': 'http://pbs.twimg.com/profile_images/1318466550190559232/WvKM8ENd_normal.jpg', 'profile_image_url_https': 'https://pbs.twimg.com/profile_images/1318466550190559232/WvKM8ENd_normal.jpg', 'profile_banner_url': 'https://pbs.twimg.com/profile_banners/39321874/1603181897', 'profile_link_color': '0084B4', 'profile_sidebar_border_color': 'FFFFFF', 'profile_sidebar_fill_color': 'C1194D', 'profile_text_color': '333333', 'profile_use_background_image': True, 'has_extended_profile': False, 'default_profile': False, 'default_profile_image': False, 'following': True, 'follow_request_sent': False, 'notifications': False, 'translator_type': 'none', 'withheld_in_countries': []}, id=39321874, id_str='39321874', name='RTVE Noticias', screen_name='rtvenoticias', location='', description='La actualidad al minuto en @rtve \\n▪https://t.co/kwp0u6LCE6\\n▪IG: https://t.co/YDdelHs6FP\\n▪Facebook: https://t.co/5WHlrF8FNB\\n▪Youtube: https://t.co/srvqHQp4fJ', url='https://t.co/RPKbiPhgmz', entities={'url': {'urls': [{'url': 'https://t.co/RPKbiPhgmz', 'expanded_url': 'http://www.rtve.es/noticias', 'display_url': 'rtve.es/noticias', 'indices': [0, 23]}]}, 'description': {'urls': [{'url': 'https://t.co/kwp0u6LCE6', 'expanded_url': 'http://rtve.es/noticias', 'display_url': 'rtve.es/noticias', 'indices': [35, 58]}, {'url': 'https://t.co/YDdelHs6FP', 'expanded_url': 'http://instagram.com/rtvenoticias', 'display_url': 'instagram.com/rtvenoticias', 'indices': [64, 87]}, {'url': 'https://t.co/5WHlrF8FNB', 'expanded_url': 'http://facebook.com/rtvenoticias/', 'display_url': 'facebook.com/rtvenoticias/', 'indices': [99, 122]}, {'url': 'https://t.co/srvqHQp4fJ', 'expanded_url': 'http://youtube.com/rtvenoticias', 'display_url': 'youtube.com/rtvenoticias', 'indices': [133, 156]}]}}, protected=False, followers_count=1513739, friends_count=969, listed_count=9175, created_at=datetime.datetime(2009, 5, 11, 19, 34, 19, tzinfo=datetime.timezone.utc), favourites_count=3887, utc_offset=None, time_zone=None, geo_enabled=True, verified=True, statuses_count=421422, lang=None, contributors_enabled=False, is_translator=False, is_translation_enabled=False, profile_background_color='9AE4E8', profile_background_image_url='http://abs.twimg.com/images/themes/theme1/bg.png', profile_background_image_url_https='https://abs.twimg.com/images/themes/theme1/bg.png', profile_background_tile=False, profile_image_url='http://pbs.twimg.com/profile_images/1318466550190559232/WvKM8ENd_normal.jpg', profile_image_url_https='https://pbs.twimg.com/profile_images/1318466550190559232/WvKM8ENd_normal.jpg', profile_banner_url='https://pbs.twimg.com/profile_banners/39321874/1603181897', profile_link_color='0084B4', profile_sidebar_border_color='FFFFFF', profile_sidebar_fill_color='C1194D', profile_text_color='333333', profile_use_background_image=True, has_extended_profile=False, default_profile=False, default_profile_image=False, following=True, follow_request_sent=False, notifications=False, translator_type='none', withheld_in_countries=[]), geo=None, coordinates=None, place=None, contributors=None, is_quote_status=True, quoted_status_id=1599359124369821696, quoted_status_id_str='1599359124369821696', quoted_status=Status(_api=<tweepy.api.API object at 0x000001B345F17E50>, _json={'created_at': 'Sun Dec 04 11:05:04 +0000 2022', 'id': 1599359124369821696, 'id_str': '1599359124369821696', 'text': 'Salvamento Marítimo rescata a 46 migrantes a bordo de una patera en la costa de Motril\\n\\nhttps://t.co/vGFQmKW8Qz', 'truncated': False, 'entities': {'hashtags': [], 'symbols': [], 'user_mentions': [], 'urls': [{'url': 'https://t.co/vGFQmKW8Qz', 'expanded_url': 'https://www.rtve.es/noticias/20221204/rescatados-migrantes-patera-costa-motril/2410863.shtml?utm_medium=Social&utm_source=Twitter#Echobox=1670151903', 'display_url': 'rtve.es/noticias/20221…', 'indices': [88, 111]}]}, 'source': '<a href=\"https://www.echobox.com\" rel=\"nofollow\">Echobox</a>', 'in_reply_to_status_id': None, 'in_reply_to_status_id_str': None, 'in_reply_to_user_id': None, 'in_reply_to_user_id_str': None, 'in_reply_to_screen_name': None, 'user': {'id': 26729931, 'id_str': '26729931', 'name': 'RTVE', 'screen_name': 'rtve', 'location': 'España', 'description': 'Canal oficial en Twitter de RTVE, Radio Televisión Española. También en https://t.co/X8CngnFTxN En https://t.co/a58wCEj5E8 Y en https://t.co/4XJ9iGB2Kp', 'url': 'https://t.co/v1kCWOgBqm', 'entities': {'url': {'urls': [{'url': 'https://t.co/v1kCWOgBqm', 'expanded_url': 'http://www.rtve.es', 'display_url': 'rtve.es', 'indices': [0, 23]}]}, 'description': {'urls': [{'url': 'https://t.co/X8CngnFTxN', 'expanded_url': 'http://facebook.com/rtve', 'display_url': 'facebook.com/rtve', 'indices': [72, 95]}, {'url': 'https://t.co/a58wCEj5E8', 'expanded_url': 'http://youtube.com/rtve', 'display_url': 'youtube.com/rtve', 'indices': [99, 122]}, {'url': 'https://t.co/4XJ9iGB2Kp', 'expanded_url': 'http://instagram.com/rtve', 'display_url': 'instagram.com/rtve', 'indices': [128, 151]}]}}, 'protected': False, 'followers_count': 1268488, 'friends_count': 457, 'listed_count': 13140, 'created_at': 'Thu Mar 26 11:41:06 +0000 2009', 'favourites_count': 1895, 'utc_offset': None, 'time_zone': None, 'geo_enabled': True, 'verified': True, 'statuses_count': 385757, 'lang': None, 'contributors_enabled': False, 'is_translator': False, 'is_translation_enabled': False, 'profile_background_color': 'EF841A', 'profile_background_image_url': 'http://abs.twimg.com/images/themes/theme1/bg.png', 'profile_background_image_url_https': 'https://abs.twimg.com/images/themes/theme1/bg.png', 'profile_background_tile': False, 'profile_image_url': 'http://pbs.twimg.com/profile_images/1269026518128365571/7PeLkMvv_normal.jpg', 'profile_image_url_https': 'https://pbs.twimg.com/profile_images/1269026518128365571/7PeLkMvv_normal.jpg', 'profile_banner_url': 'https://pbs.twimg.com/profile_banners/26729931/1613564914', 'profile_link_color': 'FF691F', 'profile_sidebar_border_color': 'FFFFFF', 'profile_sidebar_fill_color': 'E8511F', 'profile_text_color': '333333', 'profile_use_background_image': False, 'has_extended_profile': False, 'default_profile': False, 'default_profile_image': False, 'following': False, 'follow_request_sent': False, 'notifications': False, 'translator_type': 'none', 'withheld_in_countries': []}, 'geo': None, 'coordinates': None, 'place': None, 'contributors': None, 'is_quote_status': False, 'retweet_count': 1, 'favorite_count': 3, 'favorited': False, 'retweeted': False, 'possibly_sensitive': False, 'possibly_sensitive_appealable': False, 'lang': 'es'}, created_at=datetime.datetime(2022, 12, 4, 11, 5, 4, tzinfo=datetime.timezone.utc), id=1599359124369821696, id_str='1599359124369821696', text='Salvamento Marítimo rescata a 46 migrantes a bordo de una patera en la costa de Motril\\n\\nhttps://t.co/vGFQmKW8Qz', truncated=False, entities={'hashtags': [], 'symbols': [], 'user_mentions': [], 'urls': [{'url': 'https://t.co/vGFQmKW8Qz', 'expanded_url': 'https://www.rtve.es/noticias/20221204/rescatados-migrantes-patera-costa-motril/2410863.shtml?utm_medium=Social&utm_source=Twitter#Echobox=1670151903', 'display_url': 'rtve.es/noticias/20221…', 'indices': [88, 111]}]}, source='Echobox', source_url='https://www.echobox.com', in_reply_to_status_id=None, in_reply_to_status_id_str=None, in_reply_to_user_id=None, in_reply_to_user_id_str=None, in_reply_to_screen_name=None, author=User(_api=<tweepy.api.API object at 0x000001B345F17E50>, _json={'id': 26729931, 'id_str': '26729931', 'name': 'RTVE', 'screen_name': 'rtve', 'location': 'España', 'description': 'Canal oficial en Twitter de RTVE, Radio Televisión Española. También en https://t.co/X8CngnFTxN En https://t.co/a58wCEj5E8 Y en https://t.co/4XJ9iGB2Kp', 'url': 'https://t.co/v1kCWOgBqm', 'entities': {'url': {'urls': [{'url': 'https://t.co/v1kCWOgBqm', 'expanded_url': 'http://www.rtve.es', 'display_url': 'rtve.es', 'indices': [0, 23]}]}, 'description': {'urls': [{'url': 'https://t.co/X8CngnFTxN', 'expanded_url': 'http://facebook.com/rtve', 'display_url': 'facebook.com/rtve', 'indices': [72, 95]}, {'url': 'https://t.co/a58wCEj5E8', 'expanded_url': 'http://youtube.com/rtve', 'display_url': 'youtube.com/rtve', 'indices': [99, 122]}, {'url': 'https://t.co/4XJ9iGB2Kp', 'expanded_url': 'http://instagram.com/rtve', 'display_url': 'instagram.com/rtve', 'indices': [128, 151]}]}}, 'protected': False, 'followers_count': 1268488, 'friends_count': 457, 'listed_count': 13140, 'created_at': 'Thu Mar 26 11:41:06 +0000 2009', 'favourites_count': 1895, 'utc_offset': None, 'time_zone': None, 'geo_enabled': True, 'verified': True, 'statuses_count': 385757, 'lang': None, 'contributors_enabled': False, 'is_translator': False, 'is_translation_enabled': False, 'profile_background_color': 'EF841A', 'profile_background_image_url': 'http://abs.twimg.com/images/themes/theme1/bg.png', 'profile_background_image_url_https': 'https://abs.twimg.com/images/themes/theme1/bg.png', 'profile_background_tile': False, 'profile_image_url': 'http://pbs.twimg.com/profile_images/1269026518128365571/7PeLkMvv_normal.jpg', 'profile_image_url_https': 'https://pbs.twimg.com/profile_images/1269026518128365571/7PeLkMvv_normal.jpg', 'profile_banner_url': 'https://pbs.twimg.com/profile_banners/26729931/1613564914', 'profile_link_color': 'FF691F', 'profile_sidebar_border_color': 'FFFFFF', 'profile_sidebar_fill_color': 'E8511F', 'profile_text_color': '333333', 'profile_use_background_image': False, 'has_extended_profile': False, 'default_profile': False, 'default_profile_image': False, 'following': False, 'follow_request_sent': False, 'notifications': False, 'translator_type': 'none', 'withheld_in_countries': []}, id=26729931, id_str='26729931', name='RTVE', screen_name='rtve', location='España', description='Canal oficial en Twitter de RTVE, Radio Televisión Española. También en https://t.co/X8CngnFTxN En https://t.co/a58wCEj5E8 Y en https://t.co/4XJ9iGB2Kp', url='https://t.co/v1kCWOgBqm', entities={'url': {'urls': [{'url': 'https://t.co/v1kCWOgBqm', 'expanded_url': 'http://www.rtve.es', 'display_url': 'rtve.es', 'indices': [0, 23]}]}, 'description': {'urls': [{'url': 'https://t.co/X8CngnFTxN', 'expanded_url': 'http://facebook.com/rtve', 'display_url': 'facebook.com/rtve', 'indices': [72, 95]}, {'url': 'https://t.co/a58wCEj5E8', 'expanded_url': 'http://youtube.com/rtve', 'display_url': 'youtube.com/rtve', 'indices': [99, 122]}, {'url': 'https://t.co/4XJ9iGB2Kp', 'expanded_url': 'http://instagram.com/rtve', 'display_url': 'instagram.com/rtve', 'indices': [128, 151]}]}}, protected=False, followers_count=1268488, friends_count=457, listed_count=13140, created_at=datetime.datetime(2009, 3, 26, 11, 41, 6, tzinfo=datetime.timezone.utc), favourites_count=1895, utc_offset=None, time_zone=None, geo_enabled=True, verified=True, statuses_count=385757, lang=None, contributors_enabled=False, is_translator=False, is_translation_enabled=False, profile_background_color='EF841A', profile_background_image_url='http://abs.twimg.com/images/themes/theme1/bg.png', profile_background_image_url_https='https://abs.twimg.com/images/themes/theme1/bg.png', profile_background_tile=False, profile_image_url='http://pbs.twimg.com/profile_images/1269026518128365571/7PeLkMvv_normal.jpg', profile_image_url_https='https://pbs.twimg.com/profile_images/1269026518128365571/7PeLkMvv_normal.jpg', profile_banner_url='https://pbs.twimg.com/profile_banners/26729931/1613564914', profile_link_color='FF691F', profile_sidebar_border_color='FFFFFF', profile_sidebar_fill_color='E8511F', profile_text_color='333333', profile_use_background_image=False, has_extended_profile=False, default_profile=False, default_profile_image=False, following=False, follow_request_sent=False, notifications=False, translator_type='none', withheld_in_countries=[]), user=User(_api=<tweepy.api.API object at 0x000001B345F17E50>, _json={'id': 26729931, 'id_str': '26729931', 'name': 'RTVE', 'screen_name': 'rtve', 'location': 'España', 'description': 'Canal oficial en Twitter de RTVE, Radio Televisión Española. También en https://t.co/X8CngnFTxN En https://t.co/a58wCEj5E8 Y en https://t.co/4XJ9iGB2Kp', 'url': 'https://t.co/v1kCWOgBqm', 'entities': {'url': {'urls': [{'url': 'https://t.co/v1kCWOgBqm', 'expanded_url': 'http://www.rtve.es', 'display_url': 'rtve.es', 'indices': [0, 23]}]}, 'description': {'urls': [{'url': 'https://t.co/X8CngnFTxN', 'expanded_url': 'http://facebook.com/rtve', 'display_url': 'facebook.com/rtve', 'indices': [72, 95]}, {'url': 'https://t.co/a58wCEj5E8', 'expanded_url': 'http://youtube.com/rtve', 'display_url': 'youtube.com/rtve', 'indices': [99, 122]}, {'url': 'https://t.co/4XJ9iGB2Kp', 'expanded_url': 'http://instagram.com/rtve', 'display_url': 'instagram.com/rtve', 'indices': [128, 151]}]}}, 'protected': False, 'followers_count': 1268488, 'friends_count': 457, 'listed_count': 13140, 'created_at': 'Thu Mar 26 11:41:06 +0000 2009', 'favourites_count': 1895, 'utc_offset': None, 'time_zone': None, 'geo_enabled': True, 'verified': True, 'statuses_count': 385757, 'lang': None, 'contributors_enabled': False, 'is_translator': False, 'is_translation_enabled': False, 'profile_background_color': 'EF841A', 'profile_background_image_url': 'http://abs.twimg.com/images/themes/theme1/bg.png', 'profile_background_image_url_https': 'https://abs.twimg.com/images/themes/theme1/bg.png', 'profile_background_tile': False, 'profile_image_url': 'http://pbs.twimg.com/profile_images/1269026518128365571/7PeLkMvv_normal.jpg', 'profile_image_url_https': 'https://pbs.twimg.com/profile_images/1269026518128365571/7PeLkMvv_normal.jpg', 'profile_banner_url': 'https://pbs.twimg.com/profile_banners/26729931/1613564914', 'profile_link_color': 'FF691F', 'profile_sidebar_border_color': 'FFFFFF', 'profile_sidebar_fill_color': 'E8511F', 'profile_text_color': '333333', 'profile_use_background_image': False, 'has_extended_profile': False, 'default_profile': False, 'default_profile_image': False, 'following': False, 'follow_request_sent': False, 'notifications': False, 'translator_type': 'none', 'withheld_in_countries': []}, id=26729931, id_str='26729931', name='RTVE', screen_name='rtve', location='España', description='Canal oficial en Twitter de RTVE, Radio Televisión Española. También en https://t.co/X8CngnFTxN En https://t.co/a58wCEj5E8 Y en https://t.co/4XJ9iGB2Kp', url='https://t.co/v1kCWOgBqm', entities={'url': {'urls': [{'url': 'https://t.co/v1kCWOgBqm', 'expanded_url': 'http://www.rtve.es', 'display_url': 'rtve.es', 'indices': [0, 23]}]}, 'description': {'urls': [{'url': 'https://t.co/X8CngnFTxN', 'expanded_url': 'http://facebook.com/rtve', 'display_url': 'facebook.com/rtve', 'indices': [72, 95]}, {'url': 'https://t.co/a58wCEj5E8', 'expanded_url': 'http://youtube.com/rtve', 'display_url': 'youtube.com/rtve', 'indices': [99, 122]}, {'url': 'https://t.co/4XJ9iGB2Kp', 'expanded_url': 'http://instagram.com/rtve', 'display_url': 'instagram.com/rtve', 'indices': [128, 151]}]}}, protected=False, followers_count=1268488, friends_count=457, listed_count=13140, created_at=datetime.datetime(2009, 3, 26, 11, 41, 6, tzinfo=datetime.timezone.utc), favourites_count=1895, utc_offset=None, time_zone=None, geo_enabled=True, verified=True, statuses_count=385757, lang=None, contributors_enabled=False, is_translator=False, is_translation_enabled=False, profile_background_color='EF841A', profile_background_image_url='http://abs.twimg.com/images/themes/theme1/bg.png', profile_background_image_url_https='https://abs.twimg.com/images/themes/theme1/bg.png', profile_background_tile=False, profile_image_url='http://pbs.twimg.com/profile_images/1269026518128365571/7PeLkMvv_normal.jpg', profile_image_url_https='https://pbs.twimg.com/profile_images/1269026518128365571/7PeLkMvv_normal.jpg', profile_banner_url='https://pbs.twimg.com/profile_banners/26729931/1613564914', profile_link_color='FF691F', profile_sidebar_border_color='FFFFFF', profile_sidebar_fill_color='E8511F', profile_text_color='333333', profile_use_background_image=False, has_extended_profile=False, default_profile=False, default_profile_image=False, following=False, follow_request_sent=False, notifications=False, translator_type='none', withheld_in_countries=[]), geo=None, coordinates=None, place=None, contributors=None, is_quote_status=False, retweet_count=1, favorite_count=3, favorited=False, retweeted=False, possibly_sensitive=False, possibly_sensitive_appealable=False, lang='es'), retweet_count=0, favorite_count=0, favorited=False, retweeted=False, possibly_sensitive=False, possibly_sensitive_appealable=False, lang='es'), Status(_api=<tweepy.api.API object at 0x000001B345F17E50>, _json={'created_at': 'Sun Dec 04 11:04:57 +0000 2022', 'id': 1599359096263790595, 'id_str': '1599359096263790595', 'text': 'El cambio climático y las larvas de los corales en el Mediterráneo. El cambio climático global y, en particular, el… https://t.co/lLkLlk4F2j', 'truncated': True, 'entities': {'hashtags': [], 'symbols': [], 'user_mentions': [], 'urls': [{'url': 'https://t.co/lLkLlk4F2j', 'expanded_url': 'https://twitter.com/i/web/status/1599359096263790595', 'display_url': 'twitter.com/i/web/status/1…', 'indices': [117, 140]}]}, 'source': '<a href=\"https://www.blog2social.com\" rel=\"nofollow\">Blog2Social APP</a>', 'in_reply_to_status_id': None, 'in_reply_to_status_id_str': None, 'in_reply_to_user_id': None, 'in_reply_to_user_id_str': None, 'in_reply_to_screen_name': None, 'user': {'id': 341115145, 'id_str': '341115145', 'name': \"ECOticias.com 'El Periódico Verde'\", 'screen_name': 'ecoticiasRED', 'location': 'España', 'description': 'Web líder en Medio Ambiente de habla hispana. 7 millones de lectores anuales.', 'url': 'https://t.co/5wK3agkwZa', 'entities': {'url': {'urls': [{'url': 'https://t.co/5wK3agkwZa', 'expanded_url': 'http://www.ecoticias.com', 'display_url': 'ecoticias.com', 'indices': [0, 23]}]}, 'description': {'urls': []}}, 'protected': False, 'followers_count': 71707, 'friends_count': 523, 'listed_count': 1362, 'created_at': 'Sat Jul 23 20:46:02 +0000 2011', 'favourites_count': 922, 'utc_offset': None, 'time_zone': None, 'geo_enabled': False, 'verified': False, 'statuses_count': 58111, 'lang': None, 'contributors_enabled': False, 'is_translator': False, 'is_translation_enabled': False, 'profile_background_color': 'B2DFDA', 'profile_background_image_url': 'http://abs.twimg.com/images/themes/theme5/bg.gif', 'profile_background_image_url_https': 'https://abs.twimg.com/images/themes/theme5/bg.gif', 'profile_background_tile': False, 'profile_image_url': 'http://pbs.twimg.com/profile_images/968799907925590016/_3EoDo9y_normal.jpg', 'profile_image_url_https': 'https://pbs.twimg.com/profile_images/968799907925590016/_3EoDo9y_normal.jpg', 'profile_banner_url': 'https://pbs.twimg.com/profile_banners/341115145/1359853983', 'profile_link_color': '93A644', 'profile_sidebar_border_color': 'EEEEEE', 'profile_sidebar_fill_color': 'FFFFFF', 'profile_text_color': '333333', 'profile_use_background_image': False, 'has_extended_profile': False, 'default_profile': False, 'default_profile_image': False, 'following': True, 'follow_request_sent': False, 'notifications': False, 'translator_type': 'none', 'withheld_in_countries': []}, 'geo': None, 'coordinates': None, 'place': None, 'contributors': None, 'is_quote_status': False, 'retweet_count': 0, 'favorite_count': 0, 'favorited': False, 'retweeted': False, 'possibly_sensitive': False, 'possibly_sensitive_appealable': False, 'lang': 'es'}, created_at=datetime.datetime(2022, 12, 4, 11, 4, 57, tzinfo=datetime.timezone.utc), id=1599359096263790595, id_str='1599359096263790595', text='El cambio climático y las larvas de los corales en el Mediterráneo. El cambio climático global y, en particular, el… https://t.co/lLkLlk4F2j', truncated=True, entities={'hashtags': [], 'symbols': [], 'user_mentions': [], 'urls': [{'url': 'https://t.co/lLkLlk4F2j', 'expanded_url': 'https://twitter.com/i/web/status/1599359096263790595', 'display_url': 'twitter.com/i/web/status/1…', 'indices': [117, 140]}]}, source='Blog2Social APP', source_url='https://www.blog2social.com', in_reply_to_status_id=None, in_reply_to_status_id_str=None, in_reply_to_user_id=None, in_reply_to_user_id_str=None, in_reply_to_screen_name=None, author=User(_api=<tweepy.api.API object at 0x000001B345F17E50>, _json={'id': 341115145, 'id_str': '341115145', 'name': \"ECOticias.com 'El Periódico Verde'\", 'screen_name': 'ecoticiasRED', 'location': 'España', 'description': 'Web líder en Medio Ambiente de habla hispana. 7 millones de lectores anuales.', 'url': 'https://t.co/5wK3agkwZa', 'entities': {'url': {'urls': [{'url': 'https://t.co/5wK3agkwZa', 'expanded_url': 'http://www.ecoticias.com', 'display_url': 'ecoticias.com', 'indices': [0, 23]}]}, 'description': {'urls': []}}, 'protected': False, 'followers_count': 71707, 'friends_count': 523, 'listed_count': 1362, 'created_at': 'Sat Jul 23 20:46:02 +0000 2011', 'favourites_count': 922, 'utc_offset': None, 'time_zone': None, 'geo_enabled': False, 'verified': False, 'statuses_count': 58111, 'lang': None, 'contributors_enabled': False, 'is_translator': False, 'is_translation_enabled': False, 'profile_background_color': 'B2DFDA', 'profile_background_image_url': 'http://abs.twimg.com/images/themes/theme5/bg.gif', 'profile_background_image_url_https': 'https://abs.twimg.com/images/themes/theme5/bg.gif', 'profile_background_tile': False, 'profile_image_url': 'http://pbs.twimg.com/profile_images/968799907925590016/_3EoDo9y_normal.jpg', 'profile_image_url_https': 'https://pbs.twimg.com/profile_images/968799907925590016/_3EoDo9y_normal.jpg', 'profile_banner_url': 'https://pbs.twimg.com/profile_banners/341115145/1359853983', 'profile_link_color': '93A644', 'profile_sidebar_border_color': 'EEEEEE', 'profile_sidebar_fill_color': 'FFFFFF', 'profile_text_color': '333333', 'profile_use_background_image': False, 'has_extended_profile': False, 'default_profile': False, 'default_profile_image': False, 'following': True, 'follow_request_sent': False, 'notifications': False, 'translator_type': 'none', 'withheld_in_countries': []}, id=341115145, id_str='341115145', name=\"ECOticias.com 'El Periódico Verde'\", screen_name='ecoticiasRED', location='España', description='Web líder en Medio Ambiente de habla hispana. 7 millones de lectores anuales.', url='https://t.co/5wK3agkwZa', entities={'url': {'urls': [{'url': 'https://t.co/5wK3agkwZa', 'expanded_url': 'http://www.ecoticias.com', 'display_url': 'ecoticias.com', 'indices': [0, 23]}]}, 'description': {'urls': []}}, protected=False, followers_count=71707, friends_count=523, listed_count=1362, created_at=datetime.datetime(2011, 7, 23, 20, 46, 2, tzinfo=datetime.timezone.utc), favourites_count=922, utc_offset=None, time_zone=None, geo_enabled=False, verified=False, statuses_count=58111, lang=None, contributors_enabled=False, is_translator=False, is_translation_enabled=False, profile_background_color='B2DFDA', profile_background_image_url='http://abs.twimg.com/images/themes/theme5/bg.gif', profile_background_image_url_https='https://abs.twimg.com/images/themes/theme5/bg.gif', profile_background_tile=False, profile_image_url='http://pbs.twimg.com/profile_images/968799907925590016/_3EoDo9y_normal.jpg', profile_image_url_https='https://pbs.twimg.com/profile_images/968799907925590016/_3EoDo9y_normal.jpg', profile_banner_url='https://pbs.twimg.com/profile_banners/341115145/1359853983', profile_link_color='93A644', profile_sidebar_border_color='EEEEEE', profile_sidebar_fill_color='FFFFFF', profile_text_color='333333', profile_use_background_image=False, has_extended_profile=False, default_profile=False, default_profile_image=False, following=True, follow_request_sent=False, notifications=False, translator_type='none', withheld_in_countries=[]), user=User(_api=<tweepy.api.API object at 0x000001B345F17E50>, _json={'id': 341115145, 'id_str': '341115145', 'name': \"ECOticias.com 'El Periódico Verde'\", 'screen_name': 'ecoticiasRED', 'location': 'España', 'description': 'Web líder en Medio Ambiente de habla hispana. 7 millones de lectores anuales.', 'url': 'https://t.co/5wK3agkwZa', 'entities': {'url': {'urls': [{'url': 'https://t.co/5wK3agkwZa', 'expanded_url': 'http://www.ecoticias.com', 'display_url': 'ecoticias.com', 'indices': [0, 23]}]}, 'description': {'urls': []}}, 'protected': False, 'followers_count': 71707, 'friends_count': 523, 'listed_count': 1362, 'created_at': 'Sat Jul 23 20:46:02 +0000 2011', 'favourites_count': 922, 'utc_offset': None, 'time_zone': None, 'geo_enabled': False, 'verified': False, 'statuses_count': 58111, 'lang': None, 'contributors_enabled': False, 'is_translator': False, 'is_translation_enabled': False, 'profile_background_color': 'B2DFDA', 'profile_background_image_url': 'http://abs.twimg.com/images/themes/theme5/bg.gif', 'profile_background_image_url_https': 'https://abs.twimg.com/images/themes/theme5/bg.gif', 'profile_background_tile': False, 'profile_image_url': 'http://pbs.twimg.com/profile_images/968799907925590016/_3EoDo9y_normal.jpg', 'profile_image_url_https': 'https://pbs.twimg.com/profile_images/968799907925590016/_3EoDo9y_normal.jpg', 'profile_banner_url': 'https://pbs.twimg.com/profile_banners/341115145/1359853983', 'profile_link_color': '93A644', 'profile_sidebar_border_color': 'EEEEEE', 'profile_sidebar_fill_color': 'FFFFFF', 'profile_text_color': '333333', 'profile_use_background_image': False, 'has_extended_profile': False, 'default_profile': False, 'default_profile_image': False, 'following': True, 'follow_request_sent': False, 'notifications': False, 'translator_type': 'none', 'withheld_in_countries': []}, id=341115145, id_str='341115145', name=\"ECOticias.com 'El Periódico Verde'\", screen_name='ecoticiasRED', location='España', description='Web líder en Medio Ambiente de habla hispana. 7 millones de lectores anuales.', url='https://t.co/5wK3agkwZa', entities={'url': {'urls': [{'url': 'https://t.co/5wK3agkwZa', 'expanded_url': 'http://www.ecoticias.com', 'display_url': 'ecoticias.com', 'indices': [0, 23]}]}, 'description': {'urls': []}}, protected=False, followers_count=71707, friends_count=523, listed_count=1362, created_at=datetime.datetime(2011, 7, 23, 20, 46, 2, tzinfo=datetime.timezone.utc), favourites_count=922, utc_offset=None, time_zone=None, geo_enabled=False, verified=False, statuses_count=58111, lang=None, contributors_enabled=False, is_translator=False, is_translation_enabled=False, profile_background_color='B2DFDA', profile_background_image_url='http://abs.twimg.com/images/themes/theme5/bg.gif', profile_background_image_url_https='https://abs.twimg.com/images/themes/theme5/bg.gif', profile_background_tile=False, profile_image_url='http://pbs.twimg.com/profile_images/968799907925590016/_3EoDo9y_normal.jpg', profile_image_url_https='https://pbs.twimg.com/profile_images/968799907925590016/_3EoDo9y_normal.jpg', profile_banner_url='https://pbs.twimg.com/profile_banners/341115145/1359853983', profile_link_color='93A644', profile_sidebar_border_color='EEEEEE', profile_sidebar_fill_color='FFFFFF', profile_text_color='333333', profile_use_background_image=False, has_extended_profile=False, default_profile=False, default_profile_image=False, following=True, follow_request_sent=False, notifications=False, translator_type='none', withheld_in_countries=[]), geo=None, coordinates=None, place=None, contributors=None, is_quote_status=False, retweet_count=0, favorite_count=0, favorited=False, retweeted=False, possibly_sensitive=False, possibly_sensitive_appealable=False, lang='es'), Status(_api=<tweepy.api.API object at 0x000001B345F17E50>, _json={'created_at': 'Sun Dec 04 11:04:56 +0000 2022', 'id': 1599359088537878528, 'id_str': '1599359088537878528', 'text': '@Juan_Castro_10 📌 \"Hace 15 años que es el mejor, con mucha diferencia, con respecto a cualquier otro futbolista\" -… https://t.co/oV9QRi4JSk', 'truncated': True, 'entities': {'hashtags': [], 'symbols': [], 'user_mentions': [{'screen_name': 'Juan_Castro_10', 'name': 'Juan Castro', 'id': 132985367, 'id_str': '132985367', 'indices': [0, 15]}], 'urls': [{'url': 'https://t.co/oV9QRi4JSk', 'expanded_url': 'https://twitter.com/i/web/status/1599359088537878528', 'display_url': 'twitter.com/i/web/status/1…', 'indices': [116, 139]}]}, 'source': '<a href=\"https://about.twitter.com/products/tweetdeck\" rel=\"nofollow\">TweetDeck</a>', 'in_reply_to_status_id': 1599358706038317057, 'in_reply_to_status_id_str': '1599358706038317057', 'in_reply_to_user_id': 15095537, 'in_reply_to_user_id_str': '15095537', 'in_reply_to_screen_name': 'marca', 'user': {'id': 15095537, 'id_str': '15095537', 'name': 'MARCA', 'screen_name': 'marca', 'location': 'España', 'description': '📲 Conecta 𝐌𝐀𝐑𝐂𝐀: https://t.co/QM1TliOtvy, https://t.co/a3Q57ySd3w, https://t.co/sZKx5QUsVz, https://t.co/JTs3PurFq6', 'url': 'https://t.co/59bR92zbZt', 'entities': {'url': {'urls': [{'url': 'https://t.co/59bR92zbZt', 'expanded_url': 'http://www.marca.com', 'display_url': 'marca.com', 'indices': [0, 23]}]}, 'description': {'urls': [{'url': 'https://t.co/QM1TliOtvy', 'expanded_url': 'http://instagram.com/marca/', 'display_url': 'instagram.com/marca/', 'indices': [17, 40]}, {'url': 'https://t.co/a3Q57ySd3w', 'expanded_url': 'http://facebook.com/MARCA', 'display_url': 'facebook.com/MARCA', 'indices': [42, 65]}, {'url': 'https://t.co/sZKx5QUsVz', 'expanded_url': 'http://youtube.com/c/DiarioMARCA', 'display_url': 'youtube.com/c/DiarioMARCA', 'indices': [67, 90]}, {'url': 'https://t.co/JTs3PurFq6', 'expanded_url': 'http://tiktok.com/@marca.com', 'display_url': 'tiktok.com/@marca.com', 'indices': [92, 115]}]}}, 'protected': False, 'followers_count': 6364375, 'friends_count': 1640, 'listed_count': 21846, 'created_at': 'Thu Jun 12 11:05:13 +0000 2008', 'favourites_count': 2218, 'utc_offset': None, 'time_zone': None, 'geo_enabled': True, 'verified': True, 'statuses_count': 519589, 'lang': None, 'contributors_enabled': False, 'is_translator': False, 'is_translation_enabled': False, 'profile_background_color': '1A1B1F', 'profile_background_image_url': 'http://abs.twimg.com/images/themes/theme9/bg.gif', 'profile_background_image_url_https': 'https://abs.twimg.com/images/themes/theme9/bg.gif', 'profile_background_tile': False, 'profile_image_url': 'http://pbs.twimg.com/profile_images/1594272201901056001/dJP1fReE_normal.jpg', 'profile_image_url_https': 'https://pbs.twimg.com/profile_images/1594272201901056001/dJP1fReE_normal.jpg', 'profile_banner_url': 'https://pbs.twimg.com/profile_banners/15095537/1670017538', 'profile_link_color': '1B95E0', 'profile_sidebar_border_color': 'FFFFFF', 'profile_sidebar_fill_color': '252429', 'profile_text_color': '666666', 'profile_use_background_image': True, 'has_extended_profile': True, 'default_profile': False, 'default_profile_image': False, 'following': True, 'follow_request_sent': False, 'notifications': False, 'translator_type': 'regular', 'withheld_in_countries': []}, 'geo': None, 'coordinates': None, 'place': None, 'contributors': None, 'is_quote_status': False, 'retweet_count': 2, 'favorite_count': 9, 'favorited': False, 'retweeted': False, 'possibly_sensitive': False, 'possibly_sensitive_appealable': False, 'lang': 'es'}, created_at=datetime.datetime(2022, 12, 4, 11, 4, 56, tzinfo=datetime.timezone.utc), id=1599359088537878528, id_str='1599359088537878528', text='@Juan_Castro_10 📌 \"Hace 15 años que es el mejor, con mucha diferencia, con respecto a cualquier otro futbolista\" -… https://t.co/oV9QRi4JSk', truncated=True, entities={'hashtags': [], 'symbols': [], 'user_mentions': [{'screen_name': 'Juan_Castro_10', 'name': 'Juan Castro', 'id': 132985367, 'id_str': '132985367', 'indices': [0, 15]}], 'urls': [{'url': 'https://t.co/oV9QRi4JSk', 'expanded_url': 'https://twitter.com/i/web/status/1599359088537878528', 'display_url': 'twitter.com/i/web/status/1…', 'indices': [116, 139]}]}, source='TweetDeck', source_url='https://about.twitter.com/products/tweetdeck', in_reply_to_status_id=1599358706038317057, in_reply_to_status_id_str='1599358706038317057', in_reply_to_user_id=15095537, in_reply_to_user_id_str='15095537', in_reply_to_screen_name='marca', author=User(_api=<tweepy.api.API object at 0x000001B345F17E50>, _json={'id': 15095537, 'id_str': '15095537', 'name': 'MARCA', 'screen_name': 'marca', 'location': 'España', 'description': '📲 Conecta 𝐌𝐀𝐑𝐂𝐀: https://t.co/QM1TliOtvy, https://t.co/a3Q57ySd3w, https://t.co/sZKx5QUsVz, https://t.co/JTs3PurFq6', 'url': 'https://t.co/59bR92zbZt', 'entities': {'url': {'urls': [{'url': 'https://t.co/59bR92zbZt', 'expanded_url': 'http://www.marca.com', 'display_url': 'marca.com', 'indices': [0, 23]}]}, 'description': {'urls': [{'url': 'https://t.co/QM1TliOtvy', 'expanded_url': 'http://instagram.com/marca/', 'display_url': 'instagram.com/marca/', 'indices': [17, 40]}, {'url': 'https://t.co/a3Q57ySd3w', 'expanded_url': 'http://facebook.com/MARCA', 'display_url': 'facebook.com/MARCA', 'indices': [42, 65]}, {'url': 'https://t.co/sZKx5QUsVz', 'expanded_url': 'http://youtube.com/c/DiarioMARCA', 'display_url': 'youtube.com/c/DiarioMARCA', 'indices': [67, 90]}, {'url': 'https://t.co/JTs3PurFq6', 'expanded_url': 'http://tiktok.com/@marca.com', 'display_url': 'tiktok.com/@marca.com', 'indices': [92, 115]}]}}, 'protected': False, 'followers_count': 6364375, 'friends_count': 1640, 'listed_count': 21846, 'created_at': 'Thu Jun 12 11:05:13 +0000 2008', 'favourites_count': 2218, 'utc_offset': None, 'time_zone': None, 'geo_enabled': True, 'verified': True, 'statuses_count': 519589, 'lang': None, 'contributors_enabled': False, 'is_translator': False, 'is_translation_enabled': False, 'profile_background_color': '1A1B1F', 'profile_background_image_url': 'http://abs.twimg.com/images/themes/theme9/bg.gif', 'profile_background_image_url_https': 'https://abs.twimg.com/images/themes/theme9/bg.gif', 'profile_background_tile': False, 'profile_image_url': 'http://pbs.twimg.com/profile_images/1594272201901056001/dJP1fReE_normal.jpg', 'profile_image_url_https': 'https://pbs.twimg.com/profile_images/1594272201901056001/dJP1fReE_normal.jpg', 'profile_banner_url': 'https://pbs.twimg.com/profile_banners/15095537/1670017538', 'profile_link_color': '1B95E0', 'profile_sidebar_border_color': 'FFFFFF', 'profile_sidebar_fill_color': '252429', 'profile_text_color': '666666', 'profile_use_background_image': True, 'has_extended_profile': True, 'default_profile': False, 'default_profile_image': False, 'following': True, 'follow_request_sent': False, 'notifications': False, 'translator_type': 'regular', 'withheld_in_countries': []}, id=15095537, id_str='15095537', name='MARCA', screen_name='marca', location='España', description='📲 Conecta 𝐌𝐀𝐑𝐂𝐀: https://t.co/QM1TliOtvy, https://t.co/a3Q57ySd3w, https://t.co/sZKx5QUsVz, https://t.co/JTs3PurFq6', url='https://t.co/59bR92zbZt', entities={'url': {'urls': [{'url': 'https://t.co/59bR92zbZt', 'expanded_url': 'http://www.marca.com', 'display_url': 'marca.com', 'indices': [0, 23]}]}, 'description': {'urls': [{'url': 'https://t.co/QM1TliOtvy', 'expanded_url': 'http://instagram.com/marca/', 'display_url': 'instagram.com/marca/', 'indices': [17, 40]}, {'url': 'https://t.co/a3Q57ySd3w', 'expanded_url': 'http://facebook.com/MARCA', 'display_url': 'facebook.com/MARCA', 'indices': [42, 65]}, {'url': 'https://t.co/sZKx5QUsVz', 'expanded_url': 'http://youtube.com/c/DiarioMARCA', 'display_url': 'youtube.com/c/DiarioMARCA', 'indices': [67, 90]}, {'url': 'https://t.co/JTs3PurFq6', 'expanded_url': 'http://tiktok.com/@marca.com', 'display_url': 'tiktok.com/@marca.com', 'indices': [92, 115]}]}}, protected=False, followers_count=6364375, friends_count=1640, listed_count=21846, created_at=datetime.datetime(2008, 6, 12, 11, 5, 13, tzinfo=datetime.timezone.utc), favourites_count=2218, utc_offset=None, time_zone=None, geo_enabled=True, verified=True, statuses_count=519589, lang=None, contributors_enabled=False, is_translator=False, is_translation_enabled=False, profile_background_color='1A1B1F', profile_background_image_url='http://abs.twimg.com/images/themes/theme9/bg.gif', profile_background_image_url_https='https://abs.twimg.com/images/themes/theme9/bg.gif', profile_background_tile=False, profile_image_url='http://pbs.twimg.com/profile_images/1594272201901056001/dJP1fReE_normal.jpg', profile_image_url_https='https://pbs.twimg.com/profile_images/1594272201901056001/dJP1fReE_normal.jpg', profile_banner_url='https://pbs.twimg.com/profile_banners/15095537/1670017538', profile_link_color='1B95E0', profile_sidebar_border_color='FFFFFF', profile_sidebar_fill_color='252429', profile_text_color='666666', profile_use_background_image=True, has_extended_profile=True, default_profile=False, default_profile_image=False, following=True, follow_request_sent=False, notifications=False, translator_type='regular', withheld_in_countries=[]), user=User(_api=<tweepy.api.API object at 0x000001B345F17E50>, _json={'id': 15095537, 'id_str': '15095537', 'name': 'MARCA', 'screen_name': 'marca', 'location': 'España', 'description': '📲 Conecta 𝐌𝐀𝐑𝐂𝐀: https://t.co/QM1TliOtvy, https://t.co/a3Q57ySd3w, https://t.co/sZKx5QUsVz, https://t.co/JTs3PurFq6', 'url': 'https://t.co/59bR92zbZt', 'entities': {'url': {'urls': [{'url': 'https://t.co/59bR92zbZt', 'expanded_url': 'http://www.marca.com', 'display_url': 'marca.com', 'indices': [0, 23]}]}, 'description': {'urls': [{'url': 'https://t.co/QM1TliOtvy', 'expanded_url': 'http://instagram.com/marca/', 'display_url': 'instagram.com/marca/', 'indices': [17, 40]}, {'url': 'https://t.co/a3Q57ySd3w', 'expanded_url': 'http://facebook.com/MARCA', 'display_url': 'facebook.com/MARCA', 'indices': [42, 65]}, {'url': 'https://t.co/sZKx5QUsVz', 'expanded_url': 'http://youtube.com/c/DiarioMARCA', 'display_url': 'youtube.com/c/DiarioMARCA', 'indices': [67, 90]}, {'url': 'https://t.co/JTs3PurFq6', 'expanded_url': 'http://tiktok.com/@marca.com', 'display_url': 'tiktok.com/@marca.com', 'indices': [92, 115]}]}}, 'protected': False, 'followers_count': 6364375, 'friends_count': 1640, 'listed_count': 21846, 'created_at': 'Thu Jun 12 11:05:13 +0000 2008', 'favourites_count': 2218, 'utc_offset': None, 'time_zone': None, 'geo_enabled': True, 'verified': True, 'statuses_count': 519589, 'lang': None, 'contributors_enabled': False, 'is_translator': False, 'is_translation_enabled': False, 'profile_background_color': '1A1B1F', 'profile_background_image_url': 'http://abs.twimg.com/images/themes/theme9/bg.gif', 'profile_background_image_url_https': 'https://abs.twimg.com/images/themes/theme9/bg.gif', 'profile_background_tile': False, 'profile_image_url': 'http://pbs.twimg.com/profile_images/1594272201901056001/dJP1fReE_normal.jpg', 'profile_image_url_https': 'https://pbs.twimg.com/profile_images/1594272201901056001/dJP1fReE_normal.jpg', 'profile_banner_url': 'https://pbs.twimg.com/profile_banners/15095537/1670017538', 'profile_link_color': '1B95E0', 'profile_sidebar_border_color': 'FFFFFF', 'profile_sidebar_fill_color': '252429', 'profile_text_color': '666666', 'profile_use_background_image': True, 'has_extended_profile': True, 'default_profile': False, 'default_profile_image': False, 'following': True, 'follow_request_sent': False, 'notifications': False, 'translator_type': 'regular', 'withheld_in_countries': []}, id=15095537, id_str='15095537', name='MARCA', screen_name='marca', location='España', description='📲 Conecta 𝐌𝐀𝐑𝐂𝐀: https://t.co/QM1TliOtvy, https://t.co/a3Q57ySd3w, https://t.co/sZKx5QUsVz, https://t.co/JTs3PurFq6', url='https://t.co/59bR92zbZt', entities={'url': {'urls': [{'url': 'https://t.co/59bR92zbZt', 'expanded_url': 'http://www.marca.com', 'display_url': 'marca.com', 'indices': [0, 23]}]}, 'description': {'urls': [{'url': 'https://t.co/QM1TliOtvy', 'expanded_url': 'http://instagram.com/marca/', 'display_url': 'instagram.com/marca/', 'indices': [17, 40]}, {'url': 'https://t.co/a3Q57ySd3w', 'expanded_url': 'http://facebook.com/MARCA', 'display_url': 'facebook.com/MARCA', 'indices': [42, 65]}, {'url': 'https://t.co/sZKx5QUsVz', 'expanded_url': 'http://youtube.com/c/DiarioMARCA', 'display_url': 'youtube.com/c/DiarioMARCA', 'indices': [67, 90]}, {'url': 'https://t.co/JTs3PurFq6', 'expanded_url': 'http://tiktok.com/@marca.com', 'display_url': 'tiktok.com/@marca.com', 'indices': [92, 115]}]}}, protected=False, followers_count=6364375, friends_count=1640, listed_count=21846, created_at=datetime.datetime(2008, 6, 12, 11, 5, 13, tzinfo=datetime.timezone.utc), favourites_count=2218, utc_offset=None, time_zone=None, geo_enabled=True, verified=True, statuses_count=519589, lang=None, contributors_enabled=False, is_translator=False, is_translation_enabled=False, profile_background_color='1A1B1F', profile_background_image_url='http://abs.twimg.com/images/themes/theme9/bg.gif', profile_background_image_url_https='https://abs.twimg.com/images/themes/theme9/bg.gif', profile_background_tile=False, profile_image_url='http://pbs.twimg.com/profile_images/1594272201901056001/dJP1fReE_normal.jpg', profile_image_url_https='https://pbs.twimg.com/profile_images/1594272201901056001/dJP1fReE_normal.jpg', profile_banner_url='https://pbs.twimg.com/profile_banners/15095537/1670017538', profile_link_color='1B95E0', profile_sidebar_border_color='FFFFFF', profile_sidebar_fill_color='252429', profile_text_color='666666', profile_use_background_image=True, has_extended_profile=True, default_profile=False, default_profile_image=False, following=True, follow_request_sent=False, notifications=False, translator_type='regular', withheld_in_countries=[]), geo=None, coordinates=None, place=None, contributors=None, is_quote_status=False, retweet_count=2, favorite_count=9, favorited=False, retweeted=False, possibly_sensitive=False, possibly_sensitive_appealable=False, lang='es'), Status(_api=<tweepy.api.API object at 0x000001B345F17E50>, _json={'created_at': 'Sun Dec 04 11:03:54 +0000 2022', 'id': 1599358832215465984, 'id_str': '1599358832215465984', 'text': 'The runoff for Georgia’s remaining US Senate seat took the spotlight during the latest episode of “Saturday Night L… https://t.co/4JuhA8dybK', 'truncated': True, 'entities': {'hashtags': [], 'symbols': [], 'user_mentions': [], 'urls': [{'url': 'https://t.co/4JuhA8dybK', 'expanded_url': 'https://twitter.com/i/web/status/1599358832215465984', 'display_url': 'twitter.com/i/web/status/1…', 'indices': [117, 140]}]}, 'source': '<a href=\"http://www.socialflow.com\" rel=\"nofollow\">SocialFlow</a>', 'in_reply_to_status_id': None, 'in_reply_to_status_id_str': None, 'in_reply_to_user_id': None, 'in_reply_to_user_id_str': None, 'in_reply_to_screen_name': None, 'user': {'id': 759251, 'id_str': '759251', 'name': 'CNN', 'screen_name': 'CNN', 'location': '', 'description': 'It’s our job to #GoThere & tell the most difficult stories. For breaking news, follow @CNNBRK and download our app https://t.co/ceNBoNi8y6', 'url': 'https://t.co/imGp4Ieixi', 'entities': {'url': {'urls': [{'url': 'https://t.co/imGp4Ieixi', 'expanded_url': 'http://www.cnn.com', 'display_url': 'cnn.com', 'indices': [0, 23]}]}, 'description': {'urls': [{'url': 'https://t.co/ceNBoNi8y6', 'expanded_url': 'http://cnn.com/apps', 'display_url': 'cnn.com/apps', 'indices': [115, 138]}]}}, 'protected': False, 'followers_count': 60707843, 'friends_count': 1092, 'listed_count': 156001, 'created_at': 'Fri Feb 09 00:35:02 +0000 2007', 'favourites_count': 1382, 'utc_offset': None, 'time_zone': None, 'geo_enabled': True, 'verified': True, 'statuses_count': 391545, 'lang': None, 'contributors_enabled': False, 'is_translator': False, 'is_translation_enabled': True, 'profile_background_color': '323232', 'profile_background_image_url': 'http://abs.twimg.com/images/themes/theme1/bg.png', 'profile_background_image_url_https': 'https://abs.twimg.com/images/themes/theme1/bg.png', 'profile_background_tile': False, 'profile_image_url': 'http://pbs.twimg.com/profile_images/1278259160644227073/MfCyF7CG_normal.jpg', 'profile_image_url_https': 'https://pbs.twimg.com/profile_images/1278259160644227073/MfCyF7CG_normal.jpg', 'profile_banner_url': 'https://pbs.twimg.com/profile_banners/759251/1667231828', 'profile_link_color': '004287', 'profile_sidebar_border_color': '000000', 'profile_sidebar_fill_color': 'EEEEEE', 'profile_text_color': '000000', 'profile_use_background_image': False, 'has_extended_profile': False, 'default_profile': False, 'default_profile_image': False, 'following': True, 'follow_request_sent': False, 'notifications': False, 'translator_type': 'regular', 'withheld_in_countries': []}, 'geo': None, 'coordinates': None, 'place': None, 'contributors': None, 'is_quote_status': False, 'retweet_count': 7, 'favorite_count': 36, 'favorited': False, 'retweeted': False, 'possibly_sensitive': False, 'possibly_sensitive_appealable': False, 'lang': 'en'}, created_at=datetime.datetime(2022, 12, 4, 11, 3, 54, tzinfo=datetime.timezone.utc), id=1599358832215465984, id_str='1599358832215465984', text='The runoff for Georgia’s remaining US Senate seat took the spotlight during the latest episode of “Saturday Night L… https://t.co/4JuhA8dybK', truncated=True, entities={'hashtags': [], 'symbols': [], 'user_mentions': [], 'urls': [{'url': 'https://t.co/4JuhA8dybK', 'expanded_url': 'https://twitter.com/i/web/status/1599358832215465984', 'display_url': 'twitter.com/i/web/status/1…', 'indices': [117, 140]}]}, source='SocialFlow', source_url='http://www.socialflow.com', in_reply_to_status_id=None, in_reply_to_status_id_str=None, in_reply_to_user_id=None, in_reply_to_user_id_str=None, in_reply_to_screen_name=None, author=User(_api=<tweepy.api.API object at 0x000001B345F17E50>, _json={'id': 759251, 'id_str': '759251', 'name': 'CNN', 'screen_name': 'CNN', 'location': '', 'description': 'It’s our job to #GoThere & tell the most difficult stories. For breaking news, follow @CNNBRK and download our app https://t.co/ceNBoNi8y6', 'url': 'https://t.co/imGp4Ieixi', 'entities': {'url': {'urls': [{'url': 'https://t.co/imGp4Ieixi', 'expanded_url': 'http://www.cnn.com', 'display_url': 'cnn.com', 'indices': [0, 23]}]}, 'description': {'urls': [{'url': 'https://t.co/ceNBoNi8y6', 'expanded_url': 'http://cnn.com/apps', 'display_url': 'cnn.com/apps', 'indices': [115, 138]}]}}, 'protected': False, 'followers_count': 60707843, 'friends_count': 1092, 'listed_count': 156001, 'created_at': 'Fri Feb 09 00:35:02 +0000 2007', 'favourites_count': 1382, 'utc_offset': None, 'time_zone': None, 'geo_enabled': True, 'verified': True, 'statuses_count': 391545, 'lang': None, 'contributors_enabled': False, 'is_translator': False, 'is_translation_enabled': True, 'profile_background_color': '323232', 'profile_background_image_url': 'http://abs.twimg.com/images/themes/theme1/bg.png', 'profile_background_image_url_https': 'https://abs.twimg.com/images/themes/theme1/bg.png', 'profile_background_tile': False, 'profile_image_url': 'http://pbs.twimg.com/profile_images/1278259160644227073/MfCyF7CG_normal.jpg', 'profile_image_url_https': 'https://pbs.twimg.com/profile_images/1278259160644227073/MfCyF7CG_normal.jpg', 'profile_banner_url': 'https://pbs.twimg.com/profile_banners/759251/1667231828', 'profile_link_color': '004287', 'profile_sidebar_border_color': '000000', 'profile_sidebar_fill_color': 'EEEEEE', 'profile_text_color': '000000', 'profile_use_background_image': False, 'has_extended_profile': False, 'default_profile': False, 'default_profile_image': False, 'following': True, 'follow_request_sent': False, 'notifications': False, 'translator_type': 'regular', 'withheld_in_countries': []}, id=759251, id_str='759251', name='CNN', screen_name='CNN', location='', description='It’s our job to #GoThere & tell the most difficult stories. For breaking news, follow @CNNBRK and download our app https://t.co/ceNBoNi8y6', url='https://t.co/imGp4Ieixi', entities={'url': {'urls': [{'url': 'https://t.co/imGp4Ieixi', 'expanded_url': 'http://www.cnn.com', 'display_url': 'cnn.com', 'indices': [0, 23]}]}, 'description': {'urls': [{'url': 'https://t.co/ceNBoNi8y6', 'expanded_url': 'http://cnn.com/apps', 'display_url': 'cnn.com/apps', 'indices': [115, 138]}]}}, protected=False, followers_count=60707843, friends_count=1092, listed_count=156001, created_at=datetime.datetime(2007, 2, 9, 0, 35, 2, tzinfo=datetime.timezone.utc), favourites_count=1382, utc_offset=None, time_zone=None, geo_enabled=True, verified=True, statuses_count=391545, lang=None, contributors_enabled=False, is_translator=False, is_translation_enabled=True, profile_background_color='323232', profile_background_image_url='http://abs.twimg.com/images/themes/theme1/bg.png', profile_background_image_url_https='https://abs.twimg.com/images/themes/theme1/bg.png', profile_background_tile=False, profile_image_url='http://pbs.twimg.com/profile_images/1278259160644227073/MfCyF7CG_normal.jpg', profile_image_url_https='https://pbs.twimg.com/profile_images/1278259160644227073/MfCyF7CG_normal.jpg', profile_banner_url='https://pbs.twimg.com/profile_banners/759251/1667231828', profile_link_color='004287', profile_sidebar_border_color='000000', profile_sidebar_fill_color='EEEEEE', profile_text_color='000000', profile_use_background_image=False, has_extended_profile=False, default_profile=False, default_profile_image=False, following=True, follow_request_sent=False, notifications=False, translator_type='regular', withheld_in_countries=[]), user=User(_api=<tweepy.api.API object at 0x000001B345F17E50>, _json={'id': 759251, 'id_str': '759251', 'name': 'CNN', 'screen_name': 'CNN', 'location': '', 'description': 'It’s our job to #GoThere & tell the most difficult stories. For breaking news, follow @CNNBRK and download our app https://t.co/ceNBoNi8y6', 'url': 'https://t.co/imGp4Ieixi', 'entities': {'url': {'urls': [{'url': 'https://t.co/imGp4Ieixi', 'expanded_url': 'http://www.cnn.com', 'display_url': 'cnn.com', 'indices': [0, 23]}]}, 'description': {'urls': [{'url': 'https://t.co/ceNBoNi8y6', 'expanded_url': 'http://cnn.com/apps', 'display_url': 'cnn.com/apps', 'indices': [115, 138]}]}}, 'protected': False, 'followers_count': 60707843, 'friends_count': 1092, 'listed_count': 156001, 'created_at': 'Fri Feb 09 00:35:02 +0000 2007', 'favourites_count': 1382, 'utc_offset': None, 'time_zone': None, 'geo_enabled': True, 'verified': True, 'statuses_count': 391545, 'lang': None, 'contributors_enabled': False, 'is_translator': False, 'is_translation_enabled': True, 'profile_background_color': '323232', 'profile_background_image_url': 'http://abs.twimg.com/images/themes/theme1/bg.png', 'profile_background_image_url_https': 'https://abs.twimg.com/images/themes/theme1/bg.png', 'profile_background_tile': False, 'profile_image_url': 'http://pbs.twimg.com/profile_images/1278259160644227073/MfCyF7CG_normal.jpg', 'profile_image_url_https': 'https://pbs.twimg.com/profile_images/1278259160644227073/MfCyF7CG_normal.jpg', 'profile_banner_url': 'https://pbs.twimg.com/profile_banners/759251/1667231828', 'profile_link_color': '004287', 'profile_sidebar_border_color': '000000', 'profile_sidebar_fill_color': 'EEEEEE', 'profile_text_color': '000000', 'profile_use_background_image': False, 'has_extended_profile': False, 'default_profile': False, 'default_profile_image': False, 'following': True, 'follow_request_sent': False, 'notifications': False, 'translator_type': 'regular', 'withheld_in_countries': []}, id=759251, id_str='759251', name='CNN', screen_name='CNN', location='', description='It’s our job to #GoThere & tell the most difficult stories. For breaking news, follow @CNNBRK and download our app https://t.co/ceNBoNi8y6', url='https://t.co/imGp4Ieixi', entities={'url': {'urls': [{'url': 'https://t.co/imGp4Ieixi', 'expanded_url': 'http://www.cnn.com', 'display_url': 'cnn.com', 'indices': [0, 23]}]}, 'description': {'urls': [{'url': 'https://t.co/ceNBoNi8y6', 'expanded_url': 'http://cnn.com/apps', 'display_url': 'cnn.com/apps', 'indices': [115, 138]}]}}, protected=False, followers_count=60707843, friends_count=1092, listed_count=156001, created_at=datetime.datetime(2007, 2, 9, 0, 35, 2, tzinfo=datetime.timezone.utc), favourites_count=1382, utc_offset=None, time_zone=None, geo_enabled=True, verified=True, statuses_count=391545, lang=None, contributors_enabled=False, is_translator=False, is_translation_enabled=True, profile_background_color='323232', profile_background_image_url='http://abs.twimg.com/images/themes/theme1/bg.png', profile_background_image_url_https='https://abs.twimg.com/images/themes/theme1/bg.png', profile_background_tile=False, profile_image_url='http://pbs.twimg.com/profile_images/1278259160644227073/MfCyF7CG_normal.jpg', profile_image_url_https='https://pbs.twimg.com/profile_images/1278259160644227073/MfCyF7CG_normal.jpg', profile_banner_url='https://pbs.twimg.com/profile_banners/759251/1667231828', profile_link_color='004287', profile_sidebar_border_color='000000', profile_sidebar_fill_color='EEEEEE', profile_text_color='000000', profile_use_background_image=False, has_extended_profile=False, default_profile=False, default_profile_image=False, following=True, follow_request_sent=False, notifications=False, translator_type='regular', withheld_in_countries=[]), geo=None, coordinates=None, place=None, contributors=None, is_quote_status=False, retweet_count=7, favorite_count=36, favorited=False, retweeted=False, possibly_sensitive=False, possibly_sensitive_appealable=False, lang='en'), Status(_api=<tweepy.api.API object at 0x000001B345F17E50>, _json={'created_at': 'Sun Dec 04 11:03:24 +0000 2022', 'id': 1599358706038317057, 'id_str': '1599358706038317057', 'text': '@Juan_Castro_10 📌 \"Messi acaba de hacer la mejor exhibición individual que hemos visto en esta Copa del Mundo... po… https://t.co/8XcYS2KSjF', 'truncated': True, 'entities': {'hashtags': [], 'symbols': [], 'user_mentions': [{'screen_name': 'Juan_Castro_10', 'name': 'Juan Castro', 'id': 132985367, 'id_str': '132985367', 'indices': [0, 15]}], 'urls': [{'url': 'https://t.co/8XcYS2KSjF', 'expanded_url': 'https://twitter.com/i/web/status/1599358706038317057', 'display_url': 'twitter.com/i/web/status/1…', 'indices': [117, 140]}]}, 'source': '<a href=\"https://about.twitter.com/products/tweetdeck\" rel=\"nofollow\">TweetDeck</a>', 'in_reply_to_status_id': 1599341136577003520, 'in_reply_to_status_id_str': '1599341136577003520', 'in_reply_to_user_id': 15095537, 'in_reply_to_user_id_str': '15095537', 'in_reply_to_screen_name': 'marca', 'user': {'id': 15095537, 'id_str': '15095537', 'name': 'MARCA', 'screen_name': 'marca', 'location': 'España', 'description': '📲 Conecta 𝐌𝐀𝐑𝐂𝐀: https://t.co/QM1TliOtvy, https://t.co/a3Q57ySd3w, https://t.co/sZKx5QUsVz, https://t.co/JTs3PurFq6', 'url': 'https://t.co/59bR92zbZt', 'entities': {'url': {'urls': [{'url': 'https://t.co/59bR92zbZt', 'expanded_url': 'http://www.marca.com', 'display_url': 'marca.com', 'indices': [0, 23]}]}, 'description': {'urls': [{'url': 'https://t.co/QM1TliOtvy', 'expanded_url': 'http://instagram.com/marca/', 'display_url': 'instagram.com/marca/', 'indices': [17, 40]}, {'url': 'https://t.co/a3Q57ySd3w', 'expanded_url': 'http://facebook.com/MARCA', 'display_url': 'facebook.com/MARCA', 'indices': [42, 65]}, {'url': 'https://t.co/sZKx5QUsVz', 'expanded_url': 'http://youtube.com/c/DiarioMARCA', 'display_url': 'youtube.com/c/DiarioMARCA', 'indices': [67, 90]}, {'url': 'https://t.co/JTs3PurFq6', 'expanded_url': 'http://tiktok.com/@marca.com', 'display_url': 'tiktok.com/@marca.com', 'indices': [92, 115]}]}}, 'protected': False, 'followers_count': 6364375, 'friends_count': 1640, 'listed_count': 21846, 'created_at': 'Thu Jun 12 11:05:13 +0000 2008', 'favourites_count': 2218, 'utc_offset': None, 'time_zone': None, 'geo_enabled': True, 'verified': True, 'statuses_count': 519589, 'lang': None, 'contributors_enabled': False, 'is_translator': False, 'is_translation_enabled': False, 'profile_background_color': '1A1B1F', 'profile_background_image_url': 'http://abs.twimg.com/images/themes/theme9/bg.gif', 'profile_background_image_url_https': 'https://abs.twimg.com/images/themes/theme9/bg.gif', 'profile_background_tile': False, 'profile_image_url': 'http://pbs.twimg.com/profile_images/1594272201901056001/dJP1fReE_normal.jpg', 'profile_image_url_https': 'https://pbs.twimg.com/profile_images/1594272201901056001/dJP1fReE_normal.jpg', 'profile_banner_url': 'https://pbs.twimg.com/profile_banners/15095537/1670017538', 'profile_link_color': '1B95E0', 'profile_sidebar_border_color': 'FFFFFF', 'profile_sidebar_fill_color': '252429', 'profile_text_color': '666666', 'profile_use_background_image': True, 'has_extended_profile': True, 'default_profile': False, 'default_profile_image': False, 'following': True, 'follow_request_sent': False, 'notifications': False, 'translator_type': 'regular', 'withheld_in_countries': []}, 'geo': None, 'coordinates': None, 'place': None, 'contributors': None, 'is_quote_status': False, 'retweet_count': 8, 'favorite_count': 19, 'favorited': False, 'retweeted': False, 'possibly_sensitive': False, 'possibly_sensitive_appealable': False, 'lang': 'es'}, created_at=datetime.datetime(2022, 12, 4, 11, 3, 24, tzinfo=datetime.timezone.utc), id=1599358706038317057, id_str='1599358706038317057', text='@Juan_Castro_10 📌 \"Messi acaba de hacer la mejor exhibición individual que hemos visto en esta Copa del Mundo... po… https://t.co/8XcYS2KSjF', truncated=True, entities={'hashtags': [], 'symbols': [], 'user_mentions': [{'screen_name': 'Juan_Castro_10', 'name': 'Juan Castro', 'id': 132985367, 'id_str': '132985367', 'indices': [0, 15]}], 'urls': [{'url': 'https://t.co/8XcYS2KSjF', 'expanded_url': 'https://twitter.com/i/web/status/1599358706038317057', 'display_url': 'twitter.com/i/web/status/1…', 'indices': [117, 140]}]}, source='TweetDeck', source_url='https://about.twitter.com/products/tweetdeck', in_reply_to_status_id=1599341136577003520, in_reply_to_status_id_str='1599341136577003520', in_reply_to_user_id=15095537, in_reply_to_user_id_str='15095537', in_reply_to_screen_name='marca', author=User(_api=<tweepy.api.API object at 0x000001B345F17E50>, _json={'id': 15095537, 'id_str': '15095537', 'name': 'MARCA', 'screen_name': 'marca', 'location': 'España', 'description': '📲 Conecta 𝐌𝐀𝐑𝐂𝐀: https://t.co/QM1TliOtvy, https://t.co/a3Q57ySd3w, https://t.co/sZKx5QUsVz, https://t.co/JTs3PurFq6', 'url': 'https://t.co/59bR92zbZt', 'entities': {'url': {'urls': [{'url': 'https://t.co/59bR92zbZt', 'expanded_url': 'http://www.marca.com', 'display_url': 'marca.com', 'indices': [0, 23]}]}, 'description': {'urls': [{'url': 'https://t.co/QM1TliOtvy', 'expanded_url': 'http://instagram.com/marca/', 'display_url': 'instagram.com/marca/', 'indices': [17, 40]}, {'url': 'https://t.co/a3Q57ySd3w', 'expanded_url': 'http://facebook.com/MARCA', 'display_url': 'facebook.com/MARCA', 'indices': [42, 65]}, {'url': 'https://t.co/sZKx5QUsVz', 'expanded_url': 'http://youtube.com/c/DiarioMARCA', 'display_url': 'youtube.com/c/DiarioMARCA', 'indices': [67, 90]}, {'url': 'https://t.co/JTs3PurFq6', 'expanded_url': 'http://tiktok.com/@marca.com', 'display_url': 'tiktok.com/@marca.com', 'indices': [92, 115]}]}}, 'protected': False, 'followers_count': 6364375, 'friends_count': 1640, 'listed_count': 21846, 'created_at': 'Thu Jun 12 11:05:13 +0000 2008', 'favourites_count': 2218, 'utc_offset': None, 'time_zone': None, 'geo_enabled': True, 'verified': True, 'statuses_count': 519589, 'lang': None, 'contributors_enabled': False, 'is_translator': False, 'is_translation_enabled': False, 'profile_background_color': '1A1B1F', 'profile_background_image_url': 'http://abs.twimg.com/images/themes/theme9/bg.gif', 'profile_background_image_url_https': 'https://abs.twimg.com/images/themes/theme9/bg.gif', 'profile_background_tile': False, 'profile_image_url': 'http://pbs.twimg.com/profile_images/1594272201901056001/dJP1fReE_normal.jpg', 'profile_image_url_https': 'https://pbs.twimg.com/profile_images/1594272201901056001/dJP1fReE_normal.jpg', 'profile_banner_url': 'https://pbs.twimg.com/profile_banners/15095537/1670017538', 'profile_link_color': '1B95E0', 'profile_sidebar_border_color': 'FFFFFF', 'profile_sidebar_fill_color': '252429', 'profile_text_color': '666666', 'profile_use_background_image': True, 'has_extended_profile': True, 'default_profile': False, 'default_profile_image': False, 'following': True, 'follow_request_sent': False, 'notifications': False, 'translator_type': 'regular', 'withheld_in_countries': []}, id=15095537, id_str='15095537', name='MARCA', screen_name='marca', location='España', description='📲 Conecta 𝐌𝐀𝐑𝐂𝐀: https://t.co/QM1TliOtvy, https://t.co/a3Q57ySd3w, https://t.co/sZKx5QUsVz, https://t.co/JTs3PurFq6', url='https://t.co/59bR92zbZt', entities={'url': {'urls': [{'url': 'https://t.co/59bR92zbZt', 'expanded_url': 'http://www.marca.com', 'display_url': 'marca.com', 'indices': [0, 23]}]}, 'description': {'urls': [{'url': 'https://t.co/QM1TliOtvy', 'expanded_url': 'http://instagram.com/marca/', 'display_url': 'instagram.com/marca/', 'indices': [17, 40]}, {'url': 'https://t.co/a3Q57ySd3w', 'expanded_url': 'http://facebook.com/MARCA', 'display_url': 'facebook.com/MARCA', 'indices': [42, 65]}, {'url': 'https://t.co/sZKx5QUsVz', 'expanded_url': 'http://youtube.com/c/DiarioMARCA', 'display_url': 'youtube.com/c/DiarioMARCA', 'indices': [67, 90]}, {'url': 'https://t.co/JTs3PurFq6', 'expanded_url': 'http://tiktok.com/@marca.com', 'display_url': 'tiktok.com/@marca.com', 'indices': [92, 115]}]}}, protected=False, followers_count=6364375, friends_count=1640, listed_count=21846, created_at=datetime.datetime(2008, 6, 12, 11, 5, 13, tzinfo=datetime.timezone.utc), favourites_count=2218, utc_offset=None, time_zone=None, geo_enabled=True, verified=True, statuses_count=519589, lang=None, contributors_enabled=False, is_translator=False, is_translation_enabled=False, profile_background_color='1A1B1F', profile_background_image_url='http://abs.twimg.com/images/themes/theme9/bg.gif', profile_background_image_url_https='https://abs.twimg.com/images/themes/theme9/bg.gif', profile_background_tile=False, profile_image_url='http://pbs.twimg.com/profile_images/1594272201901056001/dJP1fReE_normal.jpg', profile_image_url_https='https://pbs.twimg.com/profile_images/1594272201901056001/dJP1fReE_normal.jpg', profile_banner_url='https://pbs.twimg.com/profile_banners/15095537/1670017538', profile_link_color='1B95E0', profile_sidebar_border_color='FFFFFF', profile_sidebar_fill_color='252429', profile_text_color='666666', profile_use_background_image=True, has_extended_profile=True, default_profile=False, default_profile_image=False, following=True, follow_request_sent=False, notifications=False, translator_type='regular', withheld_in_countries=[]), user=User(_api=<tweepy.api.API object at 0x000001B345F17E50>, _json={'id': 15095537, 'id_str': '15095537', 'name': 'MARCA', 'screen_name': 'marca', 'location': 'España', 'description': '📲 Conecta 𝐌𝐀𝐑𝐂𝐀: https://t.co/QM1TliOtvy, https://t.co/a3Q57ySd3w, https://t.co/sZKx5QUsVz, https://t.co/JTs3PurFq6', 'url': 'https://t.co/59bR92zbZt', 'entities': {'url': {'urls': [{'url': 'https://t.co/59bR92zbZt', 'expanded_url': 'http://www.marca.com', 'display_url': 'marca.com', 'indices': [0, 23]}]}, 'description': {'urls': [{'url': 'https://t.co/QM1TliOtvy', 'expanded_url': 'http://instagram.com/marca/', 'display_url': 'instagram.com/marca/', 'indices': [17, 40]}, {'url': 'https://t.co/a3Q57ySd3w', 'expanded_url': 'http://facebook.com/MARCA', 'display_url': 'facebook.com/MARCA', 'indices': [42, 65]}, {'url': 'https://t.co/sZKx5QUsVz', 'expanded_url': 'http://youtube.com/c/DiarioMARCA', 'display_url': 'youtube.com/c/DiarioMARCA', 'indices': [67, 90]}, {'url': 'https://t.co/JTs3PurFq6', 'expanded_url': 'http://tiktok.com/@marca.com', 'display_url': 'tiktok.com/@marca.com', 'indices': [92, 115]}]}}, 'protected': False, 'followers_count': 6364375, 'friends_count': 1640, 'listed_count': 21846, 'created_at': 'Thu Jun 12 11:05:13 +0000 2008', 'favourites_count': 2218, 'utc_offset': None, 'time_zone': None, 'geo_enabled': True, 'verified': True, 'statuses_count': 519589, 'lang': None, 'contributors_enabled': False, 'is_translator': False, 'is_translation_enabled': False, 'profile_background_color': '1A1B1F', 'profile_background_image_url': 'http://abs.twimg.com/images/themes/theme9/bg.gif', 'profile_background_image_url_https': 'https://abs.twimg.com/images/themes/theme9/bg.gif', 'profile_background_tile': False, 'profile_image_url': 'http://pbs.twimg.com/profile_images/1594272201901056001/dJP1fReE_normal.jpg', 'profile_image_url_https': 'https://pbs.twimg.com/profile_images/1594272201901056001/dJP1fReE_normal.jpg', 'profile_banner_url': 'https://pbs.twimg.com/profile_banners/15095537/1670017538', 'profile_link_color': '1B95E0', 'profile_sidebar_border_color': 'FFFFFF', 'profile_sidebar_fill_color': '252429', 'profile_text_color': '666666', 'profile_use_background_image': True, 'has_extended_profile': True, 'default_profile': False, 'default_profile_image': False, 'following': True, 'follow_request_sent': False, 'notifications': False, 'translator_type': 'regular', 'withheld_in_countries': []}, id=15095537, id_str='15095537', name='MARCA', screen_name='marca', location='España', description='📲 Conecta 𝐌𝐀𝐑𝐂𝐀: https://t.co/QM1TliOtvy, https://t.co/a3Q57ySd3w, https://t.co/sZKx5QUsVz, https://t.co/JTs3PurFq6', url='https://t.co/59bR92zbZt', entities={'url': {'urls': [{'url': 'https://t.co/59bR92zbZt', 'expanded_url': 'http://www.marca.com', 'display_url': 'marca.com', 'indices': [0, 23]}]}, 'description': {'urls': [{'url': 'https://t.co/QM1TliOtvy', 'expanded_url': 'http://instagram.com/marca/', 'display_url': 'instagram.com/marca/', 'indices': [17, 40]}, {'url': 'https://t.co/a3Q57ySd3w', 'expanded_url': 'http://facebook.com/MARCA', 'display_url': 'facebook.com/MARCA', 'indices': [42, 65]}, {'url': 'https://t.co/sZKx5QUsVz', 'expanded_url': 'http://youtube.com/c/DiarioMARCA', 'display_url': 'youtube.com/c/DiarioMARCA', 'indices': [67, 90]}, {'url': 'https://t.co/JTs3PurFq6', 'expanded_url': 'http://tiktok.com/@marca.com', 'display_url': 'tiktok.com/@marca.com', 'indices': [92, 115]}]}}, protected=False, followers_count=6364375, friends_count=1640, listed_count=21846, created_at=datetime.datetime(2008, 6, 12, 11, 5, 13, tzinfo=datetime.timezone.utc), favourites_count=2218, utc_offset=None, time_zone=None, geo_enabled=True, verified=True, statuses_count=519589, lang=None, contributors_enabled=False, is_translator=False, is_translation_enabled=False, profile_background_color='1A1B1F', profile_background_image_url='http://abs.twimg.com/images/themes/theme9/bg.gif', profile_background_image_url_https='https://abs.twimg.com/images/themes/theme9/bg.gif', profile_background_tile=False, profile_image_url='http://pbs.twimg.com/profile_images/1594272201901056001/dJP1fReE_normal.jpg', profile_image_url_https='https://pbs.twimg.com/profile_images/1594272201901056001/dJP1fReE_normal.jpg', profile_banner_url='https://pbs.twimg.com/profile_banners/15095537/1670017538', profile_link_color='1B95E0', profile_sidebar_border_color='FFFFFF', profile_sidebar_fill_color='252429', profile_text_color='666666', profile_use_background_image=True, has_extended_profile=True, default_profile=False, default_profile_image=False, following=True, follow_request_sent=False, notifications=False, translator_type='regular', withheld_in_countries=[]), geo=None, coordinates=None, place=None, contributors=None, is_quote_status=False, retweet_count=8, favorite_count=19, favorited=False, retweeted=False, possibly_sensitive=False, possibly_sensitive_appealable=False, lang='es'), Status(_api=<tweepy.api.API object at 0x000001B345F17E50>, _json={'created_at': 'Sun Dec 04 11:02:05 +0000 2022', 'id': 1599358375028002817, 'id_str': '1599358375028002817', 'text': 'Cutting energy prices will take years, says power boss https://t.co/SgA12hAF58', 'truncated': False, 'entities': {'hashtags': [], 'symbols': [], 'user_mentions': [], 'urls': [{'url': 'https://t.co/SgA12hAF58', 'expanded_url': 'https://bbc.in/3ixS8aX', 'display_url': 'bbc.in/3ixS8aX', 'indices': [55, 78]}]}, 'source': '<a href=\"http://www.socialflow.com\" rel=\"nofollow\">SocialFlow</a>', 'in_reply_to_status_id': None, 'in_reply_to_status_id_str': None, 'in_reply_to_user_id': None, 'in_reply_to_user_id_str': None, 'in_reply_to_screen_name': None, 'user': {'id': 742143, 'id_str': '742143', 'name': 'BBC News (World)', 'screen_name': 'BBCWorld', 'location': 'London, UK', 'description': \"News, features and analysis from the World's newsroom. Breaking news, follow @BBCBreaking. UK news, @BBCNews. Latest sports news @BBCSport\", 'url': 'https://t.co/4zUWrLAYqP', 'entities': {'url': {'urls': [{'url': 'https://t.co/4zUWrLAYqP', 'expanded_url': 'http://www.bbc.com/news', 'display_url': 'bbc.com/news', 'indices': [0, 23]}]}, 'description': {'urls': []}}, 'protected': False, 'followers_count': 39094605, 'friends_count': 20, 'listed_count': 132997, 'created_at': 'Thu Feb 01 07:44:29 +0000 2007', 'favourites_count': 1, 'utc_offset': None, 'time_zone': None, 'geo_enabled': True, 'verified': True, 'statuses_count': 355128, 'lang': None, 'contributors_enabled': False, 'is_translator': False, 'is_translation_enabled': True, 'profile_background_color': 'FFFFFF', 'profile_background_image_url': 'http://abs.twimg.com/images/themes/theme1/bg.png', 'profile_background_image_url_https': 'https://abs.twimg.com/images/themes/theme1/bg.png', 'profile_background_tile': False, 'profile_image_url': 'http://pbs.twimg.com/profile_images/1529107170448523264/q3VwEx38_normal.jpg', 'profile_image_url_https': 'https://pbs.twimg.com/profile_images/1529107170448523264/q3VwEx38_normal.jpg', 'profile_banner_url': 'https://pbs.twimg.com/profile_banners/742143/1663658662', 'profile_link_color': '1F527B', 'profile_sidebar_border_color': 'FFFFFF', 'profile_sidebar_fill_color': 'FFFFFF', 'profile_text_color': '5A5A5A', 'profile_use_background_image': True, 'has_extended_profile': False, 'default_profile': False, 'default_profile_image': False, 'following': True, 'follow_request_sent': False, 'notifications': False, 'translator_type': 'none', 'withheld_in_countries': []}, 'geo': None, 'coordinates': None, 'place': None, 'contributors': None, 'is_quote_status': False, 'retweet_count': 10, 'favorite_count': 55, 'favorited': False, 'retweeted': False, 'possibly_sensitive': False, 'possibly_sensitive_appealable': False, 'lang': 'en'}, created_at=datetime.datetime(2022, 12, 4, 11, 2, 5, tzinfo=datetime.timezone.utc), id=1599358375028002817, id_str='1599358375028002817', text='Cutting energy prices will take years, says power boss https://t.co/SgA12hAF58', truncated=False, entities={'hashtags': [], 'symbols': [], 'user_mentions': [], 'urls': [{'url': 'https://t.co/SgA12hAF58', 'expanded_url': 'https://bbc.in/3ixS8aX', 'display_url': 'bbc.in/3ixS8aX', 'indices': [55, 78]}]}, source='SocialFlow', source_url='http://www.socialflow.com', in_reply_to_status_id=None, in_reply_to_status_id_str=None, in_reply_to_user_id=None, in_reply_to_user_id_str=None, in_reply_to_screen_name=None, author=User(_api=<tweepy.api.API object at 0x000001B345F17E50>, _json={'id': 742143, 'id_str': '742143', 'name': 'BBC News (World)', 'screen_name': 'BBCWorld', 'location': 'London, UK', 'description': \"News, features and analysis from the World's newsroom. Breaking news, follow @BBCBreaking. UK news, @BBCNews. Latest sports news @BBCSport\", 'url': 'https://t.co/4zUWrLAYqP', 'entities': {'url': {'urls': [{'url': 'https://t.co/4zUWrLAYqP', 'expanded_url': 'http://www.bbc.com/news', 'display_url': 'bbc.com/news', 'indices': [0, 23]}]}, 'description': {'urls': []}}, 'protected': False, 'followers_count': 39094605, 'friends_count': 20, 'listed_count': 132997, 'created_at': 'Thu Feb 01 07:44:29 +0000 2007', 'favourites_count': 1, 'utc_offset': None, 'time_zone': None, 'geo_enabled': True, 'verified': True, 'statuses_count': 355128, 'lang': None, 'contributors_enabled': False, 'is_translator': False, 'is_translation_enabled': True, 'profile_background_color': 'FFFFFF', 'profile_background_image_url': 'http://abs.twimg.com/images/themes/theme1/bg.png', 'profile_background_image_url_https': 'https://abs.twimg.com/images/themes/theme1/bg.png', 'profile_background_tile': False, 'profile_image_url': 'http://pbs.twimg.com/profile_images/1529107170448523264/q3VwEx38_normal.jpg', 'profile_image_url_https': 'https://pbs.twimg.com/profile_images/1529107170448523264/q3VwEx38_normal.jpg', 'profile_banner_url': 'https://pbs.twimg.com/profile_banners/742143/1663658662', 'profile_link_color': '1F527B', 'profile_sidebar_border_color': 'FFFFFF', 'profile_sidebar_fill_color': 'FFFFFF', 'profile_text_color': '5A5A5A', 'profile_use_background_image': True, 'has_extended_profile': False, 'default_profile': False, 'default_profile_image': False, 'following': True, 'follow_request_sent': False, 'notifications': False, 'translator_type': 'none', 'withheld_in_countries': []}, id=742143, id_str='742143', name='BBC News (World)', screen_name='BBCWorld', location='London, UK', description=\"News, features and analysis from the World's newsroom. Breaking news, follow @BBCBreaking. UK news, @BBCNews. Latest sports news @BBCSport\", url='https://t.co/4zUWrLAYqP', entities={'url': {'urls': [{'url': 'https://t.co/4zUWrLAYqP', 'expanded_url': 'http://www.bbc.com/news', 'display_url': 'bbc.com/news', 'indices': [0, 23]}]}, 'description': {'urls': []}}, protected=False, followers_count=39094605, friends_count=20, listed_count=132997, created_at=datetime.datetime(2007, 2, 1, 7, 44, 29, tzinfo=datetime.timezone.utc), favourites_count=1, utc_offset=None, time_zone=None, geo_enabled=True, verified=True, statuses_count=355128, lang=None, contributors_enabled=False, is_translator=False, is_translation_enabled=True, profile_background_color='FFFFFF', profile_background_image_url='http://abs.twimg.com/images/themes/theme1/bg.png', profile_background_image_url_https='https://abs.twimg.com/images/themes/theme1/bg.png', profile_background_tile=False, profile_image_url='http://pbs.twimg.com/profile_images/1529107170448523264/q3VwEx38_normal.jpg', profile_image_url_https='https://pbs.twimg.com/profile_images/1529107170448523264/q3VwEx38_normal.jpg', profile_banner_url='https://pbs.twimg.com/profile_banners/742143/1663658662', profile_link_color='1F527B', profile_sidebar_border_color='FFFFFF', profile_sidebar_fill_color='FFFFFF', profile_text_color='5A5A5A', profile_use_background_image=True, has_extended_profile=False, default_profile=False, default_profile_image=False, following=True, follow_request_sent=False, notifications=False, translator_type='none', withheld_in_countries=[]), user=User(_api=<tweepy.api.API object at 0x000001B345F17E50>, _json={'id': 742143, 'id_str': '742143', 'name': 'BBC News (World)', 'screen_name': 'BBCWorld', 'location': 'London, UK', 'description': \"News, features and analysis from the World's newsroom. Breaking news, follow @BBCBreaking. UK news, @BBCNews. Latest sports news @BBCSport\", 'url': 'https://t.co/4zUWrLAYqP', 'entities': {'url': {'urls': [{'url': 'https://t.co/4zUWrLAYqP', 'expanded_url': 'http://www.bbc.com/news', 'display_url': 'bbc.com/news', 'indices': [0, 23]}]}, 'description': {'urls': []}}, 'protected': False, 'followers_count': 39094605, 'friends_count': 20, 'listed_count': 132997, 'created_at': 'Thu Feb 01 07:44:29 +0000 2007', 'favourites_count': 1, 'utc_offset': None, 'time_zone': None, 'geo_enabled': True, 'verified': True, 'statuses_count': 355128, 'lang': None, 'contributors_enabled': False, 'is_translator': False, 'is_translation_enabled': True, 'profile_background_color': 'FFFFFF', 'profile_background_image_url': 'http://abs.twimg.com/images/themes/theme1/bg.png', 'profile_background_image_url_https': 'https://abs.twimg.com/images/themes/theme1/bg.png', 'profile_background_tile': False, 'profile_image_url': 'http://pbs.twimg.com/profile_images/1529107170448523264/q3VwEx38_normal.jpg', 'profile_image_url_https': 'https://pbs.twimg.com/profile_images/1529107170448523264/q3VwEx38_normal.jpg', 'profile_banner_url': 'https://pbs.twimg.com/profile_banners/742143/1663658662', 'profile_link_color': '1F527B', 'profile_sidebar_border_color': 'FFFFFF', 'profile_sidebar_fill_color': 'FFFFFF', 'profile_text_color': '5A5A5A', 'profile_use_background_image': True, 'has_extended_profile': False, 'default_profile': False, 'default_profile_image': False, 'following': True, 'follow_request_sent': False, 'notifications': False, 'translator_type': 'none', 'withheld_in_countries': []}, id=742143, id_str='742143', name='BBC News (World)', screen_name='BBCWorld', location='London, UK', description=\"News, features and analysis from the World's newsroom. Breaking news, follow @BBCBreaking. UK news, @BBCNews. Latest sports news @BBCSport\", url='https://t.co/4zUWrLAYqP', entities={'url': {'urls': [{'url': 'https://t.co/4zUWrLAYqP', 'expanded_url': 'http://www.bbc.com/news', 'display_url': 'bbc.com/news', 'indices': [0, 23]}]}, 'description': {'urls': []}}, protected=False, followers_count=39094605, friends_count=20, listed_count=132997, created_at=datetime.datetime(2007, 2, 1, 7, 44, 29, tzinfo=datetime.timezone.utc), favourites_count=1, utc_offset=None, time_zone=None, geo_enabled=True, verified=True, statuses_count=355128, lang=None, contributors_enabled=False, is_translator=False, is_translation_enabled=True, profile_background_color='FFFFFF', profile_background_image_url='http://abs.twimg.com/images/themes/theme1/bg.png', profile_background_image_url_https='https://abs.twimg.com/images/themes/theme1/bg.png', profile_background_tile=False, profile_image_url='http://pbs.twimg.com/profile_images/1529107170448523264/q3VwEx38_normal.jpg', profile_image_url_https='https://pbs.twimg.com/profile_images/1529107170448523264/q3VwEx38_normal.jpg', profile_banner_url='https://pbs.twimg.com/profile_banners/742143/1663658662', profile_link_color='1F527B', profile_sidebar_border_color='FFFFFF', profile_sidebar_fill_color='FFFFFF', profile_text_color='5A5A5A', profile_use_background_image=True, has_extended_profile=False, default_profile=False, default_profile_image=False, following=True, follow_request_sent=False, notifications=False, translator_type='none', withheld_in_countries=[]), geo=None, coordinates=None, place=None, contributors=None, is_quote_status=False, retweet_count=10, favorite_count=55, favorited=False, retweeted=False, possibly_sensitive=False, possibly_sensitive_appealable=False, lang='en'), Status(_api=<tweepy.api.API object at 0x000001B345F17E50>, _json={'created_at': 'Sun Dec 04 11:01:55 +0000 2022', 'id': 1599358330744590338, 'id_str': '1599358330744590338', 'text': 'El 12º Foro de Excelencia de los Clústeres de automoción españoles expone el caso de éxito de #Linkener que abre un… https://t.co/YCGSRQh9pd', 'truncated': True, 'entities': {'hashtags': [{'text': 'Linkener', 'indices': [94, 103]}], 'symbols': [], 'user_mentions': [], 'urls': [{'url': 'https://t.co/YCGSRQh9pd', 'expanded_url': 'https://twitter.com/i/web/status/1599358330744590338', 'display_url': 'twitter.com/i/web/status/1…', 'indices': [117, 140]}]}, 'source': '<a href=\"https://metricool.com\" rel=\"nofollow\">Metricool</a>', 'in_reply_to_status_id': None, 'in_reply_to_status_id_str': None, 'in_reply_to_user_id': None, 'in_reply_to_user_id_str': None, 'in_reply_to_screen_name': None, 'user': {'id': 2321294030, 'id_str': '2321294030', 'name': 'Disruptores e Innovadores', 'screen_name': 'disruptores_inn', 'location': '', 'description': 'Disruptores e Innovadores (D+I) es el medio líder en innovación, digitalización, startups y nuevas fronteras de la tecnología.\\nEn @invertia y @elespanolcom', 'url': 'https://t.co/GSchkw65F7', 'entities': {'url': {'urls': [{'url': 'https://t.co/GSchkw65F7', 'expanded_url': 'https://www.elespanol.com/invertia/disruptores-innovadores/', 'display_url': 'elespanol.com/invertia/disru…', 'indices': [0, 23]}]}, 'description': {'urls': []}}, 'protected': False, 'followers_count': 15889, 'friends_count': 1195, 'listed_count': 703, 'created_at': 'Fri Jan 31 20:02:19 +0000 2014', 'favourites_count': 20218, 'utc_offset': None, 'time_zone': None, 'geo_enabled': True, 'verified': False, 'statuses_count': 38781, 'lang': None, 'contributors_enabled': False, 'is_translator': False, 'is_translation_enabled': False, 'profile_background_color': '000000', 'profile_background_image_url': 'http://abs.twimg.com/images/themes/theme1/bg.png', 'profile_background_image_url_https': 'https://abs.twimg.com/images/themes/theme1/bg.png', 'profile_background_tile': False, 'profile_image_url': 'http://pbs.twimg.com/profile_images/1582280218294865921/JydEfNa2_normal.jpg', 'profile_image_url_https': 'https://pbs.twimg.com/profile_images/1582280218294865921/JydEfNa2_normal.jpg', 'profile_banner_url': 'https://pbs.twimg.com/profile_banners/2321294030/1606673353', 'profile_link_color': '1B95E0', 'profile_sidebar_border_color': '000000', 'profile_sidebar_fill_color': '000000', 'profile_text_color': '000000', 'profile_use_background_image': False, 'has_extended_profile': False, 'default_profile': False, 'default_profile_image': False, 'following': True, 'follow_request_sent': False, 'notifications': False, 'translator_type': 'none', 'withheld_in_countries': []}, 'geo': None, 'coordinates': None, 'place': None, 'contributors': None, 'is_quote_status': False, 'retweet_count': 0, 'favorite_count': 0, 'favorited': False, 'retweeted': False, 'possibly_sensitive': False, 'possibly_sensitive_appealable': False, 'lang': 'es'}, created_at=datetime.datetime(2022, 12, 4, 11, 1, 55, tzinfo=datetime.timezone.utc), id=1599358330744590338, id_str='1599358330744590338', text='El 12º Foro de Excelencia de los Clústeres de automoción españoles expone el caso de éxito de #Linkener que abre un… https://t.co/YCGSRQh9pd', truncated=True, entities={'hashtags': [{'text': 'Linkener', 'indices': [94, 103]}], 'symbols': [], 'user_mentions': [], 'urls': [{'url': 'https://t.co/YCGSRQh9pd', 'expanded_url': 'https://twitter.com/i/web/status/1599358330744590338', 'display_url': 'twitter.com/i/web/status/1…', 'indices': [117, 140]}]}, source='Metricool', source_url='https://metricool.com', in_reply_to_status_id=None, in_reply_to_status_id_str=None, in_reply_to_user_id=None, in_reply_to_user_id_str=None, in_reply_to_screen_name=None, author=User(_api=<tweepy.api.API object at 0x000001B345F17E50>, _json={'id': 2321294030, 'id_str': '2321294030', 'name': 'Disruptores e Innovadores', 'screen_name': 'disruptores_inn', 'location': '', 'description': 'Disruptores e Innovadores (D+I) es el medio líder en innovación, digitalización, startups y nuevas fronteras de la tecnología.\\nEn @invertia y @elespanolcom', 'url': 'https://t.co/GSchkw65F7', 'entities': {'url': {'urls': [{'url': 'https://t.co/GSchkw65F7', 'expanded_url': 'https://www.elespanol.com/invertia/disruptores-innovadores/', 'display_url': 'elespanol.com/invertia/disru…', 'indices': [0, 23]}]}, 'description': {'urls': []}}, 'protected': False, 'followers_count': 15889, 'friends_count': 1195, 'listed_count': 703, 'created_at': 'Fri Jan 31 20:02:19 +0000 2014', 'favourites_count': 20218, 'utc_offset': None, 'time_zone': None, 'geo_enabled': True, 'verified': False, 'statuses_count': 38781, 'lang': None, 'contributors_enabled': False, 'is_translator': False, 'is_translation_enabled': False, 'profile_background_color': '000000', 'profile_background_image_url': 'http://abs.twimg.com/images/themes/theme1/bg.png', 'profile_background_image_url_https': 'https://abs.twimg.com/images/themes/theme1/bg.png', 'profile_background_tile': False, 'profile_image_url': 'http://pbs.twimg.com/profile_images/1582280218294865921/JydEfNa2_normal.jpg', 'profile_image_url_https': 'https://pbs.twimg.com/profile_images/1582280218294865921/JydEfNa2_normal.jpg', 'profile_banner_url': 'https://pbs.twimg.com/profile_banners/2321294030/1606673353', 'profile_link_color': '1B95E0', 'profile_sidebar_border_color': '000000', 'profile_sidebar_fill_color': '000000', 'profile_text_color': '000000', 'profile_use_background_image': False, 'has_extended_profile': False, 'default_profile': False, 'default_profile_image': False, 'following': True, 'follow_request_sent': False, 'notifications': False, 'translator_type': 'none', 'withheld_in_countries': []}, id=2321294030, id_str='2321294030', name='Disruptores e Innovadores', screen_name='disruptores_inn', location='', description='Disruptores e Innovadores (D+I) es el medio líder en innovación, digitalización, startups y nuevas fronteras de la tecnología.\\nEn @invertia y @elespanolcom', url='https://t.co/GSchkw65F7', entities={'url': {'urls': [{'url': 'https://t.co/GSchkw65F7', 'expanded_url': 'https://www.elespanol.com/invertia/disruptores-innovadores/', 'display_url': 'elespanol.com/invertia/disru…', 'indices': [0, 23]}]}, 'description': {'urls': []}}, protected=False, followers_count=15889, friends_count=1195, listed_count=703, created_at=datetime.datetime(2014, 1, 31, 20, 2, 19, tzinfo=datetime.timezone.utc), favourites_count=20218, utc_offset=None, time_zone=None, geo_enabled=True, verified=False, statuses_count=38781, lang=None, contributors_enabled=False, is_translator=False, is_translation_enabled=False, profile_background_color='000000', profile_background_image_url='http://abs.twimg.com/images/themes/theme1/bg.png', profile_background_image_url_https='https://abs.twimg.com/images/themes/theme1/bg.png', profile_background_tile=False, profile_image_url='http://pbs.twimg.com/profile_images/1582280218294865921/JydEfNa2_normal.jpg', profile_image_url_https='https://pbs.twimg.com/profile_images/1582280218294865921/JydEfNa2_normal.jpg', profile_banner_url='https://pbs.twimg.com/profile_banners/2321294030/1606673353', profile_link_color='1B95E0', profile_sidebar_border_color='000000', profile_sidebar_fill_color='000000', profile_text_color='000000', profile_use_background_image=False, has_extended_profile=False, default_profile=False, default_profile_image=False, following=True, follow_request_sent=False, notifications=False, translator_type='none', withheld_in_countries=[]), user=User(_api=<tweepy.api.API object at 0x000001B345F17E50>, _json={'id': 2321294030, 'id_str': '2321294030', 'name': 'Disruptores e Innovadores', 'screen_name': 'disruptores_inn', 'location': '', 'description': 'Disruptores e Innovadores (D+I) es el medio líder en innovación, digitalización, startups y nuevas fronteras de la tecnología.\\nEn @invertia y @elespanolcom', 'url': 'https://t.co/GSchkw65F7', 'entities': {'url': {'urls': [{'url': 'https://t.co/GSchkw65F7', 'expanded_url': 'https://www.elespanol.com/invertia/disruptores-innovadores/', 'display_url': 'elespanol.com/invertia/disru…', 'indices': [0, 23]}]}, 'description': {'urls': []}}, 'protected': False, 'followers_count': 15889, 'friends_count': 1195, 'listed_count': 703, 'created_at': 'Fri Jan 31 20:02:19 +0000 2014', 'favourites_count': 20218, 'utc_offset': None, 'time_zone': None, 'geo_enabled': True, 'verified': False, 'statuses_count': 38781, 'lang': None, 'contributors_enabled': False, 'is_translator': False, 'is_translation_enabled': False, 'profile_background_color': '000000', 'profile_background_image_url': 'http://abs.twimg.com/images/themes/theme1/bg.png', 'profile_background_image_url_https': 'https://abs.twimg.com/images/themes/theme1/bg.png', 'profile_background_tile': False, 'profile_image_url': 'http://pbs.twimg.com/profile_images/1582280218294865921/JydEfNa2_normal.jpg', 'profile_image_url_https': 'https://pbs.twimg.com/profile_images/1582280218294865921/JydEfNa2_normal.jpg', 'profile_banner_url': 'https://pbs.twimg.com/profile_banners/2321294030/1606673353', 'profile_link_color': '1B95E0', 'profile_sidebar_border_color': '000000', 'profile_sidebar_fill_color': '000000', 'profile_text_color': '000000', 'profile_use_background_image': False, 'has_extended_profile': False, 'default_profile': False, 'default_profile_image': False, 'following': True, 'follow_request_sent': False, 'notifications': False, 'translator_type': 'none', 'withheld_in_countries': []}, id=2321294030, id_str='2321294030', name='Disruptores e Innovadores', screen_name='disruptores_inn', location='', description='Disruptores e Innovadores (D+I) es el medio líder en innovación, digitalización, startups y nuevas fronteras de la tecnología.\\nEn @invertia y @elespanolcom', url='https://t.co/GSchkw65F7', entities={'url': {'urls': [{'url': 'https://t.co/GSchkw65F7', 'expanded_url': 'https://www.elespanol.com/invertia/disruptores-innovadores/', 'display_url': 'elespanol.com/invertia/disru…', 'indices': [0, 23]}]}, 'description': {'urls': []}}, protected=False, followers_count=15889, friends_count=1195, listed_count=703, created_at=datetime.datetime(2014, 1, 31, 20, 2, 19, tzinfo=datetime.timezone.utc), favourites_count=20218, utc_offset=None, time_zone=None, geo_enabled=True, verified=False, statuses_count=38781, lang=None, contributors_enabled=False, is_translator=False, is_translation_enabled=False, profile_background_color='000000', profile_background_image_url='http://abs.twimg.com/images/themes/theme1/bg.png', profile_background_image_url_https='https://abs.twimg.com/images/themes/theme1/bg.png', profile_background_tile=False, profile_image_url='http://pbs.twimg.com/profile_images/1582280218294865921/JydEfNa2_normal.jpg', profile_image_url_https='https://pbs.twimg.com/profile_images/1582280218294865921/JydEfNa2_normal.jpg', profile_banner_url='https://pbs.twimg.com/profile_banners/2321294030/1606673353', profile_link_color='1B95E0', profile_sidebar_border_color='000000', profile_sidebar_fill_color='000000', profile_text_color='000000', profile_use_background_image=False, has_extended_profile=False, default_profile=False, default_profile_image=False, following=True, follow_request_sent=False, notifications=False, translator_type='none', withheld_in_countries=[]), geo=None, coordinates=None, place=None, contributors=None, is_quote_status=False, retweet_count=0, favorite_count=0, favorited=False, retweeted=False, possibly_sensitive=False, possibly_sensitive_appealable=False, lang='es'), Status(_api=<tweepy.api.API object at 0x000001B345F17E50>, _json={'created_at': 'Sun Dec 04 11:01:15 +0000 2022', 'id': 1599358165279440896, 'id_str': '1599358165279440896', 'text': '📺 @CSurNoticias se hace eco de la iniciativa llevada a cabo por @MEMOLabUGR, en el marco del proyecto “Recuperemos… https://t.co/VQDZT1a9J7', 'truncated': True, 'entities': {'hashtags': [], 'symbols': [], 'user_mentions': [{'screen_name': 'CSurNoticias', 'name': 'CanalSurNoticias', 'id': 36043335, 'id_str': '36043335', 'indices': [2, 15]}, {'screen_name': 'MEMOLabUGR', 'name': 'MEMOLab', 'id': 966341589697290241, 'id_str': '966341589697290241', 'indices': [64, 75]}], 'urls': [{'url': 'https://t.co/VQDZT1a9J7', 'expanded_url': 'https://twitter.com/i/web/status/1599358165279440896', 'display_url': 'twitter.com/i/web/status/1…', 'indices': [116, 139]}]}, 'source': '<a href=\"http://twitter.com/download/iphone\" rel=\"nofollow\">Twitter for iPhone</a>', 'in_reply_to_status_id': None, 'in_reply_to_status_id_str': None, 'in_reply_to_user_id': None, 'in_reply_to_user_id_str': None, 'in_reply_to_screen_name': None, 'user': {'id': 144804999, 'id_str': '144804999', 'name': 'Universidad Granada', 'screen_name': 'CanalUGR', 'location': 'Granada, España', 'description': 'Twitter oficial de la Universidad de Granada. Una de las universidades de mayor prestigio europeo, fundada en 1531 y con 70.000 estudiantes.', 'url': 'https://t.co/4SySLcocEH', 'entities': {'url': {'urls': [{'url': 'https://t.co/4SySLcocEH', 'expanded_url': 'http://canal.ugr.es', 'display_url': 'canal.ugr.es', 'indices': [0, 23]}]}, 'description': {'urls': []}}, 'protected': False, 'followers_count': 142034, 'friends_count': 84681, 'listed_count': 1322, 'created_at': 'Mon May 17 10:25:19 +0000 2010', 'favourites_count': 4178, 'utc_offset': None, 'time_zone': None, 'geo_enabled': True, 'verified': True, 'statuses_count': 41352, 'lang': None, 'contributors_enabled': False, 'is_translator': False, 'is_translation_enabled': False, 'profile_background_color': 'ECECEC', 'profile_background_image_url': 'http://abs.twimg.com/images/themes/theme1/bg.png', 'profile_background_image_url_https': 'https://abs.twimg.com/images/themes/theme1/bg.png', 'profile_background_tile': False, 'profile_image_url': 'http://pbs.twimg.com/profile_images/1597497640933068800/lvlbRe_S_normal.jpg', 'profile_image_url_https': 'https://pbs.twimg.com/profile_images/1597497640933068800/lvlbRe_S_normal.jpg', 'profile_banner_url': 'https://pbs.twimg.com/profile_banners/144804999/1669708093', 'profile_link_color': 'DD3A15', 'profile_sidebar_border_color': 'DD3A15', 'profile_sidebar_fill_color': 'CCCCCC', 'profile_text_color': '333333', 'profile_use_background_image': False, 'has_extended_profile': False, 'default_profile': False, 'default_profile_image': False, 'following': True, 'follow_request_sent': False, 'notifications': False, 'translator_type': 'none', 'withheld_in_countries': []}, 'geo': None, 'coordinates': None, 'place': None, 'contributors': None, 'is_quote_status': False, 'retweet_count': 0, 'favorite_count': 0, 'favorited': False, 'retweeted': False, 'possibly_sensitive': False, 'possibly_sensitive_appealable': False, 'lang': 'es'}, created_at=datetime.datetime(2022, 12, 4, 11, 1, 15, tzinfo=datetime.timezone.utc), id=1599358165279440896, id_str='1599358165279440896', text='📺 @CSurNoticias se hace eco de la iniciativa llevada a cabo por @MEMOLabUGR, en el marco del proyecto “Recuperemos… https://t.co/VQDZT1a9J7', truncated=True, entities={'hashtags': [], 'symbols': [], 'user_mentions': [{'screen_name': 'CSurNoticias', 'name': 'CanalSurNoticias', 'id': 36043335, 'id_str': '36043335', 'indices': [2, 15]}, {'screen_name': 'MEMOLabUGR', 'name': 'MEMOLab', 'id': 966341589697290241, 'id_str': '966341589697290241', 'indices': [64, 75]}], 'urls': [{'url': 'https://t.co/VQDZT1a9J7', 'expanded_url': 'https://twitter.com/i/web/status/1599358165279440896', 'display_url': 'twitter.com/i/web/status/1…', 'indices': [116, 139]}]}, source='Twitter for iPhone', source_url='http://twitter.com/download/iphone', in_reply_to_status_id=None, in_reply_to_status_id_str=None, in_reply_to_user_id=None, in_reply_to_user_id_str=None, in_reply_to_screen_name=None, author=User(_api=<tweepy.api.API object at 0x000001B345F17E50>, _json={'id': 144804999, 'id_str': '144804999', 'name': 'Universidad Granada', 'screen_name': 'CanalUGR', 'location': 'Granada, España', 'description': 'Twitter oficial de la Universidad de Granada. Una de las universidades de mayor prestigio europeo, fundada en 1531 y con 70.000 estudiantes.', 'url': 'https://t.co/4SySLcocEH', 'entities': {'url': {'urls': [{'url': 'https://t.co/4SySLcocEH', 'expanded_url': 'http://canal.ugr.es', 'display_url': 'canal.ugr.es', 'indices': [0, 23]}]}, 'description': {'urls': []}}, 'protected': False, 'followers_count': 142034, 'friends_count': 84681, 'listed_count': 1322, 'created_at': 'Mon May 17 10:25:19 +0000 2010', 'favourites_count': 4178, 'utc_offset': None, 'time_zone': None, 'geo_enabled': True, 'verified': True, 'statuses_count': 41352, 'lang': None, 'contributors_enabled': False, 'is_translator': False, 'is_translation_enabled': False, 'profile_background_color': 'ECECEC', 'profile_background_image_url': 'http://abs.twimg.com/images/themes/theme1/bg.png', 'profile_background_image_url_https': 'https://abs.twimg.com/images/themes/theme1/bg.png', 'profile_background_tile': False, 'profile_image_url': 'http://pbs.twimg.com/profile_images/1597497640933068800/lvlbRe_S_normal.jpg', 'profile_image_url_https': 'https://pbs.twimg.com/profile_images/1597497640933068800/lvlbRe_S_normal.jpg', 'profile_banner_url': 'https://pbs.twimg.com/profile_banners/144804999/1669708093', 'profile_link_color': 'DD3A15', 'profile_sidebar_border_color': 'DD3A15', 'profile_sidebar_fill_color': 'CCCCCC', 'profile_text_color': '333333', 'profile_use_background_image': False, 'has_extended_profile': False, 'default_profile': False, 'default_profile_image': False, 'following': True, 'follow_request_sent': False, 'notifications': False, 'translator_type': 'none', 'withheld_in_countries': []}, id=144804999, id_str='144804999', name='Universidad Granada', screen_name='CanalUGR', location='Granada, España', description='Twitter oficial de la Universidad de Granada. Una de las universidades de mayor prestigio europeo, fundada en 1531 y con 70.000 estudiantes.', url='https://t.co/4SySLcocEH', entities={'url': {'urls': [{'url': 'https://t.co/4SySLcocEH', 'expanded_url': 'http://canal.ugr.es', 'display_url': 'canal.ugr.es', 'indices': [0, 23]}]}, 'description': {'urls': []}}, protected=False, followers_count=142034, friends_count=84681, listed_count=1322, created_at=datetime.datetime(2010, 5, 17, 10, 25, 19, tzinfo=datetime.timezone.utc), favourites_count=4178, utc_offset=None, time_zone=None, geo_enabled=True, verified=True, statuses_count=41352, lang=None, contributors_enabled=False, is_translator=False, is_translation_enabled=False, profile_background_color='ECECEC', profile_background_image_url='http://abs.twimg.com/images/themes/theme1/bg.png', profile_background_image_url_https='https://abs.twimg.com/images/themes/theme1/bg.png', profile_background_tile=False, profile_image_url='http://pbs.twimg.com/profile_images/1597497640933068800/lvlbRe_S_normal.jpg', profile_image_url_https='https://pbs.twimg.com/profile_images/1597497640933068800/lvlbRe_S_normal.jpg', profile_banner_url='https://pbs.twimg.com/profile_banners/144804999/1669708093', profile_link_color='DD3A15', profile_sidebar_border_color='DD3A15', profile_sidebar_fill_color='CCCCCC', profile_text_color='333333', profile_use_background_image=False, has_extended_profile=False, default_profile=False, default_profile_image=False, following=True, follow_request_sent=False, notifications=False, translator_type='none', withheld_in_countries=[]), user=User(_api=<tweepy.api.API object at 0x000001B345F17E50>, _json={'id': 144804999, 'id_str': '144804999', 'name': 'Universidad Granada', 'screen_name': 'CanalUGR', 'location': 'Granada, España', 'description': 'Twitter oficial de la Universidad de Granada. Una de las universidades de mayor prestigio europeo, fundada en 1531 y con 70.000 estudiantes.', 'url': 'https://t.co/4SySLcocEH', 'entities': {'url': {'urls': [{'url': 'https://t.co/4SySLcocEH', 'expanded_url': 'http://canal.ugr.es', 'display_url': 'canal.ugr.es', 'indices': [0, 23]}]}, 'description': {'urls': []}}, 'protected': False, 'followers_count': 142034, 'friends_count': 84681, 'listed_count': 1322, 'created_at': 'Mon May 17 10:25:19 +0000 2010', 'favourites_count': 4178, 'utc_offset': None, 'time_zone': None, 'geo_enabled': True, 'verified': True, 'statuses_count': 41352, 'lang': None, 'contributors_enabled': False, 'is_translator': False, 'is_translation_enabled': False, 'profile_background_color': 'ECECEC', 'profile_background_image_url': 'http://abs.twimg.com/images/themes/theme1/bg.png', 'profile_background_image_url_https': 'https://abs.twimg.com/images/themes/theme1/bg.png', 'profile_background_tile': False, 'profile_image_url': 'http://pbs.twimg.com/profile_images/1597497640933068800/lvlbRe_S_normal.jpg', 'profile_image_url_https': 'https://pbs.twimg.com/profile_images/1597497640933068800/lvlbRe_S_normal.jpg', 'profile_banner_url': 'https://pbs.twimg.com/profile_banners/144804999/1669708093', 'profile_link_color': 'DD3A15', 'profile_sidebar_border_color': 'DD3A15', 'profile_sidebar_fill_color': 'CCCCCC', 'profile_text_color': '333333', 'profile_use_background_image': False, 'has_extended_profile': False, 'default_profile': False, 'default_profile_image': False, 'following': True, 'follow_request_sent': False, 'notifications': False, 'translator_type': 'none', 'withheld_in_countries': []}, id=144804999, id_str='144804999', name='Universidad Granada', screen_name='CanalUGR', location='Granada, España', description='Twitter oficial de la Universidad de Granada. Una de las universidades de mayor prestigio europeo, fundada en 1531 y con 70.000 estudiantes.', url='https://t.co/4SySLcocEH', entities={'url': {'urls': [{'url': 'https://t.co/4SySLcocEH', 'expanded_url': 'http://canal.ugr.es', 'display_url': 'canal.ugr.es', 'indices': [0, 23]}]}, 'description': {'urls': []}}, protected=False, followers_count=142034, friends_count=84681, listed_count=1322, created_at=datetime.datetime(2010, 5, 17, 10, 25, 19, tzinfo=datetime.timezone.utc), favourites_count=4178, utc_offset=None, time_zone=None, geo_enabled=True, verified=True, statuses_count=41352, lang=None, contributors_enabled=False, is_translator=False, is_translation_enabled=False, profile_background_color='ECECEC', profile_background_image_url='http://abs.twimg.com/images/themes/theme1/bg.png', profile_background_image_url_https='https://abs.twimg.com/images/themes/theme1/bg.png', profile_background_tile=False, profile_image_url='http://pbs.twimg.com/profile_images/1597497640933068800/lvlbRe_S_normal.jpg', profile_image_url_https='https://pbs.twimg.com/profile_images/1597497640933068800/lvlbRe_S_normal.jpg', profile_banner_url='https://pbs.twimg.com/profile_banners/144804999/1669708093', profile_link_color='DD3A15', profile_sidebar_border_color='DD3A15', profile_sidebar_fill_color='CCCCCC', profile_text_color='333333', profile_use_background_image=False, has_extended_profile=False, default_profile=False, default_profile_image=False, following=True, follow_request_sent=False, notifications=False, translator_type='none', withheld_in_countries=[]), geo=None, coordinates=None, place=None, contributors=None, is_quote_status=False, retweet_count=0, favorite_count=0, favorited=False, retweeted=False, possibly_sensitive=False, possibly_sensitive_appealable=False, lang='es'), Status(_api=<tweepy.api.API object at 0x000001B345F17E50>, _json={'created_at': 'Sun Dec 04 11:01:01 +0000 2022', 'id': 1599358105099407360, 'id_str': '1599358105099407360', 'text': 'Hilario Arbelaitz estudió para cura. Pero cambió la sotana por el delantal y se hizo definitivamente cocinero. E hi… https://t.co/CxBa6fqHtJ', 'truncated': True, 'entities': {'hashtags': [], 'symbols': [], 'user_mentions': [], 'urls': [{'url': 'https://t.co/CxBa6fqHtJ', 'expanded_url': 'https://twitter.com/i/web/status/1599358105099407360', 'display_url': 'twitter.com/i/web/status/1…', 'indices': [117, 140]}]}, 'source': '<a href=\"https://www.echobox.com\" rel=\"nofollow\">Echobox</a>', 'in_reply_to_status_id': None, 'in_reply_to_status_id_str': None, 'in_reply_to_user_id': None, 'in_reply_to_user_id_str': None, 'in_reply_to_screen_name': None, 'user': {'id': 7996082, 'id_str': '7996082', 'name': 'EL PAÍS', 'screen_name': 'el_pais', 'location': 'Madrid', 'description': 'La mejor información en español. Con nuestra mirada puesta en España, Europa y América. Suscríbete: https://t.co/Zh3X1PF9zE', 'url': 'https://t.co/6g5qG3Lgo3', 'entities': {'url': {'urls': [{'url': 'https://t.co/6g5qG3Lgo3', 'expanded_url': 'https://elpais.com/', 'display_url': 'elpais.com', 'indices': [0, 23]}]}, 'description': {'urls': [{'url': 'https://t.co/Zh3X1PF9zE', 'expanded_url': 'https://bit.ly/39L9ooB', 'display_url': 'bit.ly/39L9ooB', 'indices': [100, 123]}]}}, 'protected': False, 'followers_count': 8717809, 'friends_count': 832, 'listed_count': 58128, 'created_at': 'Mon Aug 06 16:20:09 +0000 2007', 'favourites_count': 2021, 'utc_offset': None, 'time_zone': None, 'geo_enabled': True, 'verified': True, 'statuses_count': 715900, 'lang': None, 'contributors_enabled': False, 'is_translator': False, 'is_translation_enabled': True, 'profile_background_color': 'FFFFFF', 'profile_background_image_url': 'http://abs.twimg.com/images/themes/theme1/bg.png', 'profile_background_image_url_https': 'https://abs.twimg.com/images/themes/theme1/bg.png', 'profile_background_tile': False, 'profile_image_url': 'http://pbs.twimg.com/profile_images/1236548818402971648/F-pcFaq6_normal.jpg', 'profile_image_url_https': 'https://pbs.twimg.com/profile_images/1236548818402971648/F-pcFaq6_normal.jpg', 'profile_banner_url': 'https://pbs.twimg.com/profile_banners/7996082/1647026716', 'profile_link_color': '0084B4', 'profile_sidebar_border_color': 'FFFFFF', 'profile_sidebar_fill_color': 'F1F4F9', 'profile_text_color': '333333', 'profile_use_background_image': False, 'has_extended_profile': True, 'default_profile': False, 'default_profile_image': False, 'following': True, 'follow_request_sent': False, 'notifications': False, 'translator_type': 'none', 'withheld_in_countries': []}, 'geo': None, 'coordinates': None, 'place': None, 'contributors': None, 'is_quote_status': False, 'retweet_count': 0, 'favorite_count': 2, 'favorited': False, 'retweeted': False, 'possibly_sensitive': False, 'possibly_sensitive_appealable': False, 'lang': 'es'}, created_at=datetime.datetime(2022, 12, 4, 11, 1, 1, tzinfo=datetime.timezone.utc), id=1599358105099407360, id_str='1599358105099407360', text='Hilario Arbelaitz estudió para cura. Pero cambió la sotana por el delantal y se hizo definitivamente cocinero. E hi… https://t.co/CxBa6fqHtJ', truncated=True, entities={'hashtags': [], 'symbols': [], 'user_mentions': [], 'urls': [{'url': 'https://t.co/CxBa6fqHtJ', 'expanded_url': 'https://twitter.com/i/web/status/1599358105099407360', 'display_url': 'twitter.com/i/web/status/1…', 'indices': [117, 140]}]}, source='Echobox', source_url='https://www.echobox.com', in_reply_to_status_id=None, in_reply_to_status_id_str=None, in_reply_to_user_id=None, in_reply_to_user_id_str=None, in_reply_to_screen_name=None, author=User(_api=<tweepy.api.API object at 0x000001B345F17E50>, _json={'id': 7996082, 'id_str': '7996082', 'name': 'EL PAÍS', 'screen_name': 'el_pais', 'location': 'Madrid', 'description': 'La mejor información en español. Con nuestra mirada puesta en España, Europa y América. Suscríbete: https://t.co/Zh3X1PF9zE', 'url': 'https://t.co/6g5qG3Lgo3', 'entities': {'url': {'urls': [{'url': 'https://t.co/6g5qG3Lgo3', 'expanded_url': 'https://elpais.com/', 'display_url': 'elpais.com', 'indices': [0, 23]}]}, 'description': {'urls': [{'url': 'https://t.co/Zh3X1PF9zE', 'expanded_url': 'https://bit.ly/39L9ooB', 'display_url': 'bit.ly/39L9ooB', 'indices': [100, 123]}]}}, 'protected': False, 'followers_count': 8717809, 'friends_count': 832, 'listed_count': 58128, 'created_at': 'Mon Aug 06 16:20:09 +0000 2007', 'favourites_count': 2021, 'utc_offset': None, 'time_zone': None, 'geo_enabled': True, 'verified': True, 'statuses_count': 715900, 'lang': None, 'contributors_enabled': False, 'is_translator': False, 'is_translation_enabled': True, 'profile_background_color': 'FFFFFF', 'profile_background_image_url': 'http://abs.twimg.com/images/themes/theme1/bg.png', 'profile_background_image_url_https': 'https://abs.twimg.com/images/themes/theme1/bg.png', 'profile_background_tile': False, 'profile_image_url': 'http://pbs.twimg.com/profile_images/1236548818402971648/F-pcFaq6_normal.jpg', 'profile_image_url_https': 'https://pbs.twimg.com/profile_images/1236548818402971648/F-pcFaq6_normal.jpg', 'profile_banner_url': 'https://pbs.twimg.com/profile_banners/7996082/1647026716', 'profile_link_color': '0084B4', 'profile_sidebar_border_color': 'FFFFFF', 'profile_sidebar_fill_color': 'F1F4F9', 'profile_text_color': '333333', 'profile_use_background_image': False, 'has_extended_profile': True, 'default_profile': False, 'default_profile_image': False, 'following': True, 'follow_request_sent': False, 'notifications': False, 'translator_type': 'none', 'withheld_in_countries': []}, id=7996082, id_str='7996082', name='EL PAÍS', screen_name='el_pais', location='Madrid', description='La mejor información en español. Con nuestra mirada puesta en España, Europa y América. Suscríbete: https://t.co/Zh3X1PF9zE', url='https://t.co/6g5qG3Lgo3', entities={'url': {'urls': [{'url': 'https://t.co/6g5qG3Lgo3', 'expanded_url': 'https://elpais.com/', 'display_url': 'elpais.com', 'indices': [0, 23]}]}, 'description': {'urls': [{'url': 'https://t.co/Zh3X1PF9zE', 'expanded_url': 'https://bit.ly/39L9ooB', 'display_url': 'bit.ly/39L9ooB', 'indices': [100, 123]}]}}, protected=False, followers_count=8717809, friends_count=832, listed_count=58128, created_at=datetime.datetime(2007, 8, 6, 16, 20, 9, tzinfo=datetime.timezone.utc), favourites_count=2021, utc_offset=None, time_zone=None, geo_enabled=True, verified=True, statuses_count=715900, lang=None, contributors_enabled=False, is_translator=False, is_translation_enabled=True, profile_background_color='FFFFFF', profile_background_image_url='http://abs.twimg.com/images/themes/theme1/bg.png', profile_background_image_url_https='https://abs.twimg.com/images/themes/theme1/bg.png', profile_background_tile=False, profile_image_url='http://pbs.twimg.com/profile_images/1236548818402971648/F-pcFaq6_normal.jpg', profile_image_url_https='https://pbs.twimg.com/profile_images/1236548818402971648/F-pcFaq6_normal.jpg', profile_banner_url='https://pbs.twimg.com/profile_banners/7996082/1647026716', profile_link_color='0084B4', profile_sidebar_border_color='FFFFFF', profile_sidebar_fill_color='F1F4F9', profile_text_color='333333', profile_use_background_image=False, has_extended_profile=True, default_profile=False, default_profile_image=False, following=True, follow_request_sent=False, notifications=False, translator_type='none', withheld_in_countries=[]), user=User(_api=<tweepy.api.API object at 0x000001B345F17E50>, _json={'id': 7996082, 'id_str': '7996082', 'name': 'EL PAÍS', 'screen_name': 'el_pais', 'location': 'Madrid', 'description': 'La mejor información en español. Con nuestra mirada puesta en España, Europa y América. Suscríbete: https://t.co/Zh3X1PF9zE', 'url': 'https://t.co/6g5qG3Lgo3', 'entities': {'url': {'urls': [{'url': 'https://t.co/6g5qG3Lgo3', 'expanded_url': 'https://elpais.com/', 'display_url': 'elpais.com', 'indices': [0, 23]}]}, 'description': {'urls': [{'url': 'https://t.co/Zh3X1PF9zE', 'expanded_url': 'https://bit.ly/39L9ooB', 'display_url': 'bit.ly/39L9ooB', 'indices': [100, 123]}]}}, 'protected': False, 'followers_count': 8717809, 'friends_count': 832, 'listed_count': 58128, 'created_at': 'Mon Aug 06 16:20:09 +0000 2007', 'favourites_count': 2021, 'utc_offset': None, 'time_zone': None, 'geo_enabled': True, 'verified': True, 'statuses_count': 715900, 'lang': None, 'contributors_enabled': False, 'is_translator': False, 'is_translation_enabled': True, 'profile_background_color': 'FFFFFF', 'profile_background_image_url': 'http://abs.twimg.com/images/themes/theme1/bg.png', 'profile_background_image_url_https': 'https://abs.twimg.com/images/themes/theme1/bg.png', 'profile_background_tile': False, 'profile_image_url': 'http://pbs.twimg.com/profile_images/1236548818402971648/F-pcFaq6_normal.jpg', 'profile_image_url_https': 'https://pbs.twimg.com/profile_images/1236548818402971648/F-pcFaq6_normal.jpg', 'profile_banner_url': 'https://pbs.twimg.com/profile_banners/7996082/1647026716', 'profile_link_color': '0084B4', 'profile_sidebar_border_color': 'FFFFFF', 'profile_sidebar_fill_color': 'F1F4F9', 'profile_text_color': '333333', 'profile_use_background_image': False, 'has_extended_profile': True, 'default_profile': False, 'default_profile_image': False, 'following': True, 'follow_request_sent': False, 'notifications': False, 'translator_type': 'none', 'withheld_in_countries': []}, id=7996082, id_str='7996082', name='EL PAÍS', screen_name='el_pais', location='Madrid', description='La mejor información en español. Con nuestra mirada puesta en España, Europa y América. Suscríbete: https://t.co/Zh3X1PF9zE', url='https://t.co/6g5qG3Lgo3', entities={'url': {'urls': [{'url': 'https://t.co/6g5qG3Lgo3', 'expanded_url': 'https://elpais.com/', 'display_url': 'elpais.com', 'indices': [0, 23]}]}, 'description': {'urls': [{'url': 'https://t.co/Zh3X1PF9zE', 'expanded_url': 'https://bit.ly/39L9ooB', 'display_url': 'bit.ly/39L9ooB', 'indices': [100, 123]}]}}, protected=False, followers_count=8717809, friends_count=832, listed_count=58128, created_at=datetime.datetime(2007, 8, 6, 16, 20, 9, tzinfo=datetime.timezone.utc), favourites_count=2021, utc_offset=None, time_zone=None, geo_enabled=True, verified=True, statuses_count=715900, lang=None, contributors_enabled=False, is_translator=False, is_translation_enabled=True, profile_background_color='FFFFFF', profile_background_image_url='http://abs.twimg.com/images/themes/theme1/bg.png', profile_background_image_url_https='https://abs.twimg.com/images/themes/theme1/bg.png', profile_background_tile=False, profile_image_url='http://pbs.twimg.com/profile_images/1236548818402971648/F-pcFaq6_normal.jpg', profile_image_url_https='https://pbs.twimg.com/profile_images/1236548818402971648/F-pcFaq6_normal.jpg', profile_banner_url='https://pbs.twimg.com/profile_banners/7996082/1647026716', profile_link_color='0084B4', profile_sidebar_border_color='FFFFFF', profile_sidebar_fill_color='F1F4F9', profile_text_color='333333', profile_use_background_image=False, has_extended_profile=True, default_profile=False, default_profile_image=False, following=True, follow_request_sent=False, notifications=False, translator_type='none', withheld_in_countries=[]), geo=None, coordinates=None, place=None, contributors=None, is_quote_status=False, retweet_count=0, favorite_count=2, favorited=False, retweeted=False, possibly_sensitive=False, possibly_sensitive_appealable=False, lang='es'), Status(_api=<tweepy.api.API object at 0x000001B345F17E50>, _json={'created_at': 'Sun Dec 04 11:00:52 +0000 2022', 'id': 1599358068529168391, 'id_str': '1599358068529168391', 'text': '🎒Voluntariado y Personas Mayores, Centros Infantiles y Seguridad en el Trabajo, nuevas modalidades de #Becas en ser… https://t.co/m9VpoMKUUI', 'truncated': True, 'entities': {'hashtags': [{'text': 'Becas', 'indices': [102, 108]}], 'symbols': [], 'user_mentions': [], 'urls': [{'url': 'https://t.co/m9VpoMKUUI', 'expanded_url': 'https://twitter.com/i/web/status/1599358068529168391', 'display_url': 'twitter.com/i/web/status/1…', 'indices': [117, 140]}]}, 'source': '<a href=\"https://www.hootsuite.com\" rel=\"nofollow\">Hootsuite Inc.</a>', 'in_reply_to_status_id': None, 'in_reply_to_status_id_str': None, 'in_reply_to_user_id': None, 'in_reply_to_user_id_str': None, 'in_reply_to_screen_name': None, 'user': {'id': 63421692, 'id_str': '63421692', 'name': 'Universidad de Sevilla', 'screen_name': 'unisevilla', 'location': 'Sevilla, España', 'description': 'Twitter oficial de la US, institución con más de 500 años de historia, con una amplia oferta de títulos y Campus de Excelencia Internacional', 'url': 'https://t.co/Z4d7rxJmWr', 'entities': {'url': {'urls': [{'url': 'https://t.co/Z4d7rxJmWr', 'expanded_url': 'https://www.us.es/', 'display_url': 'us.es', 'indices': [0, 23]}]}, 'description': {'urls': []}}, 'protected': False, 'followers_count': 134296, 'friends_count': 3065, 'listed_count': 1599, 'created_at': 'Thu Aug 06 08:48:30 +0000 2009', 'favourites_count': 45427, 'utc_offset': None, 'time_zone': None, 'geo_enabled': False, 'verified': True, 'statuses_count': 97968, 'lang': None, 'contributors_enabled': False, 'is_translator': False, 'is_translation_enabled': False, 'profile_background_color': '737EAB', 'profile_background_image_url': 'http://abs.twimg.com/images/themes/theme1/bg.png', 'profile_background_image_url_https': 'https://abs.twimg.com/images/themes/theme1/bg.png', 'profile_background_tile': True, 'profile_image_url': 'http://pbs.twimg.com/profile_images/1597127542166659073/5N3x_s2V_normal.jpg', 'profile_image_url_https': 'https://pbs.twimg.com/profile_images/1597127542166659073/5N3x_s2V_normal.jpg', 'profile_banner_url': 'https://pbs.twimg.com/profile_banners/63421692/1667559543', 'profile_link_color': 'D63520', 'profile_sidebar_border_color': 'E8EBF0', 'profile_sidebar_fill_color': 'F0E8E9', 'profile_text_color': 'BF1B31', 'profile_use_background_image': True, 'has_extended_profile': False, 'default_profile': False, 'default_profile_image': False, 'following': True, 'follow_request_sent': False, 'notifications': False, 'translator_type': 'none', 'withheld_in_countries': []}, 'geo': None, 'coordinates': None, 'place': None, 'contributors': None, 'is_quote_status': False, 'retweet_count': 1, 'favorite_count': 1, 'favorited': False, 'retweeted': False, 'possibly_sensitive': False, 'possibly_sensitive_appealable': False, 'lang': 'es'}, created_at=datetime.datetime(2022, 12, 4, 11, 0, 52, tzinfo=datetime.timezone.utc), id=1599358068529168391, id_str='1599358068529168391', text='🎒Voluntariado y Personas Mayores, Centros Infantiles y Seguridad en el Trabajo, nuevas modalidades de #Becas en ser… https://t.co/m9VpoMKUUI', truncated=True, entities={'hashtags': [{'text': 'Becas', 'indices': [102, 108]}], 'symbols': [], 'user_mentions': [], 'urls': [{'url': 'https://t.co/m9VpoMKUUI', 'expanded_url': 'https://twitter.com/i/web/status/1599358068529168391', 'display_url': 'twitter.com/i/web/status/1…', 'indices': [117, 140]}]}, source='Hootsuite Inc.', source_url='https://www.hootsuite.com', in_reply_to_status_id=None, in_reply_to_status_id_str=None, in_reply_to_user_id=None, in_reply_to_user_id_str=None, in_reply_to_screen_name=None, author=User(_api=<tweepy.api.API object at 0x000001B345F17E50>, _json={'id': 63421692, 'id_str': '63421692', 'name': 'Universidad de Sevilla', 'screen_name': 'unisevilla', 'location': 'Sevilla, España', 'description': 'Twitter oficial de la US, institución con más de 500 años de historia, con una amplia oferta de títulos y Campus de Excelencia Internacional', 'url': 'https://t.co/Z4d7rxJmWr', 'entities': {'url': {'urls': [{'url': 'https://t.co/Z4d7rxJmWr', 'expanded_url': 'https://www.us.es/', 'display_url': 'us.es', 'indices': [0, 23]}]}, 'description': {'urls': []}}, 'protected': False, 'followers_count': 134296, 'friends_count': 3065, 'listed_count': 1599, 'created_at': 'Thu Aug 06 08:48:30 +0000 2009', 'favourites_count': 45427, 'utc_offset': None, 'time_zone': None, 'geo_enabled': False, 'verified': True, 'statuses_count': 97968, 'lang': None, 'contributors_enabled': False, 'is_translator': False, 'is_translation_enabled': False, 'profile_background_color': '737EAB', 'profile_background_image_url': 'http://abs.twimg.com/images/themes/theme1/bg.png', 'profile_background_image_url_https': 'https://abs.twimg.com/images/themes/theme1/bg.png', 'profile_background_tile': True, 'profile_image_url': 'http://pbs.twimg.com/profile_images/1597127542166659073/5N3x_s2V_normal.jpg', 'profile_image_url_https': 'https://pbs.twimg.com/profile_images/1597127542166659073/5N3x_s2V_normal.jpg', 'profile_banner_url': 'https://pbs.twimg.com/profile_banners/63421692/1667559543', 'profile_link_color': 'D63520', 'profile_sidebar_border_color': 'E8EBF0', 'profile_sidebar_fill_color': 'F0E8E9', 'profile_text_color': 'BF1B31', 'profile_use_background_image': True, 'has_extended_profile': False, 'default_profile': False, 'default_profile_image': False, 'following': True, 'follow_request_sent': False, 'notifications': False, 'translator_type': 'none', 'withheld_in_countries': []}, id=63421692, id_str='63421692', name='Universidad de Sevilla', screen_name='unisevilla', location='Sevilla, España', description='Twitter oficial de la US, institución con más de 500 años de historia, con una amplia oferta de títulos y Campus de Excelencia Internacional', url='https://t.co/Z4d7rxJmWr', entities={'url': {'urls': [{'url': 'https://t.co/Z4d7rxJmWr', 'expanded_url': 'https://www.us.es/', 'display_url': 'us.es', 'indices': [0, 23]}]}, 'description': {'urls': []}}, protected=False, followers_count=134296, friends_count=3065, listed_count=1599, created_at=datetime.datetime(2009, 8, 6, 8, 48, 30, tzinfo=datetime.timezone.utc), favourites_count=45427, utc_offset=None, time_zone=None, geo_enabled=False, verified=True, statuses_count=97968, lang=None, contributors_enabled=False, is_translator=False, is_translation_enabled=False, profile_background_color='737EAB', profile_background_image_url='http://abs.twimg.com/images/themes/theme1/bg.png', profile_background_image_url_https='https://abs.twimg.com/images/themes/theme1/bg.png', profile_background_tile=True, profile_image_url='http://pbs.twimg.com/profile_images/1597127542166659073/5N3x_s2V_normal.jpg', profile_image_url_https='https://pbs.twimg.com/profile_images/1597127542166659073/5N3x_s2V_normal.jpg', profile_banner_url='https://pbs.twimg.com/profile_banners/63421692/1667559543', profile_link_color='D63520', profile_sidebar_border_color='E8EBF0', profile_sidebar_fill_color='F0E8E9', profile_text_color='BF1B31', profile_use_background_image=True, has_extended_profile=False, default_profile=False, default_profile_image=False, following=True, follow_request_sent=False, notifications=False, translator_type='none', withheld_in_countries=[]), user=User(_api=<tweepy.api.API object at 0x000001B345F17E50>, _json={'id': 63421692, 'id_str': '63421692', 'name': 'Universidad de Sevilla', 'screen_name': 'unisevilla', 'location': 'Sevilla, España', 'description': 'Twitter oficial de la US, institución con más de 500 años de historia, con una amplia oferta de títulos y Campus de Excelencia Internacional', 'url': 'https://t.co/Z4d7rxJmWr', 'entities': {'url': {'urls': [{'url': 'https://t.co/Z4d7rxJmWr', 'expanded_url': 'https://www.us.es/', 'display_url': 'us.es', 'indices': [0, 23]}]}, 'description': {'urls': []}}, 'protected': False, 'followers_count': 134296, 'friends_count': 3065, 'listed_count': 1599, 'created_at': 'Thu Aug 06 08:48:30 +0000 2009', 'favourites_count': 45427, 'utc_offset': None, 'time_zone': None, 'geo_enabled': False, 'verified': True, 'statuses_count': 97968, 'lang': None, 'contributors_enabled': False, 'is_translator': False, 'is_translation_enabled': False, 'profile_background_color': '737EAB', 'profile_background_image_url': 'http://abs.twimg.com/images/themes/theme1/bg.png', 'profile_background_image_url_https': 'https://abs.twimg.com/images/themes/theme1/bg.png', 'profile_background_tile': True, 'profile_image_url': 'http://pbs.twimg.com/profile_images/1597127542166659073/5N3x_s2V_normal.jpg', 'profile_image_url_https': 'https://pbs.twimg.com/profile_images/1597127542166659073/5N3x_s2V_normal.jpg', 'profile_banner_url': 'https://pbs.twimg.com/profile_banners/63421692/1667559543', 'profile_link_color': 'D63520', 'profile_sidebar_border_color': 'E8EBF0', 'profile_sidebar_fill_color': 'F0E8E9', 'profile_text_color': 'BF1B31', 'profile_use_background_image': True, 'has_extended_profile': False, 'default_profile': False, 'default_profile_image': False, 'following': True, 'follow_request_sent': False, 'notifications': False, 'translator_type': 'none', 'withheld_in_countries': []}, id=63421692, id_str='63421692', name='Universidad de Sevilla', screen_name='unisevilla', location='Sevilla, España', description='Twitter oficial de la US, institución con más de 500 años de historia, con una amplia oferta de títulos y Campus de Excelencia Internacional', url='https://t.co/Z4d7rxJmWr', entities={'url': {'urls': [{'url': 'https://t.co/Z4d7rxJmWr', 'expanded_url': 'https://www.us.es/', 'display_url': 'us.es', 'indices': [0, 23]}]}, 'description': {'urls': []}}, protected=False, followers_count=134296, friends_count=3065, listed_count=1599, created_at=datetime.datetime(2009, 8, 6, 8, 48, 30, tzinfo=datetime.timezone.utc), favourites_count=45427, utc_offset=None, time_zone=None, geo_enabled=False, verified=True, statuses_count=97968, lang=None, contributors_enabled=False, is_translator=False, is_translation_enabled=False, profile_background_color='737EAB', profile_background_image_url='http://abs.twimg.com/images/themes/theme1/bg.png', profile_background_image_url_https='https://abs.twimg.com/images/themes/theme1/bg.png', profile_background_tile=True, profile_image_url='http://pbs.twimg.com/profile_images/1597127542166659073/5N3x_s2V_normal.jpg', profile_image_url_https='https://pbs.twimg.com/profile_images/1597127542166659073/5N3x_s2V_normal.jpg', profile_banner_url='https://pbs.twimg.com/profile_banners/63421692/1667559543', profile_link_color='D63520', profile_sidebar_border_color='E8EBF0', profile_sidebar_fill_color='F0E8E9', profile_text_color='BF1B31', profile_use_background_image=True, has_extended_profile=False, default_profile=False, default_profile_image=False, following=True, follow_request_sent=False, notifications=False, translator_type='none', withheld_in_countries=[]), geo=None, coordinates=None, place=None, contributors=None, is_quote_status=False, retweet_count=1, favorite_count=1, favorited=False, retweeted=False, possibly_sensitive=False, possibly_sensitive_appealable=False, lang='es'), Status(_api=<tweepy.api.API object at 0x000001B345F17E50>, _json={'created_at': 'Sun Dec 04 11:00:52 +0000 2022', 'id': 1599358066964701184, 'id_str': '1599358066964701184', 'text': '📢‼️ 4⃣3⃣ ofertas de #empleo de @SEUR para reparto, almacén, técnicos/as o recién titulados/as en prácticas para dic… https://t.co/WGYbJz4JiR', 'truncated': True, 'entities': {'hashtags': [{'text': 'empleo', 'indices': [20, 27]}], 'symbols': [], 'user_mentions': [{'screen_name': 'SEUR', 'name': 'SEUR', 'id': 468480896, 'id_str': '468480896', 'indices': [31, 36]}], 'urls': [{'url': 'https://t.co/WGYbJz4JiR', 'expanded_url': 'https://twitter.com/i/web/status/1599358066964701184', 'display_url': 'twitter.com/i/web/status/1…', 'indices': [117, 140]}]}, 'source': '<a href=\"https://www.hootsuite.com\" rel=\"nofollow\">Hootsuite Inc.</a>', 'in_reply_to_status_id': None, 'in_reply_to_status_id_str': None, 'in_reply_to_user_id': None, 'in_reply_to_user_id_str': None, 'in_reply_to_screen_name': None, 'user': {'id': 1487429287, 'id_str': '1487429287', 'name': 'Sevilla Empleo', 'screen_name': 'Seviempleo', 'location': '#Sevilla, #Andalucía, #empleo', 'description': 'El Empleo comienza con la información', 'url': 'https://t.co/tzd2XLmylH', 'entities': {'url': {'urls': [{'url': 'https://t.co/tzd2XLmylH', 'expanded_url': 'http://www.saempleosevilla.blogspot.com', 'display_url': 'saempleosevilla.blogspot.com', 'indices': [0, 23]}]}, 'description': {'urls': []}}, 'protected': False, 'followers_count': 113429, 'friends_count': 68700, 'listed_count': 760, 'created_at': 'Thu Jun 06 10:22:32 +0000 2013', 'favourites_count': 14210, 'utc_offset': None, 'time_zone': None, 'geo_enabled': True, 'verified': False, 'statuses_count': 115667, 'lang': None, 'contributors_enabled': False, 'is_translator': False, 'is_translation_enabled': False, 'profile_background_color': 'CCCCCC', 'profile_background_image_url': 'http://abs.twimg.com/images/themes/theme1/bg.png', 'profile_background_image_url_https': 'https://abs.twimg.com/images/themes/theme1/bg.png', 'profile_background_tile': False, 'profile_image_url': 'http://pbs.twimg.com/profile_images/1269259877756612609/IdB05bPa_normal.jpg', 'profile_image_url_https': 'https://pbs.twimg.com/profile_images/1269259877756612609/IdB05bPa_normal.jpg', 'profile_banner_url': 'https://pbs.twimg.com/profile_banners/1487429287/1660810935', 'profile_link_color': '336600', 'profile_sidebar_border_color': '000000', 'profile_sidebar_fill_color': 'DDEEF6', 'profile_text_color': '333333', 'profile_use_background_image': False, 'has_extended_profile': False, 'default_profile': False, 'default_profile_image': False, 'following': True, 'follow_request_sent': False, 'notifications': False, 'translator_type': 'none', 'withheld_in_countries': []}, 'geo': None, 'coordinates': None, 'place': None, 'contributors': None, 'is_quote_status': False, 'retweet_count': 0, 'favorite_count': 0, 'favorited': False, 'retweeted': False, 'possibly_sensitive': False, 'possibly_sensitive_appealable': False, 'lang': 'es'}, created_at=datetime.datetime(2022, 12, 4, 11, 0, 52, tzinfo=datetime.timezone.utc), id=1599358066964701184, id_str='1599358066964701184', text='📢‼️ 4⃣3⃣ ofertas de #empleo de @SEUR para reparto, almacén, técnicos/as o recién titulados/as en prácticas para dic… https://t.co/WGYbJz4JiR', truncated=True, entities={'hashtags': [{'text': 'empleo', 'indices': [20, 27]}], 'symbols': [], 'user_mentions': [{'screen_name': 'SEUR', 'name': 'SEUR', 'id': 468480896, 'id_str': '468480896', 'indices': [31, 36]}], 'urls': [{'url': 'https://t.co/WGYbJz4JiR', 'expanded_url': 'https://twitter.com/i/web/status/1599358066964701184', 'display_url': 'twitter.com/i/web/status/1…', 'indices': [117, 140]}]}, source='Hootsuite Inc.', source_url='https://www.hootsuite.com', in_reply_to_status_id=None, in_reply_to_status_id_str=None, in_reply_to_user_id=None, in_reply_to_user_id_str=None, in_reply_to_screen_name=None, author=User(_api=<tweepy.api.API object at 0x000001B345F17E50>, _json={'id': 1487429287, 'id_str': '1487429287', 'name': 'Sevilla Empleo', 'screen_name': 'Seviempleo', 'location': '#Sevilla, #Andalucía, #empleo', 'description': 'El Empleo comienza con la información', 'url': 'https://t.co/tzd2XLmylH', 'entities': {'url': {'urls': [{'url': 'https://t.co/tzd2XLmylH', 'expanded_url': 'http://www.saempleosevilla.blogspot.com', 'display_url': 'saempleosevilla.blogspot.com', 'indices': [0, 23]}]}, 'description': {'urls': []}}, 'protected': False, 'followers_count': 113429, 'friends_count': 68700, 'listed_count': 760, 'created_at': 'Thu Jun 06 10:22:32 +0000 2013', 'favourites_count': 14210, 'utc_offset': None, 'time_zone': None, 'geo_enabled': True, 'verified': False, 'statuses_count': 115667, 'lang': None, 'contributors_enabled': False, 'is_translator': False, 'is_translation_enabled': False, 'profile_background_color': 'CCCCCC', 'profile_background_image_url': 'http://abs.twimg.com/images/themes/theme1/bg.png', 'profile_background_image_url_https': 'https://abs.twimg.com/images/themes/theme1/bg.png', 'profile_background_tile': False, 'profile_image_url': 'http://pbs.twimg.com/profile_images/1269259877756612609/IdB05bPa_normal.jpg', 'profile_image_url_https': 'https://pbs.twimg.com/profile_images/1269259877756612609/IdB05bPa_normal.jpg', 'profile_banner_url': 'https://pbs.twimg.com/profile_banners/1487429287/1660810935', 'profile_link_color': '336600', 'profile_sidebar_border_color': '000000', 'profile_sidebar_fill_color': 'DDEEF6', 'profile_text_color': '333333', 'profile_use_background_image': False, 'has_extended_profile': False, 'default_profile': False, 'default_profile_image': False, 'following': True, 'follow_request_sent': False, 'notifications': False, 'translator_type': 'none', 'withheld_in_countries': []}, id=1487429287, id_str='1487429287', name='Sevilla Empleo', screen_name='Seviempleo', location='#Sevilla, #Andalucía, #empleo', description='El Empleo comienza con la información', url='https://t.co/tzd2XLmylH', entities={'url': {'urls': [{'url': 'https://t.co/tzd2XLmylH', 'expanded_url': 'http://www.saempleosevilla.blogspot.com', 'display_url': 'saempleosevilla.blogspot.com', 'indices': [0, 23]}]}, 'description': {'urls': []}}, protected=False, followers_count=113429, friends_count=68700, listed_count=760, created_at=datetime.datetime(2013, 6, 6, 10, 22, 32, tzinfo=datetime.timezone.utc), favourites_count=14210, utc_offset=None, time_zone=None, geo_enabled=True, verified=False, statuses_count=115667, lang=None, contributors_enabled=False, is_translator=False, is_translation_enabled=False, profile_background_color='CCCCCC', profile_background_image_url='http://abs.twimg.com/images/themes/theme1/bg.png', profile_background_image_url_https='https://abs.twimg.com/images/themes/theme1/bg.png', profile_background_tile=False, profile_image_url='http://pbs.twimg.com/profile_images/1269259877756612609/IdB05bPa_normal.jpg', profile_image_url_https='https://pbs.twimg.com/profile_images/1269259877756612609/IdB05bPa_normal.jpg', profile_banner_url='https://pbs.twimg.com/profile_banners/1487429287/1660810935', profile_link_color='336600', profile_sidebar_border_color='000000', profile_sidebar_fill_color='DDEEF6', profile_text_color='333333', profile_use_background_image=False, has_extended_profile=False, default_profile=False, default_profile_image=False, following=True, follow_request_sent=False, notifications=False, translator_type='none', withheld_in_countries=[]), user=User(_api=<tweepy.api.API object at 0x000001B345F17E50>, _json={'id': 1487429287, 'id_str': '1487429287', 'name': 'Sevilla Empleo', 'screen_name': 'Seviempleo', 'location': '#Sevilla, #Andalucía, #empleo', 'description': 'El Empleo comienza con la información', 'url': 'https://t.co/tzd2XLmylH', 'entities': {'url': {'urls': [{'url': 'https://t.co/tzd2XLmylH', 'expanded_url': 'http://www.saempleosevilla.blogspot.com', 'display_url': 'saempleosevilla.blogspot.com', 'indices': [0, 23]}]}, 'description': {'urls': []}}, 'protected': False, 'followers_count': 113429, 'friends_count': 68700, 'listed_count': 760, 'created_at': 'Thu Jun 06 10:22:32 +0000 2013', 'favourites_count': 14210, 'utc_offset': None, 'time_zone': None, 'geo_enabled': True, 'verified': False, 'statuses_count': 115667, 'lang': None, 'contributors_enabled': False, 'is_translator': False, 'is_translation_enabled': False, 'profile_background_color': 'CCCCCC', 'profile_background_image_url': 'http://abs.twimg.com/images/themes/theme1/bg.png', 'profile_background_image_url_https': 'https://abs.twimg.com/images/themes/theme1/bg.png', 'profile_background_tile': False, 'profile_image_url': 'http://pbs.twimg.com/profile_images/1269259877756612609/IdB05bPa_normal.jpg', 'profile_image_url_https': 'https://pbs.twimg.com/profile_images/1269259877756612609/IdB05bPa_normal.jpg', 'profile_banner_url': 'https://pbs.twimg.com/profile_banners/1487429287/1660810935', 'profile_link_color': '336600', 'profile_sidebar_border_color': '000000', 'profile_sidebar_fill_color': 'DDEEF6', 'profile_text_color': '333333', 'profile_use_background_image': False, 'has_extended_profile': False, 'default_profile': False, 'default_profile_image': False, 'following': True, 'follow_request_sent': False, 'notifications': False, 'translator_type': 'none', 'withheld_in_countries': []}, id=1487429287, id_str='1487429287', name='Sevilla Empleo', screen_name='Seviempleo', location='#Sevilla, #Andalucía, #empleo', description='El Empleo comienza con la información', url='https://t.co/tzd2XLmylH', entities={'url': {'urls': [{'url': 'https://t.co/tzd2XLmylH', 'expanded_url': 'http://www.saempleosevilla.blogspot.com', 'display_url': 'saempleosevilla.blogspot.com', 'indices': [0, 23]}]}, 'description': {'urls': []}}, protected=False, followers_count=113429, friends_count=68700, listed_count=760, created_at=datetime.datetime(2013, 6, 6, 10, 22, 32, tzinfo=datetime.timezone.utc), favourites_count=14210, utc_offset=None, time_zone=None, geo_enabled=True, verified=False, statuses_count=115667, lang=None, contributors_enabled=False, is_translator=False, is_translation_enabled=False, profile_background_color='CCCCCC', profile_background_image_url='http://abs.twimg.com/images/themes/theme1/bg.png', profile_background_image_url_https='https://abs.twimg.com/images/themes/theme1/bg.png', profile_background_tile=False, profile_image_url='http://pbs.twimg.com/profile_images/1269259877756612609/IdB05bPa_normal.jpg', profile_image_url_https='https://pbs.twimg.com/profile_images/1269259877756612609/IdB05bPa_normal.jpg', profile_banner_url='https://pbs.twimg.com/profile_banners/1487429287/1660810935', profile_link_color='336600', profile_sidebar_border_color='000000', profile_sidebar_fill_color='DDEEF6', profile_text_color='333333', profile_use_background_image=False, has_extended_profile=False, default_profile=False, default_profile_image=False, following=True, follow_request_sent=False, notifications=False, translator_type='none', withheld_in_countries=[]), geo=None, coordinates=None, place=None, contributors=None, is_quote_status=False, retweet_count=0, favorite_count=0, favorited=False, retweeted=False, possibly_sensitive=False, possibly_sensitive_appealable=False, lang='es'), Status(_api=<tweepy.api.API object at 0x000001B345F17E50>, _json={'created_at': 'Sun Dec 04 11:00:26 +0000 2022', 'id': 1599357956616855559, 'id_str': '1599357956616855559', 'text': '🐕\\u200d🦺 ¿Sales de paseo con tu perro? ¡Ayuda a mantener #Sevilla cuidada con el kit cívico!\\n\\n🗑️ Asegúrate de que cierra… https://t.co/3ekHY4QAqt', 'truncated': True, 'entities': {'hashtags': [{'text': 'Sevilla', 'indices': [52, 60]}], 'symbols': [], 'user_mentions': [], 'urls': [{'url': 'https://t.co/3ekHY4QAqt', 'expanded_url': 'https://twitter.com/i/web/status/1599357956616855559', 'display_url': 'twitter.com/i/web/status/1…', 'indices': [117, 140]}]}, 'source': '<a href=\"https://www.hootsuite.com\" rel=\"nofollow\">Hootsuite Inc.</a>', 'in_reply_to_status_id': None, 'in_reply_to_status_id_str': None, 'in_reply_to_user_id': None, 'in_reply_to_user_id_str': None, 'in_reply_to_screen_name': None, 'user': {'id': 500706654, 'id_str': '500706654', 'name': 'Ayuntamiento de Sevilla', 'screen_name': 'Ayto_Sevilla', 'location': 'Sevilla, España', 'description': 'Canal oficial del Ayuntamiento de Sevilla. Actualidad e información de servicio público. Atención ciudadana, de 8:00 a 22:00. ☎️ 955010010', 'url': 'https://t.co/RVlUj3SMAD', 'entities': {'url': {'urls': [{'url': 'https://t.co/RVlUj3SMAD', 'expanded_url': 'https://sevilla.org/alumbra', 'display_url': 'sevilla.org/alumbra', 'indices': [0, 23]}]}, 'description': {'urls': []}}, 'protected': False, 'followers_count': 197926, 'friends_count': 5435, 'listed_count': 1174, 'created_at': 'Thu Feb 23 11:41:25 +0000 2012', 'favourites_count': 30494, 'utc_offset': None, 'time_zone': None, 'geo_enabled': True, 'verified': True, 'statuses_count': 158798, 'lang': None, 'contributors_enabled': False, 'is_translator': False, 'is_translation_enabled': False, 'profile_background_color': '0A0601', 'profile_background_image_url': 'http://abs.twimg.com/images/themes/theme14/bg.gif', 'profile_background_image_url_https': 'https://abs.twimg.com/images/themes/theme14/bg.gif', 'profile_background_tile': False, 'profile_image_url': 'http://pbs.twimg.com/profile_images/1501332070538391557/guxi2log_normal.jpg', 'profile_image_url_https': 'https://pbs.twimg.com/profile_images/1501332070538391557/guxi2log_normal.jpg', 'profile_banner_url': 'https://pbs.twimg.com/profile_banners/500706654/1669918472', 'profile_link_color': 'FAB81E', 'profile_sidebar_border_color': '000000', 'profile_sidebar_fill_color': 'EFEFEF', 'profile_text_color': '333333', 'profile_use_background_image': True, 'has_extended_profile': False, 'default_profile': False, 'default_profile_image': False, 'following': True, 'follow_request_sent': False, 'notifications': False, 'translator_type': 'regular', 'withheld_in_countries': []}, 'geo': None, 'coordinates': None, 'place': None, 'contributors': None, 'is_quote_status': False, 'retweet_count': 1, 'favorite_count': 0, 'favorited': False, 'retweeted': False, 'possibly_sensitive': False, 'possibly_sensitive_appealable': False, 'lang': 'es'}, created_at=datetime.datetime(2022, 12, 4, 11, 0, 26, tzinfo=datetime.timezone.utc), id=1599357956616855559, id_str='1599357956616855559', text='🐕\\u200d🦺 ¿Sales de paseo con tu perro? ¡Ayuda a mantener #Sevilla cuidada con el kit cívico!\\n\\n🗑️ Asegúrate de que cierra… https://t.co/3ekHY4QAqt', truncated=True, entities={'hashtags': [{'text': 'Sevilla', 'indices': [52, 60]}], 'symbols': [], 'user_mentions': [], 'urls': [{'url': 'https://t.co/3ekHY4QAqt', 'expanded_url': 'https://twitter.com/i/web/status/1599357956616855559', 'display_url': 'twitter.com/i/web/status/1…', 'indices': [117, 140]}]}, source='Hootsuite Inc.', source_url='https://www.hootsuite.com', in_reply_to_status_id=None, in_reply_to_status_id_str=None, in_reply_to_user_id=None, in_reply_to_user_id_str=None, in_reply_to_screen_name=None, author=User(_api=<tweepy.api.API object at 0x000001B345F17E50>, _json={'id': 500706654, 'id_str': '500706654', 'name': 'Ayuntamiento de Sevilla', 'screen_name': 'Ayto_Sevilla', 'location': 'Sevilla, España', 'description': 'Canal oficial del Ayuntamiento de Sevilla. Actualidad e información de servicio público. Atención ciudadana, de 8:00 a 22:00. ☎️ 955010010', 'url': 'https://t.co/RVlUj3SMAD', 'entities': {'url': {'urls': [{'url': 'https://t.co/RVlUj3SMAD', 'expanded_url': 'https://sevilla.org/alumbra', 'display_url': 'sevilla.org/alumbra', 'indices': [0, 23]}]}, 'description': {'urls': []}}, 'protected': False, 'followers_count': 197926, 'friends_count': 5435, 'listed_count': 1174, 'created_at': 'Thu Feb 23 11:41:25 +0000 2012', 'favourites_count': 30494, 'utc_offset': None, 'time_zone': None, 'geo_enabled': True, 'verified': True, 'statuses_count': 158798, 'lang': None, 'contributors_enabled': False, 'is_translator': False, 'is_translation_enabled': False, 'profile_background_color': '0A0601', 'profile_background_image_url': 'http://abs.twimg.com/images/themes/theme14/bg.gif', 'profile_background_image_url_https': 'https://abs.twimg.com/images/themes/theme14/bg.gif', 'profile_background_tile': False, 'profile_image_url': 'http://pbs.twimg.com/profile_images/1501332070538391557/guxi2log_normal.jpg', 'profile_image_url_https': 'https://pbs.twimg.com/profile_images/1501332070538391557/guxi2log_normal.jpg', 'profile_banner_url': 'https://pbs.twimg.com/profile_banners/500706654/1669918472', 'profile_link_color': 'FAB81E', 'profile_sidebar_border_color': '000000', 'profile_sidebar_fill_color': 'EFEFEF', 'profile_text_color': '333333', 'profile_use_background_image': True, 'has_extended_profile': False, 'default_profile': False, 'default_profile_image': False, 'following': True, 'follow_request_sent': False, 'notifications': False, 'translator_type': 'regular', 'withheld_in_countries': []}, id=500706654, id_str='500706654', name='Ayuntamiento de Sevilla', screen_name='Ayto_Sevilla', location='Sevilla, España', description='Canal oficial del Ayuntamiento de Sevilla. Actualidad e información de servicio público. Atención ciudadana, de 8:00 a 22:00. ☎️ 955010010', url='https://t.co/RVlUj3SMAD', entities={'url': {'urls': [{'url': 'https://t.co/RVlUj3SMAD', 'expanded_url': 'https://sevilla.org/alumbra', 'display_url': 'sevilla.org/alumbra', 'indices': [0, 23]}]}, 'description': {'urls': []}}, protected=False, followers_count=197926, friends_count=5435, listed_count=1174, created_at=datetime.datetime(2012, 2, 23, 11, 41, 25, tzinfo=datetime.timezone.utc), favourites_count=30494, utc_offset=None, time_zone=None, geo_enabled=True, verified=True, statuses_count=158798, lang=None, contributors_enabled=False, is_translator=False, is_translation_enabled=False, profile_background_color='0A0601', profile_background_image_url='http://abs.twimg.com/images/themes/theme14/bg.gif', profile_background_image_url_https='https://abs.twimg.com/images/themes/theme14/bg.gif', profile_background_tile=False, profile_image_url='http://pbs.twimg.com/profile_images/1501332070538391557/guxi2log_normal.jpg', profile_image_url_https='https://pbs.twimg.com/profile_images/1501332070538391557/guxi2log_normal.jpg', profile_banner_url='https://pbs.twimg.com/profile_banners/500706654/1669918472', profile_link_color='FAB81E', profile_sidebar_border_color='000000', profile_sidebar_fill_color='EFEFEF', profile_text_color='333333', profile_use_background_image=True, has_extended_profile=False, default_profile=False, default_profile_image=False, following=True, follow_request_sent=False, notifications=False, translator_type='regular', withheld_in_countries=[]), user=User(_api=<tweepy.api.API object at 0x000001B345F17E50>, _json={'id': 500706654, 'id_str': '500706654', 'name': 'Ayuntamiento de Sevilla', 'screen_name': 'Ayto_Sevilla', 'location': 'Sevilla, España', 'description': 'Canal oficial del Ayuntamiento de Sevilla. Actualidad e información de servicio público. Atención ciudadana, de 8:00 a 22:00. ☎️ 955010010', 'url': 'https://t.co/RVlUj3SMAD', 'entities': {'url': {'urls': [{'url': 'https://t.co/RVlUj3SMAD', 'expanded_url': 'https://sevilla.org/alumbra', 'display_url': 'sevilla.org/alumbra', 'indices': [0, 23]}]}, 'description': {'urls': []}}, 'protected': False, 'followers_count': 197926, 'friends_count': 5435, 'listed_count': 1174, 'created_at': 'Thu Feb 23 11:41:25 +0000 2012', 'favourites_count': 30494, 'utc_offset': None, 'time_zone': None, 'geo_enabled': True, 'verified': True, 'statuses_count': 158798, 'lang': None, 'contributors_enabled': False, 'is_translator': False, 'is_translation_enabled': False, 'profile_background_color': '0A0601', 'profile_background_image_url': 'http://abs.twimg.com/images/themes/theme14/bg.gif', 'profile_background_image_url_https': 'https://abs.twimg.com/images/themes/theme14/bg.gif', 'profile_background_tile': False, 'profile_image_url': 'http://pbs.twimg.com/profile_images/1501332070538391557/guxi2log_normal.jpg', 'profile_image_url_https': 'https://pbs.twimg.com/profile_images/1501332070538391557/guxi2log_normal.jpg', 'profile_banner_url': 'https://pbs.twimg.com/profile_banners/500706654/1669918472', 'profile_link_color': 'FAB81E', 'profile_sidebar_border_color': '000000', 'profile_sidebar_fill_color': 'EFEFEF', 'profile_text_color': '333333', 'profile_use_background_image': True, 'has_extended_profile': False, 'default_profile': False, 'default_profile_image': False, 'following': True, 'follow_request_sent': False, 'notifications': False, 'translator_type': 'regular', 'withheld_in_countries': []}, id=500706654, id_str='500706654', name='Ayuntamiento de Sevilla', screen_name='Ayto_Sevilla', location='Sevilla, España', description='Canal oficial del Ayuntamiento de Sevilla. Actualidad e información de servicio público. Atención ciudadana, de 8:00 a 22:00. ☎️ 955010010', url='https://t.co/RVlUj3SMAD', entities={'url': {'urls': [{'url': 'https://t.co/RVlUj3SMAD', 'expanded_url': 'https://sevilla.org/alumbra', 'display_url': 'sevilla.org/alumbra', 'indices': [0, 23]}]}, 'description': {'urls': []}}, protected=False, followers_count=197926, friends_count=5435, listed_count=1174, created_at=datetime.datetime(2012, 2, 23, 11, 41, 25, tzinfo=datetime.timezone.utc), favourites_count=30494, utc_offset=None, time_zone=None, geo_enabled=True, verified=True, statuses_count=158798, lang=None, contributors_enabled=False, is_translator=False, is_translation_enabled=False, profile_background_color='0A0601', profile_background_image_url='http://abs.twimg.com/images/themes/theme14/bg.gif', profile_background_image_url_https='https://abs.twimg.com/images/themes/theme14/bg.gif', profile_background_tile=False, profile_image_url='http://pbs.twimg.com/profile_images/1501332070538391557/guxi2log_normal.jpg', profile_image_url_https='https://pbs.twimg.com/profile_images/1501332070538391557/guxi2log_normal.jpg', profile_banner_url='https://pbs.twimg.com/profile_banners/500706654/1669918472', profile_link_color='FAB81E', profile_sidebar_border_color='000000', profile_sidebar_fill_color='EFEFEF', profile_text_color='333333', profile_use_background_image=True, has_extended_profile=False, default_profile=False, default_profile_image=False, following=True, follow_request_sent=False, notifications=False, translator_type='regular', withheld_in_countries=[]), geo=None, coordinates=None, place=None, contributors=None, is_quote_status=False, retweet_count=1, favorite_count=0, favorited=False, retweeted=False, possibly_sensitive=False, possibly_sensitive_appealable=False, lang='es'), Status(_api=<tweepy.api.API object at 0x000001B345F17E50>, _json={'created_at': 'Sun Dec 04 11:00:17 +0000 2022', 'id': 1599357922261307392, 'id_str': '1599357922261307392', 'text': 'The US military wants its adversaries, as well as allies, to know that, for the first time, a US Navy nuclear-power… https://t.co/PFEB8zxpNM', 'truncated': True, 'entities': {'hashtags': [], 'symbols': [], 'user_mentions': [], 'urls': [{'url': 'https://t.co/PFEB8zxpNM', 'expanded_url': 'https://twitter.com/i/web/status/1599357922261307392', 'display_url': 'twitter.com/i/web/status/1…', 'indices': [117, 140]}]}, 'source': '<a href=\"http://www.socialflow.com\" rel=\"nofollow\">SocialFlow</a>', 'in_reply_to_status_id': None, 'in_reply_to_status_id_str': None, 'in_reply_to_user_id': None, 'in_reply_to_user_id_str': None, 'in_reply_to_screen_name': None, 'user': {'id': 759251, 'id_str': '759251', 'name': 'CNN', 'screen_name': 'CNN', 'location': '', 'description': 'It’s our job to #GoThere & tell the most difficult stories. For breaking news, follow @CNNBRK and download our app https://t.co/ceNBoNi8y6', 'url': 'https://t.co/imGp4Ieixi', 'entities': {'url': {'urls': [{'url': 'https://t.co/imGp4Ieixi', 'expanded_url': 'http://www.cnn.com', 'display_url': 'cnn.com', 'indices': [0, 23]}]}, 'description': {'urls': [{'url': 'https://t.co/ceNBoNi8y6', 'expanded_url': 'http://cnn.com/apps', 'display_url': 'cnn.com/apps', 'indices': [115, 138]}]}}, 'protected': False, 'followers_count': 60707843, 'friends_count': 1092, 'listed_count': 156001, 'created_at': 'Fri Feb 09 00:35:02 +0000 2007', 'favourites_count': 1382, 'utc_offset': None, 'time_zone': None, 'geo_enabled': True, 'verified': True, 'statuses_count': 391545, 'lang': None, 'contributors_enabled': False, 'is_translator': False, 'is_translation_enabled': True, 'profile_background_color': '323232', 'profile_background_image_url': 'http://abs.twimg.com/images/themes/theme1/bg.png', 'profile_background_image_url_https': 'https://abs.twimg.com/images/themes/theme1/bg.png', 'profile_background_tile': False, 'profile_image_url': 'http://pbs.twimg.com/profile_images/1278259160644227073/MfCyF7CG_normal.jpg', 'profile_image_url_https': 'https://pbs.twimg.com/profile_images/1278259160644227073/MfCyF7CG_normal.jpg', 'profile_banner_url': 'https://pbs.twimg.com/profile_banners/759251/1667231828', 'profile_link_color': '004287', 'profile_sidebar_border_color': '000000', 'profile_sidebar_fill_color': 'EEEEEE', 'profile_text_color': '000000', 'profile_use_background_image': False, 'has_extended_profile': False, 'default_profile': False, 'default_profile_image': False, 'following': True, 'follow_request_sent': False, 'notifications': False, 'translator_type': 'regular', 'withheld_in_countries': []}, 'geo': None, 'coordinates': None, 'place': None, 'contributors': None, 'is_quote_status': False, 'retweet_count': 10, 'favorite_count': 55, 'favorited': False, 'retweeted': False, 'possibly_sensitive': False, 'possibly_sensitive_appealable': False, 'lang': 'en'}, created_at=datetime.datetime(2022, 12, 4, 11, 0, 17, tzinfo=datetime.timezone.utc), id=1599357922261307392, id_str='1599357922261307392', text='The US military wants its adversaries, as well as allies, to know that, for the first time, a US Navy nuclear-power… https://t.co/PFEB8zxpNM', truncated=True, entities={'hashtags': [], 'symbols': [], 'user_mentions': [], 'urls': [{'url': 'https://t.co/PFEB8zxpNM', 'expanded_url': 'https://twitter.com/i/web/status/1599357922261307392', 'display_url': 'twitter.com/i/web/status/1…', 'indices': [117, 140]}]}, source='SocialFlow', source_url='http://www.socialflow.com', in_reply_to_status_id=None, in_reply_to_status_id_str=None, in_reply_to_user_id=None, in_reply_to_user_id_str=None, in_reply_to_screen_name=None, author=User(_api=<tweepy.api.API object at 0x000001B345F17E50>, _json={'id': 759251, 'id_str': '759251', 'name': 'CNN', 'screen_name': 'CNN', 'location': '', 'description': 'It’s our job to #GoThere & tell the most difficult stories. For breaking news, follow @CNNBRK and download our app https://t.co/ceNBoNi8y6', 'url': 'https://t.co/imGp4Ieixi', 'entities': {'url': {'urls': [{'url': 'https://t.co/imGp4Ieixi', 'expanded_url': 'http://www.cnn.com', 'display_url': 'cnn.com', 'indices': [0, 23]}]}, 'description': {'urls': [{'url': 'https://t.co/ceNBoNi8y6', 'expanded_url': 'http://cnn.com/apps', 'display_url': 'cnn.com/apps', 'indices': [115, 138]}]}}, 'protected': False, 'followers_count': 60707843, 'friends_count': 1092, 'listed_count': 156001, 'created_at': 'Fri Feb 09 00:35:02 +0000 2007', 'favourites_count': 1382, 'utc_offset': None, 'time_zone': None, 'geo_enabled': True, 'verified': True, 'statuses_count': 391545, 'lang': None, 'contributors_enabled': False, 'is_translator': False, 'is_translation_enabled': True, 'profile_background_color': '323232', 'profile_background_image_url': 'http://abs.twimg.com/images/themes/theme1/bg.png', 'profile_background_image_url_https': 'https://abs.twimg.com/images/themes/theme1/bg.png', 'profile_background_tile': False, 'profile_image_url': 'http://pbs.twimg.com/profile_images/1278259160644227073/MfCyF7CG_normal.jpg', 'profile_image_url_https': 'https://pbs.twimg.com/profile_images/1278259160644227073/MfCyF7CG_normal.jpg', 'profile_banner_url': 'https://pbs.twimg.com/profile_banners/759251/1667231828', 'profile_link_color': '004287', 'profile_sidebar_border_color': '000000', 'profile_sidebar_fill_color': 'EEEEEE', 'profile_text_color': '000000', 'profile_use_background_image': False, 'has_extended_profile': False, 'default_profile': False, 'default_profile_image': False, 'following': True, 'follow_request_sent': False, 'notifications': False, 'translator_type': 'regular', 'withheld_in_countries': []}, id=759251, id_str='759251', name='CNN', screen_name='CNN', location='', description='It’s our job to #GoThere & tell the most difficult stories. For breaking news, follow @CNNBRK and download our app https://t.co/ceNBoNi8y6', url='https://t.co/imGp4Ieixi', entities={'url': {'urls': [{'url': 'https://t.co/imGp4Ieixi', 'expanded_url': 'http://www.cnn.com', 'display_url': 'cnn.com', 'indices': [0, 23]}]}, 'description': {'urls': [{'url': 'https://t.co/ceNBoNi8y6', 'expanded_url': 'http://cnn.com/apps', 'display_url': 'cnn.com/apps', 'indices': [115, 138]}]}}, protected=False, followers_count=60707843, friends_count=1092, listed_count=156001, created_at=datetime.datetime(2007, 2, 9, 0, 35, 2, tzinfo=datetime.timezone.utc), favourites_count=1382, utc_offset=None, time_zone=None, geo_enabled=True, verified=True, statuses_count=391545, lang=None, contributors_enabled=False, is_translator=False, is_translation_enabled=True, profile_background_color='323232', profile_background_image_url='http://abs.twimg.com/images/themes/theme1/bg.png', profile_background_image_url_https='https://abs.twimg.com/images/themes/theme1/bg.png', profile_background_tile=False, profile_image_url='http://pbs.twimg.com/profile_images/1278259160644227073/MfCyF7CG_normal.jpg', profile_image_url_https='https://pbs.twimg.com/profile_images/1278259160644227073/MfCyF7CG_normal.jpg', profile_banner_url='https://pbs.twimg.com/profile_banners/759251/1667231828', profile_link_color='004287', profile_sidebar_border_color='000000', profile_sidebar_fill_color='EEEEEE', profile_text_color='000000', profile_use_background_image=False, has_extended_profile=False, default_profile=False, default_profile_image=False, following=True, follow_request_sent=False, notifications=False, translator_type='regular', withheld_in_countries=[]), user=User(_api=<tweepy.api.API object at 0x000001B345F17E50>, _json={'id': 759251, 'id_str': '759251', 'name': 'CNN', 'screen_name': 'CNN', 'location': '', 'description': 'It’s our job to #GoThere & tell the most difficult stories. For breaking news, follow @CNNBRK and download our app https://t.co/ceNBoNi8y6', 'url': 'https://t.co/imGp4Ieixi', 'entities': {'url': {'urls': [{'url': 'https://t.co/imGp4Ieixi', 'expanded_url': 'http://www.cnn.com', 'display_url': 'cnn.com', 'indices': [0, 23]}]}, 'description': {'urls': [{'url': 'https://t.co/ceNBoNi8y6', 'expanded_url': 'http://cnn.com/apps', 'display_url': 'cnn.com/apps', 'indices': [115, 138]}]}}, 'protected': False, 'followers_count': 60707843, 'friends_count': 1092, 'listed_count': 156001, 'created_at': 'Fri Feb 09 00:35:02 +0000 2007', 'favourites_count': 1382, 'utc_offset': None, 'time_zone': None, 'geo_enabled': True, 'verified': True, 'statuses_count': 391545, 'lang': None, 'contributors_enabled': False, 'is_translator': False, 'is_translation_enabled': True, 'profile_background_color': '323232', 'profile_background_image_url': 'http://abs.twimg.com/images/themes/theme1/bg.png', 'profile_background_image_url_https': 'https://abs.twimg.com/images/themes/theme1/bg.png', 'profile_background_tile': False, 'profile_image_url': 'http://pbs.twimg.com/profile_images/1278259160644227073/MfCyF7CG_normal.jpg', 'profile_image_url_https': 'https://pbs.twimg.com/profile_images/1278259160644227073/MfCyF7CG_normal.jpg', 'profile_banner_url': 'https://pbs.twimg.com/profile_banners/759251/1667231828', 'profile_link_color': '004287', 'profile_sidebar_border_color': '000000', 'profile_sidebar_fill_color': 'EEEEEE', 'profile_text_color': '000000', 'profile_use_background_image': False, 'has_extended_profile': False, 'default_profile': False, 'default_profile_image': False, 'following': True, 'follow_request_sent': False, 'notifications': False, 'translator_type': 'regular', 'withheld_in_countries': []}, id=759251, id_str='759251', name='CNN', screen_name='CNN', location='', description='It’s our job to #GoThere & tell the most difficult stories. For breaking news, follow @CNNBRK and download our app https://t.co/ceNBoNi8y6', url='https://t.co/imGp4Ieixi', entities={'url': {'urls': [{'url': 'https://t.co/imGp4Ieixi', 'expanded_url': 'http://www.cnn.com', 'display_url': 'cnn.com', 'indices': [0, 23]}]}, 'description': {'urls': [{'url': 'https://t.co/ceNBoNi8y6', 'expanded_url': 'http://cnn.com/apps', 'display_url': 'cnn.com/apps', 'indices': [115, 138]}]}}, protected=False, followers_count=60707843, friends_count=1092, listed_count=156001, created_at=datetime.datetime(2007, 2, 9, 0, 35, 2, tzinfo=datetime.timezone.utc), favourites_count=1382, utc_offset=None, time_zone=None, geo_enabled=True, verified=True, statuses_count=391545, lang=None, contributors_enabled=False, is_translator=False, is_translation_enabled=True, profile_background_color='323232', profile_background_image_url='http://abs.twimg.com/images/themes/theme1/bg.png', profile_background_image_url_https='https://abs.twimg.com/images/themes/theme1/bg.png', profile_background_tile=False, profile_image_url='http://pbs.twimg.com/profile_images/1278259160644227073/MfCyF7CG_normal.jpg', profile_image_url_https='https://pbs.twimg.com/profile_images/1278259160644227073/MfCyF7CG_normal.jpg', profile_banner_url='https://pbs.twimg.com/profile_banners/759251/1667231828', profile_link_color='004287', profile_sidebar_border_color='000000', profile_sidebar_fill_color='EEEEEE', profile_text_color='000000', profile_use_background_image=False, has_extended_profile=False, default_profile=False, default_profile_image=False, following=True, follow_request_sent=False, notifications=False, translator_type='regular', withheld_in_countries=[]), geo=None, coordinates=None, place=None, contributors=None, is_quote_status=False, retweet_count=10, favorite_count=55, favorited=False, retweeted=False, possibly_sensitive=False, possibly_sensitive_appealable=False, lang='en'), Status(_api=<tweepy.api.API object at 0x000001B345F17E50>, _json={'created_at': 'Sun Dec 04 11:00:15 +0000 2022', 'id': 1599357913734303744, 'id_str': '1599357913734303744', 'text': 'Sonntagmittag. Pünktlich zum Mittagsessen fragen wir: https://t.co/ufGebSoz2A', 'truncated': False, 'entities': {'hashtags': [], 'symbols': [], 'user_mentions': [], 'urls': [{'url': 'https://t.co/ufGebSoz2A', 'expanded_url': 'https://twitter.com/bzfe_de/status/1598604904423096320', 'display_url': 'twitter.com/bzfe_de/status…', 'indices': [54, 77]}]}, 'source': '<a href=\"https://login.facelift-cloud.com/login\" rel=\"nofollow\">facelift_cloud</a>', 'in_reply_to_status_id': None, 'in_reply_to_status_id_str': None, 'in_reply_to_user_id': None, 'in_reply_to_user_id_str': None, 'in_reply_to_screen_name': None, 'user': {'id': 322697372, 'id_str': '322697372', 'name': 'BMEL', 'screen_name': 'bmel', 'location': 'Bonn / Berlin', 'description': 'Bundesministerium für #Ernährung und #Landwirtschaft. Bundesminister ist @cem_oezdemir Impressum: https://t.co/CT6uVMJsh1', 'url': 'https://t.co/cOhQKMWgUi', 'entities': {'url': {'urls': [{'url': 'https://t.co/cOhQKMWgUi', 'expanded_url': 'http://www.bmel.de/', 'display_url': 'bmel.de', 'indices': [0, 23]}]}, 'description': {'urls': [{'url': 'https://t.co/CT6uVMJsh1', 'expanded_url': 'http://bmel.de/impressum', 'display_url': 'bmel.de/impressum', 'indices': [98, 121]}]}}, 'protected': False, 'followers_count': 64214, 'friends_count': 486, 'listed_count': 757, 'created_at': 'Thu Jun 23 16:06:55 +0000 2011', 'favourites_count': 1905, 'utc_offset': None, 'time_zone': None, 'geo_enabled': True, 'verified': True, 'statuses_count': 11093, 'lang': None, 'contributors_enabled': False, 'is_translator': False, 'is_translation_enabled': False, 'profile_background_color': 'E8F3DB', 'profile_background_image_url': 'http://abs.twimg.com/images/themes/theme1/bg.png', 'profile_background_image_url_https': 'https://abs.twimg.com/images/themes/theme1/bg.png', 'profile_background_tile': False, 'profile_image_url': 'http://pbs.twimg.com/profile_images/1551914946744799232/T4o42oy9_normal.jpg', 'profile_image_url_https': 'https://pbs.twimg.com/profile_images/1551914946744799232/T4o42oy9_normal.jpg', 'profile_banner_url': 'https://pbs.twimg.com/profile_banners/322697372/1646072604', 'profile_link_color': '69B63F', 'profile_sidebar_border_color': 'F5F5F5', 'profile_sidebar_fill_color': 'F5F5F5', 'profile_text_color': '333333', 'profile_use_background_image': False, 'has_extended_profile': False, 'default_profile': False, 'default_profile_image': False, 'following': True, 'follow_request_sent': False, 'notifications': False, 'translator_type': 'none', 'withheld_in_countries': []}, 'geo': None, 'coordinates': None, 'place': None, 'contributors': None, 'is_quote_status': True, 'quoted_status_id': 1598604904423096320, 'quoted_status_id_str': '1598604904423096320', 'quoted_status': {'created_at': 'Fri Dec 02 09:08:04 +0000 2022', 'id': 1598604904423096320, 'id_str': '1598604904423096320', 'text': 'Brauchen wir eine Extraportion Eiweiß? „Jein“ – so das Resümee der Gäste des vierten BZfE-Ernährungstalks „… https://t.co/noUXaPyhEP', 'truncated': True, 'entities': {'hashtags': [], 'symbols': [], 'user_mentions': [], 'urls': [{'url': 'https://t.co/noUXaPyhEP', 'expanded_url': 'https://twitter.com/i/web/status/1598604904423096320', 'display_url': 'twitter.com/i/web/status/1…', 'indices': [109, 132]}]}, 'source': '<a href=\"https://buffer.com\" rel=\"nofollow\">Buffer</a>', 'in_reply_to_status_id': None, 'in_reply_to_status_id_str': None, 'in_reply_to_user_id': None, 'in_reply_to_user_id_str': None, 'in_reply_to_screen_name': None, 'user': {'id': 22252511, 'id_str': '22252511', 'name': 'BZfE', 'screen_name': 'bzfe_de', 'location': 'Deutschland Bonn', 'description': 'Das Bundeszentrum für #Ernährung informiert rund ums #Essen. Neutral, wissenschaftlich fundiert und nah am Alltag. RT ≠ Zustimmung', 'url': 'https://t.co/D0MJCjPOW7', 'entities': {'url': {'urls': [{'url': 'https://t.co/D0MJCjPOW7', 'expanded_url': 'http://www.bzfe.de/inhalt/impressum-11.html', 'display_url': 'bzfe.de/inhalt/impress…', 'indices': [0, 23]}]}, 'description': {'urls': []}}, 'protected': False, 'followers_count': 8552, 'friends_count': 3510, 'listed_count': 307, 'created_at': 'Sat Feb 28 12:58:43 +0000 2009', 'favourites_count': 24978, 'utc_offset': None, 'time_zone': None, 'geo_enabled': True, 'verified': False, 'statuses_count': 34704, 'lang': None, 'contributors_enabled': False, 'is_translator': False, 'is_translation_enabled': False, 'profile_background_color': 'F4FA7D', 'profile_background_image_url': 'http://abs.twimg.com/images/themes/theme1/bg.png', 'profile_background_image_url_https': 'https://abs.twimg.com/images/themes/theme1/bg.png', 'profile_background_tile': False, 'profile_image_url': 'http://pbs.twimg.com/profile_images/900669147402698753/5vteGQVt_normal.jpg', 'profile_image_url_https': 'https://pbs.twimg.com/profile_images/900669147402698753/5vteGQVt_normal.jpg', 'profile_banner_url': 'https://pbs.twimg.com/profile_banners/22252511/1624278820', 'profile_link_color': '1C6B09', 'profile_sidebar_border_color': '000000', 'profile_sidebar_fill_color': 'C2FFA3', 'profile_text_color': '333333', 'profile_use_background_image': True, 'has_extended_profile': True, 'default_profile': False, 'default_profile_image': False, 'following': False, 'follow_request_sent': False, 'notifications': False, 'translator_type': 'none', 'withheld_in_countries': []}, 'geo': None, 'coordinates': None, 'place': None, 'contributors': None, 'is_quote_status': False, 'retweet_count': 2, 'favorite_count': 7, 'favorited': False, 'retweeted': False, 'possibly_sensitive': False, 'possibly_sensitive_appealable': False, 'lang': 'de'}, 'retweet_count': 0, 'favorite_count': 0, 'favorited': False, 'retweeted': False, 'possibly_sensitive': False, 'possibly_sensitive_appealable': False, 'lang': 'de'}, created_at=datetime.datetime(2022, 12, 4, 11, 0, 15, tzinfo=datetime.timezone.utc), id=1599357913734303744, id_str='1599357913734303744', text='Sonntagmittag. Pünktlich zum Mittagsessen fragen wir: https://t.co/ufGebSoz2A', truncated=False, entities={'hashtags': [], 'symbols': [], 'user_mentions': [], 'urls': [{'url': 'https://t.co/ufGebSoz2A', 'expanded_url': 'https://twitter.com/bzfe_de/status/1598604904423096320', 'display_url': 'twitter.com/bzfe_de/status…', 'indices': [54, 77]}]}, source='facelift_cloud', source_url='https://login.facelift-cloud.com/login', in_reply_to_status_id=None, in_reply_to_status_id_str=None, in_reply_to_user_id=None, in_reply_to_user_id_str=None, in_reply_to_screen_name=None, author=User(_api=<tweepy.api.API object at 0x000001B345F17E50>, _json={'id': 322697372, 'id_str': '322697372', 'name': 'BMEL', 'screen_name': 'bmel', 'location': 'Bonn / Berlin', 'description': 'Bundesministerium für #Ernährung und #Landwirtschaft. Bundesminister ist @cem_oezdemir Impressum: https://t.co/CT6uVMJsh1', 'url': 'https://t.co/cOhQKMWgUi', 'entities': {'url': {'urls': [{'url': 'https://t.co/cOhQKMWgUi', 'expanded_url': 'http://www.bmel.de/', 'display_url': 'bmel.de', 'indices': [0, 23]}]}, 'description': {'urls': [{'url': 'https://t.co/CT6uVMJsh1', 'expanded_url': 'http://bmel.de/impressum', 'display_url': 'bmel.de/impressum', 'indices': [98, 121]}]}}, 'protected': False, 'followers_count': 64214, 'friends_count': 486, 'listed_count': 757, 'created_at': 'Thu Jun 23 16:06:55 +0000 2011', 'favourites_count': 1905, 'utc_offset': None, 'time_zone': None, 'geo_enabled': True, 'verified': True, 'statuses_count': 11093, 'lang': None, 'contributors_enabled': False, 'is_translator': False, 'is_translation_enabled': False, 'profile_background_color': 'E8F3DB', 'profile_background_image_url': 'http://abs.twimg.com/images/themes/theme1/bg.png', 'profile_background_image_url_https': 'https://abs.twimg.com/images/themes/theme1/bg.png', 'profile_background_tile': False, 'profile_image_url': 'http://pbs.twimg.com/profile_images/1551914946744799232/T4o42oy9_normal.jpg', 'profile_image_url_https': 'https://pbs.twimg.com/profile_images/1551914946744799232/T4o42oy9_normal.jpg', 'profile_banner_url': 'https://pbs.twimg.com/profile_banners/322697372/1646072604', 'profile_link_color': '69B63F', 'profile_sidebar_border_color': 'F5F5F5', 'profile_sidebar_fill_color': 'F5F5F5', 'profile_text_color': '333333', 'profile_use_background_image': False, 'has_extended_profile': False, 'default_profile': False, 'default_profile_image': False, 'following': True, 'follow_request_sent': False, 'notifications': False, 'translator_type': 'none', 'withheld_in_countries': []}, id=322697372, id_str='322697372', name='BMEL', screen_name='bmel', location='Bonn / Berlin', description='Bundesministerium für #Ernährung und #Landwirtschaft. Bundesminister ist @cem_oezdemir Impressum: https://t.co/CT6uVMJsh1', url='https://t.co/cOhQKMWgUi', entities={'url': {'urls': [{'url': 'https://t.co/cOhQKMWgUi', 'expanded_url': 'http://www.bmel.de/', 'display_url': 'bmel.de', 'indices': [0, 23]}]}, 'description': {'urls': [{'url': 'https://t.co/CT6uVMJsh1', 'expanded_url': 'http://bmel.de/impressum', 'display_url': 'bmel.de/impressum', 'indices': [98, 121]}]}}, protected=False, followers_count=64214, friends_count=486, listed_count=757, created_at=datetime.datetime(2011, 6, 23, 16, 6, 55, tzinfo=datetime.timezone.utc), favourites_count=1905, utc_offset=None, time_zone=None, geo_enabled=True, verified=True, statuses_count=11093, lang=None, contributors_enabled=False, is_translator=False, is_translation_enabled=False, profile_background_color='E8F3DB', profile_background_image_url='http://abs.twimg.com/images/themes/theme1/bg.png', profile_background_image_url_https='https://abs.twimg.com/images/themes/theme1/bg.png', profile_background_tile=False, profile_image_url='http://pbs.twimg.com/profile_images/1551914946744799232/T4o42oy9_normal.jpg', profile_image_url_https='https://pbs.twimg.com/profile_images/1551914946744799232/T4o42oy9_normal.jpg', profile_banner_url='https://pbs.twimg.com/profile_banners/322697372/1646072604', profile_link_color='69B63F', profile_sidebar_border_color='F5F5F5', profile_sidebar_fill_color='F5F5F5', profile_text_color='333333', profile_use_background_image=False, has_extended_profile=False, default_profile=False, default_profile_image=False, following=True, follow_request_sent=False, notifications=False, translator_type='none', withheld_in_countries=[]), user=User(_api=<tweepy.api.API object at 0x000001B345F17E50>, _json={'id': 322697372, 'id_str': '322697372', 'name': 'BMEL', 'screen_name': 'bmel', 'location': 'Bonn / Berlin', 'description': 'Bundesministerium für #Ernährung und #Landwirtschaft. Bundesminister ist @cem_oezdemir Impressum: https://t.co/CT6uVMJsh1', 'url': 'https://t.co/cOhQKMWgUi', 'entities': {'url': {'urls': [{'url': 'https://t.co/cOhQKMWgUi', 'expanded_url': 'http://www.bmel.de/', 'display_url': 'bmel.de', 'indices': [0, 23]}]}, 'description': {'urls': [{'url': 'https://t.co/CT6uVMJsh1', 'expanded_url': 'http://bmel.de/impressum', 'display_url': 'bmel.de/impressum', 'indices': [98, 121]}]}}, 'protected': False, 'followers_count': 64214, 'friends_count': 486, 'listed_count': 757, 'created_at': 'Thu Jun 23 16:06:55 +0000 2011', 'favourites_count': 1905, 'utc_offset': None, 'time_zone': None, 'geo_enabled': True, 'verified': True, 'statuses_count': 11093, 'lang': None, 'contributors_enabled': False, 'is_translator': False, 'is_translation_enabled': False, 'profile_background_color': 'E8F3DB', 'profile_background_image_url': 'http://abs.twimg.com/images/themes/theme1/bg.png', 'profile_background_image_url_https': 'https://abs.twimg.com/images/themes/theme1/bg.png', 'profile_background_tile': False, 'profile_image_url': 'http://pbs.twimg.com/profile_images/1551914946744799232/T4o42oy9_normal.jpg', 'profile_image_url_https': 'https://pbs.twimg.com/profile_images/1551914946744799232/T4o42oy9_normal.jpg', 'profile_banner_url': 'https://pbs.twimg.com/profile_banners/322697372/1646072604', 'profile_link_color': '69B63F', 'profile_sidebar_border_color': 'F5F5F5', 'profile_sidebar_fill_color': 'F5F5F5', 'profile_text_color': '333333', 'profile_use_background_image': False, 'has_extended_profile': False, 'default_profile': False, 'default_profile_image': False, 'following': True, 'follow_request_sent': False, 'notifications': False, 'translator_type': 'none', 'withheld_in_countries': []}, id=322697372, id_str='322697372', name='BMEL', screen_name='bmel', location='Bonn / Berlin', description='Bundesministerium für #Ernährung und #Landwirtschaft. Bundesminister ist @cem_oezdemir Impressum: https://t.co/CT6uVMJsh1', url='https://t.co/cOhQKMWgUi', entities={'url': {'urls': [{'url': 'https://t.co/cOhQKMWgUi', 'expanded_url': 'http://www.bmel.de/', 'display_url': 'bmel.de', 'indices': [0, 23]}]}, 'description': {'urls': [{'url': 'https://t.co/CT6uVMJsh1', 'expanded_url': 'http://bmel.de/impressum', 'display_url': 'bmel.de/impressum', 'indices': [98, 121]}]}}, protected=False, followers_count=64214, friends_count=486, listed_count=757, created_at=datetime.datetime(2011, 6, 23, 16, 6, 55, tzinfo=datetime.timezone.utc), favourites_count=1905, utc_offset=None, time_zone=None, geo_enabled=True, verified=True, statuses_count=11093, lang=None, contributors_enabled=False, is_translator=False, is_translation_enabled=False, profile_background_color='E8F3DB', profile_background_image_url='http://abs.twimg.com/images/themes/theme1/bg.png', profile_background_image_url_https='https://abs.twimg.com/images/themes/theme1/bg.png', profile_background_tile=False, profile_image_url='http://pbs.twimg.com/profile_images/1551914946744799232/T4o42oy9_normal.jpg', profile_image_url_https='https://pbs.twimg.com/profile_images/1551914946744799232/T4o42oy9_normal.jpg', profile_banner_url='https://pbs.twimg.com/profile_banners/322697372/1646072604', profile_link_color='69B63F', profile_sidebar_border_color='F5F5F5', profile_sidebar_fill_color='F5F5F5', profile_text_color='333333', profile_use_background_image=False, has_extended_profile=False, default_profile=False, default_profile_image=False, following=True, follow_request_sent=False, notifications=False, translator_type='none', withheld_in_countries=[]), geo=None, coordinates=None, place=None, contributors=None, is_quote_status=True, quoted_status_id=1598604904423096320, quoted_status_id_str='1598604904423096320', quoted_status=Status(_api=<tweepy.api.API object at 0x000001B345F17E50>, _json={'created_at': 'Fri Dec 02 09:08:04 +0000 2022', 'id': 1598604904423096320, 'id_str': '1598604904423096320', 'text': 'Brauchen wir eine Extraportion Eiweiß? „Jein“ – so das Resümee der Gäste des vierten BZfE-Ernährungstalks „… https://t.co/noUXaPyhEP', 'truncated': True, 'entities': {'hashtags': [], 'symbols': [], 'user_mentions': [], 'urls': [{'url': 'https://t.co/noUXaPyhEP', 'expanded_url': 'https://twitter.com/i/web/status/1598604904423096320', 'display_url': 'twitter.com/i/web/status/1…', 'indices': [109, 132]}]}, 'source': '<a href=\"https://buffer.com\" rel=\"nofollow\">Buffer</a>', 'in_reply_to_status_id': None, 'in_reply_to_status_id_str': None, 'in_reply_to_user_id': None, 'in_reply_to_user_id_str': None, 'in_reply_to_screen_name': None, 'user': {'id': 22252511, 'id_str': '22252511', 'name': 'BZfE', 'screen_name': 'bzfe_de', 'location': 'Deutschland Bonn', 'description': 'Das Bundeszentrum für #Ernährung informiert rund ums #Essen. Neutral, wissenschaftlich fundiert und nah am Alltag. RT ≠ Zustimmung', 'url': 'https://t.co/D0MJCjPOW7', 'entities': {'url': {'urls': [{'url': 'https://t.co/D0MJCjPOW7', 'expanded_url': 'http://www.bzfe.de/inhalt/impressum-11.html', 'display_url': 'bzfe.de/inhalt/impress…', 'indices': [0, 23]}]}, 'description': {'urls': []}}, 'protected': False, 'followers_count': 8552, 'friends_count': 3510, 'listed_count': 307, 'created_at': 'Sat Feb 28 12:58:43 +0000 2009', 'favourites_count': 24978, 'utc_offset': None, 'time_zone': None, 'geo_enabled': True, 'verified': False, 'statuses_count': 34704, 'lang': None, 'contributors_enabled': False, 'is_translator': False, 'is_translation_enabled': False, 'profile_background_color': 'F4FA7D', 'profile_background_image_url': 'http://abs.twimg.com/images/themes/theme1/bg.png', 'profile_background_image_url_https': 'https://abs.twimg.com/images/themes/theme1/bg.png', 'profile_background_tile': False, 'profile_image_url': 'http://pbs.twimg.com/profile_images/900669147402698753/5vteGQVt_normal.jpg', 'profile_image_url_https': 'https://pbs.twimg.com/profile_images/900669147402698753/5vteGQVt_normal.jpg', 'profile_banner_url': 'https://pbs.twimg.com/profile_banners/22252511/1624278820', 'profile_link_color': '1C6B09', 'profile_sidebar_border_color': '000000', 'profile_sidebar_fill_color': 'C2FFA3', 'profile_text_color': '333333', 'profile_use_background_image': True, 'has_extended_profile': True, 'default_profile': False, 'default_profile_image': False, 'following': False, 'follow_request_sent': False, 'notifications': False, 'translator_type': 'none', 'withheld_in_countries': []}, 'geo': None, 'coordinates': None, 'place': None, 'contributors': None, 'is_quote_status': False, 'retweet_count': 2, 'favorite_count': 7, 'favorited': False, 'retweeted': False, 'possibly_sensitive': False, 'possibly_sensitive_appealable': False, 'lang': 'de'}, created_at=datetime.datetime(2022, 12, 2, 9, 8, 4, tzinfo=datetime.timezone.utc), id=1598604904423096320, id_str='1598604904423096320', text='Brauchen wir eine Extraportion Eiweiß? „Jein“ – so das Resümee der Gäste des vierten BZfE-Ernährungstalks „… https://t.co/noUXaPyhEP', truncated=True, entities={'hashtags': [], 'symbols': [], 'user_mentions': [], 'urls': [{'url': 'https://t.co/noUXaPyhEP', 'expanded_url': 'https://twitter.com/i/web/status/1598604904423096320', 'display_url': 'twitter.com/i/web/status/1…', 'indices': [109, 132]}]}, source='Buffer', source_url='https://buffer.com', in_reply_to_status_id=None, in_reply_to_status_id_str=None, in_reply_to_user_id=None, in_reply_to_user_id_str=None, in_reply_to_screen_name=None, author=User(_api=<tweepy.api.API object at 0x000001B345F17E50>, _json={'id': 22252511, 'id_str': '22252511', 'name': 'BZfE', 'screen_name': 'bzfe_de', 'location': 'Deutschland Bonn', 'description': 'Das Bundeszentrum für #Ernährung informiert rund ums #Essen. Neutral, wissenschaftlich fundiert und nah am Alltag. RT ≠ Zustimmung', 'url': 'https://t.co/D0MJCjPOW7', 'entities': {'url': {'urls': [{'url': 'https://t.co/D0MJCjPOW7', 'expanded_url': 'http://www.bzfe.de/inhalt/impressum-11.html', 'display_url': 'bzfe.de/inhalt/impress…', 'indices': [0, 23]}]}, 'description': {'urls': []}}, 'protected': False, 'followers_count': 8552, 'friends_count': 3510, 'listed_count': 307, 'created_at': 'Sat Feb 28 12:58:43 +0000 2009', 'favourites_count': 24978, 'utc_offset': None, 'time_zone': None, 'geo_enabled': True, 'verified': False, 'statuses_count': 34704, 'lang': None, 'contributors_enabled': False, 'is_translator': False, 'is_translation_enabled': False, 'profile_background_color': 'F4FA7D', 'profile_background_image_url': 'http://abs.twimg.com/images/themes/theme1/bg.png', 'profile_background_image_url_https': 'https://abs.twimg.com/images/themes/theme1/bg.png', 'profile_background_tile': False, 'profile_image_url': 'http://pbs.twimg.com/profile_images/900669147402698753/5vteGQVt_normal.jpg', 'profile_image_url_https': 'https://pbs.twimg.com/profile_images/900669147402698753/5vteGQVt_normal.jpg', 'profile_banner_url': 'https://pbs.twimg.com/profile_banners/22252511/1624278820', 'profile_link_color': '1C6B09', 'profile_sidebar_border_color': '000000', 'profile_sidebar_fill_color': 'C2FFA3', 'profile_text_color': '333333', 'profile_use_background_image': True, 'has_extended_profile': True, 'default_profile': False, 'default_profile_image': False, 'following': False, 'follow_request_sent': False, 'notifications': False, 'translator_type': 'none', 'withheld_in_countries': []}, id=22252511, id_str='22252511', name='BZfE', screen_name='bzfe_de', location='Deutschland Bonn', description='Das Bundeszentrum für #Ernährung informiert rund ums #Essen. Neutral, wissenschaftlich fundiert und nah am Alltag. RT ≠ Zustimmung', url='https://t.co/D0MJCjPOW7', entities={'url': {'urls': [{'url': 'https://t.co/D0MJCjPOW7', 'expanded_url': 'http://www.bzfe.de/inhalt/impressum-11.html', 'display_url': 'bzfe.de/inhalt/impress…', 'indices': [0, 23]}]}, 'description': {'urls': []}}, protected=False, followers_count=8552, friends_count=3510, listed_count=307, created_at=datetime.datetime(2009, 2, 28, 12, 58, 43, tzinfo=datetime.timezone.utc), favourites_count=24978, utc_offset=None, time_zone=None, geo_enabled=True, verified=False, statuses_count=34704, lang=None, contributors_enabled=False, is_translator=False, is_translation_enabled=False, profile_background_color='F4FA7D', profile_background_image_url='http://abs.twimg.com/images/themes/theme1/bg.png', profile_background_image_url_https='https://abs.twimg.com/images/themes/theme1/bg.png', profile_background_tile=False, profile_image_url='http://pbs.twimg.com/profile_images/900669147402698753/5vteGQVt_normal.jpg', profile_image_url_https='https://pbs.twimg.com/profile_images/900669147402698753/5vteGQVt_normal.jpg', profile_banner_url='https://pbs.twimg.com/profile_banners/22252511/1624278820', profile_link_color='1C6B09', profile_sidebar_border_color='000000', profile_sidebar_fill_color='C2FFA3', profile_text_color='333333', profile_use_background_image=True, has_extended_profile=True, default_profile=False, default_profile_image=False, following=False, follow_request_sent=False, notifications=False, translator_type='none', withheld_in_countries=[]), user=User(_api=<tweepy.api.API object at 0x000001B345F17E50>, _json={'id': 22252511, 'id_str': '22252511', 'name': 'BZfE', 'screen_name': 'bzfe_de', 'location': 'Deutschland Bonn', 'description': 'Das Bundeszentrum für #Ernährung informiert rund ums #Essen. Neutral, wissenschaftlich fundiert und nah am Alltag. RT ≠ Zustimmung', 'url': 'https://t.co/D0MJCjPOW7', 'entities': {'url': {'urls': [{'url': 'https://t.co/D0MJCjPOW7', 'expanded_url': 'http://www.bzfe.de/inhalt/impressum-11.html', 'display_url': 'bzfe.de/inhalt/impress…', 'indices': [0, 23]}]}, 'description': {'urls': []}}, 'protected': False, 'followers_count': 8552, 'friends_count': 3510, 'listed_count': 307, 'created_at': 'Sat Feb 28 12:58:43 +0000 2009', 'favourites_count': 24978, 'utc_offset': None, 'time_zone': None, 'geo_enabled': True, 'verified': False, 'statuses_count': 34704, 'lang': None, 'contributors_enabled': False, 'is_translator': False, 'is_translation_enabled': False, 'profile_background_color': 'F4FA7D', 'profile_background_image_url': 'http://abs.twimg.com/images/themes/theme1/bg.png', 'profile_background_image_url_https': 'https://abs.twimg.com/images/themes/theme1/bg.png', 'profile_background_tile': False, 'profile_image_url': 'http://pbs.twimg.com/profile_images/900669147402698753/5vteGQVt_normal.jpg', 'profile_image_url_https': 'https://pbs.twimg.com/profile_images/900669147402698753/5vteGQVt_normal.jpg', 'profile_banner_url': 'https://pbs.twimg.com/profile_banners/22252511/1624278820', 'profile_link_color': '1C6B09', 'profile_sidebar_border_color': '000000', 'profile_sidebar_fill_color': 'C2FFA3', 'profile_text_color': '333333', 'profile_use_background_image': True, 'has_extended_profile': True, 'default_profile': False, 'default_profile_image': False, 'following': False, 'follow_request_sent': False, 'notifications': False, 'translator_type': 'none', 'withheld_in_countries': []}, id=22252511, id_str='22252511', name='BZfE', screen_name='bzfe_de', location='Deutschland Bonn', description='Das Bundeszentrum für #Ernährung informiert rund ums #Essen. Neutral, wissenschaftlich fundiert und nah am Alltag. RT ≠ Zustimmung', url='https://t.co/D0MJCjPOW7', entities={'url': {'urls': [{'url': 'https://t.co/D0MJCjPOW7', 'expanded_url': 'http://www.bzfe.de/inhalt/impressum-11.html', 'display_url': 'bzfe.de/inhalt/impress…', 'indices': [0, 23]}]}, 'description': {'urls': []}}, protected=False, followers_count=8552, friends_count=3510, listed_count=307, created_at=datetime.datetime(2009, 2, 28, 12, 58, 43, tzinfo=datetime.timezone.utc), favourites_count=24978, utc_offset=None, time_zone=None, geo_enabled=True, verified=False, statuses_count=34704, lang=None, contributors_enabled=False, is_translator=False, is_translation_enabled=False, profile_background_color='F4FA7D', profile_background_image_url='http://abs.twimg.com/images/themes/theme1/bg.png', profile_background_image_url_https='https://abs.twimg.com/images/themes/theme1/bg.png', profile_background_tile=False, profile_image_url='http://pbs.twimg.com/profile_images/900669147402698753/5vteGQVt_normal.jpg', profile_image_url_https='https://pbs.twimg.com/profile_images/900669147402698753/5vteGQVt_normal.jpg', profile_banner_url='https://pbs.twimg.com/profile_banners/22252511/1624278820', profile_link_color='1C6B09', profile_sidebar_border_color='000000', profile_sidebar_fill_color='C2FFA3', profile_text_color='333333', profile_use_background_image=True, has_extended_profile=True, default_profile=False, default_profile_image=False, following=False, follow_request_sent=False, notifications=False, translator_type='none', withheld_in_countries=[]), geo=None, coordinates=None, place=None, contributors=None, is_quote_status=False, retweet_count=2, favorite_count=7, favorited=False, retweeted=False, possibly_sensitive=False, possibly_sensitive_appealable=False, lang='de'), retweet_count=0, favorite_count=0, favorited=False, retweeted=False, possibly_sensitive=False, possibly_sensitive_appealable=False, lang='de'), Status(_api=<tweepy.api.API object at 0x000001B345F17E50>, _json={'created_at': 'Sun Dec 04 11:00:07 +0000 2022', 'id': 1599357880083386369, 'id_str': '1599357880083386369', 'text': 'El Mundial de Qatar entra este domingo en su día 15 de competencia y en el segundo de los duelos de octavos de fina… https://t.co/erZ3KVKFlj', 'truncated': True, 'entities': {'hashtags': [], 'symbols': [], 'user_mentions': [], 'urls': [{'url': 'https://t.co/erZ3KVKFlj', 'expanded_url': 'https://twitter.com/i/web/status/1599357880083386369', 'display_url': 'twitter.com/i/web/status/1…', 'indices': [117, 140]}]}, 'source': '<a href=\"http://www.socialflow.com\" rel=\"nofollow\">SocialFlow</a>', 'in_reply_to_status_id': None, 'in_reply_to_status_id_str': None, 'in_reply_to_user_id': None, 'in_reply_to_user_id_str': None, 'in_reply_to_screen_name': None, 'user': {'id': 33884545, 'id_str': '33884545', 'name': 'CNN en Español', 'screen_name': 'CNNEE', 'location': 'En todas partes', 'description': 'CNN en Español es tu principal fuente de información y breaking news. Cubrimos las noticias de América Latina y el resto del mundo. Vive la noticia.', 'url': 'https://t.co/6nHDD785lT', 'entities': {'url': {'urls': [{'url': 'https://t.co/6nHDD785lT', 'expanded_url': 'http://cnnespanol.cnn.com', 'display_url': 'cnnespanol.cnn.com', 'indices': [0, 23]}]}, 'description': {'urls': []}}, 'protected': False, 'followers_count': 22299259, 'friends_count': 417, 'listed_count': 52629, 'created_at': 'Tue Apr 21 12:14:47 +0000 2009', 'favourites_count': 1512, 'utc_offset': None, 'time_zone': None, 'geo_enabled': True, 'verified': True, 'statuses_count': 396032, 'lang': None, 'contributors_enabled': False, 'is_translator': False, 'is_translation_enabled': True, 'profile_background_color': 'C0DEED', 'profile_background_image_url': 'http://abs.twimg.com/images/themes/theme1/bg.png', 'profile_background_image_url_https': 'https://abs.twimg.com/images/themes/theme1/bg.png', 'profile_background_tile': False, 'profile_image_url': 'http://pbs.twimg.com/profile_images/1504512864123600897/aBxxzqgm_normal.jpg', 'profile_image_url_https': 'https://pbs.twimg.com/profile_images/1504512864123600897/aBxxzqgm_normal.jpg', 'profile_banner_url': 'https://pbs.twimg.com/profile_banners/33884545/1411070627', 'profile_link_color': 'AB1529', 'profile_sidebar_border_color': 'B5B5B5', 'profile_sidebar_fill_color': 'B5B5B5', 'profile_text_color': '000000', 'profile_use_background_image': True, 'has_extended_profile': False, 'default_profile': False, 'default_profile_image': False, 'following': True, 'follow_request_sent': False, 'notifications': False, 'translator_type': 'none', 'withheld_in_countries': []}, 'geo': None, 'coordinates': None, 'place': None, 'contributors': None, 'is_quote_status': False, 'retweet_count': 4, 'favorite_count': 8, 'favorited': False, 'retweeted': False, 'possibly_sensitive': False, 'possibly_sensitive_appealable': False, 'lang': 'es'}, created_at=datetime.datetime(2022, 12, 4, 11, 0, 7, tzinfo=datetime.timezone.utc), id=1599357880083386369, id_str='1599357880083386369', text='El Mundial de Qatar entra este domingo en su día 15 de competencia y en el segundo de los duelos de octavos de fina… https://t.co/erZ3KVKFlj', truncated=True, entities={'hashtags': [], 'symbols': [], 'user_mentions': [], 'urls': [{'url': 'https://t.co/erZ3KVKFlj', 'expanded_url': 'https://twitter.com/i/web/status/1599357880083386369', 'display_url': 'twitter.com/i/web/status/1…', 'indices': [117, 140]}]}, source='SocialFlow', source_url='http://www.socialflow.com', in_reply_to_status_id=None, in_reply_to_status_id_str=None, in_reply_to_user_id=None, in_reply_to_user_id_str=None, in_reply_to_screen_name=None, author=User(_api=<tweepy.api.API object at 0x000001B345F17E50>, _json={'id': 33884545, 'id_str': '33884545', 'name': 'CNN en Español', 'screen_name': 'CNNEE', 'location': 'En todas partes', 'description': 'CNN en Español es tu principal fuente de información y breaking news. Cubrimos las noticias de América Latina y el resto del mundo. Vive la noticia.', 'url': 'https://t.co/6nHDD785lT', 'entities': {'url': {'urls': [{'url': 'https://t.co/6nHDD785lT', 'expanded_url': 'http://cnnespanol.cnn.com', 'display_url': 'cnnespanol.cnn.com', 'indices': [0, 23]}]}, 'description': {'urls': []}}, 'protected': False, 'followers_count': 22299259, 'friends_count': 417, 'listed_count': 52629, 'created_at': 'Tue Apr 21 12:14:47 +0000 2009', 'favourites_count': 1512, 'utc_offset': None, 'time_zone': None, 'geo_enabled': True, 'verified': True, 'statuses_count': 396032, 'lang': None, 'contributors_enabled': False, 'is_translator': False, 'is_translation_enabled': True, 'profile_background_color': 'C0DEED', 'profile_background_image_url': 'http://abs.twimg.com/images/themes/theme1/bg.png', 'profile_background_image_url_https': 'https://abs.twimg.com/images/themes/theme1/bg.png', 'profile_background_tile': False, 'profile_image_url': 'http://pbs.twimg.com/profile_images/1504512864123600897/aBxxzqgm_normal.jpg', 'profile_image_url_https': 'https://pbs.twimg.com/profile_images/1504512864123600897/aBxxzqgm_normal.jpg', 'profile_banner_url': 'https://pbs.twimg.com/profile_banners/33884545/1411070627', 'profile_link_color': 'AB1529', 'profile_sidebar_border_color': 'B5B5B5', 'profile_sidebar_fill_color': 'B5B5B5', 'profile_text_color': '000000', 'profile_use_background_image': True, 'has_extended_profile': False, 'default_profile': False, 'default_profile_image': False, 'following': True, 'follow_request_sent': False, 'notifications': False, 'translator_type': 'none', 'withheld_in_countries': []}, id=33884545, id_str='33884545', name='CNN en Español', screen_name='CNNEE', location='En todas partes', description='CNN en Español es tu principal fuente de información y breaking news. Cubrimos las noticias de América Latina y el resto del mundo. Vive la noticia.', url='https://t.co/6nHDD785lT', entities={'url': {'urls': [{'url': 'https://t.co/6nHDD785lT', 'expanded_url': 'http://cnnespanol.cnn.com', 'display_url': 'cnnespanol.cnn.com', 'indices': [0, 23]}]}, 'description': {'urls': []}}, protected=False, followers_count=22299259, friends_count=417, listed_count=52629, created_at=datetime.datetime(2009, 4, 21, 12, 14, 47, tzinfo=datetime.timezone.utc), favourites_count=1512, utc_offset=None, time_zone=None, geo_enabled=True, verified=True, statuses_count=396032, lang=None, contributors_enabled=False, is_translator=False, is_translation_enabled=True, profile_background_color='C0DEED', profile_background_image_url='http://abs.twimg.com/images/themes/theme1/bg.png', profile_background_image_url_https='https://abs.twimg.com/images/themes/theme1/bg.png', profile_background_tile=False, profile_image_url='http://pbs.twimg.com/profile_images/1504512864123600897/aBxxzqgm_normal.jpg', profile_image_url_https='https://pbs.twimg.com/profile_images/1504512864123600897/aBxxzqgm_normal.jpg', profile_banner_url='https://pbs.twimg.com/profile_banners/33884545/1411070627', profile_link_color='AB1529', profile_sidebar_border_color='B5B5B5', profile_sidebar_fill_color='B5B5B5', profile_text_color='000000', profile_use_background_image=True, has_extended_profile=False, default_profile=False, default_profile_image=False, following=True, follow_request_sent=False, notifications=False, translator_type='none', withheld_in_countries=[]), user=User(_api=<tweepy.api.API object at 0x000001B345F17E50>, _json={'id': 33884545, 'id_str': '33884545', 'name': 'CNN en Español', 'screen_name': 'CNNEE', 'location': 'En todas partes', 'description': 'CNN en Español es tu principal fuente de información y breaking news. Cubrimos las noticias de América Latina y el resto del mundo. Vive la noticia.', 'url': 'https://t.co/6nHDD785lT', 'entities': {'url': {'urls': [{'url': 'https://t.co/6nHDD785lT', 'expanded_url': 'http://cnnespanol.cnn.com', 'display_url': 'cnnespanol.cnn.com', 'indices': [0, 23]}]}, 'description': {'urls': []}}, 'protected': False, 'followers_count': 22299259, 'friends_count': 417, 'listed_count': 52629, 'created_at': 'Tue Apr 21 12:14:47 +0000 2009', 'favourites_count': 1512, 'utc_offset': None, 'time_zone': None, 'geo_enabled': True, 'verified': True, 'statuses_count': 396032, 'lang': None, 'contributors_enabled': False, 'is_translator': False, 'is_translation_enabled': True, 'profile_background_color': 'C0DEED', 'profile_background_image_url': 'http://abs.twimg.com/images/themes/theme1/bg.png', 'profile_background_image_url_https': 'https://abs.twimg.com/images/themes/theme1/bg.png', 'profile_background_tile': False, 'profile_image_url': 'http://pbs.twimg.com/profile_images/1504512864123600897/aBxxzqgm_normal.jpg', 'profile_image_url_https': 'https://pbs.twimg.com/profile_images/1504512864123600897/aBxxzqgm_normal.jpg', 'profile_banner_url': 'https://pbs.twimg.com/profile_banners/33884545/1411070627', 'profile_link_color': 'AB1529', 'profile_sidebar_border_color': 'B5B5B5', 'profile_sidebar_fill_color': 'B5B5B5', 'profile_text_color': '000000', 'profile_use_background_image': True, 'has_extended_profile': False, 'default_profile': False, 'default_profile_image': False, 'following': True, 'follow_request_sent': False, 'notifications': False, 'translator_type': 'none', 'withheld_in_countries': []}, id=33884545, id_str='33884545', name='CNN en Español', screen_name='CNNEE', location='En todas partes', description='CNN en Español es tu principal fuente de información y breaking news. Cubrimos las noticias de América Latina y el resto del mundo. Vive la noticia.', url='https://t.co/6nHDD785lT', entities={'url': {'urls': [{'url': 'https://t.co/6nHDD785lT', 'expanded_url': 'http://cnnespanol.cnn.com', 'display_url': 'cnnespanol.cnn.com', 'indices': [0, 23]}]}, 'description': {'urls': []}}, protected=False, followers_count=22299259, friends_count=417, listed_count=52629, created_at=datetime.datetime(2009, 4, 21, 12, 14, 47, tzinfo=datetime.timezone.utc), favourites_count=1512, utc_offset=None, time_zone=None, geo_enabled=True, verified=True, statuses_count=396032, lang=None, contributors_enabled=False, is_translator=False, is_translation_enabled=True, profile_background_color='C0DEED', profile_background_image_url='http://abs.twimg.com/images/themes/theme1/bg.png', profile_background_image_url_https='https://abs.twimg.com/images/themes/theme1/bg.png', profile_background_tile=False, profile_image_url='http://pbs.twimg.com/profile_images/1504512864123600897/aBxxzqgm_normal.jpg', profile_image_url_https='https://pbs.twimg.com/profile_images/1504512864123600897/aBxxzqgm_normal.jpg', profile_banner_url='https://pbs.twimg.com/profile_banners/33884545/1411070627', profile_link_color='AB1529', profile_sidebar_border_color='B5B5B5', profile_sidebar_fill_color='B5B5B5', profile_text_color='000000', profile_use_background_image=True, has_extended_profile=False, default_profile=False, default_profile_image=False, following=True, follow_request_sent=False, notifications=False, translator_type='none', withheld_in_countries=[]), geo=None, coordinates=None, place=None, contributors=None, is_quote_status=False, retweet_count=4, favorite_count=8, favorited=False, retweeted=False, possibly_sensitive=False, possibly_sensitive_appealable=False, lang='es')]\n"
     ]
    }
   ],
   "source": [
    "# SE OBTIENEN LAS ÚLTIMAS 20 ENTRADAS PÚBLICAS DE MI FEED COMO STRING TIPO LISTA\n",
    "\n",
    "public_tweets = api.home_timeline()\n",
    "\n",
    "print(public_tweets)"
   ]
  },
  {
   "cell_type": "code",
   "execution_count": 21,
   "id": "a49fed98",
   "metadata": {},
   "outputs": [
    {
     "name": "stdout",
     "output_type": "stream",
     "text": [
      "T-Ais, el nuevo tótem inteligente diseñado por Ineco para mejorar la autonomía del viajero con discapacidad https://t.co/h1qYmbgqHJ\n"
     ]
    }
   ],
   "source": [
    "# EJEMPLO PARA IMPRIMIR LA PRIMERA POSICIÓN EN LA LISTA, INDICADO CON [0]\n",
    "print(public_tweets[0].text)"
   ]
  },
  {
   "cell_type": "code",
   "execution_count": 22,
   "id": "921bfc7b",
   "metadata": {},
   "outputs": [
    {
     "name": "stdout",
     "output_type": "stream",
     "text": [
      "T-Ais, el nuevo tótem inteligente diseñado por Ineco para mejorar la autonomía del viajero con discapacidad https://t.co/h1qYmbgqHJ\n",
      "Instead of using raised textures to increase surface roughness like with previous World Cup balls, the Al Rihla is… https://t.co/B3MkjinMDC\n",
      "@Juan_Castro_10 📌 \"No sabemos cuántos siglos tengan que pasar para ver otro como él\" - Higuita… https://t.co/PRvc6LnChg\n",
      "El mercado de tarjetas gráficas vive su peor momento desde 2008. Malas noticias para las Radeon RX 7000 de AMD… https://t.co/Ri2RO4dIWe\n",
      "RT @DominiqueHyde: Close to 880,000 people in Mauritania are acutely food insecure. \n",
      "\n",
      "Thanks to the national social protection programme, @…\n",
      "La embarcación fue localizada por el ferry que une Málaga con Melilla y luego interceptada por la Guardia Civil… https://t.co/j7Vc2BEBKi\n",
      "El cambio climático y las larvas de los corales en el Mediterráneo. El cambio climático global y, en particular, el… https://t.co/lLkLlk4F2j\n",
      "@Juan_Castro_10 📌 \"Hace 15 años que es el mejor, con mucha diferencia, con respecto a cualquier otro futbolista\" -… https://t.co/oV9QRi4JSk\n",
      "The runoff for Georgia’s remaining US Senate seat took the spotlight during the latest episode of “Saturday Night L… https://t.co/4JuhA8dybK\n",
      "@Juan_Castro_10 📌 \"Messi acaba de hacer la mejor exhibición individual que hemos visto en esta Copa del Mundo... po… https://t.co/8XcYS2KSjF\n",
      "Cutting energy prices will take years, says power boss https://t.co/SgA12hAF58\n",
      "El 12º Foro de Excelencia de los Clústeres de automoción españoles expone el caso de éxito de #Linkener que abre un… https://t.co/YCGSRQh9pd\n",
      "📺 @CSurNoticias se hace eco de la iniciativa llevada a cabo por @MEMOLabUGR, en el marco del proyecto “Recuperemos… https://t.co/VQDZT1a9J7\n",
      "Hilario Arbelaitz estudió para cura. Pero cambió la sotana por el delantal y se hizo definitivamente cocinero. E hi… https://t.co/CxBa6fqHtJ\n",
      "🎒Voluntariado y Personas Mayores, Centros Infantiles y Seguridad en el Trabajo, nuevas modalidades de #Becas en ser… https://t.co/m9VpoMKUUI\n",
      "📢‼️ 4⃣3⃣ ofertas de #empleo de @SEUR para reparto, almacén, técnicos/as o recién titulados/as en prácticas para dic… https://t.co/WGYbJz4JiR\n",
      "🐕‍🦺 ¿Sales de paseo con tu perro? ¡Ayuda a mantener #Sevilla cuidada con el kit cívico!\n",
      "\n",
      "🗑️ Asegúrate de que cierra… https://t.co/3ekHY4QAqt\n",
      "The US military wants its adversaries, as well as allies, to know that, for the first time, a US Navy nuclear-power… https://t.co/PFEB8zxpNM\n",
      "Sonntagmittag. Pünktlich zum Mittagsessen fragen wir: https://t.co/ufGebSoz2A\n",
      "El Mundial de Qatar entra este domingo en su día 15 de competencia y en el segundo de los duelos de octavos de fina… https://t.co/erZ3KVKFlj\n",
      "2022-12-04 11:08:13+00:00\n",
      "diariosevilla\n",
      "T-Ais, el nuevo tótem inteligente diseñado por Ineco para mejorar la autonomía del viajero con discapacidad https://t.co/h1qYmbgqHJ\n",
      "Sevilla, Spain\n"
     ]
    }
   ],
   "source": [
    "# SE IMPRIME EN PANTALLA UN RESUMEN DEL TEXTO DE LOS 20 TWEETS,\n",
    "    # FECHA DE CREACION, NOMBRE DE USUARIO, Y LOCALIZACIÓN DEL USUARIO\n",
    "\n",
    "for tweet in public_tweets:\n",
    "       print(tweet.text)\n",
    "print(public_tweets[0].created_at)\n",
    "print(public_tweets[0].user.screen_name)\n",
    "print(public_tweets[0].text)\n",
    "print(public_tweets[0].user.location)"
   ]
  },
  {
   "cell_type": "code",
   "execution_count": 23,
   "id": "ee082095",
   "metadata": {},
   "outputs": [],
   "source": [
    "# SE GUARDAN LOS ÚLTIMOS 20 TWEETS (LIMITACIÓN DE TWITTER PARA API) EN UN DATAFRAME\n",
    "    # EL TWEET SE CONVIERTE EN FORMATO STRING PARA FACILITAR POSTERIOR ANÁLISIS\n",
    "\n",
    "columns = ['Time', 'User', 'Location', 'Tweet']\n",
    "data = []\n",
    "\n",
    "for tweet in public_tweets:\n",
    "     data.append([tweet.created_at, tweet.user.screen_name, tweet.user.location, tweet.text])\n",
    "\n",
    "df = pd.DataFrame(data, columns= columns)\n",
    "df\n",
    "df.to_string('tweets.txt')"
   ]
  },
  {
   "cell_type": "code",
   "execution_count": 24,
   "id": "8acb6585",
   "metadata": {},
   "outputs": [
    {
     "name": "stderr",
     "output_type": "stream",
     "text": [
      "C:\\Users\\jrver\\AppData\\Local\\Temp\\ipykernel_11652\\126806916.py:3: FutureWarning: Treating datetime data as categorical rather than numeric in `.describe` is deprecated and will be removed in a future version of pandas. Specify `datetime_is_numeric=True` to silence this warning and adopt the future behavior now.\n",
      "  df.describe()\n"
     ]
    },
    {
     "data": {
      "text/html": [
       "<div>\n",
       "<style scoped>\n",
       "    .dataframe tbody tr th:only-of-type {\n",
       "        vertical-align: middle;\n",
       "    }\n",
       "\n",
       "    .dataframe tbody tr th {\n",
       "        vertical-align: top;\n",
       "    }\n",
       "\n",
       "    .dataframe thead th {\n",
       "        text-align: right;\n",
       "    }\n",
       "</style>\n",
       "<table border=\"1\" class=\"dataframe\">\n",
       "  <thead>\n",
       "    <tr style=\"text-align: right;\">\n",
       "      <th></th>\n",
       "      <th>Time</th>\n",
       "      <th>User</th>\n",
       "      <th>Location</th>\n",
       "      <th>Tweet</th>\n",
       "    </tr>\n",
       "  </thead>\n",
       "  <tbody>\n",
       "    <tr>\n",
       "      <th>count</th>\n",
       "      <td>20</td>\n",
       "      <td>20</td>\n",
       "      <td>20</td>\n",
       "      <td>20</td>\n",
       "    </tr>\n",
       "    <tr>\n",
       "      <th>unique</th>\n",
       "      <td>19</td>\n",
       "      <td>17</td>\n",
       "      <td>13</td>\n",
       "      <td>20</td>\n",
       "    </tr>\n",
       "    <tr>\n",
       "      <th>top</th>\n",
       "      <td>2022-12-04 11:00:52+00:00</td>\n",
       "      <td>marca</td>\n",
       "      <td>España</td>\n",
       "      <td>T-Ais, el nuevo tótem inteligente diseñado por...</td>\n",
       "    </tr>\n",
       "    <tr>\n",
       "      <th>freq</th>\n",
       "      <td>2</td>\n",
       "      <td>3</td>\n",
       "      <td>4</td>\n",
       "      <td>1</td>\n",
       "    </tr>\n",
       "    <tr>\n",
       "      <th>first</th>\n",
       "      <td>2022-12-04 11:00:07+00:00</td>\n",
       "      <td>NaN</td>\n",
       "      <td>NaN</td>\n",
       "      <td>NaN</td>\n",
       "    </tr>\n",
       "    <tr>\n",
       "      <th>last</th>\n",
       "      <td>2022-12-04 11:08:13+00:00</td>\n",
       "      <td>NaN</td>\n",
       "      <td>NaN</td>\n",
       "      <td>NaN</td>\n",
       "    </tr>\n",
       "  </tbody>\n",
       "</table>\n",
       "</div>"
      ],
      "text/plain": [
       "                             Time   User Location  \\\n",
       "count                          20     20       20   \n",
       "unique                         19     17       13   \n",
       "top     2022-12-04 11:00:52+00:00  marca   España   \n",
       "freq                            2      3        4   \n",
       "first   2022-12-04 11:00:07+00:00    NaN      NaN   \n",
       "last    2022-12-04 11:08:13+00:00    NaN      NaN   \n",
       "\n",
       "                                                    Tweet  \n",
       "count                                                  20  \n",
       "unique                                                 20  \n",
       "top     T-Ais, el nuevo tótem inteligente diseñado por...  \n",
       "freq                                                    1  \n",
       "first                                                 NaN  \n",
       "last                                                  NaN  "
      ]
     },
     "execution_count": 24,
     "metadata": {},
     "output_type": "execute_result"
    }
   ],
   "source": [
    "# SE MUESTRA INFORMACIÓN GENERAL DEL DF CON 20 TWEETS DE MI HOME TIMELINE \n",
    "df.describe()"
   ]
  },
  {
   "cell_type": "code",
   "execution_count": 25,
   "id": "d0738b68",
   "metadata": {},
   "outputs": [
    {
     "data": {
      "text/html": [
       "<div>\n",
       "<style scoped>\n",
       "    .dataframe tbody tr th:only-of-type {\n",
       "        vertical-align: middle;\n",
       "    }\n",
       "\n",
       "    .dataframe tbody tr th {\n",
       "        vertical-align: top;\n",
       "    }\n",
       "\n",
       "    .dataframe thead th {\n",
       "        text-align: right;\n",
       "    }\n",
       "</style>\n",
       "<table border=\"1\" class=\"dataframe\">\n",
       "  <thead>\n",
       "    <tr style=\"text-align: right;\">\n",
       "      <th></th>\n",
       "      <th>Time</th>\n",
       "      <th>User</th>\n",
       "      <th>Location</th>\n",
       "      <th>Tweet</th>\n",
       "    </tr>\n",
       "  </thead>\n",
       "  <tbody>\n",
       "    <tr>\n",
       "      <th>0</th>\n",
       "      <td>2022-12-04 11:08:13+00:00</td>\n",
       "      <td>diariosevilla</td>\n",
       "      <td>Sevilla, Spain</td>\n",
       "      <td>T-Ais, el nuevo tótem inteligente diseñado por...</td>\n",
       "    </tr>\n",
       "    <tr>\n",
       "      <th>1</th>\n",
       "      <td>2022-12-04 11:07:47+00:00</td>\n",
       "      <td>sciam</td>\n",
       "      <td>New York City</td>\n",
       "      <td>Instead of using raised textures to increase s...</td>\n",
       "    </tr>\n",
       "    <tr>\n",
       "      <th>2</th>\n",
       "      <td>2022-12-04 11:06:46+00:00</td>\n",
       "      <td>marca</td>\n",
       "      <td>España</td>\n",
       "      <td>@Juan_Castro_10 📌 \"No sabemos cuántos siglos t...</td>\n",
       "    </tr>\n",
       "    <tr>\n",
       "      <th>3</th>\n",
       "      <td>2022-12-04 11:06:36+00:00</td>\n",
       "      <td>xataka</td>\n",
       "      <td>España y Latinoamérica</td>\n",
       "      <td>El mercado de tarjetas gráficas vive su peor m...</td>\n",
       "    </tr>\n",
       "    <tr>\n",
       "      <th>4</th>\n",
       "      <td>2022-12-04 11:05:49+00:00</td>\n",
       "      <td>WFP</td>\n",
       "      <td>Worldwide</td>\n",
       "      <td>RT @DominiqueHyde: Close to 880,000 people in ...</td>\n",
       "    </tr>\n",
       "    <tr>\n",
       "      <th>5</th>\n",
       "      <td>2022-12-04 11:05:27+00:00</td>\n",
       "      <td>rtvenoticias</td>\n",
       "      <td></td>\n",
       "      <td>La embarcación fue localizada por el ferry que...</td>\n",
       "    </tr>\n",
       "    <tr>\n",
       "      <th>6</th>\n",
       "      <td>2022-12-04 11:04:57+00:00</td>\n",
       "      <td>ecoticiasRED</td>\n",
       "      <td>España</td>\n",
       "      <td>El cambio climático y las larvas de los corale...</td>\n",
       "    </tr>\n",
       "    <tr>\n",
       "      <th>7</th>\n",
       "      <td>2022-12-04 11:04:56+00:00</td>\n",
       "      <td>marca</td>\n",
       "      <td>España</td>\n",
       "      <td>@Juan_Castro_10 📌 \"Hace 15 años que es el mejo...</td>\n",
       "    </tr>\n",
       "    <tr>\n",
       "      <th>8</th>\n",
       "      <td>2022-12-04 11:03:54+00:00</td>\n",
       "      <td>CNN</td>\n",
       "      <td></td>\n",
       "      <td>The runoff for Georgia’s remaining US Senate s...</td>\n",
       "    </tr>\n",
       "    <tr>\n",
       "      <th>9</th>\n",
       "      <td>2022-12-04 11:03:24+00:00</td>\n",
       "      <td>marca</td>\n",
       "      <td>España</td>\n",
       "      <td>@Juan_Castro_10 📌 \"Messi acaba de hacer la mej...</td>\n",
       "    </tr>\n",
       "    <tr>\n",
       "      <th>10</th>\n",
       "      <td>2022-12-04 11:02:05+00:00</td>\n",
       "      <td>BBCWorld</td>\n",
       "      <td>London, UK</td>\n",
       "      <td>Cutting energy prices will take years, says po...</td>\n",
       "    </tr>\n",
       "    <tr>\n",
       "      <th>11</th>\n",
       "      <td>2022-12-04 11:01:55+00:00</td>\n",
       "      <td>disruptores_inn</td>\n",
       "      <td></td>\n",
       "      <td>El 12º Foro de Excelencia de los Clústeres de ...</td>\n",
       "    </tr>\n",
       "    <tr>\n",
       "      <th>12</th>\n",
       "      <td>2022-12-04 11:01:15+00:00</td>\n",
       "      <td>CanalUGR</td>\n",
       "      <td>Granada, España</td>\n",
       "      <td>📺 @CSurNoticias se hace eco de la iniciativa l...</td>\n",
       "    </tr>\n",
       "    <tr>\n",
       "      <th>13</th>\n",
       "      <td>2022-12-04 11:01:01+00:00</td>\n",
       "      <td>el_pais</td>\n",
       "      <td>Madrid</td>\n",
       "      <td>Hilario Arbelaitz estudió para cura. Pero camb...</td>\n",
       "    </tr>\n",
       "    <tr>\n",
       "      <th>14</th>\n",
       "      <td>2022-12-04 11:00:52+00:00</td>\n",
       "      <td>unisevilla</td>\n",
       "      <td>Sevilla, España</td>\n",
       "      <td>🎒Voluntariado y Personas Mayores, Centros Infa...</td>\n",
       "    </tr>\n",
       "    <tr>\n",
       "      <th>15</th>\n",
       "      <td>2022-12-04 11:00:52+00:00</td>\n",
       "      <td>Seviempleo</td>\n",
       "      <td>#Sevilla, #Andalucía, #empleo</td>\n",
       "      <td>📢‼️ 4⃣3⃣ ofertas de #empleo de @SEUR para repa...</td>\n",
       "    </tr>\n",
       "    <tr>\n",
       "      <th>16</th>\n",
       "      <td>2022-12-04 11:00:26+00:00</td>\n",
       "      <td>Ayto_Sevilla</td>\n",
       "      <td>Sevilla, España</td>\n",
       "      <td>🐕‍🦺 ¿Sales de paseo con tu perro? ¡Ayuda a man...</td>\n",
       "    </tr>\n",
       "    <tr>\n",
       "      <th>17</th>\n",
       "      <td>2022-12-04 11:00:17+00:00</td>\n",
       "      <td>CNN</td>\n",
       "      <td></td>\n",
       "      <td>The US military wants its adversaries, as well...</td>\n",
       "    </tr>\n",
       "    <tr>\n",
       "      <th>18</th>\n",
       "      <td>2022-12-04 11:00:15+00:00</td>\n",
       "      <td>bmel</td>\n",
       "      <td>Bonn / Berlin</td>\n",
       "      <td>Sonntagmittag. Pünktlich zum Mittagsessen frag...</td>\n",
       "    </tr>\n",
       "    <tr>\n",
       "      <th>19</th>\n",
       "      <td>2022-12-04 11:00:07+00:00</td>\n",
       "      <td>CNNEE</td>\n",
       "      <td>En todas partes</td>\n",
       "      <td>El Mundial de Qatar entra este domingo en su d...</td>\n",
       "    </tr>\n",
       "  </tbody>\n",
       "</table>\n",
       "</div>"
      ],
      "text/plain": [
       "                        Time             User                       Location  \\\n",
       "0  2022-12-04 11:08:13+00:00    diariosevilla                 Sevilla, Spain   \n",
       "1  2022-12-04 11:07:47+00:00            sciam                  New York City   \n",
       "2  2022-12-04 11:06:46+00:00            marca                         España   \n",
       "3  2022-12-04 11:06:36+00:00           xataka         España y Latinoamérica   \n",
       "4  2022-12-04 11:05:49+00:00              WFP                      Worldwide   \n",
       "5  2022-12-04 11:05:27+00:00     rtvenoticias                                  \n",
       "6  2022-12-04 11:04:57+00:00     ecoticiasRED                         España   \n",
       "7  2022-12-04 11:04:56+00:00            marca                         España   \n",
       "8  2022-12-04 11:03:54+00:00              CNN                                  \n",
       "9  2022-12-04 11:03:24+00:00            marca                         España   \n",
       "10 2022-12-04 11:02:05+00:00         BBCWorld                     London, UK   \n",
       "11 2022-12-04 11:01:55+00:00  disruptores_inn                                  \n",
       "12 2022-12-04 11:01:15+00:00         CanalUGR                Granada, España   \n",
       "13 2022-12-04 11:01:01+00:00          el_pais                         Madrid   \n",
       "14 2022-12-04 11:00:52+00:00       unisevilla                Sevilla, España   \n",
       "15 2022-12-04 11:00:52+00:00       Seviempleo  #Sevilla, #Andalucía, #empleo   \n",
       "16 2022-12-04 11:00:26+00:00     Ayto_Sevilla                Sevilla, España   \n",
       "17 2022-12-04 11:00:17+00:00              CNN                                  \n",
       "18 2022-12-04 11:00:15+00:00             bmel                  Bonn / Berlin   \n",
       "19 2022-12-04 11:00:07+00:00            CNNEE                En todas partes   \n",
       "\n",
       "                                                Tweet  \n",
       "0   T-Ais, el nuevo tótem inteligente diseñado por...  \n",
       "1   Instead of using raised textures to increase s...  \n",
       "2   @Juan_Castro_10 📌 \"No sabemos cuántos siglos t...  \n",
       "3   El mercado de tarjetas gráficas vive su peor m...  \n",
       "4   RT @DominiqueHyde: Close to 880,000 people in ...  \n",
       "5   La embarcación fue localizada por el ferry que...  \n",
       "6   El cambio climático y las larvas de los corale...  \n",
       "7   @Juan_Castro_10 📌 \"Hace 15 años que es el mejo...  \n",
       "8   The runoff for Georgia’s remaining US Senate s...  \n",
       "9   @Juan_Castro_10 📌 \"Messi acaba de hacer la mej...  \n",
       "10  Cutting energy prices will take years, says po...  \n",
       "11  El 12º Foro de Excelencia de los Clústeres de ...  \n",
       "12  📺 @CSurNoticias se hace eco de la iniciativa l...  \n",
       "13  Hilario Arbelaitz estudió para cura. Pero camb...  \n",
       "14  🎒Voluntariado y Personas Mayores, Centros Infa...  \n",
       "15  📢‼️ 4⃣3⃣ ofertas de #empleo de @SEUR para repa...  \n",
       "16  🐕‍🦺 ¿Sales de paseo con tu perro? ¡Ayuda a man...  \n",
       "17  The US military wants its adversaries, as well...  \n",
       "18  Sonntagmittag. Pünktlich zum Mittagsessen frag...  \n",
       "19  El Mundial de Qatar entra este domingo en su d...  "
      ]
     },
     "execution_count": 25,
     "metadata": {},
     "output_type": "execute_result"
    }
   ],
   "source": [
    "# SE MUESTRA EL DF COMPLETO CON LA INFORMACIÓN\n",
    "# AL ESTAR LIMITADO A 20 TWEETS, \n",
    "    # SE EXTRAE DE ESTE CONJUNTO, LOS 2 USUARIOS CON MAYOR Nº DE TWEETS Y 1 USUARIO CON EL MENOR Nº.\n",
    "df"
   ]
  },
  {
   "cell_type": "code",
   "execution_count": 26,
   "id": "c7fd53fe",
   "metadata": {},
   "outputs": [
    {
     "name": "stdout",
     "output_type": "stream",
     "text": [
      "('marca', 3) ('CNN', 2) ('ecoticiasRED', 1)\n"
     ]
    }
   ],
   "source": [
    "# EXTRAYENDO 2 USUARIOS CON MAYOR Nº TWEETS Y 1 USUARIO CON MENOR Nº TWEETS\n",
    "    \n",
    "from collections import Counter\n",
    "\n",
    "Users = df['User']\n",
    "counter = Counter(Users)\n",
    "first, second,*_, last = counter.most_common()\n",
    "\n",
    "print(first, second, third)"
   ]
  },
  {
   "cell_type": "code",
   "execution_count": null,
   "id": "4fadfcf9",
   "metadata": {},
   "outputs": [],
   "source": [
    "# A CONTINUACIÓN, SE EXTRAEN LOS ÚLTIMOS 3250 TWEETS (MÁXIMO PERMITIDO POR TWITTER) PARA:\n",
    "    # EL USUARIO MARCA Y EL USUARIO CNN."
   ]
  },
  {
   "cell_type": "code",
   "execution_count": null,
   "id": "b39e7602",
   "metadata": {
    "run_control": {
     "marked": true
    }
   },
   "outputs": [],
   "source": [
    "# CREANDO DF PARA MARCA Y GUARDADO EN .CSV\n",
    "from tweepy import Cursor\n",
    "columns = ['User','Time','Id','Text']\n",
    "data = []\n",
    "\n",
    "for tweet in tweepy.Cursor(api.user_timeline, screen_name = 'marca').items():\n",
    "        data.append([tweet.user.screen_name, tweet.created_at, tweet.id, tweet.text])\n",
    "            \n",
    "df_1 = pd.DataFrame(data, columns= columns)\n",
    "df_1\n",
    "\n"
   ]
  },
  {
   "cell_type": "code",
   "execution_count": 57,
   "id": "0b70d4f6",
   "metadata": {},
   "outputs": [],
   "source": [
    "df_1.to_csv('tweets_marca.csv')"
   ]
  },
  {
   "cell_type": "code",
   "execution_count": 59,
   "id": "038b9474",
   "metadata": {},
   "outputs": [
    {
     "data": {
      "text/html": [
       "<div>\n",
       "<style scoped>\n",
       "    .dataframe tbody tr th:only-of-type {\n",
       "        vertical-align: middle;\n",
       "    }\n",
       "\n",
       "    .dataframe tbody tr th {\n",
       "        vertical-align: top;\n",
       "    }\n",
       "\n",
       "    .dataframe thead th {\n",
       "        text-align: right;\n",
       "    }\n",
       "</style>\n",
       "<table border=\"1\" class=\"dataframe\">\n",
       "  <thead>\n",
       "    <tr style=\"text-align: right;\">\n",
       "      <th></th>\n",
       "      <th>User</th>\n",
       "      <th>Time</th>\n",
       "      <th>Id</th>\n",
       "      <th>Text</th>\n",
       "    </tr>\n",
       "  </thead>\n",
       "  <tbody>\n",
       "    <tr>\n",
       "      <th>0</th>\n",
       "      <td>CNN</td>\n",
       "      <td>2022-12-04 12:30:05+00:00</td>\n",
       "      <td>1599380518927319040</td>\n",
       "      <td>A former Iran national team football player ha...</td>\n",
       "    </tr>\n",
       "    <tr>\n",
       "      <th>1</th>\n",
       "      <td>CNN</td>\n",
       "      <td>2022-12-04 12:15:05+00:00</td>\n",
       "      <td>1599376745051848704</td>\n",
       "      <td>The University of Chicago’s Julianne Sitch mad...</td>\n",
       "    </tr>\n",
       "    <tr>\n",
       "      <th>2</th>\n",
       "      <td>CNN</td>\n",
       "      <td>2022-12-04 12:00:11+00:00</td>\n",
       "      <td>1599372995570663424</td>\n",
       "      <td>Those first images taken from the ground showe...</td>\n",
       "    </tr>\n",
       "    <tr>\n",
       "      <th>3</th>\n",
       "      <td>CNN</td>\n",
       "      <td>2022-12-04 11:45:04+00:00</td>\n",
       "      <td>1599369191446003712</td>\n",
       "      <td>Just hours after giving birth, Brenda Gomez He...</td>\n",
       "    </tr>\n",
       "    <tr>\n",
       "      <th>4</th>\n",
       "      <td>CNN</td>\n",
       "      <td>2022-12-04 11:30:09+00:00</td>\n",
       "      <td>1599365434536493058</td>\n",
       "      <td>South Korea recently broke its own record for ...</td>\n",
       "    </tr>\n",
       "    <tr>\n",
       "      <th>...</th>\n",
       "      <td>...</td>\n",
       "      <td>...</td>\n",
       "      <td>...</td>\n",
       "      <td>...</td>\n",
       "    </tr>\n",
       "    <tr>\n",
       "      <th>3245</th>\n",
       "      <td>CNN</td>\n",
       "      <td>2022-11-01 12:18:01+00:00</td>\n",
       "      <td>1587418682589855750</td>\n",
       "      <td>These are eight ways you can save money while ...</td>\n",
       "    </tr>\n",
       "    <tr>\n",
       "      <th>3246</th>\n",
       "      <td>CNN</td>\n",
       "      <td>2022-11-01 12:02:18+00:00</td>\n",
       "      <td>1587414728929943554</td>\n",
       "      <td>The Environmental Protection Agency has determ...</td>\n",
       "    </tr>\n",
       "    <tr>\n",
       "      <th>3247</th>\n",
       "      <td>CNN</td>\n",
       "      <td>2022-11-01 11:46:32+00:00</td>\n",
       "      <td>1587410758937223170</td>\n",
       "      <td>Here are 5⃣ things you need to know today 👇\\n1...</td>\n",
       "    </tr>\n",
       "    <tr>\n",
       "      <th>3248</th>\n",
       "      <td>CNN</td>\n",
       "      <td>2022-11-01 11:35:25+00:00</td>\n",
       "      <td>1587407962703888384</td>\n",
       "      <td>CNN's @donlemon talks with Pennsylvania Lt. Go...</td>\n",
       "    </tr>\n",
       "    <tr>\n",
       "      <th>3249</th>\n",
       "      <td>CNN</td>\n",
       "      <td>2022-11-01 11:31:06+00:00</td>\n",
       "      <td>1587406877796847616</td>\n",
       "      <td>The gunman in the 2018 Parkland school massacr...</td>\n",
       "    </tr>\n",
       "  </tbody>\n",
       "</table>\n",
       "<p>3250 rows × 4 columns</p>\n",
       "</div>"
      ],
      "text/plain": [
       "     User                      Time                   Id  \\\n",
       "0     CNN 2022-12-04 12:30:05+00:00  1599380518927319040   \n",
       "1     CNN 2022-12-04 12:15:05+00:00  1599376745051848704   \n",
       "2     CNN 2022-12-04 12:00:11+00:00  1599372995570663424   \n",
       "3     CNN 2022-12-04 11:45:04+00:00  1599369191446003712   \n",
       "4     CNN 2022-12-04 11:30:09+00:00  1599365434536493058   \n",
       "...   ...                       ...                  ...   \n",
       "3245  CNN 2022-11-01 12:18:01+00:00  1587418682589855750   \n",
       "3246  CNN 2022-11-01 12:02:18+00:00  1587414728929943554   \n",
       "3247  CNN 2022-11-01 11:46:32+00:00  1587410758937223170   \n",
       "3248  CNN 2022-11-01 11:35:25+00:00  1587407962703888384   \n",
       "3249  CNN 2022-11-01 11:31:06+00:00  1587406877796847616   \n",
       "\n",
       "                                                   Text  \n",
       "0     A former Iran national team football player ha...  \n",
       "1     The University of Chicago’s Julianne Sitch mad...  \n",
       "2     Those first images taken from the ground showe...  \n",
       "3     Just hours after giving birth, Brenda Gomez He...  \n",
       "4     South Korea recently broke its own record for ...  \n",
       "...                                                 ...  \n",
       "3245  These are eight ways you can save money while ...  \n",
       "3246  The Environmental Protection Agency has determ...  \n",
       "3247  Here are 5⃣ things you need to know today 👇\\n1...  \n",
       "3248  CNN's @donlemon talks with Pennsylvania Lt. Go...  \n",
       "3249  The gunman in the 2018 Parkland school massacr...  \n",
       "\n",
       "[3250 rows x 4 columns]"
      ]
     },
     "execution_count": 59,
     "metadata": {},
     "output_type": "execute_result"
    }
   ],
   "source": [
    "# CREANDO DF PARA CNN Y GUARDADO EN .CSV\n",
    "\n",
    "columns = ['User','Time','Id','Text']\n",
    "data = []\n",
    "\n",
    "for tweet in tweepy.Cursor(api.user_timeline, screen_name = 'CNN').items():\n",
    "        data.append([tweet.user.screen_name, tweet.created_at, tweet.id, tweet.text])\n",
    "            \n",
    "df_2 = pd.DataFrame(data, columns= columns)\n",
    "df_2\n",
    "\n",
    "\n"
   ]
  },
  {
   "cell_type": "code",
   "execution_count": 60,
   "id": "0992f524",
   "metadata": {},
   "outputs": [],
   "source": [
    "df_2.to_csv('tweets_cnn.csv')"
   ]
  },
  {
   "cell_type": "markdown",
   "id": "7bf9ce3e",
   "metadata": {},
   "source": [
    "## FORK"
   ]
  },
  {
   "cell_type": "code",
   "execution_count": 1,
   "id": "15af207b",
   "metadata": {},
   "outputs": [],
   "source": [
    "import numpy as np\n",
    "import pandas as pd\n",
    "import string\n",
    "import re\n",
    "import warnings\n",
    "warnings.filterwarnings('ignore')"
   ]
  },
  {
   "cell_type": "markdown",
   "id": "2cb16b5a",
   "metadata": {},
   "source": [
    "## <font color='grey'>Análisis exploratorio</font>"
   ]
  },
  {
   "cell_type": "code",
   "execution_count": 2,
   "id": "70150b30",
   "metadata": {},
   "outputs": [
    {
     "name": "stdout",
     "output_type": "stream",
     "text": [
      "tweets @marca:  3250\n",
      "tweets @CNN:  3250\n"
     ]
    }
   ],
   "source": [
    "# LEYENDO CON PANDAS AMBOS .CSV CREADOS ANTERIORMENTE\n",
    "tweets_cnn   = pd.read_csv(\"tweets_cnn.csv\")\n",
    "tweets_marca  = pd.read_csv(\"tweets_marca.csv\")\n",
    "\n",
    "# SE MUESTRA EL NÚMERO TOTAL DE TWEETS POR CADA USUARIO UTILIZANDO ATRIBUTO .SHAPE\n",
    "print('tweets @marca: ', str(tweets_marca.shape[0]))\n",
    "print('tweets @CNN: ', str(tweets_cnn.shape[0]))\n"
   ]
  },
  {
   "cell_type": "code",
   "execution_count": 3,
   "id": "0d4339a4",
   "metadata": {
    "run_control": {
     "marked": true
    }
   },
   "outputs": [
    {
     "data": {
      "text/html": [
       "<div>\n",
       "<style scoped>\n",
       "    .dataframe tbody tr th:only-of-type {\n",
       "        vertical-align: middle;\n",
       "    }\n",
       "\n",
       "    .dataframe tbody tr th {\n",
       "        vertical-align: top;\n",
       "    }\n",
       "\n",
       "    .dataframe thead th {\n",
       "        text-align: right;\n",
       "    }\n",
       "</style>\n",
       "<table border=\"1\" class=\"dataframe\">\n",
       "  <thead>\n",
       "    <tr style=\"text-align: right;\">\n",
       "      <th></th>\n",
       "      <th>autor</th>\n",
       "      <th>fecha</th>\n",
       "      <th>Id</th>\n",
       "      <th>texto</th>\n",
       "    </tr>\n",
       "  </thead>\n",
       "  <tbody>\n",
       "    <tr>\n",
       "      <th>0</th>\n",
       "      <td>CNN</td>\n",
       "      <td>2022-12-04 12:30:05+00:00</td>\n",
       "      <td>1599380518927319040</td>\n",
       "      <td>A former Iran national team football player ha...</td>\n",
       "    </tr>\n",
       "    <tr>\n",
       "      <th>1</th>\n",
       "      <td>CNN</td>\n",
       "      <td>2022-12-04 12:15:05+00:00</td>\n",
       "      <td>1599376745051848704</td>\n",
       "      <td>The University of Chicago’s Julianne Sitch mad...</td>\n",
       "    </tr>\n",
       "    <tr>\n",
       "      <th>2</th>\n",
       "      <td>CNN</td>\n",
       "      <td>2022-12-04 12:00:11+00:00</td>\n",
       "      <td>1599372995570663424</td>\n",
       "      <td>Those first images taken from the ground showe...</td>\n",
       "    </tr>\n",
       "  </tbody>\n",
       "</table>\n",
       "</div>"
      ],
      "text/plain": [
       "  autor                      fecha                   Id  \\\n",
       "0   CNN  2022-12-04 12:30:05+00:00  1599380518927319040   \n",
       "1   CNN  2022-12-04 12:15:05+00:00  1599376745051848704   \n",
       "2   CNN  2022-12-04 12:00:11+00:00  1599372995570663424   \n",
       "\n",
       "                                               texto  \n",
       "0  A former Iran national team football player ha...  \n",
       "1  The University of Chicago’s Julianne Sitch mad...  \n",
       "2  Those first images taken from the ground showe...  "
      ]
     },
     "execution_count": 3,
     "metadata": {},
     "output_type": "execute_result"
    }
   ],
   "source": [
    "# SE UNEN LOS DOS DF EN UNO\n",
    "tweets = pd.concat([tweets_cnn, tweets_marca], ignore_index=True)\n",
    "\n",
    "# SE SELECCIONAN Y RENOMBRAN LAS COLUMNAS QUE INTERESAN\n",
    "tweets = tweets[['User', 'Time','Id', 'Text']]\n",
    "tweets.columns = ['autor', 'fecha', 'Id', 'texto']\n",
    "\n",
    "# Parseo de fechas\n",
    "#tweets['fecha'] = pd.to_datetime(tweets['fecha'])\n",
    "tweets.head(3)\n"
   ]
  },
  {
   "cell_type": "code",
   "execution_count": 20,
   "id": "c12535b5",
   "metadata": {},
   "outputs": [
    {
     "data": {
      "text/html": [
       "<div>\n",
       "<style scoped>\n",
       "    .dataframe tbody tr th:only-of-type {\n",
       "        vertical-align: middle;\n",
       "    }\n",
       "\n",
       "    .dataframe tbody tr th {\n",
       "        vertical-align: top;\n",
       "    }\n",
       "\n",
       "    .dataframe thead th {\n",
       "        text-align: right;\n",
       "    }\n",
       "</style>\n",
       "<table border=\"1\" class=\"dataframe\">\n",
       "  <thead>\n",
       "    <tr style=\"text-align: right;\">\n",
       "      <th></th>\n",
       "      <th>autor</th>\n",
       "      <th>fecha</th>\n",
       "      <th>Id</th>\n",
       "      <th>texto</th>\n",
       "      <th>día</th>\n",
       "    </tr>\n",
       "  </thead>\n",
       "  <tbody>\n",
       "    <tr>\n",
       "      <th>0</th>\n",
       "      <td>CNN</td>\n",
       "      <td>2022-12-04 12:30:05+00:00</td>\n",
       "      <td>1599380518927319040</td>\n",
       "      <td>A former Iran national team football player ha...</td>\n",
       "      <td>2022-12-04</td>\n",
       "    </tr>\n",
       "    <tr>\n",
       "      <th>1</th>\n",
       "      <td>CNN</td>\n",
       "      <td>2022-12-04 12:15:05+00:00</td>\n",
       "      <td>1599376745051848704</td>\n",
       "      <td>The University of Chicago’s Julianne Sitch mad...</td>\n",
       "      <td>2022-12-04</td>\n",
       "    </tr>\n",
       "    <tr>\n",
       "      <th>2</th>\n",
       "      <td>CNN</td>\n",
       "      <td>2022-12-04 12:00:11+00:00</td>\n",
       "      <td>1599372995570663424</td>\n",
       "      <td>Those first images taken from the ground showe...</td>\n",
       "      <td>2022-12-04</td>\n",
       "    </tr>\n",
       "    <tr>\n",
       "      <th>3</th>\n",
       "      <td>CNN</td>\n",
       "      <td>2022-12-04 11:45:04+00:00</td>\n",
       "      <td>1599369191446003712</td>\n",
       "      <td>Just hours after giving birth, Brenda Gomez He...</td>\n",
       "      <td>2022-12-04</td>\n",
       "    </tr>\n",
       "    <tr>\n",
       "      <th>4</th>\n",
       "      <td>CNN</td>\n",
       "      <td>2022-12-04 11:30:09+00:00</td>\n",
       "      <td>1599365434536493058</td>\n",
       "      <td>South Korea recently broke its own record for ...</td>\n",
       "      <td>2022-12-04</td>\n",
       "    </tr>\n",
       "    <tr>\n",
       "      <th>...</th>\n",
       "      <td>...</td>\n",
       "      <td>...</td>\n",
       "      <td>...</td>\n",
       "      <td>...</td>\n",
       "      <td>...</td>\n",
       "    </tr>\n",
       "    <tr>\n",
       "      <th>6495</th>\n",
       "      <td>marca</td>\n",
       "      <td>2022-11-11 07:15:52+00:00</td>\n",
       "      <td>1590966521819529216</td>\n",
       "      <td>🇪🇸 ¡¡Día de la lista de España para el Mundial...</td>\n",
       "      <td>2022-11-11</td>\n",
       "    </tr>\n",
       "    <tr>\n",
       "      <th>6496</th>\n",
       "      <td>marca</td>\n",
       "      <td>2022-11-11 07:08:27+00:00</td>\n",
       "      <td>1590964654716723204</td>\n",
       "      <td>RT @MarcaGaming: ¿Quiénes son los 12 streamers...</td>\n",
       "      <td>2022-11-11</td>\n",
       "    </tr>\n",
       "    <tr>\n",
       "      <th>6497</th>\n",
       "      <td>marca</td>\n",
       "      <td>2022-11-11 07:00:01+00:00</td>\n",
       "      <td>1590962533128708097</td>\n",
       "      <td>#LaPortada Al Mundial con la Liga al rojo vivo...</td>\n",
       "      <td>2022-11-11</td>\n",
       "    </tr>\n",
       "    <tr>\n",
       "      <th>6498</th>\n",
       "      <td>marca</td>\n",
       "      <td>2022-11-11 01:43:27+00:00</td>\n",
       "      <td>1590882868716359680</td>\n",
       "      <td>#LoMásComentado Sin castigo para Ancelotti por...</td>\n",
       "      <td>2022-11-11</td>\n",
       "    </tr>\n",
       "    <tr>\n",
       "      <th>6499</th>\n",
       "      <td>marca</td>\n",
       "      <td>2022-11-11 01:28:20+00:00</td>\n",
       "      <td>1590879063887204354</td>\n",
       "      <td>#LoMásLeído Mou, desatado: \"Hay un jugador que...</td>\n",
       "      <td>2022-11-11</td>\n",
       "    </tr>\n",
       "  </tbody>\n",
       "</table>\n",
       "<p>6500 rows × 5 columns</p>\n",
       "</div>"
      ],
      "text/plain": [
       "      autor                      fecha                   Id  \\\n",
       "0       CNN  2022-12-04 12:30:05+00:00  1599380518927319040   \n",
       "1       CNN  2022-12-04 12:15:05+00:00  1599376745051848704   \n",
       "2       CNN  2022-12-04 12:00:11+00:00  1599372995570663424   \n",
       "3       CNN  2022-12-04 11:45:04+00:00  1599369191446003712   \n",
       "4       CNN  2022-12-04 11:30:09+00:00  1599365434536493058   \n",
       "...     ...                        ...                  ...   \n",
       "6495  marca  2022-11-11 07:15:52+00:00  1590966521819529216   \n",
       "6496  marca  2022-11-11 07:08:27+00:00  1590964654716723204   \n",
       "6497  marca  2022-11-11 07:00:01+00:00  1590962533128708097   \n",
       "6498  marca  2022-11-11 01:43:27+00:00  1590882868716359680   \n",
       "6499  marca  2022-11-11 01:28:20+00:00  1590879063887204354   \n",
       "\n",
       "                                                  texto         día  \n",
       "0     A former Iran national team football player ha...  2022-12-04  \n",
       "1     The University of Chicago’s Julianne Sitch mad...  2022-12-04  \n",
       "2     Those first images taken from the ground showe...  2022-12-04  \n",
       "3     Just hours after giving birth, Brenda Gomez He...  2022-12-04  \n",
       "4     South Korea recently broke its own record for ...  2022-12-04  \n",
       "...                                                 ...         ...  \n",
       "6495  🇪🇸 ¡¡Día de la lista de España para el Mundial...  2022-11-11  \n",
       "6496  RT @MarcaGaming: ¿Quiénes son los 12 streamers...  2022-11-11  \n",
       "6497  #LaPortada Al Mundial con la Liga al rojo vivo...  2022-11-11  \n",
       "6498  #LoMásComentado Sin castigo para Ancelotti por...  2022-11-11  \n",
       "6499  #LoMásLeído Mou, desatado: \"Hay un jugador que...  2022-11-11  \n",
       "\n",
       "[6500 rows x 5 columns]"
      ]
     },
     "execution_count": 20,
     "metadata": {},
     "output_type": "execute_result"
    }
   ],
   "source": [
    "tweets = tweets.assign(día=tweets['fecha'].str.split(expand=True)[0])\n",
    "\n",
    "tweets"
   ]
  },
  {
   "cell_type": "code",
   "execution_count": 35,
   "id": "f5db5316",
   "metadata": {},
   "outputs": [
    {
     "data": {
      "text/html": [
       "<div>\n",
       "<style scoped>\n",
       "    .dataframe tbody tr th:only-of-type {\n",
       "        vertical-align: middle;\n",
       "    }\n",
       "\n",
       "    .dataframe tbody tr th {\n",
       "        vertical-align: top;\n",
       "    }\n",
       "\n",
       "    .dataframe thead th {\n",
       "        text-align: right;\n",
       "    }\n",
       "</style>\n",
       "<table border=\"1\" class=\"dataframe\">\n",
       "  <thead>\n",
       "    <tr style=\"text-align: right;\">\n",
       "      <th></th>\n",
       "      <th>autor</th>\n",
       "      <th>fecha</th>\n",
       "      <th>Id</th>\n",
       "      <th>texto</th>\n",
       "      <th>día</th>\n",
       "    </tr>\n",
       "  </thead>\n",
       "  <tbody>\n",
       "    <tr>\n",
       "      <th>3250</th>\n",
       "      <td>marca</td>\n",
       "      <td>2022-12-04 12:24:44+00:00</td>\n",
       "      <td>1599379171662303232</td>\n",
       "      <td>🍊 El último baile de Van Gaal https://t.co/Fi7...</td>\n",
       "      <td>2022-12-04</td>\n",
       "    </tr>\n",
       "    <tr>\n",
       "      <th>3251</th>\n",
       "      <td>marca</td>\n",
       "      <td>2022-12-04 12:09:14+00:00</td>\n",
       "      <td>1599375271613943808</td>\n",
       "      <td>💥 Cristiano Ronaldo exige a la Juventus 19,9 m...</td>\n",
       "      <td>2022-12-04</td>\n",
       "    </tr>\n",
       "    <tr>\n",
       "      <th>3252</th>\n",
       "      <td>marca</td>\n",
       "      <td>2022-12-04 11:53:33+00:00</td>\n",
       "      <td>1599371324123643906</td>\n",
       "      <td>Dictamen 'caso Ancelotti': enterrado\\n\\nHa pas...</td>\n",
       "      <td>2022-12-04</td>\n",
       "    </tr>\n",
       "    <tr>\n",
       "      <th>3253</th>\n",
       "      <td>marca</td>\n",
       "      <td>2022-12-04 11:43:14+00:00</td>\n",
       "      <td>1599368729921720321</td>\n",
       "      <td>RT @RadioMARCA: ¡Cómo se lo pasan nuestros piz...</td>\n",
       "      <td>2022-12-04</td>\n",
       "    </tr>\n",
       "    <tr>\n",
       "      <th>3254</th>\n",
       "      <td>marca</td>\n",
       "      <td>2022-12-04 11:38:25+00:00</td>\n",
       "      <td>1599367514986782720</td>\n",
       "      <td>😅 Están @JooAlmeida98 y @juann_ayuso... y tamb...</td>\n",
       "      <td>2022-12-04</td>\n",
       "    </tr>\n",
       "    <tr>\n",
       "      <th>...</th>\n",
       "      <td>...</td>\n",
       "      <td>...</td>\n",
       "      <td>...</td>\n",
       "      <td>...</td>\n",
       "      <td>...</td>\n",
       "    </tr>\n",
       "    <tr>\n",
       "      <th>6495</th>\n",
       "      <td>marca</td>\n",
       "      <td>2022-11-11 07:15:52+00:00</td>\n",
       "      <td>1590966521819529216</td>\n",
       "      <td>🇪🇸 ¡¡Día de la lista de España para el Mundial...</td>\n",
       "      <td>2022-11-11</td>\n",
       "    </tr>\n",
       "    <tr>\n",
       "      <th>6496</th>\n",
       "      <td>marca</td>\n",
       "      <td>2022-11-11 07:08:27+00:00</td>\n",
       "      <td>1590964654716723204</td>\n",
       "      <td>RT @MarcaGaming: ¿Quiénes son los 12 streamers...</td>\n",
       "      <td>2022-11-11</td>\n",
       "    </tr>\n",
       "    <tr>\n",
       "      <th>6497</th>\n",
       "      <td>marca</td>\n",
       "      <td>2022-11-11 07:00:01+00:00</td>\n",
       "      <td>1590962533128708097</td>\n",
       "      <td>#LaPortada Al Mundial con la Liga al rojo vivo...</td>\n",
       "      <td>2022-11-11</td>\n",
       "    </tr>\n",
       "    <tr>\n",
       "      <th>6498</th>\n",
       "      <td>marca</td>\n",
       "      <td>2022-11-11 01:43:27+00:00</td>\n",
       "      <td>1590882868716359680</td>\n",
       "      <td>#LoMásComentado Sin castigo para Ancelotti por...</td>\n",
       "      <td>2022-11-11</td>\n",
       "    </tr>\n",
       "    <tr>\n",
       "      <th>6499</th>\n",
       "      <td>marca</td>\n",
       "      <td>2022-11-11 01:28:20+00:00</td>\n",
       "      <td>1590879063887204354</td>\n",
       "      <td>#LoMásLeído Mou, desatado: \"Hay un jugador que...</td>\n",
       "      <td>2022-11-11</td>\n",
       "    </tr>\n",
       "  </tbody>\n",
       "</table>\n",
       "<p>3250 rows × 5 columns</p>\n",
       "</div>"
      ],
      "text/plain": [
       "      autor                      fecha                   Id  \\\n",
       "3250  marca  2022-12-04 12:24:44+00:00  1599379171662303232   \n",
       "3251  marca  2022-12-04 12:09:14+00:00  1599375271613943808   \n",
       "3252  marca  2022-12-04 11:53:33+00:00  1599371324123643906   \n",
       "3253  marca  2022-12-04 11:43:14+00:00  1599368729921720321   \n",
       "3254  marca  2022-12-04 11:38:25+00:00  1599367514986782720   \n",
       "...     ...                        ...                  ...   \n",
       "6495  marca  2022-11-11 07:15:52+00:00  1590966521819529216   \n",
       "6496  marca  2022-11-11 07:08:27+00:00  1590964654716723204   \n",
       "6497  marca  2022-11-11 07:00:01+00:00  1590962533128708097   \n",
       "6498  marca  2022-11-11 01:43:27+00:00  1590882868716359680   \n",
       "6499  marca  2022-11-11 01:28:20+00:00  1590879063887204354   \n",
       "\n",
       "                                                  texto         día  \n",
       "3250  🍊 El último baile de Van Gaal https://t.co/Fi7...  2022-12-04  \n",
       "3251  💥 Cristiano Ronaldo exige a la Juventus 19,9 m...  2022-12-04  \n",
       "3252  Dictamen 'caso Ancelotti': enterrado\\n\\nHa pas...  2022-12-04  \n",
       "3253  RT @RadioMARCA: ¡Cómo se lo pasan nuestros piz...  2022-12-04  \n",
       "3254  😅 Están @JooAlmeida98 y @juann_ayuso... y tamb...  2022-12-04  \n",
       "...                                                 ...         ...  \n",
       "6495  🇪🇸 ¡¡Día de la lista de España para el Mundial...  2022-11-11  \n",
       "6496  RT @MarcaGaming: ¿Quiénes son los 12 streamers...  2022-11-11  \n",
       "6497  #LaPortada Al Mundial con la Liga al rojo vivo...  2022-11-11  \n",
       "6498  #LoMásComentado Sin castigo para Ancelotti por...  2022-11-11  \n",
       "6499  #LoMásLeído Mou, desatado: \"Hay un jugador que...  2022-11-11  \n",
       "\n",
       "[3250 rows x 5 columns]"
      ]
     },
     "execution_count": 35,
     "metadata": {},
     "output_type": "execute_result"
    }
   ],
   "source": []
  },
  {
   "cell_type": "markdown",
   "id": "3f36314a",
   "metadata": {},
   "source": [
    "### <font color='grey'>Distribución temporal de tweets</font>"
   ]
  },
  {
   "cell_type": "code",
   "execution_count": 8,
   "id": "ae4e2fef",
   "metadata": {},
   "outputs": [],
   "source": [
    "import matplotlib.pyplot as plt\n",
    "from matplotlib import style\n",
    "import seaborn as sns\n",
    "import plotly.express as px\n",
    "import datetime\n",
    "#style.use('ggplot') or plt.style.use('ggplot')"
   ]
  },
  {
   "cell_type": "code",
   "execution_count": 53,
   "id": "ce20031b",
   "metadata": {
    "run_control": {
     "marked": true
    }
   },
   "outputs": [],
   "source": [
    "# LIBRERIAS Y MÓDULOS PARA EL TEXT MINING DE TWEETS.\n",
    "from sklearn import svm\n",
    "from sklearn.model_selection import train_test_split\n",
    "from sklearn.model_selection import GridSearchCV\n",
    "from sklearn.metrics import confusion_matrix\n",
    "from sklearn.feature_extraction.text import TfidfVectorizer\n",
    "import nltk\n",
    "#nltk.download('stopwords')\n",
    "from nltk.corpus import stopwords\n"
   ]
  },
  {
   "cell_type": "code",
   "execution_count": 39,
   "id": "456aefef",
   "metadata": {
    "run_control": {
     "marked": false
    }
   },
   "outputs": [
    {
     "data": {
      "image/png": "[encoded data removed]",
      "text/plain": [
       "<Figure size 1200x400 with 1 Axes>"
      ]
     },
     "metadata": {},
     "output_type": "display_data"
    }
   ],
   "source": [
    "# DISTRIBUCIÓN TEMPORAL DE LOS TWEETS\n",
    "\n",
    "fig, ax = plt.subplots(figsize=(12,4))\n",
    "\n",
    "for autor in tweets.autor.unique():\n",
    "    df_temp = tweets[tweets['autor'] == autor].copy()\n",
    "    #df_temp['día'] = pd.to_datetime(df_temp['día'].dt.strftime('%Y-%m'))\n",
    "    df_temp = df_temp.groupby(df_temp['día']).size()\n",
    "    df_temp.plot(label=autor, ax=ax)\n",
    "\n",
    "ax.set_title('Número de tweets publicados')\n",
    "ax.legend();"
   ]
  },
  {
   "cell_type": "code",
   "execution_count": 41,
   "id": "aec261f3",
   "metadata": {},
   "outputs": [
    {
     "data": {
      "text/html": [
       "<div>\n",
       "<style scoped>\n",
       "    .dataframe tbody tr th:only-of-type {\n",
       "        vertical-align: middle;\n",
       "    }\n",
       "\n",
       "    .dataframe tbody tr th {\n",
       "        vertical-align: top;\n",
       "    }\n",
       "\n",
       "    .dataframe thead th {\n",
       "        text-align: right;\n",
       "    }\n",
       "</style>\n",
       "<table border=\"1\" class=\"dataframe\">\n",
       "  <thead>\n",
       "    <tr style=\"text-align: right;\">\n",
       "      <th></th>\n",
       "      <th>autor</th>\n",
       "      <th>fecha</th>\n",
       "      <th>Id</th>\n",
       "      <th>texto</th>\n",
       "      <th>día</th>\n",
       "    </tr>\n",
       "  </thead>\n",
       "  <tbody>\n",
       "    <tr>\n",
       "      <th>3250</th>\n",
       "      <td>marca</td>\n",
       "      <td>2022-12-04 12:24:44+00:00</td>\n",
       "      <td>1599379171662303232</td>\n",
       "      <td>🍊 El último baile de Van Gaal https://t.co/Fi7...</td>\n",
       "      <td>2022-12-04</td>\n",
       "    </tr>\n",
       "    <tr>\n",
       "      <th>3251</th>\n",
       "      <td>marca</td>\n",
       "      <td>2022-12-04 12:09:14+00:00</td>\n",
       "      <td>1599375271613943808</td>\n",
       "      <td>💥 Cristiano Ronaldo exige a la Juventus 19,9 m...</td>\n",
       "      <td>2022-12-04</td>\n",
       "    </tr>\n",
       "    <tr>\n",
       "      <th>3252</th>\n",
       "      <td>marca</td>\n",
       "      <td>2022-12-04 11:53:33+00:00</td>\n",
       "      <td>1599371324123643906</td>\n",
       "      <td>Dictamen 'caso Ancelotti': enterrado\\n\\nHa pas...</td>\n",
       "      <td>2022-12-04</td>\n",
       "    </tr>\n",
       "    <tr>\n",
       "      <th>3253</th>\n",
       "      <td>marca</td>\n",
       "      <td>2022-12-04 11:43:14+00:00</td>\n",
       "      <td>1599368729921720321</td>\n",
       "      <td>RT @RadioMARCA: ¡Cómo se lo pasan nuestros piz...</td>\n",
       "      <td>2022-12-04</td>\n",
       "    </tr>\n",
       "    <tr>\n",
       "      <th>3254</th>\n",
       "      <td>marca</td>\n",
       "      <td>2022-12-04 11:38:25+00:00</td>\n",
       "      <td>1599367514986782720</td>\n",
       "      <td>😅 Están @JooAlmeida98 y @juann_ayuso... y tamb...</td>\n",
       "      <td>2022-12-04</td>\n",
       "    </tr>\n",
       "    <tr>\n",
       "      <th>...</th>\n",
       "      <td>...</td>\n",
       "      <td>...</td>\n",
       "      <td>...</td>\n",
       "      <td>...</td>\n",
       "      <td>...</td>\n",
       "    </tr>\n",
       "    <tr>\n",
       "      <th>6495</th>\n",
       "      <td>marca</td>\n",
       "      <td>2022-11-11 07:15:52+00:00</td>\n",
       "      <td>1590966521819529216</td>\n",
       "      <td>🇪🇸 ¡¡Día de la lista de España para el Mundial...</td>\n",
       "      <td>2022-11-11</td>\n",
       "    </tr>\n",
       "    <tr>\n",
       "      <th>6496</th>\n",
       "      <td>marca</td>\n",
       "      <td>2022-11-11 07:08:27+00:00</td>\n",
       "      <td>1590964654716723204</td>\n",
       "      <td>RT @MarcaGaming: ¿Quiénes son los 12 streamers...</td>\n",
       "      <td>2022-11-11</td>\n",
       "    </tr>\n",
       "    <tr>\n",
       "      <th>6497</th>\n",
       "      <td>marca</td>\n",
       "      <td>2022-11-11 07:00:01+00:00</td>\n",
       "      <td>1590962533128708097</td>\n",
       "      <td>#LaPortada Al Mundial con la Liga al rojo vivo...</td>\n",
       "      <td>2022-11-11</td>\n",
       "    </tr>\n",
       "    <tr>\n",
       "      <th>6498</th>\n",
       "      <td>marca</td>\n",
       "      <td>2022-11-11 01:43:27+00:00</td>\n",
       "      <td>1590882868716359680</td>\n",
       "      <td>#LoMásComentado Sin castigo para Ancelotti por...</td>\n",
       "      <td>2022-11-11</td>\n",
       "    </tr>\n",
       "    <tr>\n",
       "      <th>6499</th>\n",
       "      <td>marca</td>\n",
       "      <td>2022-11-11 01:28:20+00:00</td>\n",
       "      <td>1590879063887204354</td>\n",
       "      <td>#LoMásLeído Mou, desatado: \"Hay un jugador que...</td>\n",
       "      <td>2022-11-11</td>\n",
       "    </tr>\n",
       "  </tbody>\n",
       "</table>\n",
       "<p>3250 rows × 5 columns</p>\n",
       "</div>"
      ],
      "text/plain": [
       "      autor                      fecha                   Id  \\\n",
       "3250  marca  2022-12-04 12:24:44+00:00  1599379171662303232   \n",
       "3251  marca  2022-12-04 12:09:14+00:00  1599375271613943808   \n",
       "3252  marca  2022-12-04 11:53:33+00:00  1599371324123643906   \n",
       "3253  marca  2022-12-04 11:43:14+00:00  1599368729921720321   \n",
       "3254  marca  2022-12-04 11:38:25+00:00  1599367514986782720   \n",
       "...     ...                        ...                  ...   \n",
       "6495  marca  2022-11-11 07:15:52+00:00  1590966521819529216   \n",
       "6496  marca  2022-11-11 07:08:27+00:00  1590964654716723204   \n",
       "6497  marca  2022-11-11 07:00:01+00:00  1590962533128708097   \n",
       "6498  marca  2022-11-11 01:43:27+00:00  1590882868716359680   \n",
       "6499  marca  2022-11-11 01:28:20+00:00  1590879063887204354   \n",
       "\n",
       "                                                  texto         día  \n",
       "3250  🍊 El último baile de Van Gaal https://t.co/Fi7...  2022-12-04  \n",
       "3251  💥 Cristiano Ronaldo exige a la Juventus 19,9 m...  2022-12-04  \n",
       "3252  Dictamen 'caso Ancelotti': enterrado\\n\\nHa pas...  2022-12-04  \n",
       "3253  RT @RadioMARCA: ¡Cómo se lo pasan nuestros piz...  2022-12-04  \n",
       "3254  😅 Están @JooAlmeida98 y @juann_ayuso... y tamb...  2022-12-04  \n",
       "...                                                 ...         ...  \n",
       "6495  🇪🇸 ¡¡Día de la lista de España para el Mundial...  2022-11-11  \n",
       "6496  RT @MarcaGaming: ¿Quiénes son los 12 streamers...  2022-11-11  \n",
       "6497  #LaPortada Al Mundial con la Liga al rojo vivo...  2022-11-11  \n",
       "6498  #LoMásComentado Sin castigo para Ancelotti por...  2022-11-11  \n",
       "6499  #LoMásLeído Mou, desatado: \"Hay un jugador que...  2022-11-11  \n",
       "\n",
       "[3250 rows x 5 columns]"
      ]
     },
     "execution_count": 41,
     "metadata": {},
     "output_type": "execute_result"
    }
   ],
   "source": [
    "# NOTA: DEBO REVISAR QUE ME ESTÁ DEVOLVIENDO LA GRÁFICA PARA 'marca'\n",
    "    # PORQUE EN LA TABLA HAY DATOS PARA 'marca' HASTA 2022-12-04 al igual que para CNN\n",
    "tweets.query(\"autor=='marca'\")"
   ]
  },
  {
   "cell_type": "code",
   "execution_count": null,
   "id": "5b14071f",
   "metadata": {},
   "outputs": [],
   "source": [
    "#.groupby(\"item\", as_index=False).count()"
   ]
  },
  {
   "cell_type": "code",
   "execution_count": null,
   "id": "ff02f342",
   "metadata": {},
   "outputs": [],
   "source": []
  },
  {
   "cell_type": "markdown",
   "id": "6d546511",
   "metadata": {},
   "source": [
    "# <font color='red'>WEBSCRAPING CON PANDAS</font> "
   ]
  },
  {
   "cell_type": "markdown",
   "id": "d8cef9f5",
   "metadata": {},
   "source": [
    "· A continuación se muestra el webscraping de una web inglesa de la que se extraen varios archivos .csv sobre partidos de futbol de la liga española desde 2016 hasta 2022.\n",
    "\n",
    "· Una vez extraidos y transformados en un dataframe, se realiza análisis exploratorio de los datos con libería plotly.\n",
    "\n",
    "· WEB https://www.football-data.co.uk/data.php\n",
    "\n",
    "· Objetivo URL:\n",
    "\n",
    "  Liga Española 1ª y 2ª\n",
    "  \n",
    "https://www.football-data.co.uk/mmz4281/2223/SP1.csv\n",
    "\n",
    "https://www.football-data.co.uk/mmz4281/2223/SP2.csv\n",
    "\n",
    "https://www.football-data.co.uk/mmz4281/2122/SP1.csv\n",
    "\n",
    "https://www.football-data.co.uk/mmz4281/2122/SP2.csv   \n",
    "\n",
    "https://www.football-data.co.uk/mmz4281/2021/SP1.csv\n",
    "\n",
    "https://www.football-data.co.uk/mmz4281/2021/SP2.csv\n",
    "\n",
    "https://www.football-data.co.uk/mmz4281/1920/SP1.csv\n",
    "\n",
    "https://www.football-data.co.uk/mmz4281/1920/SP2.csv\n",
    "\n",
    "  Bundesliga Alemana\n",
    "  \n",
    "https://www.football-data.co.uk/mmz4281/2223/D1.csv\n",
    "\n",
    "https://www.football-data.co.uk/mmz4281/2122/D1.csv  \n",
    "\n",
    "https://www.football-data.co.uk/mmz4281/1920/D1.csv\n",
    "\n",
    "https://www.football-data.co.uk/mmz4281/1920/D1.csv\n",
    "\n",
    "  Premier League Inglesa\n",
    "  \n",
    "https://www.football-data.co.uk/mmz4281/2223/E0.csv\n",
    "\n",
    "https://www.football-data.co.uk/mmz4281/2122/E0.csv     \n",
    "\n",
    "https://www.football-data.co.uk/mmz4281/2021/E0.csv\n",
    "\n",
    "https://www.football-data.co.uk/mmz4281/1920/E0.csv\n",
    "\n",
    "· Estructura del link: raiz + temporada + liga\n",
    "\n",
    "    \"https://www.football-data.co.uk/mmz4281/\" + \"2223\" + \"/\" + \"SP1\" + \".csv\"\n"
   ]
  },
  {
   "cell_type": "markdown",
   "id": "8e1ec90d",
   "metadata": {},
   "source": [
    "## <font color='grey'>Asignar nombre de Liga por país a llaves (dict)</font>"
   ]
  },
  {
   "cell_type": "code",
   "execution_count": 1,
   "id": "675c53a1",
   "metadata": {},
   "outputs": [],
   "source": [
    "import pandas as pd"
   ]
  },
  {
   "cell_type": "code",
   "execution_count": 2,
   "id": "7f3b3ea6",
   "metadata": {},
   "outputs": [],
   "source": [
    "# creación de un diccionario con el nombre orignal de la liga como llave\n",
    "\n",
    "dict_paises = {'La Liga' : 'SP1', 'La Liga Segunda' : 'SP2', \n",
    "                'Bundesliga' : 'D1',\n",
    "                'Premier League' : 'E0'\n",
    "                 }\n"
   ]
  },
  {
   "cell_type": "code",
   "execution_count": 3,
   "id": "cdc29d4e",
   "metadata": {},
   "outputs": [
    {
     "name": "stdout",
     "output_type": "stream",
     "text": [
      "SP1\n",
      "\n",
      "\n",
      "La Liga\n",
      "La Liga Segunda\n",
      "Bundesliga\n",
      "Premier League\n",
      "\n",
      "\n",
      "SP1\n",
      "SP2\n",
      "D1\n",
      "E0\n"
     ]
    }
   ],
   "source": [
    "# comprobación del diccionario paises (Claves y valores)\n",
    "\n",
    "print(dict_paises['La Liga'])\n",
    "print('\\n')\n",
    "\n",
    "for liga in dict_paises:\n",
    "    print(liga)\n",
    "print('\\n')\n",
    "\n",
    "for liga in dict_paises:\n",
    "    print(dict_paises[liga])"
   ]
  },
  {
   "cell_type": "markdown",
   "id": "6170b1b6",
   "metadata": {},
   "source": [
    "## <font color='grey'>[EXTRACT] Crear lista de dataframes de temporadas de Ligas por paises</font>"
   ]
  },
  {
   "cell_type": "code",
   "execution_count": 4,
   "id": "b968bf08",
   "metadata": {},
   "outputs": [],
   "source": [
    "# creando una lista de ligas sobre el diccionario de paises\n",
    "lista_ligas = []\n",
    "raiz  = \"https://www.football-data.co.uk/mmz4281/\"\n",
    "\n",
    "# Se hace un bucle for a un rango de temporadas e inserta una nueva columna\n",
    "for liga in dict_paises:\n",
    "    for temporada in range(16, 22):\n",
    "        df = pd.read_csv(raiz + str(temporada) + str(temporada+1) + '/' + dict_paises[liga] + '.csv', encoding='unicode_escape')\n",
    "        df.insert(1, 'temporada', temporada)\n",
    "        lista_ligas.append(df)"
   ]
  },
  {
   "cell_type": "markdown",
   "id": "88a208f2",
   "metadata": {},
   "source": [
    "## <font color='grey'>Almacenar DFs en un diccionario</font>"
   ]
  },
  {
   "cell_type": "code",
   "execution_count": 5,
   "id": "1411d159",
   "metadata": {},
   "outputs": [],
   "source": [
    "# Creando un nuevo diccionario donde guardar todos los dataframes\n",
    "dic_historico = {}\n",
    "\n",
    "# si colocamos lista_historico fuera del bucle, pd.concat creará una lista concatenada de todo las llaves del diccionario \n",
    "# si lista_historico la colocamos dentro del bucle, solo obtendremos una lista concatenada para las llaves concretas del diccionario.\n",
    "    # asi cada liga será independiente y la informacion de liga anterior no se refleja\n",
    "# con dic_historico quedará un registro de todas las ligas y así no se perderá la información.\n",
    "\n",
    "for liga in dict_paises:\n",
    "    lista_historico = []\n",
    "    for temporada in range(19, 22):\n",
    "        df = pd.read_csv( raiz + str(temporada) + str(temporada+1) + '/' + dict_paises[liga] + '.csv', encoding='unicode_escape')\n",
    "        df.insert(1, 'temporada', temporada)\n",
    "        lista_historico.append(df)\n",
    "    df_concat = pd.concat(lista_historico)\n",
    "    dic_historico[liga] = df_concat"
   ]
  },
  {
   "cell_type": "code",
   "execution_count": 6,
   "id": "e218392f",
   "metadata": {},
   "outputs": [
    {
     "data": {
      "text/plain": [
       "dict_keys(['La Liga', 'La Liga Segunda', 'Bundesliga', 'Premier League'])"
      ]
     },
     "execution_count": 6,
     "metadata": {},
     "output_type": "execute_result"
    }
   ],
   "source": [
    "# se muestran las llaves dentro de dic_historico\n",
    "dic_historico.keys()"
   ]
  },
  {
   "cell_type": "code",
   "execution_count": 7,
   "id": "b5cd5b0a",
   "metadata": {
    "scrolled": false
   },
   "outputs": [
    {
     "data": {
      "text/plain": [
       "{'La Liga':      Div  temporada        Date   Time    HomeTeam     AwayTeam  FTHG  FTAG  \\\n",
       " 0    SP1         19  16/08/2019  20:00  Ath Bilbao    Barcelona     1     0   \n",
       " 1    SP1         19  17/08/2019  16:00       Celta  Real Madrid     1     3   \n",
       " 2    SP1         19  17/08/2019  18:00    Valencia     Sociedad     1     1   \n",
       " 3    SP1         19  17/08/2019  19:00    Mallorca        Eibar     2     1   \n",
       " 4    SP1         19  17/08/2019  20:00     Leganes      Osasuna     0     1   \n",
       " ..   ...        ...         ...    ...         ...          ...   ...   ...   \n",
       " 375  SP1         21  22/05/2022  19:00     Granada      Espanol     0     0   \n",
       " 376  SP1         21  22/05/2022  19:00     Osasuna     Mallorca     0     2   \n",
       " 377  SP1         21  22/05/2022  21:00   Barcelona   Villarreal     0     2   \n",
       " 378  SP1         21  22/05/2022  21:00     Sevilla   Ath Bilbao     1     0   \n",
       " 379  SP1         21  22/05/2022  21:00    Sociedad   Ath Madrid     1     2   \n",
       " \n",
       "     FTR  HTHG  ...  AvgC<2.5  AHCh  B365CAHH  B365CAHA  PCAHH  PCAHA  MaxCAHH  \\\n",
       " 0     H     0  ...      1.97  0.75      1.93      2.00   1.91   2.01     2.02   \n",
       " 1     A     0  ...      2.63  1.00      1.82      1.97   1.85   2.07     2.00   \n",
       " 2     D     0  ...      1.82 -0.75      1.94      1.99   1.92   2.00     1.96   \n",
       " 3     H     1  ...      1.66  0.00      2.11      1.82   2.09   1.83     2.12   \n",
       " 4     A     0  ...      1.46 -0.50      1.89      2.04   1.90   2.01     1.95   \n",
       " ..   ..   ...  ...       ...   ...       ...       ...    ...    ...      ...   \n",
       " 375   D     0  ...      2.29 -1.25      2.02      1.88   2.03   1.90     2.06   \n",
       " 376   A     0  ...      1.76  0.25      1.68      2.15   1.74   2.23     1.86   \n",
       " 377   A     0  ...      2.50 -0.50      2.07      1.83   2.08   1.85     2.09   \n",
       " 378   H     0  ...      1.69  0.00      2.01      1.89   2.02   1.90     2.07   \n",
       " 379   A     0  ...      1.66  0.00      1.91      1.99   1.89   2.01     1.95   \n",
       " \n",
       "      MaxCAHA  AvgCAHH  AvgCAHA  \n",
       " 0       2.03     1.91     1.98  \n",
       " 1       2.20     1.82     2.06  \n",
       " 2       2.12     1.89     2.00  \n",
       " 3       1.88     2.07     1.83  \n",
       " 4       2.06     1.90     1.99  \n",
       " ..       ...      ...      ...  \n",
       " 375     2.05     1.97     1.90  \n",
       " 376     2.29     1.77     2.11  \n",
       " 377     2.00     1.97     1.91  \n",
       " 378     2.06     2.00     1.88  \n",
       " 379     2.04     1.90     1.98  \n",
       " \n",
       " [1140 rows x 106 columns],\n",
       " 'La Liga Segunda':      Div  temporada        Date   Time    HomeTeam        AwayTeam  FTHG  \\\n",
       " 0    SP2         19  17/08/2019  17:00        Lugo  Extremadura UD     0   \n",
       " 1    SP2         19  17/08/2019  17:00   Santander          Malaga     0   \n",
       " 2    SP2         19  17/08/2019  18:00     Almeria        Albacete     3   \n",
       " 3    SP2         19  17/08/2019  19:00       Elche     Fuenlabrada     0   \n",
       " 4    SP2         19  17/08/2019  20:00   Vallecano        Mirandes     2   \n",
       " ..   ...        ...         ...    ...         ...             ...   ...   \n",
       " 457  SP2         21  29/05/2022  19:00     Leganes         Almeria     2   \n",
       " 458  SP2         21  29/05/2022  19:00      Oviedo           Ibiza     3   \n",
       " 459  SP2         21  29/05/2022  19:00    Sp Gijon      Las Palmas     0   \n",
       " 460  SP2         21  29/05/2022  19:00    Tenerife       Cartagena     1   \n",
       " 461  SP2         21  29/05/2022  19:00  Valladolid          Huesca     3   \n",
       " \n",
       "      FTAG FTR  HTHG  ...  AvgC<2.5  AHCh  B365CAHH  B365CAHA  PCAHH  PCAHA  \\\n",
       " 0       0   D     0  ...      1.61 -0.25      1.90      1.95   1.91   1.99   \n",
       " 1       1   A     0  ...      1.47 -0.50      1.95      1.90   2.04   1.85   \n",
       " 2       0   H     0  ...      1.55 -0.25      1.93      1.93   1.93   1.97   \n",
       " 3       2   A     0  ...      1.48 -0.25      1.88      1.98   1.89   2.01   \n",
       " 4       2   D     2  ...      1.82 -1.00      1.98      1.88   2.03   1.87   \n",
       " ..    ...  ..   ...  ...       ...   ...       ...       ...    ...    ...   \n",
       " 457     2   D     2  ...      1.84  0.75      1.77      2.10   1.83   2.09   \n",
       " 458     2   H     1  ...      2.03 -1.00      1.77      2.10   1.81   2.11   \n",
       " 459     1   A     0  ...      1.75  0.25      1.95      1.90   2.01   1.89   \n",
       " 460     2   A     0  ...      2.08 -0.50      1.98      1.88   1.99   1.92   \n",
       " 461     0   H     0  ...      2.72 -1.50      2.02      1.83   2.04   1.87   \n",
       " \n",
       "      MaxCAHH  MaxCAHA  AvgCAHH  AvgCAHA  \n",
       " 0       1.94     2.02     1.89     1.96  \n",
       " 1       2.06     1.95     1.99     1.86  \n",
       " 2       1.98     1.98     1.92     1.93  \n",
       " 3       1.93     2.21     1.85     2.00  \n",
       " 4       2.06     1.96     1.97     1.88  \n",
       " ..       ...      ...      ...      ...  \n",
       " 457     1.88     2.12     1.82     2.03  \n",
       " 458     1.90     2.17     1.82     2.02  \n",
       " 459     2.12     1.96     2.00     1.85  \n",
       " 460     2.03     2.02     1.91     1.92  \n",
       " 461     2.08     1.92     2.01     1.83  \n",
       " \n",
       " [1386 rows x 106 columns],\n",
       " 'Bundesliga':     Div  temporada        Date   Time       HomeTeam            AwayTeam  \\\n",
       " 0    D1         19  16/08/2019  19:30  Bayern Munich              Hertha   \n",
       " 1    D1         19  17/08/2019  14:30       Dortmund            Augsburg   \n",
       " 2    D1         19  17/08/2019  14:30       Freiburg               Mainz   \n",
       " 3    D1         19  17/08/2019  14:30     Leverkusen           Paderborn   \n",
       " 4    D1         19  17/08/2019  14:30  Werder Bremen  Fortuna Dusseldorf   \n",
       " ..   ..        ...         ...    ...            ...                 ...   \n",
       " 301  D1         21  14/05/2022  14:30          Mainz       Ein Frankfurt   \n",
       " 302  D1         21  14/05/2022  14:30     M'gladbach          Hoffenheim   \n",
       " 303  D1         21  14/05/2022  14:30      Stuttgart             FC Koln   \n",
       " 304  D1         21  14/05/2022  14:30   Union Berlin              Bochum   \n",
       " 305  D1         21  14/05/2022  14:30      Wolfsburg       Bayern Munich   \n",
       " \n",
       "      FTHG  FTAG FTR  HTHG  ...  AvgC<2.5  AHCh  B365CAHH  B365CAHA  PCAHH  \\\n",
       " 0       2     2   D     1  ...      3.40 -2.25      2.03      1.90   1.99   \n",
       " 1       5     1   H     1  ...      3.31 -2.25      1.92      2.01   1.92   \n",
       " 2       3     0   H     0  ...      1.89  0.00      1.92      2.01   1.94   \n",
       " 3       3     2   H     2  ...      3.58 -2.00      2.07      1.86   2.05   \n",
       " 4       1     3   A     0  ...      2.26 -0.75      1.92      2.01   1.92   \n",
       " ..    ...   ...  ..   ...  ...       ...   ...       ...       ...    ...   \n",
       " 301     2     2   D     1  ...      2.40 -0.50      1.86      2.04   1.87   \n",
       " 302     5     1   H     3  ...      4.07 -0.25      1.85      2.05   1.83   \n",
       " 303     2     1   H     1  ...      2.67 -0.25      1.92      1.98   1.98   \n",
       " 304     3     2   H     2  ...      2.49 -1.50      1.80      2.00   1.85   \n",
       " 305     2     2   D     1  ...      4.46  1.50      1.93      1.97   1.93   \n",
       " \n",
       "      PCAHA  MaxCAHH  MaxCAHA  AvgCAHH  AvgCAHA  \n",
       " 0     1.93     2.04     1.93     1.98     1.91  \n",
       " 1     2.00     1.98     2.04     1.91     1.97  \n",
       " 2     1.97     1.97     2.06     1.90     1.99  \n",
       " 3     1.86     2.15     1.91     2.03     1.85  \n",
       " 4     2.00     1.95     2.11     1.89     2.00  \n",
       " ..     ...      ...      ...      ...      ...  \n",
       " 301   2.04     1.90     2.06     1.87     2.00  \n",
       " 302   2.07     1.88     2.08     1.83     2.03  \n",
       " 303   1.94     2.03     2.00     1.96     1.91  \n",
       " 304   2.07     1.88     2.12     1.82     2.04  \n",
       " 305   1.97     2.07     2.05     1.91     1.96  \n",
       " \n",
       " [918 rows x 106 columns],\n",
       " 'Premier League':     Div  temporada        Date   Time        HomeTeam          AwayTeam  FTHG  \\\n",
       " 0    E0         19  09/08/2019  20:00       Liverpool           Norwich     4   \n",
       " 1    E0         19  10/08/2019  12:30        West Ham          Man City     0   \n",
       " 2    E0         19  10/08/2019  15:00     Bournemouth  Sheffield United     1   \n",
       " 3    E0         19  10/08/2019  15:00         Burnley       Southampton     3   \n",
       " 4    E0         19  10/08/2019  15:00  Crystal Palace           Everton     0   \n",
       " ..   ..        ...         ...    ...             ...               ...   ...   \n",
       " 375  E0         21  22/05/2022  16:00  Crystal Palace        Man United     1   \n",
       " 376  E0         21  22/05/2022  16:00       Leicester       Southampton     4   \n",
       " 377  E0         21  22/05/2022  16:00       Liverpool            Wolves     3   \n",
       " 378  E0         21  22/05/2022  16:00        Man City       Aston Villa     3   \n",
       " 379  E0         21  22/05/2022  16:00         Norwich         Tottenham     0   \n",
       " \n",
       "      FTAG FTR  HTHG  ...  AvgC<2.5  AHCh B365CAHH  B365CAHA  PCAHH  PCAHA  \\\n",
       " 0       1   H     4  ...      3.43 -2.25     1.91      1.99   1.94   1.98   \n",
       " 1       5   A     0  ...      2.91  1.75     1.95      1.95   1.96   1.97   \n",
       " 2       1   D     0  ...      1.92 -0.50     1.95      1.95   1.98   1.95   \n",
       " 3       0   H     0  ...      1.71  0.00     1.87      2.03   1.89   2.03   \n",
       " 4       0   D     0  ...      1.71  0.25     1.82      2.08   1.97   1.96   \n",
       " ..    ...  ..   ...  ...       ...   ...      ...       ...    ...    ...   \n",
       " 375     0   H     1  ...      2.04  0.25     1.68      2.15   1.74   2.23   \n",
       " 376     1   H     0  ...      2.63 -0.75     1.83      2.07   1.88   2.03   \n",
       " 377     1   H     1  ...      3.28 -2.50     2.02      1.77   2.06   1.83   \n",
       " 378     2   H     0  ...      3.36 -2.25     2.06      1.84   2.05   1.86   \n",
       " 379     5   A     0  ...      2.40  1.50     1.95      1.95   1.96   1.94   \n",
       " \n",
       "      MaxCAHH  MaxCAHA  AvgCAHH  AvgCAHA  \n",
       " 0       1.99     2.07     1.90     1.99  \n",
       " 1       2.07     1.98     1.97     1.92  \n",
       " 2       2.00     1.96     1.96     1.92  \n",
       " 3       1.90     2.07     1.86     2.02  \n",
       " 4       2.03     2.08     1.96     1.93  \n",
       " ..       ...      ...      ...      ...  \n",
       " 375     1.88     2.25     1.74     2.16  \n",
       " 376     1.94     2.26     1.87     2.01  \n",
       " 377     2.19     1.99     2.07     1.80  \n",
       " 378     2.09     2.03     2.01     1.87  \n",
       " 379     2.16     1.98     1.99     1.89  \n",
       " \n",
       " [1140 rows x 107 columns]}"
      ]
     },
     "execution_count": 7,
     "metadata": {},
     "output_type": "execute_result"
    }
   ],
   "source": [
    "dic_historico"
   ]
  },
  {
   "cell_type": "markdown",
   "id": "385d0d3b",
   "metadata": {},
   "source": [
    "## <font color='grey'>Acceder a Dataframes</font>"
   ]
  },
  {
   "cell_type": "code",
   "execution_count": 8,
   "id": "4be57e8f",
   "metadata": {
    "scrolled": true
   },
   "outputs": [
    {
     "data": {
      "text/html": [
       "<div>\n",
       "<style scoped>\n",
       "    .dataframe tbody tr th:only-of-type {\n",
       "        vertical-align: middle;\n",
       "    }\n",
       "\n",
       "    .dataframe tbody tr th {\n",
       "        vertical-align: top;\n",
       "    }\n",
       "\n",
       "    .dataframe thead th {\n",
       "        text-align: right;\n",
       "    }\n",
       "</style>\n",
       "<table border=\"1\" class=\"dataframe\">\n",
       "  <thead>\n",
       "    <tr style=\"text-align: right;\">\n",
       "      <th></th>\n",
       "      <th>Div</th>\n",
       "      <th>temporada</th>\n",
       "      <th>Date</th>\n",
       "      <th>Time</th>\n",
       "      <th>HomeTeam</th>\n",
       "      <th>AwayTeam</th>\n",
       "      <th>FTHG</th>\n",
       "      <th>FTAG</th>\n",
       "      <th>FTR</th>\n",
       "      <th>HTHG</th>\n",
       "      <th>...</th>\n",
       "      <th>AvgC&lt;2.5</th>\n",
       "      <th>AHCh</th>\n",
       "      <th>B365CAHH</th>\n",
       "      <th>B365CAHA</th>\n",
       "      <th>PCAHH</th>\n",
       "      <th>PCAHA</th>\n",
       "      <th>MaxCAHH</th>\n",
       "      <th>MaxCAHA</th>\n",
       "      <th>AvgCAHH</th>\n",
       "      <th>AvgCAHA</th>\n",
       "    </tr>\n",
       "  </thead>\n",
       "  <tbody>\n",
       "    <tr>\n",
       "      <th>0</th>\n",
       "      <td>SP1</td>\n",
       "      <td>19</td>\n",
       "      <td>16/08/2019</td>\n",
       "      <td>20:00</td>\n",
       "      <td>Ath Bilbao</td>\n",
       "      <td>Barcelona</td>\n",
       "      <td>1</td>\n",
       "      <td>0</td>\n",
       "      <td>H</td>\n",
       "      <td>0</td>\n",
       "      <td>...</td>\n",
       "      <td>1.97</td>\n",
       "      <td>0.75</td>\n",
       "      <td>1.93</td>\n",
       "      <td>2.00</td>\n",
       "      <td>1.91</td>\n",
       "      <td>2.01</td>\n",
       "      <td>2.02</td>\n",
       "      <td>2.03</td>\n",
       "      <td>1.91</td>\n",
       "      <td>1.98</td>\n",
       "    </tr>\n",
       "    <tr>\n",
       "      <th>1</th>\n",
       "      <td>SP1</td>\n",
       "      <td>19</td>\n",
       "      <td>17/08/2019</td>\n",
       "      <td>16:00</td>\n",
       "      <td>Celta</td>\n",
       "      <td>Real Madrid</td>\n",
       "      <td>1</td>\n",
       "      <td>3</td>\n",
       "      <td>A</td>\n",
       "      <td>0</td>\n",
       "      <td>...</td>\n",
       "      <td>2.63</td>\n",
       "      <td>1.00</td>\n",
       "      <td>1.82</td>\n",
       "      <td>1.97</td>\n",
       "      <td>1.85</td>\n",
       "      <td>2.07</td>\n",
       "      <td>2.00</td>\n",
       "      <td>2.20</td>\n",
       "      <td>1.82</td>\n",
       "      <td>2.06</td>\n",
       "    </tr>\n",
       "    <tr>\n",
       "      <th>2</th>\n",
       "      <td>SP1</td>\n",
       "      <td>19</td>\n",
       "      <td>17/08/2019</td>\n",
       "      <td>18:00</td>\n",
       "      <td>Valencia</td>\n",
       "      <td>Sociedad</td>\n",
       "      <td>1</td>\n",
       "      <td>1</td>\n",
       "      <td>D</td>\n",
       "      <td>0</td>\n",
       "      <td>...</td>\n",
       "      <td>1.82</td>\n",
       "      <td>-0.75</td>\n",
       "      <td>1.94</td>\n",
       "      <td>1.99</td>\n",
       "      <td>1.92</td>\n",
       "      <td>2.00</td>\n",
       "      <td>1.96</td>\n",
       "      <td>2.12</td>\n",
       "      <td>1.89</td>\n",
       "      <td>2.00</td>\n",
       "    </tr>\n",
       "    <tr>\n",
       "      <th>3</th>\n",
       "      <td>SP1</td>\n",
       "      <td>19</td>\n",
       "      <td>17/08/2019</td>\n",
       "      <td>19:00</td>\n",
       "      <td>Mallorca</td>\n",
       "      <td>Eibar</td>\n",
       "      <td>2</td>\n",
       "      <td>1</td>\n",
       "      <td>H</td>\n",
       "      <td>1</td>\n",
       "      <td>...</td>\n",
       "      <td>1.66</td>\n",
       "      <td>0.00</td>\n",
       "      <td>2.11</td>\n",
       "      <td>1.82</td>\n",
       "      <td>2.09</td>\n",
       "      <td>1.83</td>\n",
       "      <td>2.12</td>\n",
       "      <td>1.88</td>\n",
       "      <td>2.07</td>\n",
       "      <td>1.83</td>\n",
       "    </tr>\n",
       "    <tr>\n",
       "      <th>4</th>\n",
       "      <td>SP1</td>\n",
       "      <td>19</td>\n",
       "      <td>17/08/2019</td>\n",
       "      <td>20:00</td>\n",
       "      <td>Leganes</td>\n",
       "      <td>Osasuna</td>\n",
       "      <td>0</td>\n",
       "      <td>1</td>\n",
       "      <td>A</td>\n",
       "      <td>0</td>\n",
       "      <td>...</td>\n",
       "      <td>1.46</td>\n",
       "      <td>-0.50</td>\n",
       "      <td>1.89</td>\n",
       "      <td>2.04</td>\n",
       "      <td>1.90</td>\n",
       "      <td>2.01</td>\n",
       "      <td>1.95</td>\n",
       "      <td>2.06</td>\n",
       "      <td>1.90</td>\n",
       "      <td>1.99</td>\n",
       "    </tr>\n",
       "    <tr>\n",
       "      <th>...</th>\n",
       "      <td>...</td>\n",
       "      <td>...</td>\n",
       "      <td>...</td>\n",
       "      <td>...</td>\n",
       "      <td>...</td>\n",
       "      <td>...</td>\n",
       "      <td>...</td>\n",
       "      <td>...</td>\n",
       "      <td>...</td>\n",
       "      <td>...</td>\n",
       "      <td>...</td>\n",
       "      <td>...</td>\n",
       "      <td>...</td>\n",
       "      <td>...</td>\n",
       "      <td>...</td>\n",
       "      <td>...</td>\n",
       "      <td>...</td>\n",
       "      <td>...</td>\n",
       "      <td>...</td>\n",
       "      <td>...</td>\n",
       "      <td>...</td>\n",
       "    </tr>\n",
       "    <tr>\n",
       "      <th>375</th>\n",
       "      <td>SP1</td>\n",
       "      <td>21</td>\n",
       "      <td>22/05/2022</td>\n",
       "      <td>19:00</td>\n",
       "      <td>Granada</td>\n",
       "      <td>Espanol</td>\n",
       "      <td>0</td>\n",
       "      <td>0</td>\n",
       "      <td>D</td>\n",
       "      <td>0</td>\n",
       "      <td>...</td>\n",
       "      <td>2.29</td>\n",
       "      <td>-1.25</td>\n",
       "      <td>2.02</td>\n",
       "      <td>1.88</td>\n",
       "      <td>2.03</td>\n",
       "      <td>1.90</td>\n",
       "      <td>2.06</td>\n",
       "      <td>2.05</td>\n",
       "      <td>1.97</td>\n",
       "      <td>1.90</td>\n",
       "    </tr>\n",
       "    <tr>\n",
       "      <th>376</th>\n",
       "      <td>SP1</td>\n",
       "      <td>21</td>\n",
       "      <td>22/05/2022</td>\n",
       "      <td>19:00</td>\n",
       "      <td>Osasuna</td>\n",
       "      <td>Mallorca</td>\n",
       "      <td>0</td>\n",
       "      <td>2</td>\n",
       "      <td>A</td>\n",
       "      <td>0</td>\n",
       "      <td>...</td>\n",
       "      <td>1.76</td>\n",
       "      <td>0.25</td>\n",
       "      <td>1.68</td>\n",
       "      <td>2.15</td>\n",
       "      <td>1.74</td>\n",
       "      <td>2.23</td>\n",
       "      <td>1.86</td>\n",
       "      <td>2.29</td>\n",
       "      <td>1.77</td>\n",
       "      <td>2.11</td>\n",
       "    </tr>\n",
       "    <tr>\n",
       "      <th>377</th>\n",
       "      <td>SP1</td>\n",
       "      <td>21</td>\n",
       "      <td>22/05/2022</td>\n",
       "      <td>21:00</td>\n",
       "      <td>Barcelona</td>\n",
       "      <td>Villarreal</td>\n",
       "      <td>0</td>\n",
       "      <td>2</td>\n",
       "      <td>A</td>\n",
       "      <td>0</td>\n",
       "      <td>...</td>\n",
       "      <td>2.50</td>\n",
       "      <td>-0.50</td>\n",
       "      <td>2.07</td>\n",
       "      <td>1.83</td>\n",
       "      <td>2.08</td>\n",
       "      <td>1.85</td>\n",
       "      <td>2.09</td>\n",
       "      <td>2.00</td>\n",
       "      <td>1.97</td>\n",
       "      <td>1.91</td>\n",
       "    </tr>\n",
       "    <tr>\n",
       "      <th>378</th>\n",
       "      <td>SP1</td>\n",
       "      <td>21</td>\n",
       "      <td>22/05/2022</td>\n",
       "      <td>21:00</td>\n",
       "      <td>Sevilla</td>\n",
       "      <td>Ath Bilbao</td>\n",
       "      <td>1</td>\n",
       "      <td>0</td>\n",
       "      <td>H</td>\n",
       "      <td>0</td>\n",
       "      <td>...</td>\n",
       "      <td>1.69</td>\n",
       "      <td>0.00</td>\n",
       "      <td>2.01</td>\n",
       "      <td>1.89</td>\n",
       "      <td>2.02</td>\n",
       "      <td>1.90</td>\n",
       "      <td>2.07</td>\n",
       "      <td>2.06</td>\n",
       "      <td>2.00</td>\n",
       "      <td>1.88</td>\n",
       "    </tr>\n",
       "    <tr>\n",
       "      <th>379</th>\n",
       "      <td>SP1</td>\n",
       "      <td>21</td>\n",
       "      <td>22/05/2022</td>\n",
       "      <td>21:00</td>\n",
       "      <td>Sociedad</td>\n",
       "      <td>Ath Madrid</td>\n",
       "      <td>1</td>\n",
       "      <td>2</td>\n",
       "      <td>A</td>\n",
       "      <td>0</td>\n",
       "      <td>...</td>\n",
       "      <td>1.66</td>\n",
       "      <td>0.00</td>\n",
       "      <td>1.91</td>\n",
       "      <td>1.99</td>\n",
       "      <td>1.89</td>\n",
       "      <td>2.01</td>\n",
       "      <td>1.95</td>\n",
       "      <td>2.04</td>\n",
       "      <td>1.90</td>\n",
       "      <td>1.98</td>\n",
       "    </tr>\n",
       "  </tbody>\n",
       "</table>\n",
       "<p>1140 rows × 106 columns</p>\n",
       "</div>"
      ],
      "text/plain": [
       "     Div  temporada        Date   Time    HomeTeam     AwayTeam  FTHG  FTAG  \\\n",
       "0    SP1         19  16/08/2019  20:00  Ath Bilbao    Barcelona     1     0   \n",
       "1    SP1         19  17/08/2019  16:00       Celta  Real Madrid     1     3   \n",
       "2    SP1         19  17/08/2019  18:00    Valencia     Sociedad     1     1   \n",
       "3    SP1         19  17/08/2019  19:00    Mallorca        Eibar     2     1   \n",
       "4    SP1         19  17/08/2019  20:00     Leganes      Osasuna     0     1   \n",
       "..   ...        ...         ...    ...         ...          ...   ...   ...   \n",
       "375  SP1         21  22/05/2022  19:00     Granada      Espanol     0     0   \n",
       "376  SP1         21  22/05/2022  19:00     Osasuna     Mallorca     0     2   \n",
       "377  SP1         21  22/05/2022  21:00   Barcelona   Villarreal     0     2   \n",
       "378  SP1         21  22/05/2022  21:00     Sevilla   Ath Bilbao     1     0   \n",
       "379  SP1         21  22/05/2022  21:00    Sociedad   Ath Madrid     1     2   \n",
       "\n",
       "    FTR  HTHG  ...  AvgC<2.5  AHCh  B365CAHH  B365CAHA  PCAHH  PCAHA  MaxCAHH  \\\n",
       "0     H     0  ...      1.97  0.75      1.93      2.00   1.91   2.01     2.02   \n",
       "1     A     0  ...      2.63  1.00      1.82      1.97   1.85   2.07     2.00   \n",
       "2     D     0  ...      1.82 -0.75      1.94      1.99   1.92   2.00     1.96   \n",
       "3     H     1  ...      1.66  0.00      2.11      1.82   2.09   1.83     2.12   \n",
       "4     A     0  ...      1.46 -0.50      1.89      2.04   1.90   2.01     1.95   \n",
       "..   ..   ...  ...       ...   ...       ...       ...    ...    ...      ...   \n",
       "375   D     0  ...      2.29 -1.25      2.02      1.88   2.03   1.90     2.06   \n",
       "376   A     0  ...      1.76  0.25      1.68      2.15   1.74   2.23     1.86   \n",
       "377   A     0  ...      2.50 -0.50      2.07      1.83   2.08   1.85     2.09   \n",
       "378   H     0  ...      1.69  0.00      2.01      1.89   2.02   1.90     2.07   \n",
       "379   A     0  ...      1.66  0.00      1.91      1.99   1.89   2.01     1.95   \n",
       "\n",
       "     MaxCAHA  AvgCAHH  AvgCAHA  \n",
       "0       2.03     1.91     1.98  \n",
       "1       2.20     1.82     2.06  \n",
       "2       2.12     1.89     2.00  \n",
       "3       1.88     2.07     1.83  \n",
       "4       2.06     1.90     1.99  \n",
       "..       ...      ...      ...  \n",
       "375     2.05     1.97     1.90  \n",
       "376     2.29     1.77     2.11  \n",
       "377     2.00     1.97     1.91  \n",
       "378     2.06     2.00     1.88  \n",
       "379     2.04     1.90     1.98  \n",
       "\n",
       "[1140 rows x 106 columns]"
      ]
     },
     "execution_count": 8,
     "metadata": {},
     "output_type": "execute_result"
    }
   ],
   "source": [
    "# acceder a un dataframe concreto\n",
    "dic_historico['La Liga']"
   ]
  },
  {
   "cell_type": "markdown",
   "id": "7d7e023b",
   "metadata": {},
   "source": [
    "## <font color='grey'>[TRANSFORM] Reajustar DFs</font>"
   ]
  },
  {
   "cell_type": "markdown",
   "id": "36f7211d",
   "metadata": {},
   "source": [
    "VAMOS A COMPARAR LAS LIGAS DE 1ª DIVISIÓN DE CADA PAIS PARA PODER EXPLORAR LOS DATOS\n",
    "PARA ELLO EXTRAEMOS LAS TABLAS DEL DICCIONARIO Y ASIGNAMOS NOMBRE DE AL DF"
   ]
  },
  {
   "cell_type": "code",
   "execution_count": 9,
   "id": "37e952fd",
   "metadata": {},
   "outputs": [
    {
     "data": {
      "text/html": [
       "<div>\n",
       "<style scoped>\n",
       "    .dataframe tbody tr th:only-of-type {\n",
       "        vertical-align: middle;\n",
       "    }\n",
       "\n",
       "    .dataframe tbody tr th {\n",
       "        vertical-align: top;\n",
       "    }\n",
       "\n",
       "    .dataframe thead th {\n",
       "        text-align: right;\n",
       "    }\n",
       "</style>\n",
       "<table border=\"1\" class=\"dataframe\">\n",
       "  <thead>\n",
       "    <tr style=\"text-align: right;\">\n",
       "      <th></th>\n",
       "      <th>Div</th>\n",
       "      <th>temporada</th>\n",
       "      <th>Date</th>\n",
       "      <th>Time</th>\n",
       "      <th>HomeTeam</th>\n",
       "      <th>AwayTeam</th>\n",
       "      <th>FTHG</th>\n",
       "      <th>FTAG</th>\n",
       "      <th>FTR</th>\n",
       "      <th>HTHG</th>\n",
       "      <th>...</th>\n",
       "      <th>AHCh</th>\n",
       "      <th>B365CAHH</th>\n",
       "      <th>B365CAHA</th>\n",
       "      <th>PCAHH</th>\n",
       "      <th>PCAHA</th>\n",
       "      <th>MaxCAHH</th>\n",
       "      <th>MaxCAHA</th>\n",
       "      <th>AvgCAHH</th>\n",
       "      <th>AvgCAHA</th>\n",
       "      <th>Referee</th>\n",
       "    </tr>\n",
       "  </thead>\n",
       "  <tbody>\n",
       "    <tr>\n",
       "      <th>0</th>\n",
       "      <td>D1</td>\n",
       "      <td>19</td>\n",
       "      <td>16/08/2019</td>\n",
       "      <td>19:30</td>\n",
       "      <td>Bayern Munich</td>\n",
       "      <td>Hertha</td>\n",
       "      <td>2</td>\n",
       "      <td>2</td>\n",
       "      <td>D</td>\n",
       "      <td>1</td>\n",
       "      <td>...</td>\n",
       "      <td>-2.25</td>\n",
       "      <td>2.03</td>\n",
       "      <td>1.90</td>\n",
       "      <td>1.99</td>\n",
       "      <td>1.93</td>\n",
       "      <td>2.04</td>\n",
       "      <td>1.93</td>\n",
       "      <td>1.98</td>\n",
       "      <td>1.91</td>\n",
       "      <td>NaN</td>\n",
       "    </tr>\n",
       "    <tr>\n",
       "      <th>1</th>\n",
       "      <td>D1</td>\n",
       "      <td>19</td>\n",
       "      <td>17/08/2019</td>\n",
       "      <td>14:30</td>\n",
       "      <td>Dortmund</td>\n",
       "      <td>Augsburg</td>\n",
       "      <td>5</td>\n",
       "      <td>1</td>\n",
       "      <td>H</td>\n",
       "      <td>1</td>\n",
       "      <td>...</td>\n",
       "      <td>-2.25</td>\n",
       "      <td>1.92</td>\n",
       "      <td>2.01</td>\n",
       "      <td>1.92</td>\n",
       "      <td>2.00</td>\n",
       "      <td>1.98</td>\n",
       "      <td>2.04</td>\n",
       "      <td>1.91</td>\n",
       "      <td>1.97</td>\n",
       "      <td>NaN</td>\n",
       "    </tr>\n",
       "    <tr>\n",
       "      <th>2</th>\n",
       "      <td>D1</td>\n",
       "      <td>19</td>\n",
       "      <td>17/08/2019</td>\n",
       "      <td>14:30</td>\n",
       "      <td>Freiburg</td>\n",
       "      <td>Mainz</td>\n",
       "      <td>3</td>\n",
       "      <td>0</td>\n",
       "      <td>H</td>\n",
       "      <td>0</td>\n",
       "      <td>...</td>\n",
       "      <td>0.00</td>\n",
       "      <td>1.92</td>\n",
       "      <td>2.01</td>\n",
       "      <td>1.94</td>\n",
       "      <td>1.97</td>\n",
       "      <td>1.97</td>\n",
       "      <td>2.06</td>\n",
       "      <td>1.90</td>\n",
       "      <td>1.99</td>\n",
       "      <td>NaN</td>\n",
       "    </tr>\n",
       "    <tr>\n",
       "      <th>3</th>\n",
       "      <td>D1</td>\n",
       "      <td>19</td>\n",
       "      <td>17/08/2019</td>\n",
       "      <td>14:30</td>\n",
       "      <td>Leverkusen</td>\n",
       "      <td>Paderborn</td>\n",
       "      <td>3</td>\n",
       "      <td>2</td>\n",
       "      <td>H</td>\n",
       "      <td>2</td>\n",
       "      <td>...</td>\n",
       "      <td>-2.00</td>\n",
       "      <td>2.07</td>\n",
       "      <td>1.86</td>\n",
       "      <td>2.05</td>\n",
       "      <td>1.86</td>\n",
       "      <td>2.15</td>\n",
       "      <td>1.91</td>\n",
       "      <td>2.03</td>\n",
       "      <td>1.85</td>\n",
       "      <td>NaN</td>\n",
       "    </tr>\n",
       "    <tr>\n",
       "      <th>4</th>\n",
       "      <td>D1</td>\n",
       "      <td>19</td>\n",
       "      <td>17/08/2019</td>\n",
       "      <td>14:30</td>\n",
       "      <td>Werder Bremen</td>\n",
       "      <td>Fortuna Dusseldorf</td>\n",
       "      <td>1</td>\n",
       "      <td>3</td>\n",
       "      <td>A</td>\n",
       "      <td>0</td>\n",
       "      <td>...</td>\n",
       "      <td>-0.75</td>\n",
       "      <td>1.92</td>\n",
       "      <td>2.01</td>\n",
       "      <td>1.92</td>\n",
       "      <td>2.00</td>\n",
       "      <td>1.95</td>\n",
       "      <td>2.11</td>\n",
       "      <td>1.89</td>\n",
       "      <td>2.00</td>\n",
       "      <td>NaN</td>\n",
       "    </tr>\n",
       "    <tr>\n",
       "      <th>...</th>\n",
       "      <td>...</td>\n",
       "      <td>...</td>\n",
       "      <td>...</td>\n",
       "      <td>...</td>\n",
       "      <td>...</td>\n",
       "      <td>...</td>\n",
       "      <td>...</td>\n",
       "      <td>...</td>\n",
       "      <td>...</td>\n",
       "      <td>...</td>\n",
       "      <td>...</td>\n",
       "      <td>...</td>\n",
       "      <td>...</td>\n",
       "      <td>...</td>\n",
       "      <td>...</td>\n",
       "      <td>...</td>\n",
       "      <td>...</td>\n",
       "      <td>...</td>\n",
       "      <td>...</td>\n",
       "      <td>...</td>\n",
       "      <td>...</td>\n",
       "    </tr>\n",
       "    <tr>\n",
       "      <th>375</th>\n",
       "      <td>SP1</td>\n",
       "      <td>21</td>\n",
       "      <td>22/05/2022</td>\n",
       "      <td>19:00</td>\n",
       "      <td>Granada</td>\n",
       "      <td>Espanol</td>\n",
       "      <td>0</td>\n",
       "      <td>0</td>\n",
       "      <td>D</td>\n",
       "      <td>0</td>\n",
       "      <td>...</td>\n",
       "      <td>-1.25</td>\n",
       "      <td>2.02</td>\n",
       "      <td>1.88</td>\n",
       "      <td>2.03</td>\n",
       "      <td>1.90</td>\n",
       "      <td>2.06</td>\n",
       "      <td>2.05</td>\n",
       "      <td>1.97</td>\n",
       "      <td>1.90</td>\n",
       "      <td>NaN</td>\n",
       "    </tr>\n",
       "    <tr>\n",
       "      <th>376</th>\n",
       "      <td>SP1</td>\n",
       "      <td>21</td>\n",
       "      <td>22/05/2022</td>\n",
       "      <td>19:00</td>\n",
       "      <td>Osasuna</td>\n",
       "      <td>Mallorca</td>\n",
       "      <td>0</td>\n",
       "      <td>2</td>\n",
       "      <td>A</td>\n",
       "      <td>0</td>\n",
       "      <td>...</td>\n",
       "      <td>0.25</td>\n",
       "      <td>1.68</td>\n",
       "      <td>2.15</td>\n",
       "      <td>1.74</td>\n",
       "      <td>2.23</td>\n",
       "      <td>1.86</td>\n",
       "      <td>2.29</td>\n",
       "      <td>1.77</td>\n",
       "      <td>2.11</td>\n",
       "      <td>NaN</td>\n",
       "    </tr>\n",
       "    <tr>\n",
       "      <th>377</th>\n",
       "      <td>SP1</td>\n",
       "      <td>21</td>\n",
       "      <td>22/05/2022</td>\n",
       "      <td>21:00</td>\n",
       "      <td>Barcelona</td>\n",
       "      <td>Villarreal</td>\n",
       "      <td>0</td>\n",
       "      <td>2</td>\n",
       "      <td>A</td>\n",
       "      <td>0</td>\n",
       "      <td>...</td>\n",
       "      <td>-0.50</td>\n",
       "      <td>2.07</td>\n",
       "      <td>1.83</td>\n",
       "      <td>2.08</td>\n",
       "      <td>1.85</td>\n",
       "      <td>2.09</td>\n",
       "      <td>2.00</td>\n",
       "      <td>1.97</td>\n",
       "      <td>1.91</td>\n",
       "      <td>NaN</td>\n",
       "    </tr>\n",
       "    <tr>\n",
       "      <th>378</th>\n",
       "      <td>SP1</td>\n",
       "      <td>21</td>\n",
       "      <td>22/05/2022</td>\n",
       "      <td>21:00</td>\n",
       "      <td>Sevilla</td>\n",
       "      <td>Ath Bilbao</td>\n",
       "      <td>1</td>\n",
       "      <td>0</td>\n",
       "      <td>H</td>\n",
       "      <td>0</td>\n",
       "      <td>...</td>\n",
       "      <td>0.00</td>\n",
       "      <td>2.01</td>\n",
       "      <td>1.89</td>\n",
       "      <td>2.02</td>\n",
       "      <td>1.90</td>\n",
       "      <td>2.07</td>\n",
       "      <td>2.06</td>\n",
       "      <td>2.00</td>\n",
       "      <td>1.88</td>\n",
       "      <td>NaN</td>\n",
       "    </tr>\n",
       "    <tr>\n",
       "      <th>379</th>\n",
       "      <td>SP1</td>\n",
       "      <td>21</td>\n",
       "      <td>22/05/2022</td>\n",
       "      <td>21:00</td>\n",
       "      <td>Sociedad</td>\n",
       "      <td>Ath Madrid</td>\n",
       "      <td>1</td>\n",
       "      <td>2</td>\n",
       "      <td>A</td>\n",
       "      <td>0</td>\n",
       "      <td>...</td>\n",
       "      <td>0.00</td>\n",
       "      <td>1.91</td>\n",
       "      <td>1.99</td>\n",
       "      <td>1.89</td>\n",
       "      <td>2.01</td>\n",
       "      <td>1.95</td>\n",
       "      <td>2.04</td>\n",
       "      <td>1.90</td>\n",
       "      <td>1.98</td>\n",
       "      <td>NaN</td>\n",
       "    </tr>\n",
       "  </tbody>\n",
       "</table>\n",
       "<p>3198 rows × 107 columns</p>\n",
       "</div>"
      ],
      "text/plain": [
       "     Div  temporada        Date   Time       HomeTeam            AwayTeam  \\\n",
       "0     D1         19  16/08/2019  19:30  Bayern Munich              Hertha   \n",
       "1     D1         19  17/08/2019  14:30       Dortmund            Augsburg   \n",
       "2     D1         19  17/08/2019  14:30       Freiburg               Mainz   \n",
       "3     D1         19  17/08/2019  14:30     Leverkusen           Paderborn   \n",
       "4     D1         19  17/08/2019  14:30  Werder Bremen  Fortuna Dusseldorf   \n",
       "..   ...        ...         ...    ...            ...                 ...   \n",
       "375  SP1         21  22/05/2022  19:00        Granada             Espanol   \n",
       "376  SP1         21  22/05/2022  19:00        Osasuna            Mallorca   \n",
       "377  SP1         21  22/05/2022  21:00      Barcelona          Villarreal   \n",
       "378  SP1         21  22/05/2022  21:00        Sevilla          Ath Bilbao   \n",
       "379  SP1         21  22/05/2022  21:00       Sociedad          Ath Madrid   \n",
       "\n",
       "     FTHG  FTAG FTR  HTHG  ...  AHCh B365CAHH  B365CAHA  PCAHH  PCAHA  \\\n",
       "0       2     2   D     1  ... -2.25     2.03      1.90   1.99   1.93   \n",
       "1       5     1   H     1  ... -2.25     1.92      2.01   1.92   2.00   \n",
       "2       3     0   H     0  ...  0.00     1.92      2.01   1.94   1.97   \n",
       "3       3     2   H     2  ... -2.00     2.07      1.86   2.05   1.86   \n",
       "4       1     3   A     0  ... -0.75     1.92      2.01   1.92   2.00   \n",
       "..    ...   ...  ..   ...  ...   ...      ...       ...    ...    ...   \n",
       "375     0     0   D     0  ... -1.25     2.02      1.88   2.03   1.90   \n",
       "376     0     2   A     0  ...  0.25     1.68      2.15   1.74   2.23   \n",
       "377     0     2   A     0  ... -0.50     2.07      1.83   2.08   1.85   \n",
       "378     1     0   H     0  ...  0.00     2.01      1.89   2.02   1.90   \n",
       "379     1     2   A     0  ...  0.00     1.91      1.99   1.89   2.01   \n",
       "\n",
       "     MaxCAHH  MaxCAHA  AvgCAHH  AvgCAHA  Referee  \n",
       "0       2.04     1.93     1.98     1.91      NaN  \n",
       "1       1.98     2.04     1.91     1.97      NaN  \n",
       "2       1.97     2.06     1.90     1.99      NaN  \n",
       "3       2.15     1.91     2.03     1.85      NaN  \n",
       "4       1.95     2.11     1.89     2.00      NaN  \n",
       "..       ...      ...      ...      ...      ...  \n",
       "375     2.06     2.05     1.97     1.90      NaN  \n",
       "376     1.86     2.29     1.77     2.11      NaN  \n",
       "377     2.09     2.00     1.97     1.91      NaN  \n",
       "378     2.07     2.06     2.00     1.88      NaN  \n",
       "379     1.95     2.04     1.90     1.98      NaN  \n",
       "\n",
       "[3198 rows x 107 columns]"
      ]
     },
     "execution_count": 9,
     "metadata": {},
     "output_type": "execute_result"
    }
   ],
   "source": [
    "# definimos los dataframes a explorar\n",
    "df_ES = dic_historico['La Liga']\n",
    "df_EN = dic_historico['Premier League']\n",
    "df_DE = dic_historico['Bundesliga']\n",
    "\n",
    "# los unimos en un solo dataframe general\n",
    "\n",
    "df_main = pd.concat([df_DE, df_EN, df_ES])\n",
    "\n",
    "df_main"
   ]
  },
  {
   "cell_type": "code",
   "execution_count": 10,
   "id": "e59ff825",
   "metadata": {},
   "outputs": [
    {
     "name": "stdout",
     "output_type": "stream",
     "text": [
      "Index(['Div', 'temporada', 'Date', 'Time', 'HomeTeam', 'AwayTeam', 'FTHG',\n",
      "       'FTAG', 'FTR', 'HTHG',\n",
      "       ...\n",
      "       'AHCh', 'B365CAHH', 'B365CAHA', 'PCAHH', 'PCAHA', 'MaxCAHH', 'MaxCAHA',\n",
      "       'AvgCAHH', 'AvgCAHA', 'Referee'],\n",
      "      dtype='object', length=107)\n",
      "\n",
      "\n",
      "['D1' 'E0' 'SP1']\n"
     ]
    }
   ],
   "source": [
    "print(df_main.columns)\n",
    "print('\\n')\n",
    "print(df_main['Div'].unique())\n"
   ]
  },
  {
   "cell_type": "code",
   "execution_count": 11,
   "id": "bfe4b1f9",
   "metadata": {
    "scrolled": false
   },
   "outputs": [
    {
     "data": {
      "text/plain": [
       "Div           object\n",
       "temporada      int64\n",
       "Date          object\n",
       "Time          object\n",
       "HomeTeam      object\n",
       "              ...   \n",
       "MaxCAHH      float64\n",
       "MaxCAHA      float64\n",
       "AvgCAHH      float64\n",
       "AvgCAHA      float64\n",
       "Referee       object\n",
       "Length: 107, dtype: object"
      ]
     },
     "execution_count": 11,
     "metadata": {},
     "output_type": "execute_result"
    }
   ],
   "source": [
    "df_main.dtypes"
   ]
  },
  {
   "cell_type": "code",
   "execution_count": 12,
   "id": "8f73a941",
   "metadata": {
    "scrolled": false
   },
   "outputs": [
    {
     "data": {
      "text/plain": [
       "Referee    2058\n",
       "IWCH         16\n",
       "IWCD         16\n",
       "IWCA         16\n",
       "P<2.5        14\n",
       "           ... \n",
       "IWH           0\n",
       "BWA           0\n",
       "BWD           0\n",
       "BWH           0\n",
       "Max<2.5       0\n",
       "Length: 107, dtype: int64"
      ]
     },
     "execution_count": 12,
     "metadata": {},
     "output_type": "execute_result"
    }
   ],
   "source": [
    "df_main.isnull().sum().sort_values(ascending=False)"
   ]
  },
  {
   "cell_type": "code",
   "execution_count": 13,
   "id": "8337d192",
   "metadata": {},
   "outputs": [
    {
     "data": {
      "text/html": [
       "<div>\n",
       "<style scoped>\n",
       "    .dataframe tbody tr th:only-of-type {\n",
       "        vertical-align: middle;\n",
       "    }\n",
       "\n",
       "    .dataframe tbody tr th {\n",
       "        vertical-align: top;\n",
       "    }\n",
       "\n",
       "    .dataframe thead th {\n",
       "        text-align: right;\n",
       "    }\n",
       "</style>\n",
       "<table border=\"1\" class=\"dataframe\">\n",
       "  <thead>\n",
       "    <tr style=\"text-align: right;\">\n",
       "      <th></th>\n",
       "      <th>Div</th>\n",
       "      <th>temporada</th>\n",
       "      <th>Date</th>\n",
       "      <th>Time</th>\n",
       "      <th>HomeTeam</th>\n",
       "      <th>AwayTeam</th>\n",
       "      <th>FTHG</th>\n",
       "      <th>FTAG</th>\n",
       "      <th>FTR</th>\n",
       "      <th>HTHG</th>\n",
       "      <th>...</th>\n",
       "      <th>AHCh</th>\n",
       "      <th>B365CAHH</th>\n",
       "      <th>B365CAHA</th>\n",
       "      <th>PCAHH</th>\n",
       "      <th>PCAHA</th>\n",
       "      <th>MaxCAHH</th>\n",
       "      <th>MaxCAHA</th>\n",
       "      <th>AvgCAHH</th>\n",
       "      <th>AvgCAHA</th>\n",
       "      <th>Referee</th>\n",
       "    </tr>\n",
       "  </thead>\n",
       "  <tbody>\n",
       "    <tr>\n",
       "      <th>0</th>\n",
       "      <td>D1</td>\n",
       "      <td>19</td>\n",
       "      <td>16/08/2019</td>\n",
       "      <td>19:30</td>\n",
       "      <td>Bayern Munich</td>\n",
       "      <td>Hertha</td>\n",
       "      <td>2</td>\n",
       "      <td>2</td>\n",
       "      <td>D</td>\n",
       "      <td>1</td>\n",
       "      <td>...</td>\n",
       "      <td>-2.25</td>\n",
       "      <td>2.03</td>\n",
       "      <td>1.90</td>\n",
       "      <td>1.99</td>\n",
       "      <td>1.93</td>\n",
       "      <td>2.04</td>\n",
       "      <td>1.93</td>\n",
       "      <td>1.98</td>\n",
       "      <td>1.91</td>\n",
       "      <td>NaN</td>\n",
       "    </tr>\n",
       "    <tr>\n",
       "      <th>1</th>\n",
       "      <td>D1</td>\n",
       "      <td>19</td>\n",
       "      <td>17/08/2019</td>\n",
       "      <td>14:30</td>\n",
       "      <td>Dortmund</td>\n",
       "      <td>Augsburg</td>\n",
       "      <td>5</td>\n",
       "      <td>1</td>\n",
       "      <td>H</td>\n",
       "      <td>1</td>\n",
       "      <td>...</td>\n",
       "      <td>-2.25</td>\n",
       "      <td>1.92</td>\n",
       "      <td>2.01</td>\n",
       "      <td>1.92</td>\n",
       "      <td>2.00</td>\n",
       "      <td>1.98</td>\n",
       "      <td>2.04</td>\n",
       "      <td>1.91</td>\n",
       "      <td>1.97</td>\n",
       "      <td>NaN</td>\n",
       "    </tr>\n",
       "    <tr>\n",
       "      <th>2</th>\n",
       "      <td>D1</td>\n",
       "      <td>19</td>\n",
       "      <td>17/08/2019</td>\n",
       "      <td>14:30</td>\n",
       "      <td>Freiburg</td>\n",
       "      <td>Mainz</td>\n",
       "      <td>3</td>\n",
       "      <td>0</td>\n",
       "      <td>H</td>\n",
       "      <td>0</td>\n",
       "      <td>...</td>\n",
       "      <td>0.00</td>\n",
       "      <td>1.92</td>\n",
       "      <td>2.01</td>\n",
       "      <td>1.94</td>\n",
       "      <td>1.97</td>\n",
       "      <td>1.97</td>\n",
       "      <td>2.06</td>\n",
       "      <td>1.90</td>\n",
       "      <td>1.99</td>\n",
       "      <td>NaN</td>\n",
       "    </tr>\n",
       "    <tr>\n",
       "      <th>3</th>\n",
       "      <td>D1</td>\n",
       "      <td>19</td>\n",
       "      <td>17/08/2019</td>\n",
       "      <td>14:30</td>\n",
       "      <td>Leverkusen</td>\n",
       "      <td>Paderborn</td>\n",
       "      <td>3</td>\n",
       "      <td>2</td>\n",
       "      <td>H</td>\n",
       "      <td>2</td>\n",
       "      <td>...</td>\n",
       "      <td>-2.00</td>\n",
       "      <td>2.07</td>\n",
       "      <td>1.86</td>\n",
       "      <td>2.05</td>\n",
       "      <td>1.86</td>\n",
       "      <td>2.15</td>\n",
       "      <td>1.91</td>\n",
       "      <td>2.03</td>\n",
       "      <td>1.85</td>\n",
       "      <td>NaN</td>\n",
       "    </tr>\n",
       "    <tr>\n",
       "      <th>4</th>\n",
       "      <td>D1</td>\n",
       "      <td>19</td>\n",
       "      <td>17/08/2019</td>\n",
       "      <td>14:30</td>\n",
       "      <td>Werder Bremen</td>\n",
       "      <td>Fortuna Dusseldorf</td>\n",
       "      <td>1</td>\n",
       "      <td>3</td>\n",
       "      <td>A</td>\n",
       "      <td>0</td>\n",
       "      <td>...</td>\n",
       "      <td>-0.75</td>\n",
       "      <td>1.92</td>\n",
       "      <td>2.01</td>\n",
       "      <td>1.92</td>\n",
       "      <td>2.00</td>\n",
       "      <td>1.95</td>\n",
       "      <td>2.11</td>\n",
       "      <td>1.89</td>\n",
       "      <td>2.00</td>\n",
       "      <td>NaN</td>\n",
       "    </tr>\n",
       "    <tr>\n",
       "      <th>...</th>\n",
       "      <td>...</td>\n",
       "      <td>...</td>\n",
       "      <td>...</td>\n",
       "      <td>...</td>\n",
       "      <td>...</td>\n",
       "      <td>...</td>\n",
       "      <td>...</td>\n",
       "      <td>...</td>\n",
       "      <td>...</td>\n",
       "      <td>...</td>\n",
       "      <td>...</td>\n",
       "      <td>...</td>\n",
       "      <td>...</td>\n",
       "      <td>...</td>\n",
       "      <td>...</td>\n",
       "      <td>...</td>\n",
       "      <td>...</td>\n",
       "      <td>...</td>\n",
       "      <td>...</td>\n",
       "      <td>...</td>\n",
       "      <td>...</td>\n",
       "    </tr>\n",
       "    <tr>\n",
       "      <th>375</th>\n",
       "      <td>SP1</td>\n",
       "      <td>21</td>\n",
       "      <td>22/05/2022</td>\n",
       "      <td>19:00</td>\n",
       "      <td>Granada</td>\n",
       "      <td>Espanol</td>\n",
       "      <td>0</td>\n",
       "      <td>0</td>\n",
       "      <td>D</td>\n",
       "      <td>0</td>\n",
       "      <td>...</td>\n",
       "      <td>-1.25</td>\n",
       "      <td>2.02</td>\n",
       "      <td>1.88</td>\n",
       "      <td>2.03</td>\n",
       "      <td>1.90</td>\n",
       "      <td>2.06</td>\n",
       "      <td>2.05</td>\n",
       "      <td>1.97</td>\n",
       "      <td>1.90</td>\n",
       "      <td>NaN</td>\n",
       "    </tr>\n",
       "    <tr>\n",
       "      <th>376</th>\n",
       "      <td>SP1</td>\n",
       "      <td>21</td>\n",
       "      <td>22/05/2022</td>\n",
       "      <td>19:00</td>\n",
       "      <td>Osasuna</td>\n",
       "      <td>Mallorca</td>\n",
       "      <td>0</td>\n",
       "      <td>2</td>\n",
       "      <td>A</td>\n",
       "      <td>0</td>\n",
       "      <td>...</td>\n",
       "      <td>0.25</td>\n",
       "      <td>1.68</td>\n",
       "      <td>2.15</td>\n",
       "      <td>1.74</td>\n",
       "      <td>2.23</td>\n",
       "      <td>1.86</td>\n",
       "      <td>2.29</td>\n",
       "      <td>1.77</td>\n",
       "      <td>2.11</td>\n",
       "      <td>NaN</td>\n",
       "    </tr>\n",
       "    <tr>\n",
       "      <th>377</th>\n",
       "      <td>SP1</td>\n",
       "      <td>21</td>\n",
       "      <td>22/05/2022</td>\n",
       "      <td>21:00</td>\n",
       "      <td>Barcelona</td>\n",
       "      <td>Villarreal</td>\n",
       "      <td>0</td>\n",
       "      <td>2</td>\n",
       "      <td>A</td>\n",
       "      <td>0</td>\n",
       "      <td>...</td>\n",
       "      <td>-0.50</td>\n",
       "      <td>2.07</td>\n",
       "      <td>1.83</td>\n",
       "      <td>2.08</td>\n",
       "      <td>1.85</td>\n",
       "      <td>2.09</td>\n",
       "      <td>2.00</td>\n",
       "      <td>1.97</td>\n",
       "      <td>1.91</td>\n",
       "      <td>NaN</td>\n",
       "    </tr>\n",
       "    <tr>\n",
       "      <th>378</th>\n",
       "      <td>SP1</td>\n",
       "      <td>21</td>\n",
       "      <td>22/05/2022</td>\n",
       "      <td>21:00</td>\n",
       "      <td>Sevilla</td>\n",
       "      <td>Ath Bilbao</td>\n",
       "      <td>1</td>\n",
       "      <td>0</td>\n",
       "      <td>H</td>\n",
       "      <td>0</td>\n",
       "      <td>...</td>\n",
       "      <td>0.00</td>\n",
       "      <td>2.01</td>\n",
       "      <td>1.89</td>\n",
       "      <td>2.02</td>\n",
       "      <td>1.90</td>\n",
       "      <td>2.07</td>\n",
       "      <td>2.06</td>\n",
       "      <td>2.00</td>\n",
       "      <td>1.88</td>\n",
       "      <td>NaN</td>\n",
       "    </tr>\n",
       "    <tr>\n",
       "      <th>379</th>\n",
       "      <td>SP1</td>\n",
       "      <td>21</td>\n",
       "      <td>22/05/2022</td>\n",
       "      <td>21:00</td>\n",
       "      <td>Sociedad</td>\n",
       "      <td>Ath Madrid</td>\n",
       "      <td>1</td>\n",
       "      <td>2</td>\n",
       "      <td>A</td>\n",
       "      <td>0</td>\n",
       "      <td>...</td>\n",
       "      <td>0.00</td>\n",
       "      <td>1.91</td>\n",
       "      <td>1.99</td>\n",
       "      <td>1.89</td>\n",
       "      <td>2.01</td>\n",
       "      <td>1.95</td>\n",
       "      <td>2.04</td>\n",
       "      <td>1.90</td>\n",
       "      <td>1.98</td>\n",
       "      <td>NaN</td>\n",
       "    </tr>\n",
       "  </tbody>\n",
       "</table>\n",
       "<p>3198 rows × 107 columns</p>\n",
       "</div>"
      ],
      "text/plain": [
       "     Div  temporada        Date   Time       HomeTeam            AwayTeam  \\\n",
       "0     D1         19  16/08/2019  19:30  Bayern Munich              Hertha   \n",
       "1     D1         19  17/08/2019  14:30       Dortmund            Augsburg   \n",
       "2     D1         19  17/08/2019  14:30       Freiburg               Mainz   \n",
       "3     D1         19  17/08/2019  14:30     Leverkusen           Paderborn   \n",
       "4     D1         19  17/08/2019  14:30  Werder Bremen  Fortuna Dusseldorf   \n",
       "..   ...        ...         ...    ...            ...                 ...   \n",
       "375  SP1         21  22/05/2022  19:00        Granada             Espanol   \n",
       "376  SP1         21  22/05/2022  19:00        Osasuna            Mallorca   \n",
       "377  SP1         21  22/05/2022  21:00      Barcelona          Villarreal   \n",
       "378  SP1         21  22/05/2022  21:00        Sevilla          Ath Bilbao   \n",
       "379  SP1         21  22/05/2022  21:00       Sociedad          Ath Madrid   \n",
       "\n",
       "     FTHG  FTAG FTR  HTHG  ...  AHCh B365CAHH  B365CAHA  PCAHH  PCAHA  \\\n",
       "0       2     2   D     1  ... -2.25     2.03      1.90   1.99   1.93   \n",
       "1       5     1   H     1  ... -2.25     1.92      2.01   1.92   2.00   \n",
       "2       3     0   H     0  ...  0.00     1.92      2.01   1.94   1.97   \n",
       "3       3     2   H     2  ... -2.00     2.07      1.86   2.05   1.86   \n",
       "4       1     3   A     0  ... -0.75     1.92      2.01   1.92   2.00   \n",
       "..    ...   ...  ..   ...  ...   ...      ...       ...    ...    ...   \n",
       "375     0     0   D     0  ... -1.25     2.02      1.88   2.03   1.90   \n",
       "376     0     2   A     0  ...  0.25     1.68      2.15   1.74   2.23   \n",
       "377     0     2   A     0  ... -0.50     2.07      1.83   2.08   1.85   \n",
       "378     1     0   H     0  ...  0.00     2.01      1.89   2.02   1.90   \n",
       "379     1     2   A     0  ...  0.00     1.91      1.99   1.89   2.01   \n",
       "\n",
       "     MaxCAHH  MaxCAHA  AvgCAHH  AvgCAHA  Referee  \n",
       "0       2.04     1.93     1.98     1.91      NaN  \n",
       "1       1.98     2.04     1.91     1.97      NaN  \n",
       "2       1.97     2.06     1.90     1.99      NaN  \n",
       "3       2.15     1.91     2.03     1.85      NaN  \n",
       "4       1.95     2.11     1.89     2.00      NaN  \n",
       "..       ...      ...      ...      ...      ...  \n",
       "375     2.06     2.05     1.97     1.90      NaN  \n",
       "376     1.86     2.29     1.77     2.11      NaN  \n",
       "377     2.09     2.00     1.97     1.91      NaN  \n",
       "378     2.07     2.06     2.00     1.88      NaN  \n",
       "379     1.95     2.04     1.90     1.98      NaN  \n",
       "\n",
       "[3198 rows x 107 columns]"
      ]
     },
     "execution_count": 13,
     "metadata": {},
     "output_type": "execute_result"
    }
   ],
   "source": [
    "df_main"
   ]
  },
  {
   "cell_type": "code",
   "execution_count": null,
   "id": "8429fc6f",
   "metadata": {},
   "outputs": [],
   "source": []
  },
  {
   "cell_type": "code",
   "execution_count": 14,
   "id": "a79b79d7",
   "metadata": {
    "run_control": {
     "marked": true
    }
   },
   "outputs": [
    {
     "data": {
      "text/html": [
       "<div>\n",
       "<style scoped>\n",
       "    .dataframe tbody tr th:only-of-type {\n",
       "        vertical-align: middle;\n",
       "    }\n",
       "\n",
       "    .dataframe tbody tr th {\n",
       "        vertical-align: top;\n",
       "    }\n",
       "\n",
       "    .dataframe thead th {\n",
       "        text-align: right;\n",
       "    }\n",
       "</style>\n",
       "<table border=\"1\" class=\"dataframe\">\n",
       "  <thead>\n",
       "    <tr style=\"text-align: right;\">\n",
       "      <th></th>\n",
       "      <th>Div</th>\n",
       "      <th>Temporada</th>\n",
       "      <th>Timestamp</th>\n",
       "      <th>Fecha</th>\n",
       "      <th>Hora</th>\n",
       "      <th>Local</th>\n",
       "      <th>Visitante</th>\n",
       "      <th>goles_local</th>\n",
       "      <th>goles_visitante</th>\n",
       "      <th>Amarillas_local</th>\n",
       "      <th>Amarillas_Visitante</th>\n",
       "      <th>Rojas_Local</th>\n",
       "      <th>Rojas_Visitante</th>\n",
       "    </tr>\n",
       "  </thead>\n",
       "  <tbody>\n",
       "    <tr>\n",
       "      <th>0</th>\n",
       "      <td>D1</td>\n",
       "      <td>19</td>\n",
       "      <td>16/08/2019 19:30</td>\n",
       "      <td>16/08/2019</td>\n",
       "      <td>19:30</td>\n",
       "      <td>Bayern Munich</td>\n",
       "      <td>Hertha</td>\n",
       "      <td>2</td>\n",
       "      <td>2</td>\n",
       "      <td>3</td>\n",
       "      <td>3</td>\n",
       "      <td>0</td>\n",
       "      <td>0</td>\n",
       "    </tr>\n",
       "    <tr>\n",
       "      <th>1</th>\n",
       "      <td>D1</td>\n",
       "      <td>19</td>\n",
       "      <td>17/08/2019 14:30</td>\n",
       "      <td>17/08/2019</td>\n",
       "      <td>14:30</td>\n",
       "      <td>Dortmund</td>\n",
       "      <td>Augsburg</td>\n",
       "      <td>5</td>\n",
       "      <td>1</td>\n",
       "      <td>0</td>\n",
       "      <td>0</td>\n",
       "      <td>0</td>\n",
       "      <td>0</td>\n",
       "    </tr>\n",
       "    <tr>\n",
       "      <th>2</th>\n",
       "      <td>D1</td>\n",
       "      <td>19</td>\n",
       "      <td>17/08/2019 14:30</td>\n",
       "      <td>17/08/2019</td>\n",
       "      <td>14:30</td>\n",
       "      <td>Freiburg</td>\n",
       "      <td>Mainz</td>\n",
       "      <td>3</td>\n",
       "      <td>0</td>\n",
       "      <td>1</td>\n",
       "      <td>3</td>\n",
       "      <td>0</td>\n",
       "      <td>0</td>\n",
       "    </tr>\n",
       "    <tr>\n",
       "      <th>3</th>\n",
       "      <td>D1</td>\n",
       "      <td>19</td>\n",
       "      <td>17/08/2019 14:30</td>\n",
       "      <td>17/08/2019</td>\n",
       "      <td>14:30</td>\n",
       "      <td>Leverkusen</td>\n",
       "      <td>Paderborn</td>\n",
       "      <td>3</td>\n",
       "      <td>2</td>\n",
       "      <td>2</td>\n",
       "      <td>0</td>\n",
       "      <td>0</td>\n",
       "      <td>0</td>\n",
       "    </tr>\n",
       "    <tr>\n",
       "      <th>4</th>\n",
       "      <td>D1</td>\n",
       "      <td>19</td>\n",
       "      <td>17/08/2019 14:30</td>\n",
       "      <td>17/08/2019</td>\n",
       "      <td>14:30</td>\n",
       "      <td>Werder Bremen</td>\n",
       "      <td>Fortuna Dusseldorf</td>\n",
       "      <td>1</td>\n",
       "      <td>3</td>\n",
       "      <td>0</td>\n",
       "      <td>2</td>\n",
       "      <td>0</td>\n",
       "      <td>0</td>\n",
       "    </tr>\n",
       "    <tr>\n",
       "      <th>...</th>\n",
       "      <td>...</td>\n",
       "      <td>...</td>\n",
       "      <td>...</td>\n",
       "      <td>...</td>\n",
       "      <td>...</td>\n",
       "      <td>...</td>\n",
       "      <td>...</td>\n",
       "      <td>...</td>\n",
       "      <td>...</td>\n",
       "      <td>...</td>\n",
       "      <td>...</td>\n",
       "      <td>...</td>\n",
       "      <td>...</td>\n",
       "    </tr>\n",
       "    <tr>\n",
       "      <th>375</th>\n",
       "      <td>SP1</td>\n",
       "      <td>21</td>\n",
       "      <td>22/05/2022 19:00</td>\n",
       "      <td>22/05/2022</td>\n",
       "      <td>19:00</td>\n",
       "      <td>Granada</td>\n",
       "      <td>Espanol</td>\n",
       "      <td>0</td>\n",
       "      <td>0</td>\n",
       "      <td>1</td>\n",
       "      <td>0</td>\n",
       "      <td>0</td>\n",
       "      <td>0</td>\n",
       "    </tr>\n",
       "    <tr>\n",
       "      <th>376</th>\n",
       "      <td>SP1</td>\n",
       "      <td>21</td>\n",
       "      <td>22/05/2022 19:00</td>\n",
       "      <td>22/05/2022</td>\n",
       "      <td>19:00</td>\n",
       "      <td>Osasuna</td>\n",
       "      <td>Mallorca</td>\n",
       "      <td>0</td>\n",
       "      <td>2</td>\n",
       "      <td>2</td>\n",
       "      <td>2</td>\n",
       "      <td>0</td>\n",
       "      <td>0</td>\n",
       "    </tr>\n",
       "    <tr>\n",
       "      <th>377</th>\n",
       "      <td>SP1</td>\n",
       "      <td>21</td>\n",
       "      <td>22/05/2022 21:00</td>\n",
       "      <td>22/05/2022</td>\n",
       "      <td>21:00</td>\n",
       "      <td>Barcelona</td>\n",
       "      <td>Villarreal</td>\n",
       "      <td>0</td>\n",
       "      <td>2</td>\n",
       "      <td>3</td>\n",
       "      <td>1</td>\n",
       "      <td>0</td>\n",
       "      <td>0</td>\n",
       "    </tr>\n",
       "    <tr>\n",
       "      <th>378</th>\n",
       "      <td>SP1</td>\n",
       "      <td>21</td>\n",
       "      <td>22/05/2022 21:00</td>\n",
       "      <td>22/05/2022</td>\n",
       "      <td>21:00</td>\n",
       "      <td>Sevilla</td>\n",
       "      <td>Ath Bilbao</td>\n",
       "      <td>1</td>\n",
       "      <td>0</td>\n",
       "      <td>3</td>\n",
       "      <td>3</td>\n",
       "      <td>0</td>\n",
       "      <td>0</td>\n",
       "    </tr>\n",
       "    <tr>\n",
       "      <th>379</th>\n",
       "      <td>SP1</td>\n",
       "      <td>21</td>\n",
       "      <td>22/05/2022 21:00</td>\n",
       "      <td>22/05/2022</td>\n",
       "      <td>21:00</td>\n",
       "      <td>Sociedad</td>\n",
       "      <td>Ath Madrid</td>\n",
       "      <td>1</td>\n",
       "      <td>2</td>\n",
       "      <td>4</td>\n",
       "      <td>2</td>\n",
       "      <td>0</td>\n",
       "      <td>0</td>\n",
       "    </tr>\n",
       "  </tbody>\n",
       "</table>\n",
       "<p>3198 rows × 13 columns</p>\n",
       "</div>"
      ],
      "text/plain": [
       "     Div  Temporada         Timestamp       Fecha   Hora          Local  \\\n",
       "0     D1         19  16/08/2019 19:30  16/08/2019  19:30  Bayern Munich   \n",
       "1     D1         19  17/08/2019 14:30  17/08/2019  14:30       Dortmund   \n",
       "2     D1         19  17/08/2019 14:30  17/08/2019  14:30       Freiburg   \n",
       "3     D1         19  17/08/2019 14:30  17/08/2019  14:30     Leverkusen   \n",
       "4     D1         19  17/08/2019 14:30  17/08/2019  14:30  Werder Bremen   \n",
       "..   ...        ...               ...         ...    ...            ...   \n",
       "375  SP1         21  22/05/2022 19:00  22/05/2022  19:00        Granada   \n",
       "376  SP1         21  22/05/2022 19:00  22/05/2022  19:00        Osasuna   \n",
       "377  SP1         21  22/05/2022 21:00  22/05/2022  21:00      Barcelona   \n",
       "378  SP1         21  22/05/2022 21:00  22/05/2022  21:00        Sevilla   \n",
       "379  SP1         21  22/05/2022 21:00  22/05/2022  21:00       Sociedad   \n",
       "\n",
       "              Visitante  goles_local  goles_visitante  Amarillas_local  \\\n",
       "0                Hertha            2                2                3   \n",
       "1              Augsburg            5                1                0   \n",
       "2                 Mainz            3                0                1   \n",
       "3             Paderborn            3                2                2   \n",
       "4    Fortuna Dusseldorf            1                3                0   \n",
       "..                  ...          ...              ...              ...   \n",
       "375             Espanol            0                0                1   \n",
       "376            Mallorca            0                2                2   \n",
       "377          Villarreal            0                2                3   \n",
       "378          Ath Bilbao            1                0                3   \n",
       "379          Ath Madrid            1                2                4   \n",
       "\n",
       "     Amarillas_Visitante  Rojas_Local  Rojas_Visitante  \n",
       "0                      3            0                0  \n",
       "1                      0            0                0  \n",
       "2                      3            0                0  \n",
       "3                      0            0                0  \n",
       "4                      2            0                0  \n",
       "..                   ...          ...              ...  \n",
       "375                    0            0                0  \n",
       "376                    2            0                0  \n",
       "377                    1            0                0  \n",
       "378                    3            0                0  \n",
       "379                    2            0                0  \n",
       "\n",
       "[3198 rows x 13 columns]"
      ]
     },
     "execution_count": 14,
     "metadata": {},
     "output_type": "execute_result"
    }
   ],
   "source": [
    "# Cambiamos nombre de columnas abreviadas por nombres mas intruitivos\n",
    "df_main.rename(columns={'temporada':'Temporada','Date':'Fecha',\n",
    "                                'Time':'Hora','HomeTeam':'Local',\n",
    "                                'AwayTeam':'Visitante','FTHG':'goles_local',\n",
    "                                'FTAG':'goles_visitante',\n",
    "                                'HY':'Amarillas_local','AY':'Amarillas_Visitante',\n",
    "                                'HR':'Rojas_Local','AR':'Rojas_Visitante'}, inplace=True)\n",
    "\n",
    "# seleccionamos solo las columnas que nos interesan\n",
    "df_main = df_main[['Div','Temporada','Fecha','Hora','Local',\n",
    "                   'Visitante','goles_local','goles_visitante',\n",
    "                   'Amarillas_local','Amarillas_Visitante','Rojas_Local',\n",
    "                   'Rojas_Visitante']]\n",
    "\n",
    "df_main.insert(2, 'Timestamp',df_main.Fecha.str.cat(df_main.Hora, sep=' '))\n",
    "#df_main.insert(2, 'Año',df_main.Fecha.str.cat(df_main.Hora, sep=' '))\n",
    "#df['Year'] = df['Joined date'].dt.year \n",
    "#df_main['Timestamp'] = pd.to_datetime(df_main['Timestamp'], format='%d/%y/%m/%s', utc=True).astype()\n",
    "df_main\n",
    "          "
   ]
  },
  {
   "cell_type": "code",
   "execution_count": 15,
   "id": "13d69f6e",
   "metadata": {},
   "outputs": [
    {
     "data": {
      "text/plain": [
       "Div                    object\n",
       "Temporada               int64\n",
       "Timestamp              object\n",
       "Fecha                  object\n",
       "Hora                   object\n",
       "Local                  object\n",
       "Visitante              object\n",
       "goles_local             int64\n",
       "goles_visitante         int64\n",
       "Amarillas_local         int64\n",
       "Amarillas_Visitante     int64\n",
       "Rojas_Local             int64\n",
       "Rojas_Visitante         int64\n",
       "dtype: object"
      ]
     },
     "execution_count": 15,
     "metadata": {},
     "output_type": "execute_result"
    }
   ],
   "source": [
    "df_main.dtypes\n",
    "\n"
   ]
  },
  {
   "cell_type": "code",
   "execution_count": 16,
   "id": "a3d18a69",
   "metadata": {},
   "outputs": [
    {
     "name": "stderr",
     "output_type": "stream",
     "text": [
      "C:\\Users\\jrver\\AppData\\Local\\Temp\\ipykernel_21912\\2476009433.py:2: SettingWithCopyWarning: \n",
      "A value is trying to be set on a copy of a slice from a DataFrame.\n",
      "Try using .loc[row_indexer,col_indexer] = value instead\n",
      "\n",
      "See the caveats in the documentation: https://pandas.pydata.org/pandas-docs/stable/user_guide/indexing.html#returning-a-view-versus-a-copy\n",
      "  df_main['Timestamp'] = pd.DatetimeIndex(df_main['Timestamp'])\n",
      "C:\\Users\\jrver\\AppData\\Local\\Temp\\ipykernel_21912\\2476009433.py:3: UserWarning: Parsing dates in DD/MM/YYYY format when dayfirst=False (the default) was specified. This may lead to inconsistently parsed dates! Specify a format to ensure consistent parsing.\n",
      "  df_main['Fecha'] = pd.DatetimeIndex(df_main['Fecha'])\n",
      "C:\\Users\\jrver\\AppData\\Local\\Temp\\ipykernel_21912\\2476009433.py:3: SettingWithCopyWarning: \n",
      "A value is trying to be set on a copy of a slice from a DataFrame.\n",
      "Try using .loc[row_indexer,col_indexer] = value instead\n",
      "\n",
      "See the caveats in the documentation: https://pandas.pydata.org/pandas-docs/stable/user_guide/indexing.html#returning-a-view-versus-a-copy\n",
      "  df_main['Fecha'] = pd.DatetimeIndex(df_main['Fecha'])\n",
      "C:\\Users\\jrver\\AppData\\Local\\Temp\\ipykernel_21912\\2476009433.py:4: SettingWithCopyWarning: \n",
      "A value is trying to be set on a copy of a slice from a DataFrame.\n",
      "Try using .loc[row_indexer,col_indexer] = value instead\n",
      "\n",
      "See the caveats in the documentation: https://pandas.pydata.org/pandas-docs/stable/user_guide/indexing.html#returning-a-view-versus-a-copy\n",
      "  df_main['Hora'] = pd.DatetimeIndex(df_main['Hora']).time\n"
     ]
    },
    {
     "data": {
      "text/plain": [
       "Div                            object\n",
       "Temporada                       int64\n",
       "Timestamp              datetime64[ns]\n",
       "Fecha                  datetime64[ns]\n",
       "Hora                           object\n",
       "Local                          object\n",
       "Visitante                      object\n",
       "goles_local                     int64\n",
       "goles_visitante                 int64\n",
       "Amarillas_local                 int64\n",
       "Amarillas_Visitante             int64\n",
       "Rojas_Local                     int64\n",
       "Rojas_Visitante                 int64\n",
       "dtype: object"
      ]
     },
     "execution_count": 16,
     "metadata": {},
     "output_type": "execute_result"
    }
   ],
   "source": [
    "from datetime import datetime\n",
    "df_main['Timestamp'] = pd.DatetimeIndex(df_main['Timestamp'])\n",
    "df_main['Fecha'] = pd.DatetimeIndex(df_main['Fecha'])\n",
    "df_main['Hora'] = pd.DatetimeIndex(df_main['Hora']).time\n",
    "\n",
    "df_main.dtypes"
   ]
  },
  {
   "cell_type": "code",
   "execution_count": 17,
   "id": "ea8d80a7",
   "metadata": {},
   "outputs": [
    {
     "data": {
      "text/html": [
       "<div>\n",
       "<style scoped>\n",
       "    .dataframe tbody tr th:only-of-type {\n",
       "        vertical-align: middle;\n",
       "    }\n",
       "\n",
       "    .dataframe tbody tr th {\n",
       "        vertical-align: top;\n",
       "    }\n",
       "\n",
       "    .dataframe thead th {\n",
       "        text-align: right;\n",
       "    }\n",
       "</style>\n",
       "<table border=\"1\" class=\"dataframe\">\n",
       "  <thead>\n",
       "    <tr style=\"text-align: right;\">\n",
       "      <th></th>\n",
       "      <th>Div</th>\n",
       "      <th>Temporada</th>\n",
       "      <th>Timestamp</th>\n",
       "      <th>Fecha</th>\n",
       "      <th>Hora</th>\n",
       "      <th>Local</th>\n",
       "      <th>Visitante</th>\n",
       "      <th>goles_local</th>\n",
       "      <th>goles_visitante</th>\n",
       "      <th>Amarillas_local</th>\n",
       "      <th>Amarillas_Visitante</th>\n",
       "      <th>Rojas_Local</th>\n",
       "      <th>Rojas_Visitante</th>\n",
       "    </tr>\n",
       "  </thead>\n",
       "  <tbody>\n",
       "    <tr>\n",
       "      <th>0</th>\n",
       "      <td>D1</td>\n",
       "      <td>19</td>\n",
       "      <td>2019-08-16 19:30:00</td>\n",
       "      <td>2019-08-16</td>\n",
       "      <td>19:30:00</td>\n",
       "      <td>Bayern Munich</td>\n",
       "      <td>Hertha</td>\n",
       "      <td>2</td>\n",
       "      <td>2</td>\n",
       "      <td>3</td>\n",
       "      <td>3</td>\n",
       "      <td>0</td>\n",
       "      <td>0</td>\n",
       "    </tr>\n",
       "    <tr>\n",
       "      <th>1</th>\n",
       "      <td>D1</td>\n",
       "      <td>19</td>\n",
       "      <td>2019-08-17 14:30:00</td>\n",
       "      <td>2019-08-17</td>\n",
       "      <td>14:30:00</td>\n",
       "      <td>Dortmund</td>\n",
       "      <td>Augsburg</td>\n",
       "      <td>5</td>\n",
       "      <td>1</td>\n",
       "      <td>0</td>\n",
       "      <td>0</td>\n",
       "      <td>0</td>\n",
       "      <td>0</td>\n",
       "    </tr>\n",
       "    <tr>\n",
       "      <th>2</th>\n",
       "      <td>D1</td>\n",
       "      <td>19</td>\n",
       "      <td>2019-08-17 14:30:00</td>\n",
       "      <td>2019-08-17</td>\n",
       "      <td>14:30:00</td>\n",
       "      <td>Freiburg</td>\n",
       "      <td>Mainz</td>\n",
       "      <td>3</td>\n",
       "      <td>0</td>\n",
       "      <td>1</td>\n",
       "      <td>3</td>\n",
       "      <td>0</td>\n",
       "      <td>0</td>\n",
       "    </tr>\n",
       "    <tr>\n",
       "      <th>3</th>\n",
       "      <td>D1</td>\n",
       "      <td>19</td>\n",
       "      <td>2019-08-17 14:30:00</td>\n",
       "      <td>2019-08-17</td>\n",
       "      <td>14:30:00</td>\n",
       "      <td>Leverkusen</td>\n",
       "      <td>Paderborn</td>\n",
       "      <td>3</td>\n",
       "      <td>2</td>\n",
       "      <td>2</td>\n",
       "      <td>0</td>\n",
       "      <td>0</td>\n",
       "      <td>0</td>\n",
       "    </tr>\n",
       "    <tr>\n",
       "      <th>4</th>\n",
       "      <td>D1</td>\n",
       "      <td>19</td>\n",
       "      <td>2019-08-17 14:30:00</td>\n",
       "      <td>2019-08-17</td>\n",
       "      <td>14:30:00</td>\n",
       "      <td>Werder Bremen</td>\n",
       "      <td>Fortuna Dusseldorf</td>\n",
       "      <td>1</td>\n",
       "      <td>3</td>\n",
       "      <td>0</td>\n",
       "      <td>2</td>\n",
       "      <td>0</td>\n",
       "      <td>0</td>\n",
       "    </tr>\n",
       "    <tr>\n",
       "      <th>...</th>\n",
       "      <td>...</td>\n",
       "      <td>...</td>\n",
       "      <td>...</td>\n",
       "      <td>...</td>\n",
       "      <td>...</td>\n",
       "      <td>...</td>\n",
       "      <td>...</td>\n",
       "      <td>...</td>\n",
       "      <td>...</td>\n",
       "      <td>...</td>\n",
       "      <td>...</td>\n",
       "      <td>...</td>\n",
       "      <td>...</td>\n",
       "    </tr>\n",
       "    <tr>\n",
       "      <th>375</th>\n",
       "      <td>SP1</td>\n",
       "      <td>21</td>\n",
       "      <td>2022-05-22 19:00:00</td>\n",
       "      <td>2022-05-22</td>\n",
       "      <td>19:00:00</td>\n",
       "      <td>Granada</td>\n",
       "      <td>Espanol</td>\n",
       "      <td>0</td>\n",
       "      <td>0</td>\n",
       "      <td>1</td>\n",
       "      <td>0</td>\n",
       "      <td>0</td>\n",
       "      <td>0</td>\n",
       "    </tr>\n",
       "    <tr>\n",
       "      <th>376</th>\n",
       "      <td>SP1</td>\n",
       "      <td>21</td>\n",
       "      <td>2022-05-22 19:00:00</td>\n",
       "      <td>2022-05-22</td>\n",
       "      <td>19:00:00</td>\n",
       "      <td>Osasuna</td>\n",
       "      <td>Mallorca</td>\n",
       "      <td>0</td>\n",
       "      <td>2</td>\n",
       "      <td>2</td>\n",
       "      <td>2</td>\n",
       "      <td>0</td>\n",
       "      <td>0</td>\n",
       "    </tr>\n",
       "    <tr>\n",
       "      <th>377</th>\n",
       "      <td>SP1</td>\n",
       "      <td>21</td>\n",
       "      <td>2022-05-22 21:00:00</td>\n",
       "      <td>2022-05-22</td>\n",
       "      <td>21:00:00</td>\n",
       "      <td>Barcelona</td>\n",
       "      <td>Villarreal</td>\n",
       "      <td>0</td>\n",
       "      <td>2</td>\n",
       "      <td>3</td>\n",
       "      <td>1</td>\n",
       "      <td>0</td>\n",
       "      <td>0</td>\n",
       "    </tr>\n",
       "    <tr>\n",
       "      <th>378</th>\n",
       "      <td>SP1</td>\n",
       "      <td>21</td>\n",
       "      <td>2022-05-22 21:00:00</td>\n",
       "      <td>2022-05-22</td>\n",
       "      <td>21:00:00</td>\n",
       "      <td>Sevilla</td>\n",
       "      <td>Ath Bilbao</td>\n",
       "      <td>1</td>\n",
       "      <td>0</td>\n",
       "      <td>3</td>\n",
       "      <td>3</td>\n",
       "      <td>0</td>\n",
       "      <td>0</td>\n",
       "    </tr>\n",
       "    <tr>\n",
       "      <th>379</th>\n",
       "      <td>SP1</td>\n",
       "      <td>21</td>\n",
       "      <td>2022-05-22 21:00:00</td>\n",
       "      <td>2022-05-22</td>\n",
       "      <td>21:00:00</td>\n",
       "      <td>Sociedad</td>\n",
       "      <td>Ath Madrid</td>\n",
       "      <td>1</td>\n",
       "      <td>2</td>\n",
       "      <td>4</td>\n",
       "      <td>2</td>\n",
       "      <td>0</td>\n",
       "      <td>0</td>\n",
       "    </tr>\n",
       "  </tbody>\n",
       "</table>\n",
       "<p>3198 rows × 13 columns</p>\n",
       "</div>"
      ],
      "text/plain": [
       "     Div  Temporada           Timestamp      Fecha      Hora          Local  \\\n",
       "0     D1         19 2019-08-16 19:30:00 2019-08-16  19:30:00  Bayern Munich   \n",
       "1     D1         19 2019-08-17 14:30:00 2019-08-17  14:30:00       Dortmund   \n",
       "2     D1         19 2019-08-17 14:30:00 2019-08-17  14:30:00       Freiburg   \n",
       "3     D1         19 2019-08-17 14:30:00 2019-08-17  14:30:00     Leverkusen   \n",
       "4     D1         19 2019-08-17 14:30:00 2019-08-17  14:30:00  Werder Bremen   \n",
       "..   ...        ...                 ...        ...       ...            ...   \n",
       "375  SP1         21 2022-05-22 19:00:00 2022-05-22  19:00:00        Granada   \n",
       "376  SP1         21 2022-05-22 19:00:00 2022-05-22  19:00:00        Osasuna   \n",
       "377  SP1         21 2022-05-22 21:00:00 2022-05-22  21:00:00      Barcelona   \n",
       "378  SP1         21 2022-05-22 21:00:00 2022-05-22  21:00:00        Sevilla   \n",
       "379  SP1         21 2022-05-22 21:00:00 2022-05-22  21:00:00       Sociedad   \n",
       "\n",
       "              Visitante  goles_local  goles_visitante  Amarillas_local  \\\n",
       "0                Hertha            2                2                3   \n",
       "1              Augsburg            5                1                0   \n",
       "2                 Mainz            3                0                1   \n",
       "3             Paderborn            3                2                2   \n",
       "4    Fortuna Dusseldorf            1                3                0   \n",
       "..                  ...          ...              ...              ...   \n",
       "375             Espanol            0                0                1   \n",
       "376            Mallorca            0                2                2   \n",
       "377          Villarreal            0                2                3   \n",
       "378          Ath Bilbao            1                0                3   \n",
       "379          Ath Madrid            1                2                4   \n",
       "\n",
       "     Amarillas_Visitante  Rojas_Local  Rojas_Visitante  \n",
       "0                      3            0                0  \n",
       "1                      0            0                0  \n",
       "2                      3            0                0  \n",
       "3                      0            0                0  \n",
       "4                      2            0                0  \n",
       "..                   ...          ...              ...  \n",
       "375                    0            0                0  \n",
       "376                    2            0                0  \n",
       "377                    1            0                0  \n",
       "378                    3            0                0  \n",
       "379                    2            0                0  \n",
       "\n",
       "[3198 rows x 13 columns]"
      ]
     },
     "execution_count": 17,
     "metadata": {},
     "output_type": "execute_result"
    }
   ],
   "source": [
    "df_main"
   ]
  },
  {
   "cell_type": "markdown",
   "id": "0b0d1c71",
   "metadata": {},
   "source": [
    "## <font color='grey'>[ANALYZE] Analizar Datos</font>"
   ]
  },
  {
   "cell_type": "code",
   "execution_count": 18,
   "id": "3343f8ff",
   "metadata": {},
   "outputs": [
    {
     "data": {
      "text/html": [
       "        <script type=\"text/javascript\">\n",
       "        window.PlotlyConfig = {MathJaxConfig: 'local'};\n",
       "        if (window.MathJax && window.MathJax.Hub && window.MathJax.Hub.Config) {window.MathJax.Hub.Config({SVG: {font: \"STIX-Web\"}});}\n",
       "        if (typeof require !== 'undefined') {\n",
       "        require.undef(\"plotly\");\n",
       "        requirejs.config({\n",
       "            paths: {\n",
       "                'plotly': ['https://cdn.plot.ly/plotly-2.12.1.min']\n",
       "            }\n",
       "        });\n",
       "        require(['plotly'], function(Plotly) {\n",
       "            window._Plotly = Plotly;\n",
       "        });\n",
       "        }\n",
       "        </script>\n",
       "        "
      ]
     },
     "metadata": {},
     "output_type": "display_data"
    }
   ],
   "source": [
    "import pandas as pd\n",
    "import numpy as np\n",
    "import cufflinks as cf\n",
    "from IPython.display import display,HTML"
   ]
  },
  {
   "cell_type": "code",
   "execution_count": 20,
   "id": "9c3ed85f",
   "metadata": {
    "scrolled": false
   },
   "outputs": [
    {
     "data": {
      "text/html": [
       "        <script type=\"text/javascript\">\n",
       "        window.PlotlyConfig = {MathJaxConfig: 'local'};\n",
       "        if (window.MathJax && window.MathJax.Hub && window.MathJax.Hub.Config) {window.MathJax.Hub.Config({SVG: {font: \"STIX-Web\"}});}\n",
       "        if (typeof require !== 'undefined') {\n",
       "        require.undef(\"plotly\");\n",
       "        requirejs.config({\n",
       "            paths: {\n",
       "                'plotly': ['https://cdn.plot.ly/plotly-2.12.1.min']\n",
       "            }\n",
       "        });\n",
       "        require(['plotly'], function(Plotly) {\n",
       "            window._Plotly = Plotly;\n",
       "        });\n",
       "        }\n",
       "        </script>\n",
       "        "
      ]
     },
     "metadata": {},
     "output_type": "display_data"
    }
   ],
   "source": [
    "cf.set_config_file(sharing='public', theme='henanigans', offline=True)"
   ]
  },
  {
   "cell_type": "markdown",
   "id": "e4f4811c",
   "metadata": {},
   "source": [
    "### <font color='grey'>ANÁLISIS SESGADO</font>\n",
    "\n",
    "\n",
    "* top 3 equipo mas goleador de cada liga\n",
    "* top 3 equipo con mas tarjetas rojas de cada liga\n",
    "* Evolución de los goles por año total y por cada liga\n",
    "----\n"
   ]
  },
  {
   "cell_type": "code",
   "execution_count": 21,
   "id": "6b91a2d6",
   "metadata": {},
   "outputs": [],
   "source": [
    "# CREO UNA COPIA DEL DATAFRAME ORIGINAL PARA ESTABLECER UN SAVE POINT\n",
    "    # ASÍ EVITO TENER QUE CORRER TODO EL CÓDIGO ANTERIOR EN CASO DE EQUIVOCARME.\n",
    "    \n",
    "df_raw = df_main.copy(deep=True)\n"
   ]
  },
  {
   "cell_type": "markdown",
   "id": "0a6ed82a",
   "metadata": {},
   "source": [
    "#### <font color='grey'>TOP 3 EQUIPOS MAS GOLEADORES DE CADA LIGA</font>"
   ]
  },
  {
   "cell_type": "code",
   "execution_count": 22,
   "id": "6d0c35ce",
   "metadata": {},
   "outputs": [],
   "source": [
    "import pandas as pd"
   ]
  },
  {
   "cell_type": "code",
   "execution_count": 273,
   "id": "b031c036",
   "metadata": {
    "run_control": {
     "marked": true
    }
   },
   "outputs": [],
   "source": [
    "# DEFINIR EL NUEVO DATAFRAME ACOTADO A LO QUE QUIERO OBTENER\n",
    "df_goleador = pd.DataFrame(df_raw[['Div','Fecha','Local',\n",
    "                   'Visitante','goles_local','goles_visitante']])\n",
    "df_goleador['Fecha'] = pd.DatetimeIndex(df_raw['Fecha']).year\n",
    "df_goleador['Fecha'].astype(int)\n",
    "\n",
    "\n",
    "df_goleador['SUMA'] = df_goleador['goles_local'] + df_goleador['goles_visitante']"
   ]
  },
  {
   "cell_type": "code",
   "execution_count": 274,
   "id": "bfd4cd0f",
   "metadata": {},
   "outputs": [
    {
     "data": {
      "text/html": [
       "<div>\n",
       "<style scoped>\n",
       "    .dataframe tbody tr th:only-of-type {\n",
       "        vertical-align: middle;\n",
       "    }\n",
       "\n",
       "    .dataframe tbody tr th {\n",
       "        vertical-align: top;\n",
       "    }\n",
       "\n",
       "    .dataframe thead th {\n",
       "        text-align: right;\n",
       "    }\n",
       "</style>\n",
       "<table border=\"1\" class=\"dataframe\">\n",
       "  <thead>\n",
       "    <tr style=\"text-align: right;\">\n",
       "      <th></th>\n",
       "      <th>Div</th>\n",
       "      <th>Fecha</th>\n",
       "      <th>Local</th>\n",
       "      <th>Visitante</th>\n",
       "      <th>goles_local</th>\n",
       "      <th>goles_visitante</th>\n",
       "      <th>SUMA</th>\n",
       "    </tr>\n",
       "  </thead>\n",
       "  <tbody>\n",
       "    <tr>\n",
       "      <th>0</th>\n",
       "      <td>D1</td>\n",
       "      <td>2019</td>\n",
       "      <td>Bayern Munich</td>\n",
       "      <td>Hertha</td>\n",
       "      <td>2</td>\n",
       "      <td>2</td>\n",
       "      <td>4</td>\n",
       "    </tr>\n",
       "    <tr>\n",
       "      <th>1</th>\n",
       "      <td>D1</td>\n",
       "      <td>2019</td>\n",
       "      <td>Dortmund</td>\n",
       "      <td>Augsburg</td>\n",
       "      <td>5</td>\n",
       "      <td>1</td>\n",
       "      <td>6</td>\n",
       "    </tr>\n",
       "    <tr>\n",
       "      <th>2</th>\n",
       "      <td>D1</td>\n",
       "      <td>2019</td>\n",
       "      <td>Freiburg</td>\n",
       "      <td>Mainz</td>\n",
       "      <td>3</td>\n",
       "      <td>0</td>\n",
       "      <td>3</td>\n",
       "    </tr>\n",
       "    <tr>\n",
       "      <th>3</th>\n",
       "      <td>D1</td>\n",
       "      <td>2019</td>\n",
       "      <td>Leverkusen</td>\n",
       "      <td>Paderborn</td>\n",
       "      <td>3</td>\n",
       "      <td>2</td>\n",
       "      <td>5</td>\n",
       "    </tr>\n",
       "    <tr>\n",
       "      <th>4</th>\n",
       "      <td>D1</td>\n",
       "      <td>2019</td>\n",
       "      <td>Werder Bremen</td>\n",
       "      <td>Fortuna Dusseldorf</td>\n",
       "      <td>1</td>\n",
       "      <td>3</td>\n",
       "      <td>4</td>\n",
       "    </tr>\n",
       "    <tr>\n",
       "      <th>...</th>\n",
       "      <td>...</td>\n",
       "      <td>...</td>\n",
       "      <td>...</td>\n",
       "      <td>...</td>\n",
       "      <td>...</td>\n",
       "      <td>...</td>\n",
       "      <td>...</td>\n",
       "    </tr>\n",
       "    <tr>\n",
       "      <th>375</th>\n",
       "      <td>SP1</td>\n",
       "      <td>2022</td>\n",
       "      <td>Granada</td>\n",
       "      <td>Espanol</td>\n",
       "      <td>0</td>\n",
       "      <td>0</td>\n",
       "      <td>0</td>\n",
       "    </tr>\n",
       "    <tr>\n",
       "      <th>376</th>\n",
       "      <td>SP1</td>\n",
       "      <td>2022</td>\n",
       "      <td>Osasuna</td>\n",
       "      <td>Mallorca</td>\n",
       "      <td>0</td>\n",
       "      <td>2</td>\n",
       "      <td>2</td>\n",
       "    </tr>\n",
       "    <tr>\n",
       "      <th>377</th>\n",
       "      <td>SP1</td>\n",
       "      <td>2022</td>\n",
       "      <td>Barcelona</td>\n",
       "      <td>Villarreal</td>\n",
       "      <td>0</td>\n",
       "      <td>2</td>\n",
       "      <td>2</td>\n",
       "    </tr>\n",
       "    <tr>\n",
       "      <th>378</th>\n",
       "      <td>SP1</td>\n",
       "      <td>2022</td>\n",
       "      <td>Sevilla</td>\n",
       "      <td>Ath Bilbao</td>\n",
       "      <td>1</td>\n",
       "      <td>0</td>\n",
       "      <td>1</td>\n",
       "    </tr>\n",
       "    <tr>\n",
       "      <th>379</th>\n",
       "      <td>SP1</td>\n",
       "      <td>2022</td>\n",
       "      <td>Sociedad</td>\n",
       "      <td>Ath Madrid</td>\n",
       "      <td>1</td>\n",
       "      <td>2</td>\n",
       "      <td>3</td>\n",
       "    </tr>\n",
       "  </tbody>\n",
       "</table>\n",
       "<p>3198 rows × 7 columns</p>\n",
       "</div>"
      ],
      "text/plain": [
       "     Div  Fecha          Local           Visitante  goles_local  \\\n",
       "0     D1   2019  Bayern Munich              Hertha            2   \n",
       "1     D1   2019       Dortmund            Augsburg            5   \n",
       "2     D1   2019       Freiburg               Mainz            3   \n",
       "3     D1   2019     Leverkusen           Paderborn            3   \n",
       "4     D1   2019  Werder Bremen  Fortuna Dusseldorf            1   \n",
       "..   ...    ...            ...                 ...          ...   \n",
       "375  SP1   2022        Granada             Espanol            0   \n",
       "376  SP1   2022        Osasuna            Mallorca            0   \n",
       "377  SP1   2022      Barcelona          Villarreal            0   \n",
       "378  SP1   2022        Sevilla          Ath Bilbao            1   \n",
       "379  SP1   2022       Sociedad          Ath Madrid            1   \n",
       "\n",
       "     goles_visitante  SUMA  \n",
       "0                  2     4  \n",
       "1                  1     6  \n",
       "2                  0     3  \n",
       "3                  2     5  \n",
       "4                  3     4  \n",
       "..               ...   ...  \n",
       "375                0     0  \n",
       "376                2     2  \n",
       "377                2     2  \n",
       "378                0     1  \n",
       "379                2     3  \n",
       "\n",
       "[3198 rows x 7 columns]"
      ]
     },
     "execution_count": 274,
     "metadata": {},
     "output_type": "execute_result"
    }
   ],
   "source": [
    "df_goleador"
   ]
  },
  {
   "cell_type": "code",
   "execution_count": 275,
   "id": "d1cf0cbb",
   "metadata": {
    "scrolled": true
   },
   "outputs": [
    {
     "data": {
      "text/html": [
       "<div>\n",
       "<style scoped>\n",
       "    .dataframe tbody tr th:only-of-type {\n",
       "        vertical-align: middle;\n",
       "    }\n",
       "\n",
       "    .dataframe tbody tr th {\n",
       "        vertical-align: top;\n",
       "    }\n",
       "\n",
       "    .dataframe thead th {\n",
       "        text-align: right;\n",
       "    }\n",
       "</style>\n",
       "<table border=\"1\" class=\"dataframe\">\n",
       "  <thead>\n",
       "    <tr style=\"text-align: right;\">\n",
       "      <th></th>\n",
       "      <th>goles_local</th>\n",
       "      <th>goles_visitante</th>\n",
       "    </tr>\n",
       "  </thead>\n",
       "  <tbody>\n",
       "    <tr>\n",
       "      <th>0</th>\n",
       "      <td>1560</td>\n",
       "      <td>1304</td>\n",
       "    </tr>\n",
       "    <tr>\n",
       "      <th>1</th>\n",
       "      <td>1665</td>\n",
       "      <td>1464</td>\n",
       "    </tr>\n",
       "    <tr>\n",
       "      <th>2</th>\n",
       "      <td>1606</td>\n",
       "      <td>1240</td>\n",
       "    </tr>\n",
       "  </tbody>\n",
       "</table>\n",
       "</div>"
      ],
      "text/plain": [
       "   goles_local  goles_visitante\n",
       "0         1560             1304\n",
       "1         1665             1464\n",
       "2         1606             1240"
      ]
     },
     "execution_count": 275,
     "metadata": {},
     "output_type": "execute_result"
    }
   ],
   "source": [
    "df_goleador[['goles_local', 'goles_visitante']].groupby(df_goleador['Div'], as_index=False).agg('sum')"
   ]
  },
  {
   "cell_type": "code",
   "execution_count": null,
   "id": "c3c7e4f7",
   "metadata": {},
   "outputs": [],
   "source": [
    "#apple_df.iplot(y=[\"Open\", \"High\", \"Low\", \"Close\"],width=2.0,xTitle=\"Date\", yTitle=\"Price ($)\", title=\"OHLC Price From Apr,2019 - Mar,2020\")"
   ]
  },
  {
   "cell_type": "code",
   "execution_count": null,
   "id": "b50d1e42",
   "metadata": {},
   "outputs": [],
   "source": [
    "# df_goleador.set_index('Div', inplace=True)\n",
    "# df. loc [df [' col1 '] == algún_valor , ' col2 ']. suma ()\n",
    "# df_goleador[['Div','Fecha','Local','goles_local']].nlargest(5,['goles_local'])"
   ]
  },
  {
   "cell_type": "code",
   "execution_count": 276,
   "id": "fa60de83",
   "metadata": {
    "scrolled": true
   },
   "outputs": [
    {
     "data": {
      "text/html": [
       "<div>\n",
       "<style scoped>\n",
       "    .dataframe tbody tr th:only-of-type {\n",
       "        vertical-align: middle;\n",
       "    }\n",
       "\n",
       "    .dataframe tbody tr th {\n",
       "        vertical-align: top;\n",
       "    }\n",
       "\n",
       "    .dataframe thead th {\n",
       "        text-align: right;\n",
       "    }\n",
       "</style>\n",
       "<table border=\"1\" class=\"dataframe\">\n",
       "  <thead>\n",
       "    <tr style=\"text-align: right;\">\n",
       "      <th></th>\n",
       "      <th>Div</th>\n",
       "      <th>Fecha</th>\n",
       "      <th>Local</th>\n",
       "      <th>goles_local</th>\n",
       "    </tr>\n",
       "  </thead>\n",
       "  <tbody>\n",
       "    <tr>\n",
       "      <th>0</th>\n",
       "      <td>D1</td>\n",
       "      <td>2019</td>\n",
       "      <td>Bayern Munich</td>\n",
       "      <td>2</td>\n",
       "    </tr>\n",
       "    <tr>\n",
       "      <th>1</th>\n",
       "      <td>D1</td>\n",
       "      <td>2019</td>\n",
       "      <td>Dortmund</td>\n",
       "      <td>5</td>\n",
       "    </tr>\n",
       "    <tr>\n",
       "      <th>2</th>\n",
       "      <td>D1</td>\n",
       "      <td>2019</td>\n",
       "      <td>Freiburg</td>\n",
       "      <td>3</td>\n",
       "    </tr>\n",
       "    <tr>\n",
       "      <th>3</th>\n",
       "      <td>D1</td>\n",
       "      <td>2019</td>\n",
       "      <td>Leverkusen</td>\n",
       "      <td>3</td>\n",
       "    </tr>\n",
       "    <tr>\n",
       "      <th>4</th>\n",
       "      <td>D1</td>\n",
       "      <td>2019</td>\n",
       "      <td>Werder Bremen</td>\n",
       "      <td>1</td>\n",
       "    </tr>\n",
       "    <tr>\n",
       "      <th>...</th>\n",
       "      <td>...</td>\n",
       "      <td>...</td>\n",
       "      <td>...</td>\n",
       "      <td>...</td>\n",
       "    </tr>\n",
       "    <tr>\n",
       "      <th>375</th>\n",
       "      <td>SP1</td>\n",
       "      <td>2022</td>\n",
       "      <td>Granada</td>\n",
       "      <td>0</td>\n",
       "    </tr>\n",
       "    <tr>\n",
       "      <th>376</th>\n",
       "      <td>SP1</td>\n",
       "      <td>2022</td>\n",
       "      <td>Osasuna</td>\n",
       "      <td>0</td>\n",
       "    </tr>\n",
       "    <tr>\n",
       "      <th>377</th>\n",
       "      <td>SP1</td>\n",
       "      <td>2022</td>\n",
       "      <td>Barcelona</td>\n",
       "      <td>0</td>\n",
       "    </tr>\n",
       "    <tr>\n",
       "      <th>378</th>\n",
       "      <td>SP1</td>\n",
       "      <td>2022</td>\n",
       "      <td>Sevilla</td>\n",
       "      <td>1</td>\n",
       "    </tr>\n",
       "    <tr>\n",
       "      <th>379</th>\n",
       "      <td>SP1</td>\n",
       "      <td>2022</td>\n",
       "      <td>Sociedad</td>\n",
       "      <td>1</td>\n",
       "    </tr>\n",
       "  </tbody>\n",
       "</table>\n",
       "<p>3198 rows × 4 columns</p>\n",
       "</div>"
      ],
      "text/plain": [
       "     Div  Fecha          Local  goles_local\n",
       "0     D1   2019  Bayern Munich            2\n",
       "1     D1   2019       Dortmund            5\n",
       "2     D1   2019       Freiburg            3\n",
       "3     D1   2019     Leverkusen            3\n",
       "4     D1   2019  Werder Bremen            1\n",
       "..   ...    ...            ...          ...\n",
       "375  SP1   2022        Granada            0\n",
       "376  SP1   2022        Osasuna            0\n",
       "377  SP1   2022      Barcelona            0\n",
       "378  SP1   2022        Sevilla            1\n",
       "379  SP1   2022       Sociedad            1\n",
       "\n",
       "[3198 rows x 4 columns]"
      ]
     },
     "execution_count": 276,
     "metadata": {},
     "output_type": "execute_result"
    }
   ],
   "source": [
    "df_goleador[['Div','Fecha','Local','goles_local']]\n",
    "\n"
   ]
  },
  {
   "cell_type": "code",
   "execution_count": 277,
   "id": "96afd02d",
   "metadata": {},
   "outputs": [],
   "source": [
    "# SACO LOS 5 EQUIPOS QUE MAS GOLES HAN MARCADO SIENDO VISITANTE\n",
    "df_visitante = df_goleador[['Div','Fecha','Visitante','goles_visitante']]\n",
    "df_visitante = df_visitante.replace('D1','Alemania')\n",
    "df_visitante = df_visitante.replace('SP1','España')\n",
    "df_visitante = df_visitante.replace('E0','Inglaterra')\n",
    "df_visitante = df_visitante.fillna(0)\n",
    "\n",
    "#df_visitante = df_visitante.pivot_table(index=\"Visitante\", columns=(\"Div\"),values=\"goles_visitante\",aggfunc=\"sum\").T\n",
    "\n",
    "\n",
    "#df_visitante = df_visitante.fillna(0)\n",
    "#df_visitante.sort_values('goles_visitante', ascending=False)\n",
    "#df_visitante.set_index('Fecha', inplace=True)\n",
    "\n",
    "\n"
   ]
  },
  {
   "cell_type": "code",
   "execution_count": 278,
   "id": "c9b5a76c",
   "metadata": {},
   "outputs": [
    {
     "data": {
      "text/html": [
       "<div>\n",
       "<style scoped>\n",
       "    .dataframe tbody tr th:only-of-type {\n",
       "        vertical-align: middle;\n",
       "    }\n",
       "\n",
       "    .dataframe tbody tr th {\n",
       "        vertical-align: top;\n",
       "    }\n",
       "\n",
       "    .dataframe thead th {\n",
       "        text-align: right;\n",
       "    }\n",
       "</style>\n",
       "<table border=\"1\" class=\"dataframe\">\n",
       "  <thead>\n",
       "    <tr style=\"text-align: right;\">\n",
       "      <th></th>\n",
       "      <th>Div</th>\n",
       "      <th>Fecha</th>\n",
       "      <th>Visitante</th>\n",
       "      <th>goles_visitante</th>\n",
       "    </tr>\n",
       "  </thead>\n",
       "  <tbody>\n",
       "    <tr>\n",
       "      <th>0</th>\n",
       "      <td>Alemania</td>\n",
       "      <td>2019</td>\n",
       "      <td>Hertha</td>\n",
       "      <td>2</td>\n",
       "    </tr>\n",
       "    <tr>\n",
       "      <th>1</th>\n",
       "      <td>Alemania</td>\n",
       "      <td>2019</td>\n",
       "      <td>Augsburg</td>\n",
       "      <td>1</td>\n",
       "    </tr>\n",
       "    <tr>\n",
       "      <th>2</th>\n",
       "      <td>Alemania</td>\n",
       "      <td>2019</td>\n",
       "      <td>Mainz</td>\n",
       "      <td>0</td>\n",
       "    </tr>\n",
       "    <tr>\n",
       "      <th>3</th>\n",
       "      <td>Alemania</td>\n",
       "      <td>2019</td>\n",
       "      <td>Paderborn</td>\n",
       "      <td>2</td>\n",
       "    </tr>\n",
       "    <tr>\n",
       "      <th>4</th>\n",
       "      <td>Alemania</td>\n",
       "      <td>2019</td>\n",
       "      <td>Fortuna Dusseldorf</td>\n",
       "      <td>3</td>\n",
       "    </tr>\n",
       "    <tr>\n",
       "      <th>...</th>\n",
       "      <td>...</td>\n",
       "      <td>...</td>\n",
       "      <td>...</td>\n",
       "      <td>...</td>\n",
       "    </tr>\n",
       "    <tr>\n",
       "      <th>375</th>\n",
       "      <td>España</td>\n",
       "      <td>2022</td>\n",
       "      <td>Espanol</td>\n",
       "      <td>0</td>\n",
       "    </tr>\n",
       "    <tr>\n",
       "      <th>376</th>\n",
       "      <td>España</td>\n",
       "      <td>2022</td>\n",
       "      <td>Mallorca</td>\n",
       "      <td>2</td>\n",
       "    </tr>\n",
       "    <tr>\n",
       "      <th>377</th>\n",
       "      <td>España</td>\n",
       "      <td>2022</td>\n",
       "      <td>Villarreal</td>\n",
       "      <td>2</td>\n",
       "    </tr>\n",
       "    <tr>\n",
       "      <th>378</th>\n",
       "      <td>España</td>\n",
       "      <td>2022</td>\n",
       "      <td>Ath Bilbao</td>\n",
       "      <td>0</td>\n",
       "    </tr>\n",
       "    <tr>\n",
       "      <th>379</th>\n",
       "      <td>España</td>\n",
       "      <td>2022</td>\n",
       "      <td>Ath Madrid</td>\n",
       "      <td>2</td>\n",
       "    </tr>\n",
       "  </tbody>\n",
       "</table>\n",
       "<p>3198 rows × 4 columns</p>\n",
       "</div>"
      ],
      "text/plain": [
       "          Div  Fecha           Visitante  goles_visitante\n",
       "0    Alemania   2019              Hertha                2\n",
       "1    Alemania   2019            Augsburg                1\n",
       "2    Alemania   2019               Mainz                0\n",
       "3    Alemania   2019           Paderborn                2\n",
       "4    Alemania   2019  Fortuna Dusseldorf                3\n",
       "..        ...    ...                 ...              ...\n",
       "375    España   2022             Espanol                0\n",
       "376    España   2022            Mallorca                2\n",
       "377    España   2022          Villarreal                2\n",
       "378    España   2022          Ath Bilbao                0\n",
       "379    España   2022          Ath Madrid                2\n",
       "\n",
       "[3198 rows x 4 columns]"
      ]
     },
     "execution_count": 278,
     "metadata": {},
     "output_type": "execute_result"
    }
   ],
   "source": [
    "df_visitante"
   ]
  },
  {
   "cell_type": "code",
   "execution_count": 281,
   "id": "2c816b75",
   "metadata": {},
   "outputs": [
    {
     "ename": "KeyError",
     "evalue": "\"None of [Int64Index([2, 1, 0, 2, 3, 1, 0, 0, 4, 3,\\n            ...\\n            0, 4, 0, 1, 1, 0, 2, 2, 0, 2],\\n           dtype='int64', length=3198)] are in the [columns]\"",
     "output_type": "error",
     "traceback": [
      "\u001b[1;31m---------------------------------------------------------------------------\u001b[0m",
      "\u001b[1;31mKeyError\u001b[0m                                  Traceback (most recent call last)",
      "Cell \u001b[1;32mIn [281], line 1\u001b[0m\n\u001b[1;32m----> 1\u001b[0m \u001b[43mdf_visitante\u001b[49m\u001b[43m[\u001b[49m\u001b[43m[\u001b[49m\u001b[38;5;124;43m'\u001b[39;49m\u001b[38;5;124;43mDiv\u001b[39;49m\u001b[38;5;124;43m'\u001b[39;49m\u001b[43m,\u001b[49m\u001b[38;5;124;43m'\u001b[39;49m\u001b[38;5;124;43mVisitante\u001b[39;49m\u001b[38;5;124;43m'\u001b[39;49m\u001b[43m]\u001b[49m\u001b[43m]\u001b[49m\u001b[38;5;241;43m.\u001b[39;49m\u001b[43mnlargest\u001b[49m\u001b[43m(\u001b[49m\u001b[38;5;241;43m5\u001b[39;49m\u001b[43m,\u001b[49m\u001b[43m[\u001b[49m\u001b[43mdf_visitante\u001b[49m\u001b[43m[\u001b[49m\u001b[38;5;124;43m'\u001b[39;49m\u001b[38;5;124;43mgoles_visitante\u001b[39;49m\u001b[38;5;124;43m'\u001b[39;49m\u001b[43m]\u001b[49m\u001b[43m]\u001b[49m\u001b[43m)\u001b[49m\n",
      "File \u001b[1;32m~\\anaconda3\\envs\\EOI_\\lib\\site-packages\\pandas\\core\\frame.py:7327\u001b[0m, in \u001b[0;36mDataFrame.nlargest\u001b[1;34m(self, n, columns, keep)\u001b[0m\n\u001b[0;32m   7222\u001b[0m \u001b[38;5;28;01mdef\u001b[39;00m \u001b[38;5;21mnlargest\u001b[39m(\u001b[38;5;28mself\u001b[39m, n: \u001b[38;5;28mint\u001b[39m, columns: IndexLabel, keep: \u001b[38;5;28mstr\u001b[39m \u001b[38;5;241m=\u001b[39m \u001b[38;5;124m\"\u001b[39m\u001b[38;5;124mfirst\u001b[39m\u001b[38;5;124m\"\u001b[39m) \u001b[38;5;241m-\u001b[39m\u001b[38;5;241m>\u001b[39m DataFrame:\n\u001b[0;32m   7223\u001b[0m     \u001b[38;5;124;03m\"\"\"\u001b[39;00m\n\u001b[0;32m   7224\u001b[0m \u001b[38;5;124;03m    Return the first `n` rows ordered by `columns` in descending order.\u001b[39;00m\n\u001b[0;32m   7225\u001b[0m \n\u001b[1;32m   (...)\u001b[0m\n\u001b[0;32m   7325\u001b[0m \u001b[38;5;124;03m    Brunei      434000    12128      BN\u001b[39;00m\n\u001b[0;32m   7326\u001b[0m \u001b[38;5;124;03m    \"\"\"\u001b[39;00m\n\u001b[1;32m-> 7327\u001b[0m     \u001b[38;5;28;01mreturn\u001b[39;00m \u001b[43malgorithms\u001b[49m\u001b[38;5;241;43m.\u001b[39;49m\u001b[43mSelectNFrame\u001b[49m\u001b[43m(\u001b[49m\u001b[38;5;28;43mself\u001b[39;49m\u001b[43m,\u001b[49m\u001b[43m \u001b[49m\u001b[43mn\u001b[49m\u001b[38;5;241;43m=\u001b[39;49m\u001b[43mn\u001b[49m\u001b[43m,\u001b[49m\u001b[43m \u001b[49m\u001b[43mkeep\u001b[49m\u001b[38;5;241;43m=\u001b[39;49m\u001b[43mkeep\u001b[49m\u001b[43m,\u001b[49m\u001b[43m \u001b[49m\u001b[43mcolumns\u001b[49m\u001b[38;5;241;43m=\u001b[39;49m\u001b[43mcolumns\u001b[49m\u001b[43m)\u001b[49m\u001b[38;5;241;43m.\u001b[39;49m\u001b[43mnlargest\u001b[49m\u001b[43m(\u001b[49m\u001b[43m)\u001b[49m\n",
      "File \u001b[1;32m~\\anaconda3\\envs\\EOI_\\lib\\site-packages\\pandas\\core\\algorithms.py:1273\u001b[0m, in \u001b[0;36mSelectN.nlargest\u001b[1;34m(self)\u001b[0m\n\u001b[0;32m   1271\u001b[0m \u001b[38;5;129m@final\u001b[39m\n\u001b[0;32m   1272\u001b[0m \u001b[38;5;28;01mdef\u001b[39;00m \u001b[38;5;21mnlargest\u001b[39m(\u001b[38;5;28mself\u001b[39m):\n\u001b[1;32m-> 1273\u001b[0m     \u001b[38;5;28;01mreturn\u001b[39;00m \u001b[38;5;28;43mself\u001b[39;49m\u001b[38;5;241;43m.\u001b[39;49m\u001b[43mcompute\u001b[49m\u001b[43m(\u001b[49m\u001b[38;5;124;43m\"\u001b[39;49m\u001b[38;5;124;43mnlargest\u001b[39;49m\u001b[38;5;124;43m\"\u001b[39;49m\u001b[43m)\u001b[49m\n",
      "File \u001b[1;32m~\\anaconda3\\envs\\EOI_\\lib\\site-packages\\pandas\\core\\algorithms.py:1402\u001b[0m, in \u001b[0;36mSelectNFrame.compute\u001b[1;34m(self, method)\u001b[0m\n\u001b[0;32m   1399\u001b[0m columns \u001b[38;5;241m=\u001b[39m \u001b[38;5;28mself\u001b[39m\u001b[38;5;241m.\u001b[39mcolumns\n\u001b[0;32m   1401\u001b[0m \u001b[38;5;28;01mfor\u001b[39;00m column \u001b[38;5;129;01min\u001b[39;00m columns:\n\u001b[1;32m-> 1402\u001b[0m     dtype \u001b[38;5;241m=\u001b[39m \u001b[43mframe\u001b[49m\u001b[43m[\u001b[49m\u001b[43mcolumn\u001b[49m\u001b[43m]\u001b[49m\u001b[38;5;241m.\u001b[39mdtype\n\u001b[0;32m   1403\u001b[0m     \u001b[38;5;28;01mif\u001b[39;00m \u001b[38;5;129;01mnot\u001b[39;00m \u001b[38;5;28mself\u001b[39m\u001b[38;5;241m.\u001b[39mis_valid_dtype_n_method(dtype):\n\u001b[0;32m   1404\u001b[0m         \u001b[38;5;28;01mraise\u001b[39;00m \u001b[38;5;167;01mTypeError\u001b[39;00m(\n\u001b[0;32m   1405\u001b[0m             \u001b[38;5;124mf\u001b[39m\u001b[38;5;124m\"\u001b[39m\u001b[38;5;124mColumn \u001b[39m\u001b[38;5;132;01m{\u001b[39;00m\u001b[38;5;28mrepr\u001b[39m(column)\u001b[38;5;132;01m}\u001b[39;00m\u001b[38;5;124m has dtype \u001b[39m\u001b[38;5;132;01m{\u001b[39;00mdtype\u001b[38;5;132;01m}\u001b[39;00m\u001b[38;5;124m, \u001b[39m\u001b[38;5;124m\"\u001b[39m\n\u001b[0;32m   1406\u001b[0m             \u001b[38;5;124mf\u001b[39m\u001b[38;5;124m\"\u001b[39m\u001b[38;5;124mcannot use method \u001b[39m\u001b[38;5;132;01m{\u001b[39;00m\u001b[38;5;28mrepr\u001b[39m(method)\u001b[38;5;132;01m}\u001b[39;00m\u001b[38;5;124m with this dtype\u001b[39m\u001b[38;5;124m\"\u001b[39m\n\u001b[0;32m   1407\u001b[0m         )\n",
      "File \u001b[1;32m~\\anaconda3\\envs\\EOI_\\lib\\site-packages\\pandas\\core\\frame.py:3810\u001b[0m, in \u001b[0;36mDataFrame.__getitem__\u001b[1;34m(self, key)\u001b[0m\n\u001b[0;32m   3808\u001b[0m     \u001b[38;5;28;01mif\u001b[39;00m is_iterator(key):\n\u001b[0;32m   3809\u001b[0m         key \u001b[38;5;241m=\u001b[39m \u001b[38;5;28mlist\u001b[39m(key)\n\u001b[1;32m-> 3810\u001b[0m     indexer \u001b[38;5;241m=\u001b[39m \u001b[38;5;28;43mself\u001b[39;49m\u001b[38;5;241;43m.\u001b[39;49m\u001b[43mcolumns\u001b[49m\u001b[38;5;241;43m.\u001b[39;49m\u001b[43m_get_indexer_strict\u001b[49m\u001b[43m(\u001b[49m\u001b[43mkey\u001b[49m\u001b[43m,\u001b[49m\u001b[43m \u001b[49m\u001b[38;5;124;43m\"\u001b[39;49m\u001b[38;5;124;43mcolumns\u001b[39;49m\u001b[38;5;124;43m\"\u001b[39;49m\u001b[43m)\u001b[49m[\u001b[38;5;241m1\u001b[39m]\n\u001b[0;32m   3812\u001b[0m \u001b[38;5;66;03m# take() does not accept boolean indexers\u001b[39;00m\n\u001b[0;32m   3813\u001b[0m \u001b[38;5;28;01mif\u001b[39;00m \u001b[38;5;28mgetattr\u001b[39m(indexer, \u001b[38;5;124m\"\u001b[39m\u001b[38;5;124mdtype\u001b[39m\u001b[38;5;124m\"\u001b[39m, \u001b[38;5;28;01mNone\u001b[39;00m) \u001b[38;5;241m==\u001b[39m \u001b[38;5;28mbool\u001b[39m:\n",
      "File \u001b[1;32m~\\anaconda3\\envs\\EOI_\\lib\\site-packages\\pandas\\core\\indexes\\base.py:6111\u001b[0m, in \u001b[0;36mIndex._get_indexer_strict\u001b[1;34m(self, key, axis_name)\u001b[0m\n\u001b[0;32m   6108\u001b[0m \u001b[38;5;28;01melse\u001b[39;00m:\n\u001b[0;32m   6109\u001b[0m     keyarr, indexer, new_indexer \u001b[38;5;241m=\u001b[39m \u001b[38;5;28mself\u001b[39m\u001b[38;5;241m.\u001b[39m_reindex_non_unique(keyarr)\n\u001b[1;32m-> 6111\u001b[0m \u001b[38;5;28;43mself\u001b[39;49m\u001b[38;5;241;43m.\u001b[39;49m\u001b[43m_raise_if_missing\u001b[49m\u001b[43m(\u001b[49m\u001b[43mkeyarr\u001b[49m\u001b[43m,\u001b[49m\u001b[43m \u001b[49m\u001b[43mindexer\u001b[49m\u001b[43m,\u001b[49m\u001b[43m \u001b[49m\u001b[43maxis_name\u001b[49m\u001b[43m)\u001b[49m\n\u001b[0;32m   6113\u001b[0m keyarr \u001b[38;5;241m=\u001b[39m \u001b[38;5;28mself\u001b[39m\u001b[38;5;241m.\u001b[39mtake(indexer)\n\u001b[0;32m   6114\u001b[0m \u001b[38;5;28;01mif\u001b[39;00m \u001b[38;5;28misinstance\u001b[39m(key, Index):\n\u001b[0;32m   6115\u001b[0m     \u001b[38;5;66;03m# GH 42790 - Preserve name from an Index\u001b[39;00m\n",
      "File \u001b[1;32m~\\anaconda3\\envs\\EOI_\\lib\\site-packages\\pandas\\core\\indexes\\base.py:6171\u001b[0m, in \u001b[0;36mIndex._raise_if_missing\u001b[1;34m(self, key, indexer, axis_name)\u001b[0m\n\u001b[0;32m   6169\u001b[0m     \u001b[38;5;28;01mif\u001b[39;00m use_interval_msg:\n\u001b[0;32m   6170\u001b[0m         key \u001b[38;5;241m=\u001b[39m \u001b[38;5;28mlist\u001b[39m(key)\n\u001b[1;32m-> 6171\u001b[0m     \u001b[38;5;28;01mraise\u001b[39;00m \u001b[38;5;167;01mKeyError\u001b[39;00m(\u001b[38;5;124mf\u001b[39m\u001b[38;5;124m\"\u001b[39m\u001b[38;5;124mNone of [\u001b[39m\u001b[38;5;132;01m{\u001b[39;00mkey\u001b[38;5;132;01m}\u001b[39;00m\u001b[38;5;124m] are in the [\u001b[39m\u001b[38;5;132;01m{\u001b[39;00maxis_name\u001b[38;5;132;01m}\u001b[39;00m\u001b[38;5;124m]\u001b[39m\u001b[38;5;124m\"\u001b[39m)\n\u001b[0;32m   6173\u001b[0m not_found \u001b[38;5;241m=\u001b[39m \u001b[38;5;28mlist\u001b[39m(ensure_index(key)[missing_mask\u001b[38;5;241m.\u001b[39mnonzero()[\u001b[38;5;241m0\u001b[39m]]\u001b[38;5;241m.\u001b[39munique())\n\u001b[0;32m   6174\u001b[0m \u001b[38;5;28;01mraise\u001b[39;00m \u001b[38;5;167;01mKeyError\u001b[39;00m(\u001b[38;5;124mf\u001b[39m\u001b[38;5;124m\"\u001b[39m\u001b[38;5;132;01m{\u001b[39;00mnot_found\u001b[38;5;132;01m}\u001b[39;00m\u001b[38;5;124m not in index\u001b[39m\u001b[38;5;124m\"\u001b[39m)\n",
      "\u001b[1;31mKeyError\u001b[0m: \"None of [Int64Index([2, 1, 0, 2, 3, 1, 0, 0, 4, 3,\\n            ...\\n            0, 4, 0, 1, 1, 0, 2, 2, 0, 2],\\n           dtype='int64', length=3198)] are in the [columns]\""
     ]
    }
   ],
   "source": [
    "df_visitante[['Div','Visitante']].nlargest(5,[df_visitante['goles_visitante']])"
   ]
  },
  {
   "cell_type": "code",
   "execution_count": 263,
   "id": "cf9f2e75",
   "metadata": {
    "scrolled": false
   },
   "outputs": [
    {
     "data": {
      "text/html": [
       "<div>\n",
       "<style scoped>\n",
       "    .dataframe tbody tr th:only-of-type {\n",
       "        vertical-align: middle;\n",
       "    }\n",
       "\n",
       "    .dataframe tbody tr th {\n",
       "        vertical-align: top;\n",
       "    }\n",
       "\n",
       "    .dataframe thead th {\n",
       "        text-align: right;\n",
       "    }\n",
       "</style>\n",
       "<table border=\"1\" class=\"dataframe\">\n",
       "  <thead>\n",
       "    <tr style=\"text-align: right;\">\n",
       "      <th>Visitante</th>\n",
       "      <th>Alaves</th>\n",
       "      <th>Arsenal</th>\n",
       "      <th>Aston Villa</th>\n",
       "      <th>Ath Bilbao</th>\n",
       "      <th>Ath Madrid</th>\n",
       "      <th>Augsburg</th>\n",
       "      <th>Barcelona</th>\n",
       "      <th>Bayern Munich</th>\n",
       "      <th>Betis</th>\n",
       "      <th>Bielefeld</th>\n",
       "      <th>...</th>\n",
       "      <th>Valencia</th>\n",
       "      <th>Valladolid</th>\n",
       "      <th>Vallecano</th>\n",
       "      <th>Villarreal</th>\n",
       "      <th>Watford</th>\n",
       "      <th>Werder Bremen</th>\n",
       "      <th>West Brom</th>\n",
       "      <th>West Ham</th>\n",
       "      <th>Wolfsburg</th>\n",
       "      <th>Wolves</th>\n",
       "    </tr>\n",
       "    <tr>\n",
       "      <th>Div</th>\n",
       "      <th></th>\n",
       "      <th></th>\n",
       "      <th></th>\n",
       "      <th></th>\n",
       "      <th></th>\n",
       "      <th></th>\n",
       "      <th></th>\n",
       "      <th></th>\n",
       "      <th></th>\n",
       "      <th></th>\n",
       "      <th></th>\n",
       "      <th></th>\n",
       "      <th></th>\n",
       "      <th></th>\n",
       "      <th></th>\n",
       "      <th></th>\n",
       "      <th></th>\n",
       "      <th></th>\n",
       "      <th></th>\n",
       "      <th></th>\n",
       "      <th></th>\n",
       "    </tr>\n",
       "  </thead>\n",
       "  <tbody>\n",
       "    <tr>\n",
       "      <th>Alemania</th>\n",
       "      <td>0.0</td>\n",
       "      <td>0.0</td>\n",
       "      <td>0.0</td>\n",
       "      <td>0.0</td>\n",
       "      <td>0.0</td>\n",
       "      <td>46.0</td>\n",
       "      <td>0.0</td>\n",
       "      <td>131.0</td>\n",
       "      <td>0.0</td>\n",
       "      <td>25.0</td>\n",
       "      <td>...</td>\n",
       "      <td>0.0</td>\n",
       "      <td>0.0</td>\n",
       "      <td>0.0</td>\n",
       "      <td>0.0</td>\n",
       "      <td>0.0</td>\n",
       "      <td>47.0</td>\n",
       "      <td>0.0</td>\n",
       "      <td>0.0</td>\n",
       "      <td>76.0</td>\n",
       "      <td>0.0</td>\n",
       "    </tr>\n",
       "    <tr>\n",
       "      <th>España</th>\n",
       "      <td>43.0</td>\n",
       "      <td>0.0</td>\n",
       "      <td>0.0</td>\n",
       "      <td>51.0</td>\n",
       "      <td>81.0</td>\n",
       "      <td>0.0</td>\n",
       "      <td>106.0</td>\n",
       "      <td>0.0</td>\n",
       "      <td>65.0</td>\n",
       "      <td>0.0</td>\n",
       "      <td>...</td>\n",
       "      <td>55.0</td>\n",
       "      <td>29.0</td>\n",
       "      <td>13.0</td>\n",
       "      <td>80.0</td>\n",
       "      <td>0.0</td>\n",
       "      <td>0.0</td>\n",
       "      <td>0.0</td>\n",
       "      <td>0.0</td>\n",
       "      <td>0.0</td>\n",
       "      <td>0.0</td>\n",
       "    </tr>\n",
       "    <tr>\n",
       "      <th>Inglaterra</th>\n",
       "      <td>0.0</td>\n",
       "      <td>77.0</td>\n",
       "      <td>68.0</td>\n",
       "      <td>0.0</td>\n",
       "      <td>0.0</td>\n",
       "      <td>0.0</td>\n",
       "      <td>0.0</td>\n",
       "      <td>0.0</td>\n",
       "      <td>0.0</td>\n",
       "      <td>0.0</td>\n",
       "      <td>...</td>\n",
       "      <td>0.0</td>\n",
       "      <td>0.0</td>\n",
       "      <td>0.0</td>\n",
       "      <td>0.0</td>\n",
       "      <td>31.0</td>\n",
       "      <td>0.0</td>\n",
       "      <td>20.0</td>\n",
       "      <td>76.0</td>\n",
       "      <td>0.0</td>\n",
       "      <td>57.0</td>\n",
       "    </tr>\n",
       "  </tbody>\n",
       "</table>\n",
       "<p>3 rows × 70 columns</p>\n",
       "</div>"
      ],
      "text/plain": [
       "Visitante   Alaves  Arsenal  Aston Villa  Ath Bilbao  Ath Madrid  Augsburg  \\\n",
       "Div                                                                          \n",
       "Alemania       0.0      0.0          0.0         0.0         0.0      46.0   \n",
       "España        43.0      0.0          0.0        51.0        81.0       0.0   \n",
       "Inglaterra     0.0     77.0         68.0         0.0         0.0       0.0   \n",
       "\n",
       "Visitante   Barcelona  Bayern Munich  Betis  Bielefeld  ...  Valencia  \\\n",
       "Div                                                     ...             \n",
       "Alemania          0.0          131.0    0.0       25.0  ...       0.0   \n",
       "España          106.0            0.0   65.0        0.0  ...      55.0   \n",
       "Inglaterra        0.0            0.0    0.0        0.0  ...       0.0   \n",
       "\n",
       "Visitante   Valladolid  Vallecano  Villarreal  Watford  Werder Bremen  \\\n",
       "Div                                                                     \n",
       "Alemania           0.0        0.0         0.0      0.0           47.0   \n",
       "España            29.0       13.0        80.0      0.0            0.0   \n",
       "Inglaterra         0.0        0.0         0.0     31.0            0.0   \n",
       "\n",
       "Visitante   West Brom  West Ham  Wolfsburg  Wolves  \n",
       "Div                                                 \n",
       "Alemania          0.0       0.0       76.0     0.0  \n",
       "España            0.0       0.0        0.0     0.0  \n",
       "Inglaterra       20.0      76.0        0.0    57.0  \n",
       "\n",
       "[3 rows x 70 columns]"
      ]
     },
     "execution_count": 263,
     "metadata": {},
     "output_type": "execute_result"
    }
   ],
   "source": [
    "df_visitante"
   ]
  },
  {
   "cell_type": "code",
   "execution_count": 218,
   "id": "c885f980",
   "metadata": {
    "scrolled": true
   },
   "outputs": [
    {
     "data": {
      "application/vnd.plotly.v1+json": {
       "config": {
        "linkText": "Export to plot.ly",
        "plotlyServerURL": "https://plot.ly",
        "showLink": true
       },
       "data": [
        {
         "marker": {
          "color": "rgba(255, 153, 51, 0.6)",
          "line": {
           "color": "rgba(255, 153, 51, 1.0)",
           "width": 1
          }
         },
         "name": "Alaves",
         "orientation": "v",
         "text": "",
         "type": "bar",
         "x": [
          "Alemania",
          "España",
          "Inglaterra"
         ],
         "y": [
          0,
          43,
          0
         ]
        },
        {
         "marker": {
          "color": "rgba(55, 128, 191, 0.6)",
          "line": {
           "color": "rgba(55, 128, 191, 1.0)",
           "width": 1
          }
         },
         "name": "Arsenal",
         "orientation": "v",
         "text": "",
         "type": "bar",
         "x": [
          "Alemania",
          "España",
          "Inglaterra"
         ],
         "y": [
          0,
          0,
          77
         ]
        },
        {
         "marker": {
          "color": "rgba(50, 171, 96, 0.6)",
          "line": {
           "color": "rgba(50, 171, 96, 1.0)",
           "width": 1
          }
         },
         "name": "Aston Villa",
         "orientation": "v",
         "text": "",
         "type": "bar",
         "x": [
          "Alemania",
          "España",
          "Inglaterra"
         ],
         "y": [
          0,
          0,
          68
         ]
        },
        {
         "marker": {
          "color": "rgba(128, 0, 128, 0.6)",
          "line": {
           "color": "rgba(128, 0, 128, 1.0)",
           "width": 1
          }
         },
         "name": "Ath Bilbao",
         "orientation": "v",
         "text": "",
         "type": "bar",
         "x": [
          "Alemania",
          "España",
          "Inglaterra"
         ],
         "y": [
          0,
          51,
          0
         ]
        },
        {
         "marker": {
          "color": "rgba(219, 64, 82, 0.6)",
          "line": {
           "color": "rgba(219, 64, 82, 1.0)",
           "width": 1
          }
         },
         "name": "Ath Madrid",
         "orientation": "v",
         "text": "",
         "type": "bar",
         "x": [
          "Alemania",
          "España",
          "Inglaterra"
         ],
         "y": [
          0,
          81,
          0
         ]
        },
        {
         "marker": {
          "color": "rgba(0, 128, 128, 0.6)",
          "line": {
           "color": "rgba(0, 128, 128, 1.0)",
           "width": 1
          }
         },
         "name": "Augsburg",
         "orientation": "v",
         "text": "",
         "type": "bar",
         "x": [
          "Alemania",
          "España",
          "Inglaterra"
         ],
         "y": [
          46,
          0,
          0
         ]
        },
        {
         "marker": {
          "color": "rgba(255, 255, 51, 0.6)",
          "line": {
           "color": "rgba(255, 255, 51, 1.0)",
           "width": 1
          }
         },
         "name": "Barcelona",
         "orientation": "v",
         "text": "",
         "type": "bar",
         "x": [
          "Alemania",
          "España",
          "Inglaterra"
         ],
         "y": [
          0,
          106,
          0
         ]
        },
        {
         "marker": {
          "color": "rgba(128, 128, 0, 0.6)",
          "line": {
           "color": "rgba(128, 128, 0, 1.0)",
           "width": 1
          }
         },
         "name": "Bayern Munich",
         "orientation": "v",
         "text": "",
         "type": "bar",
         "x": [
          "Alemania",
          "España",
          "Inglaterra"
         ],
         "y": [
          131,
          0,
          0
         ]
        },
        {
         "marker": {
          "color": "rgba(251, 128, 114, 0.6)",
          "line": {
           "color": "rgba(251, 128, 114, 1.0)",
           "width": 1
          }
         },
         "name": "Betis",
         "orientation": "v",
         "text": "",
         "type": "bar",
         "x": [
          "Alemania",
          "España",
          "Inglaterra"
         ],
         "y": [
          0,
          65,
          0
         ]
        },
        {
         "marker": {
          "color": "rgba(128, 177, 211, 0.6)",
          "line": {
           "color": "rgba(128, 177, 211, 1.0)",
           "width": 1
          }
         },
         "name": "Bielefeld",
         "orientation": "v",
         "text": "",
         "type": "bar",
         "x": [
          "Alemania",
          "España",
          "Inglaterra"
         ],
         "y": [
          25,
          0,
          0
         ]
        },
        {
         "marker": {
          "color": "rgba(128, 177, 211, 0.6)",
          "line": {
           "color": "rgba(128, 177, 211, 0.8999999999999999)",
           "width": 1
          }
         },
         "name": "Bochum",
         "orientation": "v",
         "text": "",
         "type": "bar",
         "x": [
          "Alemania",
          "España",
          "Inglaterra"
         ],
         "y": [
          17,
          0,
          0
         ]
        },
        {
         "marker": {
          "color": "rgba(255, 153, 51, 0.6)",
          "line": {
           "color": "rgba(255, 153, 51, 0.8999999999999999)",
           "width": 1
          }
         },
         "name": "Bournemouth",
         "orientation": "v",
         "text": "",
         "type": "bar",
         "x": [
          "Alemania",
          "España",
          "Inglaterra"
         ],
         "y": [
          0,
          0,
          18
         ]
        },
        {
         "marker": {
          "color": "rgba(55, 128, 191, 0.6)",
          "line": {
           "color": "rgba(55, 128, 191, 0.8999999999999999)",
           "width": 1
          }
         },
         "name": "Brentford",
         "orientation": "v",
         "text": "",
         "type": "bar",
         "x": [
          "Alemania",
          "España",
          "Inglaterra"
         ],
         "y": [
          0,
          0,
          26
         ]
        },
        {
         "marker": {
          "color": "rgba(50, 171, 96, 0.6)",
          "line": {
           "color": "rgba(50, 171, 96, 0.8999999999999999)",
           "width": 1
          }
         },
         "name": "Brighton",
         "orientation": "v",
         "text": "",
         "type": "bar",
         "x": [
          "Alemania",
          "España",
          "Inglaterra"
         ],
         "y": [
          0,
          0,
          60
         ]
        },
        {
         "marker": {
          "color": "rgba(128, 0, 128, 0.6)",
          "line": {
           "color": "rgba(128, 0, 128, 0.8999999999999999)",
           "width": 1
          }
         },
         "name": "Burnley",
         "orientation": "v",
         "text": "",
         "type": "bar",
         "x": [
          "Alemania",
          "España",
          "Inglaterra"
         ],
         "y": [
          0,
          0,
          54
         ]
        },
        {
         "marker": {
          "color": "rgba(219, 64, 82, 0.6)",
          "line": {
           "color": "rgba(219, 64, 82, 0.8999999999999999)",
           "width": 1
          }
         },
         "name": "Cadiz",
         "orientation": "v",
         "text": "",
         "type": "bar",
         "x": [
          "Alemania",
          "España",
          "Inglaterra"
         ],
         "y": [
          0,
          35,
          0
         ]
        },
        {
         "marker": {
          "color": "rgba(0, 128, 128, 0.6)",
          "line": {
           "color": "rgba(0, 128, 128, 0.8999999999999999)",
           "width": 1
          }
         },
         "name": "Celta",
         "orientation": "v",
         "text": "",
         "type": "bar",
         "x": [
          "Alemania",
          "España",
          "Inglaterra"
         ],
         "y": [
          0,
          57,
          0
         ]
        },
        {
         "marker": {
          "color": "rgba(255, 255, 51, 0.6)",
          "line": {
           "color": "rgba(255, 255, 51, 0.8999999999999999)",
           "width": 1
          }
         },
         "name": "Chelsea",
         "orientation": "v",
         "text": "",
         "type": "bar",
         "x": [
          "Alemania",
          "España",
          "Inglaterra"
         ],
         "y": [
          0,
          0,
          105
         ]
        },
        {
         "marker": {
          "color": "rgba(128, 128, 0, 0.6)",
          "line": {
           "color": "rgba(128, 128, 0, 0.8999999999999999)",
           "width": 1
          }
         },
         "name": "Crystal Palace",
         "orientation": "v",
         "text": "",
         "type": "bar",
         "x": [
          "Alemania",
          "España",
          "Inglaterra"
         ],
         "y": [
          0,
          0,
          60
         ]
        },
        {
         "marker": {
          "color": "rgba(251, 128, 114, 0.6)",
          "line": {
           "color": "rgba(251, 128, 114, 0.8999999999999999)",
           "width": 1
          }
         },
         "name": "Dortmund",
         "orientation": "v",
         "text": "",
         "type": "bar",
         "x": [
          "Alemania",
          "España",
          "Inglaterra"
         ],
         "y": [
          106,
          0,
          0
         ]
        },
        {
         "marker": {
          "color": "rgba(251, 128, 114, 0.6)",
          "line": {
           "color": "rgba(251, 128, 114, 0.7999999999999998)",
           "width": 1
          }
         },
         "name": "Eibar",
         "orientation": "v",
         "text": "",
         "type": "bar",
         "x": [
          "Alemania",
          "España",
          "Inglaterra"
         ],
         "y": [
          0,
          31,
          0
         ]
        },
        {
         "marker": {
          "color": "rgba(128, 177, 211, 0.6)",
          "line": {
           "color": "rgba(128, 177, 211, 0.7999999999999998)",
           "width": 1
          }
         },
         "name": "Ein Frankfurt",
         "orientation": "v",
         "text": "",
         "type": "bar",
         "x": [
          "Alemania",
          "España",
          "Inglaterra"
         ],
         "y": [
          80,
          0,
          0
         ]
        },
        {
         "marker": {
          "color": "rgba(255, 153, 51, 0.6)",
          "line": {
           "color": "rgba(255, 153, 51, 0.7999999999999998)",
           "width": 1
          }
         },
         "name": "Elche",
         "orientation": "v",
         "text": "",
         "type": "bar",
         "x": [
          "Alemania",
          "España",
          "Inglaterra"
         ],
         "y": [
          0,
          32,
          0
         ]
        },
        {
         "marker": {
          "color": "rgba(55, 128, 191, 0.6)",
          "line": {
           "color": "rgba(55, 128, 191, 0.7999999999999998)",
           "width": 1
          }
         },
         "name": "Espanol",
         "orientation": "v",
         "text": "",
         "type": "bar",
         "x": [
          "Alemania",
          "España",
          "Inglaterra"
         ],
         "y": [
          0,
          27,
          0
         ]
        },
        {
         "marker": {
          "color": "rgba(50, 171, 96, 0.6)",
          "line": {
           "color": "rgba(50, 171, 96, 0.7999999999999998)",
           "width": 1
          }
         },
         "name": "Everton",
         "orientation": "v",
         "text": "",
         "type": "bar",
         "x": [
          "Alemania",
          "España",
          "Inglaterra"
         ],
         "y": [
          0,
          0,
          59
         ]
        },
        {
         "marker": {
          "color": "rgba(128, 0, 128, 0.6)",
          "line": {
           "color": "rgba(128, 0, 128, 0.7999999999999998)",
           "width": 1
          }
         },
         "name": "FC Koln",
         "orientation": "v",
         "text": "",
         "type": "bar",
         "x": [
          "Alemania",
          "España",
          "Inglaterra"
         ],
         "y": [
          62,
          0,
          0
         ]
        },
        {
         "marker": {
          "color": "rgba(219, 64, 82, 0.6)",
          "line": {
           "color": "rgba(219, 64, 82, 0.7999999999999998)",
           "width": 1
          }
         },
         "name": "Fortuna Dusseldorf",
         "orientation": "v",
         "text": "",
         "type": "bar",
         "x": [
          "Alemania",
          "España",
          "Inglaterra"
         ],
         "y": [
          18,
          0,
          0
         ]
        },
        {
         "marker": {
          "color": "rgba(0, 128, 128, 0.6)",
          "line": {
           "color": "rgba(0, 128, 128, 0.7999999999999998)",
           "width": 1
          }
         },
         "name": "Freiburg",
         "orientation": "v",
         "text": "",
         "type": "bar",
         "x": [
          "Alemania",
          "España",
          "Inglaterra"
         ],
         "y": [
          70,
          0,
          0
         ]
        },
        {
         "marker": {
          "color": "rgba(255, 255, 51, 0.6)",
          "line": {
           "color": "rgba(255, 255, 51, 0.7999999999999998)",
           "width": 1
          }
         },
         "name": "Fulham",
         "orientation": "v",
         "text": "",
         "type": "bar",
         "x": [
          "Alemania",
          "España",
          "Inglaterra"
         ],
         "y": [
          0,
          0,
          18
         ]
        },
        {
         "marker": {
          "color": "rgba(128, 128, 0, 0.6)",
          "line": {
           "color": "rgba(128, 128, 0, 0.7999999999999998)",
           "width": 1
          }
         },
         "name": "Getafe",
         "orientation": "v",
         "text": "",
         "type": "bar",
         "x": [
          "Alemania",
          "España",
          "Inglaterra"
         ],
         "y": [
          0,
          43,
          0
         ]
        },
        {
         "marker": {
          "color": "rgba(128, 128, 0, 0.6)",
          "line": {
           "color": "rgba(128, 128, 0, 0.7)",
           "width": 1
          }
         },
         "name": "Granada",
         "orientation": "v",
         "text": "",
         "type": "bar",
         "x": [
          "Alemania",
          "España",
          "Inglaterra"
         ],
         "y": [
          0,
          70,
          0
         ]
        },
        {
         "marker": {
          "color": "rgba(251, 128, 114, 0.6)",
          "line": {
           "color": "rgba(251, 128, 114, 0.7)",
           "width": 1
          }
         },
         "name": "Greuther Furth",
         "orientation": "v",
         "text": "",
         "type": "bar",
         "x": [
          "Alemania",
          "España",
          "Inglaterra"
         ],
         "y": [
          13,
          0,
          0
         ]
        },
        {
         "marker": {
          "color": "rgba(128, 177, 211, 0.6)",
          "line": {
           "color": "rgba(128, 177, 211, 0.7)",
           "width": 1
          }
         },
         "name": "Hertha",
         "orientation": "v",
         "text": "",
         "type": "bar",
         "x": [
          "Alemania",
          "España",
          "Inglaterra"
         ],
         "y": [
          58,
          0,
          0
         ]
        },
        {
         "marker": {
          "color": "rgba(255, 153, 51, 0.6)",
          "line": {
           "color": "rgba(255, 153, 51, 0.7)",
           "width": 1
          }
         },
         "name": "Hoffenheim",
         "orientation": "v",
         "text": "",
         "type": "bar",
         "x": [
          "Alemania",
          "España",
          "Inglaterra"
         ],
         "y": [
          71,
          0,
          0
         ]
        },
        {
         "marker": {
          "color": "rgba(55, 128, 191, 0.6)",
          "line": {
           "color": "rgba(55, 128, 191, 0.7)",
           "width": 1
          }
         },
         "name": "Huesca",
         "orientation": "v",
         "text": "",
         "type": "bar",
         "x": [
          "Alemania",
          "España",
          "Inglaterra"
         ],
         "y": [
          0,
          17,
          0
         ]
        },
        {
         "marker": {
          "color": "rgba(50, 171, 96, 0.6)",
          "line": {
           "color": "rgba(50, 171, 96, 0.7)",
           "width": 1
          }
         },
         "name": "Leeds",
         "orientation": "v",
         "text": "",
         "type": "bar",
         "x": [
          "Alemania",
          "España",
          "Inglaterra"
         ],
         "y": [
          0,
          0,
          57
         ]
        },
        {
         "marker": {
          "color": "rgba(128, 0, 128, 0.6)",
          "line": {
           "color": "rgba(128, 0, 128, 0.7)",
           "width": 1
          }
         },
         "name": "Leganes",
         "orientation": "v",
         "text": "",
         "type": "bar",
         "x": [
          "Alemania",
          "España",
          "Inglaterra"
         ],
         "y": [
          0,
          13,
          0
         ]
        },
        {
         "marker": {
          "color": "rgba(219, 64, 82, 0.6)",
          "line": {
           "color": "rgba(219, 64, 82, 0.7)",
           "width": 1
          }
         },
         "name": "Leicester",
         "orientation": "v",
         "text": "",
         "type": "bar",
         "x": [
          "Alemania",
          "España",
          "Inglaterra"
         ],
         "y": [
          0,
          0,
          94
         ]
        },
        {
         "marker": {
          "color": "rgba(0, 128, 128, 0.6)",
          "line": {
           "color": "rgba(0, 128, 128, 0.7)",
           "width": 1
          }
         },
         "name": "Levante",
         "orientation": "v",
         "text": "",
         "type": "bar",
         "x": [
          "Alemania",
          "España",
          "Inglaterra"
         ],
         "y": [
          0,
          62,
          0
         ]
        },
        {
         "marker": {
          "color": "rgba(255, 255, 51, 0.6)",
          "line": {
           "color": "rgba(255, 255, 51, 0.7)",
           "width": 1
          }
         },
         "name": "Leverkusen",
         "orientation": "v",
         "text": "",
         "type": "bar",
         "x": [
          "Alemania",
          "España",
          "Inglaterra"
         ],
         "y": [
          89,
          0,
          0
         ]
        },
        {
         "marker": {
          "color": "rgba(255, 255, 51, 0.6)",
          "line": {
           "color": "rgba(255, 255, 51, 0.5999999999999999)",
           "width": 1
          }
         },
         "name": "Liverpool",
         "orientation": "v",
         "text": "",
         "type": "bar",
         "x": [
          "Alemania",
          "España",
          "Inglaterra"
         ],
         "y": [
          0,
          0,
          117
         ]
        },
        {
         "marker": {
          "color": "rgba(128, 128, 0, 0.6)",
          "line": {
           "color": "rgba(128, 128, 0, 0.5999999999999999)",
           "width": 1
          }
         },
         "name": "M'gladbach",
         "orientation": "v",
         "text": "",
         "type": "bar",
         "x": [
          "Alemania",
          "España",
          "Inglaterra"
         ],
         "y": [
          79,
          0,
          0
         ]
        },
        {
         "marker": {
          "color": "rgba(251, 128, 114, 0.6)",
          "line": {
           "color": "rgba(251, 128, 114, 0.5999999999999999)",
           "width": 1
          }
         },
         "name": "Mainz",
         "orientation": "v",
         "text": "",
         "type": "bar",
         "x": [
          "Alemania",
          "España",
          "Inglaterra"
         ],
         "y": [
          66,
          0,
          0
         ]
        },
        {
         "marker": {
          "color": "rgba(128, 177, 211, 0.6)",
          "line": {
           "color": "rgba(128, 177, 211, 0.5999999999999999)",
           "width": 1
          }
         },
         "name": "Mallorca",
         "orientation": "v",
         "text": "",
         "type": "bar",
         "x": [
          "Alemania",
          "España",
          "Inglaterra"
         ],
         "y": [
          0,
          31,
          0
         ]
        },
        {
         "marker": {
          "color": "rgba(255, 153, 51, 0.6)",
          "line": {
           "color": "rgba(255, 153, 51, 0.5999999999999999)",
           "width": 1
          }
         },
         "name": "Man City",
         "orientation": "v",
         "text": "",
         "type": "bar",
         "x": [
          "Alemania",
          "España",
          "Inglaterra"
         ],
         "y": [
          0,
          0,
          126
         ]
        },
        {
         "marker": {
          "color": "rgba(55, 128, 191, 0.6)",
          "line": {
           "color": "rgba(55, 128, 191, 0.5999999999999999)",
           "width": 1
          }
         },
         "name": "Man United",
         "orientation": "v",
         "text": "",
         "type": "bar",
         "x": [
          "Alemania",
          "España",
          "Inglaterra"
         ],
         "y": [
          0,
          0,
          86
         ]
        },
        {
         "marker": {
          "color": "rgba(50, 171, 96, 0.6)",
          "line": {
           "color": "rgba(50, 171, 96, 0.5999999999999999)",
           "width": 1
          }
         },
         "name": "Newcastle",
         "orientation": "v",
         "text": "",
         "type": "bar",
         "x": [
          "Alemania",
          "España",
          "Inglaterra"
         ],
         "y": [
          0,
          0,
          56
         ]
        },
        {
         "marker": {
          "color": "rgba(128, 0, 128, 0.6)",
          "line": {
           "color": "rgba(128, 0, 128, 0.5999999999999999)",
           "width": 1
          }
         },
         "name": "Norwich",
         "orientation": "v",
         "text": "",
         "type": "bar",
         "x": [
          "Alemania",
          "España",
          "Inglaterra"
         ],
         "y": [
          0,
          0,
          18
         ]
        },
        {
         "marker": {
          "color": "rgba(219, 64, 82, 0.6)",
          "line": {
           "color": "rgba(219, 64, 82, 0.5999999999999999)",
           "width": 1
          }
         },
         "name": "Osasuna",
         "orientation": "v",
         "text": "",
         "type": "bar",
         "x": [
          "Alemania",
          "España",
          "Inglaterra"
         ],
         "y": [
          0,
          56,
          0
         ]
        },
        {
         "marker": {
          "color": "rgba(0, 128, 128, 0.6)",
          "line": {
           "color": "rgba(0, 128, 128, 0.5999999999999999)",
           "width": 1
          }
         },
         "name": "Paderborn",
         "orientation": "v",
         "text": "",
         "type": "bar",
         "x": [
          "Alemania",
          "España",
          "Inglaterra"
         ],
         "y": [
          16,
          0,
          0
         ]
        },
        {
         "marker": {
          "color": "rgba(0, 128, 128, 0.6)",
          "line": {
           "color": "rgba(0, 128, 128, 0.49999999999999983)",
           "width": 1
          }
         },
         "name": "RB Leipzig",
         "orientation": "v",
         "text": "",
         "type": "bar",
         "x": [
          "Alemania",
          "España",
          "Inglaterra"
         ],
         "y": [
          103,
          0,
          0
         ]
        },
        {
         "marker": {
          "color": "rgba(255, 255, 51, 0.6)",
          "line": {
           "color": "rgba(255, 255, 51, 0.49999999999999983)",
           "width": 1
          }
         },
         "name": "Real Madrid",
         "orientation": "v",
         "text": "",
         "type": "bar",
         "x": [
          "Alemania",
          "España",
          "Inglaterra"
         ],
         "y": [
          0,
          100,
          0
         ]
        },
        {
         "marker": {
          "color": "rgba(128, 128, 0, 0.6)",
          "line": {
           "color": "rgba(128, 128, 0, 0.49999999999999983)",
           "width": 1
          }
         },
         "name": "Schalke 04",
         "orientation": "v",
         "text": "",
         "type": "bar",
         "x": [
          "Alemania",
          "España",
          "Inglaterra"
         ],
         "y": [
          29,
          0,
          0
         ]
        },
        {
         "marker": {
          "color": "rgba(251, 128, 114, 0.6)",
          "line": {
           "color": "rgba(251, 128, 114, 0.49999999999999983)",
           "width": 1
          }
         },
         "name": "Sevilla",
         "orientation": "v",
         "text": "",
         "type": "bar",
         "x": [
          "Alemania",
          "España",
          "Inglaterra"
         ],
         "y": [
          0,
          71,
          0
         ]
        },
        {
         "marker": {
          "color": "rgba(128, 177, 211, 0.6)",
          "line": {
           "color": "rgba(128, 177, 211, 0.49999999999999983)",
           "width": 1
          }
         },
         "name": "Sheffield United",
         "orientation": "v",
         "text": "",
         "type": "bar",
         "x": [
          "Alemania",
          "España",
          "Inglaterra"
         ],
         "y": [
          0,
          0,
          23
         ]
        },
        {
         "marker": {
          "color": "rgba(255, 153, 51, 0.6)",
          "line": {
           "color": "rgba(255, 153, 51, 0.49999999999999983)",
           "width": 1
          }
         },
         "name": "Sociedad",
         "orientation": "v",
         "text": "",
         "type": "bar",
         "x": [
          "Alemania",
          "España",
          "Inglaterra"
         ],
         "y": [
          0,
          72,
          0
         ]
        },
        {
         "marker": {
          "color": "rgba(55, 128, 191, 0.6)",
          "line": {
           "color": "rgba(55, 128, 191, 0.49999999999999983)",
           "width": 1
          }
         },
         "name": "Southampton",
         "orientation": "v",
         "text": "",
         "type": "bar",
         "x": [
          "Alemania",
          "España",
          "Inglaterra"
         ],
         "y": [
          0,
          0,
          69
         ]
        },
        {
         "marker": {
          "color": "rgba(50, 171, 96, 0.6)",
          "line": {
           "color": "rgba(50, 171, 96, 0.49999999999999983)",
           "width": 1
          }
         },
         "name": "Stuttgart",
         "orientation": "v",
         "text": "",
         "type": "bar",
         "x": [
          "Alemania",
          "España",
          "Inglaterra"
         ],
         "y": [
          42,
          0,
          0
         ]
        },
        {
         "marker": {
          "color": "rgba(128, 0, 128, 0.6)",
          "line": {
           "color": "rgba(128, 0, 128, 0.49999999999999983)",
           "width": 1
          }
         },
         "name": "Tottenham",
         "orientation": "v",
         "text": "",
         "type": "bar",
         "x": [
          "Alemania",
          "España",
          "Inglaterra"
         ],
         "y": [
          0,
          0,
          89
         ]
        },
        {
         "marker": {
          "color": "rgba(219, 64, 82, 0.6)",
          "line": {
           "color": "rgba(219, 64, 82, 0.49999999999999983)",
           "width": 1
          }
         },
         "name": "Union Berlin",
         "orientation": "v",
         "text": "",
         "type": "bar",
         "x": [
          "Alemania",
          "España",
          "Inglaterra"
         ],
         "y": [
          60,
          0,
          0
         ]
        },
        {
         "marker": {
          "color": "rgba(219, 64, 82, 0.6)",
          "line": {
           "color": "rgba(219, 64, 82, 0.39999999999999974)",
           "width": 1
          }
         },
         "name": "Valencia",
         "orientation": "v",
         "text": "",
         "type": "bar",
         "x": [
          "Alemania",
          "España",
          "Inglaterra"
         ],
         "y": [
          0,
          55,
          0
         ]
        },
        {
         "marker": {
          "color": "rgba(0, 128, 128, 0.6)",
          "line": {
           "color": "rgba(0, 128, 128, 0.39999999999999974)",
           "width": 1
          }
         },
         "name": "Valladolid",
         "orientation": "v",
         "text": "",
         "type": "bar",
         "x": [
          "Alemania",
          "España",
          "Inglaterra"
         ],
         "y": [
          0,
          29,
          0
         ]
        },
        {
         "marker": {
          "color": "rgba(255, 255, 51, 0.6)",
          "line": {
           "color": "rgba(255, 255, 51, 0.39999999999999974)",
           "width": 1
          }
         },
         "name": "Vallecano",
         "orientation": "v",
         "text": "",
         "type": "bar",
         "x": [
          "Alemania",
          "España",
          "Inglaterra"
         ],
         "y": [
          0,
          13,
          0
         ]
        },
        {
         "marker": {
          "color": "rgba(128, 128, 0, 0.6)",
          "line": {
           "color": "rgba(128, 128, 0, 0.39999999999999974)",
           "width": 1
          }
         },
         "name": "Villarreal",
         "orientation": "v",
         "text": "",
         "type": "bar",
         "x": [
          "Alemania",
          "España",
          "Inglaterra"
         ],
         "y": [
          0,
          80,
          0
         ]
        },
        {
         "marker": {
          "color": "rgba(251, 128, 114, 0.6)",
          "line": {
           "color": "rgba(251, 128, 114, 0.39999999999999974)",
           "width": 1
          }
         },
         "name": "Watford",
         "orientation": "v",
         "text": "",
         "type": "bar",
         "x": [
          "Alemania",
          "España",
          "Inglaterra"
         ],
         "y": [
          0,
          0,
          31
         ]
        },
        {
         "marker": {
          "color": "rgba(128, 177, 211, 0.6)",
          "line": {
           "color": "rgba(128, 177, 211, 0.39999999999999974)",
           "width": 1
          }
         },
         "name": "Werder Bremen",
         "orientation": "v",
         "text": "",
         "type": "bar",
         "x": [
          "Alemania",
          "España",
          "Inglaterra"
         ],
         "y": [
          47,
          0,
          0
         ]
        },
        {
         "marker": {
          "color": "rgba(255, 153, 51, 0.6)",
          "line": {
           "color": "rgba(255, 153, 51, 0.39999999999999974)",
           "width": 1
          }
         },
         "name": "West Brom",
         "orientation": "v",
         "text": "",
         "type": "bar",
         "x": [
          "Alemania",
          "España",
          "Inglaterra"
         ],
         "y": [
          0,
          0,
          20
         ]
        },
        {
         "marker": {
          "color": "rgba(55, 128, 191, 0.6)",
          "line": {
           "color": "rgba(55, 128, 191, 0.39999999999999974)",
           "width": 1
          }
         },
         "name": "West Ham",
         "orientation": "v",
         "text": "",
         "type": "bar",
         "x": [
          "Alemania",
          "España",
          "Inglaterra"
         ],
         "y": [
          0,
          0,
          76
         ]
        },
        {
         "marker": {
          "color": "rgba(50, 171, 96, 0.6)",
          "line": {
           "color": "rgba(50, 171, 96, 0.39999999999999974)",
           "width": 1
          }
         },
         "name": "Wolfsburg",
         "orientation": "v",
         "text": "",
         "type": "bar",
         "x": [
          "Alemania",
          "España",
          "Inglaterra"
         ],
         "y": [
          76,
          0,
          0
         ]
        },
        {
         "marker": {
          "color": "rgba(128, 0, 128, 0.6)",
          "line": {
           "color": "rgba(128, 0, 128, 0.39999999999999974)",
           "width": 1
          }
         },
         "name": "Wolves",
         "orientation": "v",
         "text": "",
         "type": "bar",
         "x": [
          "Alemania",
          "España",
          "Inglaterra"
         ],
         "y": [
          0,
          0,
          57
         ]
        }
       ],
       "layout": {
        "barmode": "stack",
        "legend": {
         "bgcolor": "#242424",
         "font": {
          "color": "#F4F4F4"
         },
         "traceorder": "normal"
        },
        "paper_bgcolor": "#242424",
        "plot_bgcolor": "#242424",
        "template": {
         "data": {
          "bar": [
           {
            "error_x": {
             "color": "#2a3f5f"
            },
            "error_y": {
             "color": "#2a3f5f"
            },
            "marker": {
             "line": {
              "color": "#E5ECF6",
              "width": 0.5
             },
             "pattern": {
              "fillmode": "overlay",
              "size": 10,
              "solidity": 0.2
             }
            },
            "type": "bar"
           }
          ],
          "barpolar": [
           {
            "marker": {
             "line": {
              "color": "#E5ECF6",
              "width": 0.5
             },
             "pattern": {
              "fillmode": "overlay",
              "size": 10,
              "solidity": 0.2
             }
            },
            "type": "barpolar"
           }
          ],
          "carpet": [
           {
            "aaxis": {
             "endlinecolor": "#2a3f5f",
             "gridcolor": "white",
             "linecolor": "white",
             "minorgridcolor": "white",
             "startlinecolor": "#2a3f5f"
            },
            "baxis": {
             "endlinecolor": "#2a3f5f",
             "gridcolor": "white",
             "linecolor": "white",
             "minorgridcolor": "white",
             "startlinecolor": "#2a3f5f"
            },
            "type": "carpet"
           }
          ],
          "choropleth": [
           {
            "colorbar": {
             "outlinewidth": 0,
             "ticks": ""
            },
            "type": "choropleth"
           }
          ],
          "contour": [
           {
            "colorbar": {
             "outlinewidth": 0,
             "ticks": ""
            },
            "colorscale": [
             [
              0,
              "#0d0887"
             ],
             [
              0.1111111111111111,
              "#46039f"
             ],
             [
              0.2222222222222222,
              "#7201a8"
             ],
             [
              0.3333333333333333,
              "#9c179e"
             ],
             [
              0.4444444444444444,
              "#bd3786"
             ],
             [
              0.5555555555555556,
              "#d8576b"
             ],
             [
              0.6666666666666666,
              "#ed7953"
             ],
             [
              0.7777777777777778,
              "#fb9f3a"
             ],
             [
              0.8888888888888888,
              "#fdca26"
             ],
             [
              1,
              "#f0f921"
             ]
            ],
            "type": "contour"
           }
          ],
          "contourcarpet": [
           {
            "colorbar": {
             "outlinewidth": 0,
             "ticks": ""
            },
            "type": "contourcarpet"
           }
          ],
          "heatmap": [
           {
            "colorbar": {
             "outlinewidth": 0,
             "ticks": ""
            },
            "colorscale": [
             [
              0,
              "#0d0887"
             ],
             [
              0.1111111111111111,
              "#46039f"
             ],
             [
              0.2222222222222222,
              "#7201a8"
             ],
             [
              0.3333333333333333,
              "#9c179e"
             ],
             [
              0.4444444444444444,
              "#bd3786"
             ],
             [
              0.5555555555555556,
              "#d8576b"
             ],
             [
              0.6666666666666666,
              "#ed7953"
             ],
             [
              0.7777777777777778,
              "#fb9f3a"
             ],
             [
              0.8888888888888888,
              "#fdca26"
             ],
             [
              1,
              "#f0f921"
             ]
            ],
            "type": "heatmap"
           }
          ],
          "heatmapgl": [
           {
            "colorbar": {
             "outlinewidth": 0,
             "ticks": ""
            },
            "colorscale": [
             [
              0,
              "#0d0887"
             ],
             [
              0.1111111111111111,
              "#46039f"
             ],
             [
              0.2222222222222222,
              "#7201a8"
             ],
             [
              0.3333333333333333,
              "#9c179e"
             ],
             [
              0.4444444444444444,
              "#bd3786"
             ],
             [
              0.5555555555555556,
              "#d8576b"
             ],
             [
              0.6666666666666666,
              "#ed7953"
             ],
             [
              0.7777777777777778,
              "#fb9f3a"
             ],
             [
              0.8888888888888888,
              "#fdca26"
             ],
             [
              1,
              "#f0f921"
             ]
            ],
            "type": "heatmapgl"
           }
          ],
          "histogram": [
           {
            "marker": {
             "pattern": {
              "fillmode": "overlay",
              "size": 10,
              "solidity": 0.2
             }
            },
            "type": "histogram"
           }
          ],
          "histogram2d": [
           {
            "colorbar": {
             "outlinewidth": 0,
             "ticks": ""
            },
            "colorscale": [
             [
              0,
              "#0d0887"
             ],
             [
              0.1111111111111111,
              "#46039f"
             ],
             [
              0.2222222222222222,
              "#7201a8"
             ],
             [
              0.3333333333333333,
              "#9c179e"
             ],
             [
              0.4444444444444444,
              "#bd3786"
             ],
             [
              0.5555555555555556,
              "#d8576b"
             ],
             [
              0.6666666666666666,
              "#ed7953"
             ],
             [
              0.7777777777777778,
              "#fb9f3a"
             ],
             [
              0.8888888888888888,
              "#fdca26"
             ],
             [
              1,
              "#f0f921"
             ]
            ],
            "type": "histogram2d"
           }
          ],
          "histogram2dcontour": [
           {
            "colorbar": {
             "outlinewidth": 0,
             "ticks": ""
            },
            "colorscale": [
             [
              0,
              "#0d0887"
             ],
             [
              0.1111111111111111,
              "#46039f"
             ],
             [
              0.2222222222222222,
              "#7201a8"
             ],
             [
              0.3333333333333333,
              "#9c179e"
             ],
             [
              0.4444444444444444,
              "#bd3786"
             ],
             [
              0.5555555555555556,
              "#d8576b"
             ],
             [
              0.6666666666666666,
              "#ed7953"
             ],
             [
              0.7777777777777778,
              "#fb9f3a"
             ],
             [
              0.8888888888888888,
              "#fdca26"
             ],
             [
              1,
              "#f0f921"
             ]
            ],
            "type": "histogram2dcontour"
           }
          ],
          "mesh3d": [
           {
            "colorbar": {
             "outlinewidth": 0,
             "ticks": ""
            },
            "type": "mesh3d"
           }
          ],
          "parcoords": [
           {
            "line": {
             "colorbar": {
              "outlinewidth": 0,
              "ticks": ""
             }
            },
            "type": "parcoords"
           }
          ],
          "pie": [
           {
            "automargin": true,
            "type": "pie"
           }
          ],
          "scatter": [
           {
            "fillpattern": {
             "fillmode": "overlay",
             "size": 10,
             "solidity": 0.2
            },
            "type": "scatter"
           }
          ],
          "scatter3d": [
           {
            "line": {
             "colorbar": {
              "outlinewidth": 0,
              "ticks": ""
             }
            },
            "marker": {
             "colorbar": {
              "outlinewidth": 0,
              "ticks": ""
             }
            },
            "type": "scatter3d"
           }
          ],
          "scattercarpet": [
           {
            "marker": {
             "colorbar": {
              "outlinewidth": 0,
              "ticks": ""
             }
            },
            "type": "scattercarpet"
           }
          ],
          "scattergeo": [
           {
            "marker": {
             "colorbar": {
              "outlinewidth": 0,
              "ticks": ""
             }
            },
            "type": "scattergeo"
           }
          ],
          "scattergl": [
           {
            "marker": {
             "colorbar": {
              "outlinewidth": 0,
              "ticks": ""
             }
            },
            "type": "scattergl"
           }
          ],
          "scattermapbox": [
           {
            "marker": {
             "colorbar": {
              "outlinewidth": 0,
              "ticks": ""
             }
            },
            "type": "scattermapbox"
           }
          ],
          "scatterpolar": [
           {
            "marker": {
             "colorbar": {
              "outlinewidth": 0,
              "ticks": ""
             }
            },
            "type": "scatterpolar"
           }
          ],
          "scatterpolargl": [
           {
            "marker": {
             "colorbar": {
              "outlinewidth": 0,
              "ticks": ""
             }
            },
            "type": "scatterpolargl"
           }
          ],
          "scatterternary": [
           {
            "marker": {
             "colorbar": {
              "outlinewidth": 0,
              "ticks": ""
             }
            },
            "type": "scatterternary"
           }
          ],
          "surface": [
           {
            "colorbar": {
             "outlinewidth": 0,
             "ticks": ""
            },
            "colorscale": [
             [
              0,
              "#0d0887"
             ],
             [
              0.1111111111111111,
              "#46039f"
             ],
             [
              0.2222222222222222,
              "#7201a8"
             ],
             [
              0.3333333333333333,
              "#9c179e"
             ],
             [
              0.4444444444444444,
              "#bd3786"
             ],
             [
              0.5555555555555556,
              "#d8576b"
             ],
             [
              0.6666666666666666,
              "#ed7953"
             ],
             [
              0.7777777777777778,
              "#fb9f3a"
             ],
             [
              0.8888888888888888,
              "#fdca26"
             ],
             [
              1,
              "#f0f921"
             ]
            ],
            "type": "surface"
           }
          ],
          "table": [
           {
            "cells": {
             "fill": {
              "color": "#EBF0F8"
             },
             "line": {
              "color": "white"
             }
            },
            "header": {
             "fill": {
              "color": "#C8D4E3"
             },
             "line": {
              "color": "white"
             }
            },
            "type": "table"
           }
          ]
         },
         "layout": {
          "annotationdefaults": {
           "arrowcolor": "#2a3f5f",
           "arrowhead": 0,
           "arrowwidth": 1
          },
          "autotypenumbers": "strict",
          "coloraxis": {
           "colorbar": {
            "outlinewidth": 0,
            "ticks": ""
           }
          },
          "colorscale": {
           "diverging": [
            [
             0,
             "#8e0152"
            ],
            [
             0.1,
             "#c51b7d"
            ],
            [
             0.2,
             "#de77ae"
            ],
            [
             0.3,
             "#f1b6da"
            ],
            [
             0.4,
             "#fde0ef"
            ],
            [
             0.5,
             "#f7f7f7"
            ],
            [
             0.6,
             "#e6f5d0"
            ],
            [
             0.7,
             "#b8e186"
            ],
            [
             0.8,
             "#7fbc41"
            ],
            [
             0.9,
             "#4d9221"
            ],
            [
             1,
             "#276419"
            ]
           ],
           "sequential": [
            [
             0,
             "#0d0887"
            ],
            [
             0.1111111111111111,
             "#46039f"
            ],
            [
             0.2222222222222222,
             "#7201a8"
            ],
            [
             0.3333333333333333,
             "#9c179e"
            ],
            [
             0.4444444444444444,
             "#bd3786"
            ],
            [
             0.5555555555555556,
             "#d8576b"
            ],
            [
             0.6666666666666666,
             "#ed7953"
            ],
            [
             0.7777777777777778,
             "#fb9f3a"
            ],
            [
             0.8888888888888888,
             "#fdca26"
            ],
            [
             1,
             "#f0f921"
            ]
           ],
           "sequentialminus": [
            [
             0,
             "#0d0887"
            ],
            [
             0.1111111111111111,
             "#46039f"
            ],
            [
             0.2222222222222222,
             "#7201a8"
            ],
            [
             0.3333333333333333,
             "#9c179e"
            ],
            [
             0.4444444444444444,
             "#bd3786"
            ],
            [
             0.5555555555555556,
             "#d8576b"
            ],
            [
             0.6666666666666666,
             "#ed7953"
            ],
            [
             0.7777777777777778,
             "#fb9f3a"
            ],
            [
             0.8888888888888888,
             "#fdca26"
            ],
            [
             1,
             "#f0f921"
            ]
           ]
          },
          "colorway": [
           "#636efa",
           "#EF553B",
           "#00cc96",
           "#ab63fa",
           "#FFA15A",
           "#19d3f3",
           "#FF6692",
           "#B6E880",
           "#FF97FF",
           "#FECB52"
          ],
          "font": {
           "color": "#2a3f5f"
          },
          "geo": {
           "bgcolor": "white",
           "lakecolor": "white",
           "landcolor": "#E5ECF6",
           "showlakes": true,
           "showland": true,
           "subunitcolor": "white"
          },
          "hoverlabel": {
           "align": "left"
          },
          "hovermode": "closest",
          "mapbox": {
           "style": "light"
          },
          "paper_bgcolor": "white",
          "plot_bgcolor": "#E5ECF6",
          "polar": {
           "angularaxis": {
            "gridcolor": "white",
            "linecolor": "white",
            "ticks": ""
           },
           "bgcolor": "#E5ECF6",
           "radialaxis": {
            "gridcolor": "white",
            "linecolor": "white",
            "ticks": ""
           }
          },
          "scene": {
           "xaxis": {
            "backgroundcolor": "#E5ECF6",
            "gridcolor": "white",
            "gridwidth": 2,
            "linecolor": "white",
            "showbackground": true,
            "ticks": "",
            "zerolinecolor": "white"
           },
           "yaxis": {
            "backgroundcolor": "#E5ECF6",
            "gridcolor": "white",
            "gridwidth": 2,
            "linecolor": "white",
            "showbackground": true,
            "ticks": "",
            "zerolinecolor": "white"
           },
           "zaxis": {
            "backgroundcolor": "#E5ECF6",
            "gridcolor": "white",
            "gridwidth": 2,
            "linecolor": "white",
            "showbackground": true,
            "ticks": "",
            "zerolinecolor": "white"
           }
          },
          "shapedefaults": {
           "line": {
            "color": "#2a3f5f"
           }
          },
          "ternary": {
           "aaxis": {
            "gridcolor": "white",
            "linecolor": "white",
            "ticks": ""
           },
           "baxis": {
            "gridcolor": "white",
            "linecolor": "white",
            "ticks": ""
           },
           "bgcolor": "#E5ECF6",
           "caxis": {
            "gridcolor": "white",
            "linecolor": "white",
            "ticks": ""
           }
          },
          "title": {
           "x": 0.05
          },
          "xaxis": {
           "automargin": true,
           "gridcolor": "white",
           "linecolor": "white",
           "ticks": "",
           "title": {
            "standoff": 15
           },
           "zerolinecolor": "white",
           "zerolinewidth": 2
          },
          "yaxis": {
           "automargin": true,
           "gridcolor": "white",
           "linecolor": "white",
           "ticks": "",
           "title": {
            "standoff": 15
           },
           "zerolinecolor": "white",
           "zerolinewidth": 2
          }
         }
        },
        "title": {
         "font": {
          "color": "#F4F4F4"
         },
         "text": "Goles Totales como Visitante 2019-2022 por clubes y Pais"
        },
        "xaxis": {
         "gridcolor": "#343434",
         "showgrid": true,
         "tickfont": {
          "color": "#A4A4A4"
         },
         "title": {
          "font": {
           "color": "#A4A4A4"
          },
          "text": ""
         },
         "zerolinecolor": "#444444"
        },
        "yaxis": {
         "gridcolor": "#343434",
         "showgrid": true,
         "tickfont": {
          "color": "#A4A4A4"
         },
         "title": {
          "font": {
           "color": "#A4A4A4"
          },
          "text": ""
         },
         "zerolinecolor": "#444444"
        }
       }
      },
      "text/html": [
       "<div>                            <div id=\"66a37367-8df8-407c-9fb8-d09c8cb89b91\" class=\"plotly-graph-div\" style=\"height:525px; width:100%;\"></div>            <script type=\"text/javascript\">                require([\"plotly\"], function(Plotly) {                    window.PLOTLYENV=window.PLOTLYENV || {};\n",
       "                    window.PLOTLYENV.BASE_URL='https://plot.ly';                                    if (document.getElementById(\"66a37367-8df8-407c-9fb8-d09c8cb89b91\")) {                    Plotly.newPlot(                        \"66a37367-8df8-407c-9fb8-d09c8cb89b91\",                        [{\"marker\":{\"color\":\"rgba(255, 153, 51, 0.6)\",\"line\":{\"color\":\"rgba(255, 153, 51, 1.0)\",\"width\":1}},\"name\":\"Alaves\",\"orientation\":\"v\",\"text\":\"\",\"x\":[\"Alemania\",\"Espa\\u00f1a\",\"Inglaterra\"],\"y\":[0.0,43.0,0.0],\"type\":\"bar\"},{\"marker\":{\"color\":\"rgba(55, 128, 191, 0.6)\",\"line\":{\"color\":\"rgba(55, 128, 191, 1.0)\",\"width\":1}},\"name\":\"Arsenal\",\"orientation\":\"v\",\"text\":\"\",\"x\":[\"Alemania\",\"Espa\\u00f1a\",\"Inglaterra\"],\"y\":[0.0,0.0,77.0],\"type\":\"bar\"},{\"marker\":{\"color\":\"rgba(50, 171, 96, 0.6)\",\"line\":{\"color\":\"rgba(50, 171, 96, 1.0)\",\"width\":1}},\"name\":\"Aston Villa\",\"orientation\":\"v\",\"text\":\"\",\"x\":[\"Alemania\",\"Espa\\u00f1a\",\"Inglaterra\"],\"y\":[0.0,0.0,68.0],\"type\":\"bar\"},{\"marker\":{\"color\":\"rgba(128, 0, 128, 0.6)\",\"line\":{\"color\":\"rgba(128, 0, 128, 1.0)\",\"width\":1}},\"name\":\"Ath Bilbao\",\"orientation\":\"v\",\"text\":\"\",\"x\":[\"Alemania\",\"Espa\\u00f1a\",\"Inglaterra\"],\"y\":[0.0,51.0,0.0],\"type\":\"bar\"},{\"marker\":{\"color\":\"rgba(219, 64, 82, 0.6)\",\"line\":{\"color\":\"rgba(219, 64, 82, 1.0)\",\"width\":1}},\"name\":\"Ath Madrid\",\"orientation\":\"v\",\"text\":\"\",\"x\":[\"Alemania\",\"Espa\\u00f1a\",\"Inglaterra\"],\"y\":[0.0,81.0,0.0],\"type\":\"bar\"},{\"marker\":{\"color\":\"rgba(0, 128, 128, 0.6)\",\"line\":{\"color\":\"rgba(0, 128, 128, 1.0)\",\"width\":1}},\"name\":\"Augsburg\",\"orientation\":\"v\",\"text\":\"\",\"x\":[\"Alemania\",\"Espa\\u00f1a\",\"Inglaterra\"],\"y\":[46.0,0.0,0.0],\"type\":\"bar\"},{\"marker\":{\"color\":\"rgba(255, 255, 51, 0.6)\",\"line\":{\"color\":\"rgba(255, 255, 51, 1.0)\",\"width\":1}},\"name\":\"Barcelona\",\"orientation\":\"v\",\"text\":\"\",\"x\":[\"Alemania\",\"Espa\\u00f1a\",\"Inglaterra\"],\"y\":[0.0,106.0,0.0],\"type\":\"bar\"},{\"marker\":{\"color\":\"rgba(128, 128, 0, 0.6)\",\"line\":{\"color\":\"rgba(128, 128, 0, 1.0)\",\"width\":1}},\"name\":\"Bayern Munich\",\"orientation\":\"v\",\"text\":\"\",\"x\":[\"Alemania\",\"Espa\\u00f1a\",\"Inglaterra\"],\"y\":[131.0,0.0,0.0],\"type\":\"bar\"},{\"marker\":{\"color\":\"rgba(251, 128, 114, 0.6)\",\"line\":{\"color\":\"rgba(251, 128, 114, 1.0)\",\"width\":1}},\"name\":\"Betis\",\"orientation\":\"v\",\"text\":\"\",\"x\":[\"Alemania\",\"Espa\\u00f1a\",\"Inglaterra\"],\"y\":[0.0,65.0,0.0],\"type\":\"bar\"},{\"marker\":{\"color\":\"rgba(128, 177, 211, 0.6)\",\"line\":{\"color\":\"rgba(128, 177, 211, 1.0)\",\"width\":1}},\"name\":\"Bielefeld\",\"orientation\":\"v\",\"text\":\"\",\"x\":[\"Alemania\",\"Espa\\u00f1a\",\"Inglaterra\"],\"y\":[25.0,0.0,0.0],\"type\":\"bar\"},{\"marker\":{\"color\":\"rgba(128, 177, 211, 0.6)\",\"line\":{\"color\":\"rgba(128, 177, 211, 0.8999999999999999)\",\"width\":1}},\"name\":\"Bochum\",\"orientation\":\"v\",\"text\":\"\",\"x\":[\"Alemania\",\"Espa\\u00f1a\",\"Inglaterra\"],\"y\":[17.0,0.0,0.0],\"type\":\"bar\"},{\"marker\":{\"color\":\"rgba(255, 153, 51, 0.6)\",\"line\":{\"color\":\"rgba(255, 153, 51, 0.8999999999999999)\",\"width\":1}},\"name\":\"Bournemouth\",\"orientation\":\"v\",\"text\":\"\",\"x\":[\"Alemania\",\"Espa\\u00f1a\",\"Inglaterra\"],\"y\":[0.0,0.0,18.0],\"type\":\"bar\"},{\"marker\":{\"color\":\"rgba(55, 128, 191, 0.6)\",\"line\":{\"color\":\"rgba(55, 128, 191, 0.8999999999999999)\",\"width\":1}},\"name\":\"Brentford\",\"orientation\":\"v\",\"text\":\"\",\"x\":[\"Alemania\",\"Espa\\u00f1a\",\"Inglaterra\"],\"y\":[0.0,0.0,26.0],\"type\":\"bar\"},{\"marker\":{\"color\":\"rgba(50, 171, 96, 0.6)\",\"line\":{\"color\":\"rgba(50, 171, 96, 0.8999999999999999)\",\"width\":1}},\"name\":\"Brighton\",\"orientation\":\"v\",\"text\":\"\",\"x\":[\"Alemania\",\"Espa\\u00f1a\",\"Inglaterra\"],\"y\":[0.0,0.0,60.0],\"type\":\"bar\"},{\"marker\":{\"color\":\"rgba(128, 0, 128, 0.6)\",\"line\":{\"color\":\"rgba(128, 0, 128, 0.8999999999999999)\",\"width\":1}},\"name\":\"Burnley\",\"orientation\":\"v\",\"text\":\"\",\"x\":[\"Alemania\",\"Espa\\u00f1a\",\"Inglaterra\"],\"y\":[0.0,0.0,54.0],\"type\":\"bar\"},{\"marker\":{\"color\":\"rgba(219, 64, 82, 0.6)\",\"line\":{\"color\":\"rgba(219, 64, 82, 0.8999999999999999)\",\"width\":1}},\"name\":\"Cadiz\",\"orientation\":\"v\",\"text\":\"\",\"x\":[\"Alemania\",\"Espa\\u00f1a\",\"Inglaterra\"],\"y\":[0.0,35.0,0.0],\"type\":\"bar\"},{\"marker\":{\"color\":\"rgba(0, 128, 128, 0.6)\",\"line\":{\"color\":\"rgba(0, 128, 128, 0.8999999999999999)\",\"width\":1}},\"name\":\"Celta\",\"orientation\":\"v\",\"text\":\"\",\"x\":[\"Alemania\",\"Espa\\u00f1a\",\"Inglaterra\"],\"y\":[0.0,57.0,0.0],\"type\":\"bar\"},{\"marker\":{\"color\":\"rgba(255, 255, 51, 0.6)\",\"line\":{\"color\":\"rgba(255, 255, 51, 0.8999999999999999)\",\"width\":1}},\"name\":\"Chelsea\",\"orientation\":\"v\",\"text\":\"\",\"x\":[\"Alemania\",\"Espa\\u00f1a\",\"Inglaterra\"],\"y\":[0.0,0.0,105.0],\"type\":\"bar\"},{\"marker\":{\"color\":\"rgba(128, 128, 0, 0.6)\",\"line\":{\"color\":\"rgba(128, 128, 0, 0.8999999999999999)\",\"width\":1}},\"name\":\"Crystal Palace\",\"orientation\":\"v\",\"text\":\"\",\"x\":[\"Alemania\",\"Espa\\u00f1a\",\"Inglaterra\"],\"y\":[0.0,0.0,60.0],\"type\":\"bar\"},{\"marker\":{\"color\":\"rgba(251, 128, 114, 0.6)\",\"line\":{\"color\":\"rgba(251, 128, 114, 0.8999999999999999)\",\"width\":1}},\"name\":\"Dortmund\",\"orientation\":\"v\",\"text\":\"\",\"x\":[\"Alemania\",\"Espa\\u00f1a\",\"Inglaterra\"],\"y\":[106.0,0.0,0.0],\"type\":\"bar\"},{\"marker\":{\"color\":\"rgba(251, 128, 114, 0.6)\",\"line\":{\"color\":\"rgba(251, 128, 114, 0.7999999999999998)\",\"width\":1}},\"name\":\"Eibar\",\"orientation\":\"v\",\"text\":\"\",\"x\":[\"Alemania\",\"Espa\\u00f1a\",\"Inglaterra\"],\"y\":[0.0,31.0,0.0],\"type\":\"bar\"},{\"marker\":{\"color\":\"rgba(128, 177, 211, 0.6)\",\"line\":{\"color\":\"rgba(128, 177, 211, 0.7999999999999998)\",\"width\":1}},\"name\":\"Ein Frankfurt\",\"orientation\":\"v\",\"text\":\"\",\"x\":[\"Alemania\",\"Espa\\u00f1a\",\"Inglaterra\"],\"y\":[80.0,0.0,0.0],\"type\":\"bar\"},{\"marker\":{\"color\":\"rgba(255, 153, 51, 0.6)\",\"line\":{\"color\":\"rgba(255, 153, 51, 0.7999999999999998)\",\"width\":1}},\"name\":\"Elche\",\"orientation\":\"v\",\"text\":\"\",\"x\":[\"Alemania\",\"Espa\\u00f1a\",\"Inglaterra\"],\"y\":[0.0,32.0,0.0],\"type\":\"bar\"},{\"marker\":{\"color\":\"rgba(55, 128, 191, 0.6)\",\"line\":{\"color\":\"rgba(55, 128, 191, 0.7999999999999998)\",\"width\":1}},\"name\":\"Espanol\",\"orientation\":\"v\",\"text\":\"\",\"x\":[\"Alemania\",\"Espa\\u00f1a\",\"Inglaterra\"],\"y\":[0.0,27.0,0.0],\"type\":\"bar\"},{\"marker\":{\"color\":\"rgba(50, 171, 96, 0.6)\",\"line\":{\"color\":\"rgba(50, 171, 96, 0.7999999999999998)\",\"width\":1}},\"name\":\"Everton\",\"orientation\":\"v\",\"text\":\"\",\"x\":[\"Alemania\",\"Espa\\u00f1a\",\"Inglaterra\"],\"y\":[0.0,0.0,59.0],\"type\":\"bar\"},{\"marker\":{\"color\":\"rgba(128, 0, 128, 0.6)\",\"line\":{\"color\":\"rgba(128, 0, 128, 0.7999999999999998)\",\"width\":1}},\"name\":\"FC Koln\",\"orientation\":\"v\",\"text\":\"\",\"x\":[\"Alemania\",\"Espa\\u00f1a\",\"Inglaterra\"],\"y\":[62.0,0.0,0.0],\"type\":\"bar\"},{\"marker\":{\"color\":\"rgba(219, 64, 82, 0.6)\",\"line\":{\"color\":\"rgba(219, 64, 82, 0.7999999999999998)\",\"width\":1}},\"name\":\"Fortuna Dusseldorf\",\"orientation\":\"v\",\"text\":\"\",\"x\":[\"Alemania\",\"Espa\\u00f1a\",\"Inglaterra\"],\"y\":[18.0,0.0,0.0],\"type\":\"bar\"},{\"marker\":{\"color\":\"rgba(0, 128, 128, 0.6)\",\"line\":{\"color\":\"rgba(0, 128, 128, 0.7999999999999998)\",\"width\":1}},\"name\":\"Freiburg\",\"orientation\":\"v\",\"text\":\"\",\"x\":[\"Alemania\",\"Espa\\u00f1a\",\"Inglaterra\"],\"y\":[70.0,0.0,0.0],\"type\":\"bar\"},{\"marker\":{\"color\":\"rgba(255, 255, 51, 0.6)\",\"line\":{\"color\":\"rgba(255, 255, 51, 0.7999999999999998)\",\"width\":1}},\"name\":\"Fulham\",\"orientation\":\"v\",\"text\":\"\",\"x\":[\"Alemania\",\"Espa\\u00f1a\",\"Inglaterra\"],\"y\":[0.0,0.0,18.0],\"type\":\"bar\"},{\"marker\":{\"color\":\"rgba(128, 128, 0, 0.6)\",\"line\":{\"color\":\"rgba(128, 128, 0, 0.7999999999999998)\",\"width\":1}},\"name\":\"Getafe\",\"orientation\":\"v\",\"text\":\"\",\"x\":[\"Alemania\",\"Espa\\u00f1a\",\"Inglaterra\"],\"y\":[0.0,43.0,0.0],\"type\":\"bar\"},{\"marker\":{\"color\":\"rgba(128, 128, 0, 0.6)\",\"line\":{\"color\":\"rgba(128, 128, 0, 0.7)\",\"width\":1}},\"name\":\"Granada\",\"orientation\":\"v\",\"text\":\"\",\"x\":[\"Alemania\",\"Espa\\u00f1a\",\"Inglaterra\"],\"y\":[0.0,70.0,0.0],\"type\":\"bar\"},{\"marker\":{\"color\":\"rgba(251, 128, 114, 0.6)\",\"line\":{\"color\":\"rgba(251, 128, 114, 0.7)\",\"width\":1}},\"name\":\"Greuther Furth\",\"orientation\":\"v\",\"text\":\"\",\"x\":[\"Alemania\",\"Espa\\u00f1a\",\"Inglaterra\"],\"y\":[13.0,0.0,0.0],\"type\":\"bar\"},{\"marker\":{\"color\":\"rgba(128, 177, 211, 0.6)\",\"line\":{\"color\":\"rgba(128, 177, 211, 0.7)\",\"width\":1}},\"name\":\"Hertha\",\"orientation\":\"v\",\"text\":\"\",\"x\":[\"Alemania\",\"Espa\\u00f1a\",\"Inglaterra\"],\"y\":[58.0,0.0,0.0],\"type\":\"bar\"},{\"marker\":{\"color\":\"rgba(255, 153, 51, 0.6)\",\"line\":{\"color\":\"rgba(255, 153, 51, 0.7)\",\"width\":1}},\"name\":\"Hoffenheim\",\"orientation\":\"v\",\"text\":\"\",\"x\":[\"Alemania\",\"Espa\\u00f1a\",\"Inglaterra\"],\"y\":[71.0,0.0,0.0],\"type\":\"bar\"},{\"marker\":{\"color\":\"rgba(55, 128, 191, 0.6)\",\"line\":{\"color\":\"rgba(55, 128, 191, 0.7)\",\"width\":1}},\"name\":\"Huesca\",\"orientation\":\"v\",\"text\":\"\",\"x\":[\"Alemania\",\"Espa\\u00f1a\",\"Inglaterra\"],\"y\":[0.0,17.0,0.0],\"type\":\"bar\"},{\"marker\":{\"color\":\"rgba(50, 171, 96, 0.6)\",\"line\":{\"color\":\"rgba(50, 171, 96, 0.7)\",\"width\":1}},\"name\":\"Leeds\",\"orientation\":\"v\",\"text\":\"\",\"x\":[\"Alemania\",\"Espa\\u00f1a\",\"Inglaterra\"],\"y\":[0.0,0.0,57.0],\"type\":\"bar\"},{\"marker\":{\"color\":\"rgba(128, 0, 128, 0.6)\",\"line\":{\"color\":\"rgba(128, 0, 128, 0.7)\",\"width\":1}},\"name\":\"Leganes\",\"orientation\":\"v\",\"text\":\"\",\"x\":[\"Alemania\",\"Espa\\u00f1a\",\"Inglaterra\"],\"y\":[0.0,13.0,0.0],\"type\":\"bar\"},{\"marker\":{\"color\":\"rgba(219, 64, 82, 0.6)\",\"line\":{\"color\":\"rgba(219, 64, 82, 0.7)\",\"width\":1}},\"name\":\"Leicester\",\"orientation\":\"v\",\"text\":\"\",\"x\":[\"Alemania\",\"Espa\\u00f1a\",\"Inglaterra\"],\"y\":[0.0,0.0,94.0],\"type\":\"bar\"},{\"marker\":{\"color\":\"rgba(0, 128, 128, 0.6)\",\"line\":{\"color\":\"rgba(0, 128, 128, 0.7)\",\"width\":1}},\"name\":\"Levante\",\"orientation\":\"v\",\"text\":\"\",\"x\":[\"Alemania\",\"Espa\\u00f1a\",\"Inglaterra\"],\"y\":[0.0,62.0,0.0],\"type\":\"bar\"},{\"marker\":{\"color\":\"rgba(255, 255, 51, 0.6)\",\"line\":{\"color\":\"rgba(255, 255, 51, 0.7)\",\"width\":1}},\"name\":\"Leverkusen\",\"orientation\":\"v\",\"text\":\"\",\"x\":[\"Alemania\",\"Espa\\u00f1a\",\"Inglaterra\"],\"y\":[89.0,0.0,0.0],\"type\":\"bar\"},{\"marker\":{\"color\":\"rgba(255, 255, 51, 0.6)\",\"line\":{\"color\":\"rgba(255, 255, 51, 0.5999999999999999)\",\"width\":1}},\"name\":\"Liverpool\",\"orientation\":\"v\",\"text\":\"\",\"x\":[\"Alemania\",\"Espa\\u00f1a\",\"Inglaterra\"],\"y\":[0.0,0.0,117.0],\"type\":\"bar\"},{\"marker\":{\"color\":\"rgba(128, 128, 0, 0.6)\",\"line\":{\"color\":\"rgba(128, 128, 0, 0.5999999999999999)\",\"width\":1}},\"name\":\"M'gladbach\",\"orientation\":\"v\",\"text\":\"\",\"x\":[\"Alemania\",\"Espa\\u00f1a\",\"Inglaterra\"],\"y\":[79.0,0.0,0.0],\"type\":\"bar\"},{\"marker\":{\"color\":\"rgba(251, 128, 114, 0.6)\",\"line\":{\"color\":\"rgba(251, 128, 114, 0.5999999999999999)\",\"width\":1}},\"name\":\"Mainz\",\"orientation\":\"v\",\"text\":\"\",\"x\":[\"Alemania\",\"Espa\\u00f1a\",\"Inglaterra\"],\"y\":[66.0,0.0,0.0],\"type\":\"bar\"},{\"marker\":{\"color\":\"rgba(128, 177, 211, 0.6)\",\"line\":{\"color\":\"rgba(128, 177, 211, 0.5999999999999999)\",\"width\":1}},\"name\":\"Mallorca\",\"orientation\":\"v\",\"text\":\"\",\"x\":[\"Alemania\",\"Espa\\u00f1a\",\"Inglaterra\"],\"y\":[0.0,31.0,0.0],\"type\":\"bar\"},{\"marker\":{\"color\":\"rgba(255, 153, 51, 0.6)\",\"line\":{\"color\":\"rgba(255, 153, 51, 0.5999999999999999)\",\"width\":1}},\"name\":\"Man City\",\"orientation\":\"v\",\"text\":\"\",\"x\":[\"Alemania\",\"Espa\\u00f1a\",\"Inglaterra\"],\"y\":[0.0,0.0,126.0],\"type\":\"bar\"},{\"marker\":{\"color\":\"rgba(55, 128, 191, 0.6)\",\"line\":{\"color\":\"rgba(55, 128, 191, 0.5999999999999999)\",\"width\":1}},\"name\":\"Man United\",\"orientation\":\"v\",\"text\":\"\",\"x\":[\"Alemania\",\"Espa\\u00f1a\",\"Inglaterra\"],\"y\":[0.0,0.0,86.0],\"type\":\"bar\"},{\"marker\":{\"color\":\"rgba(50, 171, 96, 0.6)\",\"line\":{\"color\":\"rgba(50, 171, 96, 0.5999999999999999)\",\"width\":1}},\"name\":\"Newcastle\",\"orientation\":\"v\",\"text\":\"\",\"x\":[\"Alemania\",\"Espa\\u00f1a\",\"Inglaterra\"],\"y\":[0.0,0.0,56.0],\"type\":\"bar\"},{\"marker\":{\"color\":\"rgba(128, 0, 128, 0.6)\",\"line\":{\"color\":\"rgba(128, 0, 128, 0.5999999999999999)\",\"width\":1}},\"name\":\"Norwich\",\"orientation\":\"v\",\"text\":\"\",\"x\":[\"Alemania\",\"Espa\\u00f1a\",\"Inglaterra\"],\"y\":[0.0,0.0,18.0],\"type\":\"bar\"},{\"marker\":{\"color\":\"rgba(219, 64, 82, 0.6)\",\"line\":{\"color\":\"rgba(219, 64, 82, 0.5999999999999999)\",\"width\":1}},\"name\":\"Osasuna\",\"orientation\":\"v\",\"text\":\"\",\"x\":[\"Alemania\",\"Espa\\u00f1a\",\"Inglaterra\"],\"y\":[0.0,56.0,0.0],\"type\":\"bar\"},{\"marker\":{\"color\":\"rgba(0, 128, 128, 0.6)\",\"line\":{\"color\":\"rgba(0, 128, 128, 0.5999999999999999)\",\"width\":1}},\"name\":\"Paderborn\",\"orientation\":\"v\",\"text\":\"\",\"x\":[\"Alemania\",\"Espa\\u00f1a\",\"Inglaterra\"],\"y\":[16.0,0.0,0.0],\"type\":\"bar\"},{\"marker\":{\"color\":\"rgba(0, 128, 128, 0.6)\",\"line\":{\"color\":\"rgba(0, 128, 128, 0.49999999999999983)\",\"width\":1}},\"name\":\"RB Leipzig\",\"orientation\":\"v\",\"text\":\"\",\"x\":[\"Alemania\",\"Espa\\u00f1a\",\"Inglaterra\"],\"y\":[103.0,0.0,0.0],\"type\":\"bar\"},{\"marker\":{\"color\":\"rgba(255, 255, 51, 0.6)\",\"line\":{\"color\":\"rgba(255, 255, 51, 0.49999999999999983)\",\"width\":1}},\"name\":\"Real Madrid\",\"orientation\":\"v\",\"text\":\"\",\"x\":[\"Alemania\",\"Espa\\u00f1a\",\"Inglaterra\"],\"y\":[0.0,100.0,0.0],\"type\":\"bar\"},{\"marker\":{\"color\":\"rgba(128, 128, 0, 0.6)\",\"line\":{\"color\":\"rgba(128, 128, 0, 0.49999999999999983)\",\"width\":1}},\"name\":\"Schalke 04\",\"orientation\":\"v\",\"text\":\"\",\"x\":[\"Alemania\",\"Espa\\u00f1a\",\"Inglaterra\"],\"y\":[29.0,0.0,0.0],\"type\":\"bar\"},{\"marker\":{\"color\":\"rgba(251, 128, 114, 0.6)\",\"line\":{\"color\":\"rgba(251, 128, 114, 0.49999999999999983)\",\"width\":1}},\"name\":\"Sevilla\",\"orientation\":\"v\",\"text\":\"\",\"x\":[\"Alemania\",\"Espa\\u00f1a\",\"Inglaterra\"],\"y\":[0.0,71.0,0.0],\"type\":\"bar\"},{\"marker\":{\"color\":\"rgba(128, 177, 211, 0.6)\",\"line\":{\"color\":\"rgba(128, 177, 211, 0.49999999999999983)\",\"width\":1}},\"name\":\"Sheffield United\",\"orientation\":\"v\",\"text\":\"\",\"x\":[\"Alemania\",\"Espa\\u00f1a\",\"Inglaterra\"],\"y\":[0.0,0.0,23.0],\"type\":\"bar\"},{\"marker\":{\"color\":\"rgba(255, 153, 51, 0.6)\",\"line\":{\"color\":\"rgba(255, 153, 51, 0.49999999999999983)\",\"width\":1}},\"name\":\"Sociedad\",\"orientation\":\"v\",\"text\":\"\",\"x\":[\"Alemania\",\"Espa\\u00f1a\",\"Inglaterra\"],\"y\":[0.0,72.0,0.0],\"type\":\"bar\"},{\"marker\":{\"color\":\"rgba(55, 128, 191, 0.6)\",\"line\":{\"color\":\"rgba(55, 128, 191, 0.49999999999999983)\",\"width\":1}},\"name\":\"Southampton\",\"orientation\":\"v\",\"text\":\"\",\"x\":[\"Alemania\",\"Espa\\u00f1a\",\"Inglaterra\"],\"y\":[0.0,0.0,69.0],\"type\":\"bar\"},{\"marker\":{\"color\":\"rgba(50, 171, 96, 0.6)\",\"line\":{\"color\":\"rgba(50, 171, 96, 0.49999999999999983)\",\"width\":1}},\"name\":\"Stuttgart\",\"orientation\":\"v\",\"text\":\"\",\"x\":[\"Alemania\",\"Espa\\u00f1a\",\"Inglaterra\"],\"y\":[42.0,0.0,0.0],\"type\":\"bar\"},{\"marker\":{\"color\":\"rgba(128, 0, 128, 0.6)\",\"line\":{\"color\":\"rgba(128, 0, 128, 0.49999999999999983)\",\"width\":1}},\"name\":\"Tottenham\",\"orientation\":\"v\",\"text\":\"\",\"x\":[\"Alemania\",\"Espa\\u00f1a\",\"Inglaterra\"],\"y\":[0.0,0.0,89.0],\"type\":\"bar\"},{\"marker\":{\"color\":\"rgba(219, 64, 82, 0.6)\",\"line\":{\"color\":\"rgba(219, 64, 82, 0.49999999999999983)\",\"width\":1}},\"name\":\"Union Berlin\",\"orientation\":\"v\",\"text\":\"\",\"x\":[\"Alemania\",\"Espa\\u00f1a\",\"Inglaterra\"],\"y\":[60.0,0.0,0.0],\"type\":\"bar\"},{\"marker\":{\"color\":\"rgba(219, 64, 82, 0.6)\",\"line\":{\"color\":\"rgba(219, 64, 82, 0.39999999999999974)\",\"width\":1}},\"name\":\"Valencia\",\"orientation\":\"v\",\"text\":\"\",\"x\":[\"Alemania\",\"Espa\\u00f1a\",\"Inglaterra\"],\"y\":[0.0,55.0,0.0],\"type\":\"bar\"},{\"marker\":{\"color\":\"rgba(0, 128, 128, 0.6)\",\"line\":{\"color\":\"rgba(0, 128, 128, 0.39999999999999974)\",\"width\":1}},\"name\":\"Valladolid\",\"orientation\":\"v\",\"text\":\"\",\"x\":[\"Alemania\",\"Espa\\u00f1a\",\"Inglaterra\"],\"y\":[0.0,29.0,0.0],\"type\":\"bar\"},{\"marker\":{\"color\":\"rgba(255, 255, 51, 0.6)\",\"line\":{\"color\":\"rgba(255, 255, 51, 0.39999999999999974)\",\"width\":1}},\"name\":\"Vallecano\",\"orientation\":\"v\",\"text\":\"\",\"x\":[\"Alemania\",\"Espa\\u00f1a\",\"Inglaterra\"],\"y\":[0.0,13.0,0.0],\"type\":\"bar\"},{\"marker\":{\"color\":\"rgba(128, 128, 0, 0.6)\",\"line\":{\"color\":\"rgba(128, 128, 0, 0.39999999999999974)\",\"width\":1}},\"name\":\"Villarreal\",\"orientation\":\"v\",\"text\":\"\",\"x\":[\"Alemania\",\"Espa\\u00f1a\",\"Inglaterra\"],\"y\":[0.0,80.0,0.0],\"type\":\"bar\"},{\"marker\":{\"color\":\"rgba(251, 128, 114, 0.6)\",\"line\":{\"color\":\"rgba(251, 128, 114, 0.39999999999999974)\",\"width\":1}},\"name\":\"Watford\",\"orientation\":\"v\",\"text\":\"\",\"x\":[\"Alemania\",\"Espa\\u00f1a\",\"Inglaterra\"],\"y\":[0.0,0.0,31.0],\"type\":\"bar\"},{\"marker\":{\"color\":\"rgba(128, 177, 211, 0.6)\",\"line\":{\"color\":\"rgba(128, 177, 211, 0.39999999999999974)\",\"width\":1}},\"name\":\"Werder Bremen\",\"orientation\":\"v\",\"text\":\"\",\"x\":[\"Alemania\",\"Espa\\u00f1a\",\"Inglaterra\"],\"y\":[47.0,0.0,0.0],\"type\":\"bar\"},{\"marker\":{\"color\":\"rgba(255, 153, 51, 0.6)\",\"line\":{\"color\":\"rgba(255, 153, 51, 0.39999999999999974)\",\"width\":1}},\"name\":\"West Brom\",\"orientation\":\"v\",\"text\":\"\",\"x\":[\"Alemania\",\"Espa\\u00f1a\",\"Inglaterra\"],\"y\":[0.0,0.0,20.0],\"type\":\"bar\"},{\"marker\":{\"color\":\"rgba(55, 128, 191, 0.6)\",\"line\":{\"color\":\"rgba(55, 128, 191, 0.39999999999999974)\",\"width\":1}},\"name\":\"West Ham\",\"orientation\":\"v\",\"text\":\"\",\"x\":[\"Alemania\",\"Espa\\u00f1a\",\"Inglaterra\"],\"y\":[0.0,0.0,76.0],\"type\":\"bar\"},{\"marker\":{\"color\":\"rgba(50, 171, 96, 0.6)\",\"line\":{\"color\":\"rgba(50, 171, 96, 0.39999999999999974)\",\"width\":1}},\"name\":\"Wolfsburg\",\"orientation\":\"v\",\"text\":\"\",\"x\":[\"Alemania\",\"Espa\\u00f1a\",\"Inglaterra\"],\"y\":[76.0,0.0,0.0],\"type\":\"bar\"},{\"marker\":{\"color\":\"rgba(128, 0, 128, 0.6)\",\"line\":{\"color\":\"rgba(128, 0, 128, 0.39999999999999974)\",\"width\":1}},\"name\":\"Wolves\",\"orientation\":\"v\",\"text\":\"\",\"x\":[\"Alemania\",\"Espa\\u00f1a\",\"Inglaterra\"],\"y\":[0.0,0.0,57.0],\"type\":\"bar\"}],                        {\"barmode\":\"stack\",\"legend\":{\"bgcolor\":\"#242424\",\"font\":{\"color\":\"#F4F4F4\"},\"traceorder\":\"normal\"},\"paper_bgcolor\":\"#242424\",\"plot_bgcolor\":\"#242424\",\"template\":{\"data\":{\"barpolar\":[{\"marker\":{\"line\":{\"color\":\"#E5ECF6\",\"width\":0.5},\"pattern\":{\"fillmode\":\"overlay\",\"size\":10,\"solidity\":0.2}},\"type\":\"barpolar\"}],\"bar\":[{\"error_x\":{\"color\":\"#2a3f5f\"},\"error_y\":{\"color\":\"#2a3f5f\"},\"marker\":{\"line\":{\"color\":\"#E5ECF6\",\"width\":0.5},\"pattern\":{\"fillmode\":\"overlay\",\"size\":10,\"solidity\":0.2}},\"type\":\"bar\"}],\"carpet\":[{\"aaxis\":{\"endlinecolor\":\"#2a3f5f\",\"gridcolor\":\"white\",\"linecolor\":\"white\",\"minorgridcolor\":\"white\",\"startlinecolor\":\"#2a3f5f\"},\"baxis\":{\"endlinecolor\":\"#2a3f5f\",\"gridcolor\":\"white\",\"linecolor\":\"white\",\"minorgridcolor\":\"white\",\"startlinecolor\":\"#2a3f5f\"},\"type\":\"carpet\"}],\"choropleth\":[{\"colorbar\":{\"outlinewidth\":0,\"ticks\":\"\"},\"type\":\"choropleth\"}],\"contourcarpet\":[{\"colorbar\":{\"outlinewidth\":0,\"ticks\":\"\"},\"type\":\"contourcarpet\"}],\"contour\":[{\"colorbar\":{\"outlinewidth\":0,\"ticks\":\"\"},\"colorscale\":[[0.0,\"#0d0887\"],[0.1111111111111111,\"#46039f\"],[0.2222222222222222,\"#7201a8\"],[0.3333333333333333,\"#9c179e\"],[0.4444444444444444,\"#bd3786\"],[0.5555555555555556,\"#d8576b\"],[0.6666666666666666,\"#ed7953\"],[0.7777777777777778,\"#fb9f3a\"],[0.8888888888888888,\"#fdca26\"],[1.0,\"#f0f921\"]],\"type\":\"contour\"}],\"heatmapgl\":[{\"colorbar\":{\"outlinewidth\":0,\"ticks\":\"\"},\"colorscale\":[[0.0,\"#0d0887\"],[0.1111111111111111,\"#46039f\"],[0.2222222222222222,\"#7201a8\"],[0.3333333333333333,\"#9c179e\"],[0.4444444444444444,\"#bd3786\"],[0.5555555555555556,\"#d8576b\"],[0.6666666666666666,\"#ed7953\"],[0.7777777777777778,\"#fb9f3a\"],[0.8888888888888888,\"#fdca26\"],[1.0,\"#f0f921\"]],\"type\":\"heatmapgl\"}],\"heatmap\":[{\"colorbar\":{\"outlinewidth\":0,\"ticks\":\"\"},\"colorscale\":[[0.0,\"#0d0887\"],[0.1111111111111111,\"#46039f\"],[0.2222222222222222,\"#7201a8\"],[0.3333333333333333,\"#9c179e\"],[0.4444444444444444,\"#bd3786\"],[0.5555555555555556,\"#d8576b\"],[0.6666666666666666,\"#ed7953\"],[0.7777777777777778,\"#fb9f3a\"],[0.8888888888888888,\"#fdca26\"],[1.0,\"#f0f921\"]],\"type\":\"heatmap\"}],\"histogram2dcontour\":[{\"colorbar\":{\"outlinewidth\":0,\"ticks\":\"\"},\"colorscale\":[[0.0,\"#0d0887\"],[0.1111111111111111,\"#46039f\"],[0.2222222222222222,\"#7201a8\"],[0.3333333333333333,\"#9c179e\"],[0.4444444444444444,\"#bd3786\"],[0.5555555555555556,\"#d8576b\"],[0.6666666666666666,\"#ed7953\"],[0.7777777777777778,\"#fb9f3a\"],[0.8888888888888888,\"#fdca26\"],[1.0,\"#f0f921\"]],\"type\":\"histogram2dcontour\"}],\"histogram2d\":[{\"colorbar\":{\"outlinewidth\":0,\"ticks\":\"\"},\"colorscale\":[[0.0,\"#0d0887\"],[0.1111111111111111,\"#46039f\"],[0.2222222222222222,\"#7201a8\"],[0.3333333333333333,\"#9c179e\"],[0.4444444444444444,\"#bd3786\"],[0.5555555555555556,\"#d8576b\"],[0.6666666666666666,\"#ed7953\"],[0.7777777777777778,\"#fb9f3a\"],[0.8888888888888888,\"#fdca26\"],[1.0,\"#f0f921\"]],\"type\":\"histogram2d\"}],\"histogram\":[{\"marker\":{\"pattern\":{\"fillmode\":\"overlay\",\"size\":10,\"solidity\":0.2}},\"type\":\"histogram\"}],\"mesh3d\":[{\"colorbar\":{\"outlinewidth\":0,\"ticks\":\"\"},\"type\":\"mesh3d\"}],\"parcoords\":[{\"line\":{\"colorbar\":{\"outlinewidth\":0,\"ticks\":\"\"}},\"type\":\"parcoords\"}],\"pie\":[{\"automargin\":true,\"type\":\"pie\"}],\"scatter3d\":[{\"line\":{\"colorbar\":{\"outlinewidth\":0,\"ticks\":\"\"}},\"marker\":{\"colorbar\":{\"outlinewidth\":0,\"ticks\":\"\"}},\"type\":\"scatter3d\"}],\"scattercarpet\":[{\"marker\":{\"colorbar\":{\"outlinewidth\":0,\"ticks\":\"\"}},\"type\":\"scattercarpet\"}],\"scattergeo\":[{\"marker\":{\"colorbar\":{\"outlinewidth\":0,\"ticks\":\"\"}},\"type\":\"scattergeo\"}],\"scattergl\":[{\"marker\":{\"colorbar\":{\"outlinewidth\":0,\"ticks\":\"\"}},\"type\":\"scattergl\"}],\"scattermapbox\":[{\"marker\":{\"colorbar\":{\"outlinewidth\":0,\"ticks\":\"\"}},\"type\":\"scattermapbox\"}],\"scatterpolargl\":[{\"marker\":{\"colorbar\":{\"outlinewidth\":0,\"ticks\":\"\"}},\"type\":\"scatterpolargl\"}],\"scatterpolar\":[{\"marker\":{\"colorbar\":{\"outlinewidth\":0,\"ticks\":\"\"}},\"type\":\"scatterpolar\"}],\"scatter\":[{\"fillpattern\":{\"fillmode\":\"overlay\",\"size\":10,\"solidity\":0.2},\"type\":\"scatter\"}],\"scatterternary\":[{\"marker\":{\"colorbar\":{\"outlinewidth\":0,\"ticks\":\"\"}},\"type\":\"scatterternary\"}],\"surface\":[{\"colorbar\":{\"outlinewidth\":0,\"ticks\":\"\"},\"colorscale\":[[0.0,\"#0d0887\"],[0.1111111111111111,\"#46039f\"],[0.2222222222222222,\"#7201a8\"],[0.3333333333333333,\"#9c179e\"],[0.4444444444444444,\"#bd3786\"],[0.5555555555555556,\"#d8576b\"],[0.6666666666666666,\"#ed7953\"],[0.7777777777777778,\"#fb9f3a\"],[0.8888888888888888,\"#fdca26\"],[1.0,\"#f0f921\"]],\"type\":\"surface\"}],\"table\":[{\"cells\":{\"fill\":{\"color\":\"#EBF0F8\"},\"line\":{\"color\":\"white\"}},\"header\":{\"fill\":{\"color\":\"#C8D4E3\"},\"line\":{\"color\":\"white\"}},\"type\":\"table\"}]},\"layout\":{\"annotationdefaults\":{\"arrowcolor\":\"#2a3f5f\",\"arrowhead\":0,\"arrowwidth\":1},\"autotypenumbers\":\"strict\",\"coloraxis\":{\"colorbar\":{\"outlinewidth\":0,\"ticks\":\"\"}},\"colorscale\":{\"diverging\":[[0,\"#8e0152\"],[0.1,\"#c51b7d\"],[0.2,\"#de77ae\"],[0.3,\"#f1b6da\"],[0.4,\"#fde0ef\"],[0.5,\"#f7f7f7\"],[0.6,\"#e6f5d0\"],[0.7,\"#b8e186\"],[0.8,\"#7fbc41\"],[0.9,\"#4d9221\"],[1,\"#276419\"]],\"sequential\":[[0.0,\"#0d0887\"],[0.1111111111111111,\"#46039f\"],[0.2222222222222222,\"#7201a8\"],[0.3333333333333333,\"#9c179e\"],[0.4444444444444444,\"#bd3786\"],[0.5555555555555556,\"#d8576b\"],[0.6666666666666666,\"#ed7953\"],[0.7777777777777778,\"#fb9f3a\"],[0.8888888888888888,\"#fdca26\"],[1.0,\"#f0f921\"]],\"sequentialminus\":[[0.0,\"#0d0887\"],[0.1111111111111111,\"#46039f\"],[0.2222222222222222,\"#7201a8\"],[0.3333333333333333,\"#9c179e\"],[0.4444444444444444,\"#bd3786\"],[0.5555555555555556,\"#d8576b\"],[0.6666666666666666,\"#ed7953\"],[0.7777777777777778,\"#fb9f3a\"],[0.8888888888888888,\"#fdca26\"],[1.0,\"#f0f921\"]]},\"colorway\":[\"#636efa\",\"#EF553B\",\"#00cc96\",\"#ab63fa\",\"#FFA15A\",\"#19d3f3\",\"#FF6692\",\"#B6E880\",\"#FF97FF\",\"#FECB52\"],\"font\":{\"color\":\"#2a3f5f\"},\"geo\":{\"bgcolor\":\"white\",\"lakecolor\":\"white\",\"landcolor\":\"#E5ECF6\",\"showlakes\":true,\"showland\":true,\"subunitcolor\":\"white\"},\"hoverlabel\":{\"align\":\"left\"},\"hovermode\":\"closest\",\"mapbox\":{\"style\":\"light\"},\"paper_bgcolor\":\"white\",\"plot_bgcolor\":\"#E5ECF6\",\"polar\":{\"angularaxis\":{\"gridcolor\":\"white\",\"linecolor\":\"white\",\"ticks\":\"\"},\"bgcolor\":\"#E5ECF6\",\"radialaxis\":{\"gridcolor\":\"white\",\"linecolor\":\"white\",\"ticks\":\"\"}},\"scene\":{\"xaxis\":{\"backgroundcolor\":\"#E5ECF6\",\"gridcolor\":\"white\",\"gridwidth\":2,\"linecolor\":\"white\",\"showbackground\":true,\"ticks\":\"\",\"zerolinecolor\":\"white\"},\"yaxis\":{\"backgroundcolor\":\"#E5ECF6\",\"gridcolor\":\"white\",\"gridwidth\":2,\"linecolor\":\"white\",\"showbackground\":true,\"ticks\":\"\",\"zerolinecolor\":\"white\"},\"zaxis\":{\"backgroundcolor\":\"#E5ECF6\",\"gridcolor\":\"white\",\"gridwidth\":2,\"linecolor\":\"white\",\"showbackground\":true,\"ticks\":\"\",\"zerolinecolor\":\"white\"}},\"shapedefaults\":{\"line\":{\"color\":\"#2a3f5f\"}},\"ternary\":{\"aaxis\":{\"gridcolor\":\"white\",\"linecolor\":\"white\",\"ticks\":\"\"},\"baxis\":{\"gridcolor\":\"white\",\"linecolor\":\"white\",\"ticks\":\"\"},\"bgcolor\":\"#E5ECF6\",\"caxis\":{\"gridcolor\":\"white\",\"linecolor\":\"white\",\"ticks\":\"\"}},\"title\":{\"x\":0.05},\"xaxis\":{\"automargin\":true,\"gridcolor\":\"white\",\"linecolor\":\"white\",\"ticks\":\"\",\"title\":{\"standoff\":15},\"zerolinecolor\":\"white\",\"zerolinewidth\":2},\"yaxis\":{\"automargin\":true,\"gridcolor\":\"white\",\"linecolor\":\"white\",\"ticks\":\"\",\"title\":{\"standoff\":15},\"zerolinecolor\":\"white\",\"zerolinewidth\":2}}},\"title\":{\"font\":{\"color\":\"#F4F4F4\"},\"text\":\"Goles Totales como Visitante 2019-2022 por clubes y Pais\"},\"xaxis\":{\"gridcolor\":\"#343434\",\"showgrid\":true,\"tickfont\":{\"color\":\"#A4A4A4\"},\"title\":{\"font\":{\"color\":\"#A4A4A4\"},\"text\":\"\"},\"zerolinecolor\":\"#444444\"},\"yaxis\":{\"gridcolor\":\"#343434\",\"showgrid\":true,\"tickfont\":{\"color\":\"#A4A4A4\"},\"title\":{\"font\":{\"color\":\"#A4A4A4\"},\"text\":\"\"},\"zerolinecolor\":\"#444444\"}},                        {\"showLink\": true, \"linkText\": \"Export to plot.ly\", \"plotlyServerURL\": \"https://plot.ly\", \"responsive\": true}                    ).then(function(){\n",
       "                            \n",
       "var gd = document.getElementById('66a37367-8df8-407c-9fb8-d09c8cb89b91');\n",
       "var x = new MutationObserver(function (mutations, observer) {{\n",
       "        var display = window.getComputedStyle(gd).display;\n",
       "        if (!display || display === 'none') {{\n",
       "            console.log([gd, 'removed!']);\n",
       "            Plotly.purge(gd);\n",
       "            observer.disconnect();\n",
       "        }}\n",
       "}});\n",
       "\n",
       "// Listen for the removal of the full notebook cells\n",
       "var notebookContainer = gd.closest('#notebook-container');\n",
       "if (notebookContainer) {{\n",
       "    x.observe(notebookContainer, {childList: true});\n",
       "}}\n",
       "\n",
       "// Listen for the clearing of the current output cell\n",
       "var outputEl = gd.closest('.output');\n",
       "if (outputEl) {{\n",
       "    x.observe(outputEl, {childList: true});\n",
       "}}\n",
       "\n",
       "                        })                };                });            </script>        </div>"
      ]
     },
     "metadata": {},
     "output_type": "display_data"
    }
   ],
   "source": [
    "# barchart \n",
    "    # doble click sobre un club en la leyenda para aislar su resultado\n",
    "\n",
    "df_visitante.iplot(kind='bar',barmode='stack', title='Goles Totales como Visitante 2019-2022 por clubes y Pais')"
   ]
  },
  {
   "cell_type": "code",
   "execution_count": null,
   "id": "513ed412",
   "metadata": {},
   "outputs": [],
   "source": []
  },
  {
   "cell_type": "code",
   "execution_count": null,
   "id": "f1b45c8c",
   "metadata": {},
   "outputs": [],
   "source": []
  },
  {
   "cell_type": "code",
   "execution_count": null,
   "id": "8969439d",
   "metadata": {},
   "outputs": [],
   "source": []
  },
  {
   "cell_type": "code",
   "execution_count": null,
   "id": "c4630df4",
   "metadata": {},
   "outputs": [],
   "source": []
  },
  {
   "cell_type": "code",
   "execution_count": null,
   "id": "d4752990",
   "metadata": {},
   "outputs": [],
   "source": []
  },
  {
   "cell_type": "code",
   "execution_count": null,
   "id": "29e812b7",
   "metadata": {},
   "outputs": [],
   "source": []
  },
  {
   "cell_type": "code",
   "execution_count": null,
   "id": "4d80f683",
   "metadata": {},
   "outputs": [],
   "source": []
  },
  {
   "cell_type": "code",
   "execution_count": null,
   "id": "9bb5ecb3",
   "metadata": {},
   "outputs": [],
   "source": []
  },
  {
   "cell_type": "code",
   "execution_count": 52,
   "id": "eaa68478",
   "metadata": {
    "run_control": {
     "marked": true
    }
   },
   "outputs": [
    {
     "ename": "NameError",
     "evalue": "name 'df_goleador' is not defined",
     "output_type": "error",
     "traceback": [
      "\u001b[1;31m---------------------------------------------------------------------------\u001b[0m",
      "\u001b[1;31mNameError\u001b[0m                                 Traceback (most recent call last)",
      "Cell \u001b[1;32mIn [52], line 6\u001b[0m\n\u001b[0;32m      4\u001b[0m equipos \u001b[38;5;241m=\u001b[39m []\n\u001b[0;32m      5\u001b[0m goles_equipo \u001b[38;5;241m=\u001b[39m []\n\u001b[1;32m----> 6\u001b[0m \u001b[38;5;28;01mfor\u001b[39;00m equipo \u001b[38;5;129;01min\u001b[39;00m \u001b[43mdf_goleador\u001b[49m[\u001b[38;5;124m'\u001b[39m\u001b[38;5;124mLocal\u001b[39m\u001b[38;5;124m'\u001b[39m]:\n\u001b[0;32m      7\u001b[0m         goles_equipo \u001b[38;5;241m=\u001b[39m df_goleador[\u001b[38;5;124m'\u001b[39m\u001b[38;5;124mgoles_local\u001b[39m\u001b[38;5;124m'\u001b[39m] \u001b[38;5;241m+\u001b[39m df_goleador[\u001b[38;5;124m'\u001b[39m\u001b[38;5;124mgoles_visitante\u001b[39m\u001b[38;5;124m'\u001b[39m]\n\u001b[0;32m      8\u001b[0m         equipos\u001b[38;5;241m.\u001b[39mappend(equipo \u001b[38;5;129;01min\u001b[39;00m df_goleador[\u001b[38;5;124m'\u001b[39m\u001b[38;5;124mLocal\u001b[39m\u001b[38;5;124m'\u001b[39m])\n",
      "\u001b[1;31mNameError\u001b[0m: name 'df_goleador' is not defined"
     ]
    }
   ],
   "source": [
    "# INTENTANDO UN BUCLE... PARA OBTENER DF CON INDEX TIPO DE LIGA, \n",
    "    # Y COLUMNAS[NOMBRE DEL EQUIPO, TOTAL DE GOLES] PARA LOS 4 ULTIMOS AÑOS...\n",
    "\n",
    "equipos = []\n",
    "goles_equipo = []\n",
    "for equipo in df_goleador['Local']:\n",
    "        goles_equipo = df_goleador['goles_local'] + df_goleador['goles_visitante']\n",
    "        equipos.append(equipo in ('Local'))\n",
    "        goles_equipo.append(goles_equipo)\n",
    "    \n",
    "df_equipo = pd.DataFrame({'Equipo': equipos, 'total_goles': goles_equipo,})\n",
    "df_equipo\n",
    "\n"
   ]
  },
  {
   "cell_type": "code",
   "execution_count": 29,
   "id": "30ef9bd8",
   "metadata": {},
   "outputs": [],
   "source": [
    "#df_goleador.iplot(kind='hist')"
   ]
  },
  {
   "cell_type": "code",
   "execution_count": 30,
   "id": "68c49793",
   "metadata": {},
   "outputs": [],
   "source": [
    "# df_goleador.iplot(kind='bar',barmode='stack', title='Survival by the Sex')"
   ]
  },
  {
   "cell_type": "code",
   "execution_count": 162,
   "id": "3df02bbf",
   "metadata": {},
   "outputs": [],
   "source": [
    "#df_visitante.iplot(kind=\"scatter\", theme=\"white\",x=\"goles_visitante\",y=\"Fecha\",categories=\"Div\")"
   ]
  },
  {
   "cell_type": "code",
   "execution_count": 27,
   "id": "e6ccb4c1",
   "metadata": {},
   "outputs": [],
   "source": [
    "#df_goleador.groupby(['Local','Div']).size().reset_index(name='goles_local').sort_values('goles_local', ascending=False)"
   ]
  },
  {
   "cell_type": "code",
   "execution_count": 28,
   "id": "7371e96d",
   "metadata": {},
   "outputs": [],
   "source": [
    "#df_goleador.groupby(['Local','Div']).size().reset_index(name='goles_visitante').sort_values('goles_visitante', ascending=False)"
   ]
  }
 ],
 "metadata": {
  "hide_input": false,
  "kernelspec": {
   "display_name": "Python 3 (ipykernel)",
   "language": "python",
   "name": "python3"
  },
  "language_info": {
   "codemirror_mode": {
    "name": "ipython",
    "version": 3
   },
   "file_extension": ".py",
   "mimetype": "text/x-python",
   "name": "python",
   "nbconvert_exporter": "python",
   "pygments_lexer": "ipython3",
   "version": "3.10.8"
  },
  "nbTranslate": {
   "displayLangs": [
    "*"
   ],
   "hotkey": "alt-t",
   "langInMainMenu": true,
   "sourceLang": "en",
   "targetLang": "fr",
   "useGoogleTranslate": true
  },
  "toc": {
   "base_numbering": 1,
   "nav_menu": {},
   "number_sections": true,
   "sideBar": true,
   "skip_h1_title": false,
   "title_cell": "Table of Contents",
   "title_sidebar": "Contents",
   "toc_cell": false,
   "toc_position": {
    "height": "calc(100% - 180px)",
    "left": "10px",
    "top": "150px",
    "width": "320px"
   },
   "toc_section_display": true,
   "toc_window_display": true
  },
  "varInspector": {
   "cols": {
    "lenName": 16,
    "lenType": 16,
    "lenVar": 40
   },
   "kernels_config": {
    "python": {
     "delete_cmd_postfix": "",
     "delete_cmd_prefix": "del ",
     "library": "var_list.py",
     "varRefreshCmd": "print(var_dic_list())"
    },
    "r": {
     "delete_cmd_postfix": ") ",
     "delete_cmd_prefix": "rm(",
     "library": "var_list.r",
     "varRefreshCmd": "cat(var_dic_list()) "
    }
   },
   "types_to_exclude": [
    "module",
    "function",
    "builtin_function_or_method",
    "instance",
    "_Feature"
   ],
   "window_display": false
  }
 },
 "nbformat": 4,
 "nbformat_minor": 5
}
